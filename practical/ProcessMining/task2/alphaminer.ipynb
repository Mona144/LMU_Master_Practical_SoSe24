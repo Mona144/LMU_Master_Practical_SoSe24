{
 "cells": [
  {
   "metadata": {},
   "cell_type": "markdown",
   "source": [
    "# Alpha Miner Algorithm - Playground"
   ],
   "id": "b4b834a8f9747c2a"
  },
  {
   "metadata": {
    "ExecuteTime": {
     "end_time": "2024-05-02T19:27:12.788796Z",
     "start_time": "2024-05-02T19:27:12.752774Z"
    },
    "pycharm": {
     "is_executing": true
    }
   },
   "cell_type": "code",
   "source": [
    "%load_ext autoreload\n",
    "%autoreload 2\n",
    "\n",
    "import pandas\n",
    "import pm4py\n",
    "from practical.ProcessMining.task2.alphaminer import AlphaMiner\n",
    "\n",
    "def import_csv(file_path):\n",
    "    event_log = pandas.read_csv(file_path, sep=';')\n",
    "    event_log = pm4py.format_dataframe(event_log, case_id='case_id', activity_key='activity', timestamp_key='timestamp')\n",
    "    return event_log\n",
    "\n",
    "def import_xes(file_path):\n",
    "    event_log = pm4py.read_xes(file_path)\n",
    "    return event_log\n"
   ],
   "id": "37d320794350bb14",
   "outputs": [],
   "execution_count": null
  },
  {
   "metadata": {
    "ExecuteTime": {
     "end_time": "2024-05-02T19:27:12.823782Z",
     "start_time": "2024-05-02T19:27:12.789898Z"
    },
    "pycharm": {
     "is_executing": true
    }
   },
   "cell_type": "code",
   "source": [
    " import_csv(\"example_files/running-example.csv\")"
   ],
   "id": "10a40cdfea2ee937",
   "outputs": [],
   "execution_count": null
  },
  {
   "metadata": {
    "ExecuteTime": {
     "end_time": "2024-05-02T19:27:12.856146Z",
     "start_time": "2024-05-02T19:27:12.824330Z"
    },
    "pycharm": {
     "is_executing": true
    }
   },
   "cell_type": "code",
   "source": [
    "import_xes(\"example_files/running-example.xes\")"
   ],
   "id": "86804527370041a6",
   "outputs": [],
   "execution_count": null
  },
  {
   "metadata": {
    "ExecuteTime": {
     "end_time": "2024-05-02T19:27:12.887022Z",
     "start_time": "2024-05-02T19:27:12.857338Z"
    },
    "pycharm": {
     "is_executing": true
    }
   },
   "cell_type": "code",
   "source": [
    "miner1 = AlphaMiner(\"example_files/running-example.csv\")\n",
    "miner1.activities"
   ],
   "id": "1db2301ba54e23f7",
   "outputs": [],
   "execution_count": null
  },
  {
   "metadata": {
    "ExecuteTime": {
     "end_time": "2024-05-02T19:27:12.910465Z",
     "start_time": "2024-05-02T19:27:12.887644Z"
    },
    "pycharm": {
     "is_executing": true
    }
   },
   "cell_type": "code",
   "source": [
    "miner1.event_log"
   ],
   "id": "92da295c3cd40bd8",
   "outputs": [],
   "execution_count": null
  },
  {
   "metadata": {
    "ExecuteTime": {
     "end_time": "2024-05-02T19:27:12.931803Z",
     "start_time": "2024-05-02T19:27:12.911131Z"
    },
    "pycharm": {
     "is_executing": true
    }
   },
   "cell_type": "code",
   "source": [
    "miner1.traces"
   ],
   "id": "1fc65550a6321e19",
   "outputs": [],
   "execution_count": null
  },
  {
   "metadata": {
    "ExecuteTime": {
     "end_time": "2024-05-02T19:27:12.954281Z",
     "start_time": "2024-05-02T19:27:12.932446Z"
    },
    "pycharm": {
     "is_executing": true
    }
   },
   "cell_type": "code",
   "source": [
    "miner1.print_single_pair_type(\">\")"
   ],
   "id": "613731ca3c9586b2",
   "outputs": [],
   "execution_count": null
  },
  {
   "metadata": {
    "ExecuteTime": {
     "end_time": "2024-05-02T19:27:12.976904Z",
     "start_time": "2024-05-02T19:27:12.954977Z"
    },
    "pycharm": {
     "is_executing": true
    }
   },
   "cell_type": "code",
   "source": [
    "miner1.print_single_pair_type(\"||\")"
   ],
   "id": "d7f87df7c5aec006",
   "outputs": [],
   "execution_count": null
  },
  {
   "metadata": {
    "ExecuteTime": {
     "end_time": "2024-05-02T19:27:12.998924Z",
     "start_time": "2024-05-02T19:27:12.977701Z"
    },
    "pycharm": {
     "is_executing": true
    }
   },
   "cell_type": "code",
   "source": [
    "miner1.print_single_pair_type(\"->\")"
   ],
   "id": "1dd32fe8b8f4c37a",
   "outputs": [],
   "execution_count": null
  },
  {
   "metadata": {
    "ExecuteTime": {
     "end_time": "2024-05-02T19:27:13.022894Z",
     "start_time": "2024-05-02T19:27:13.001215Z"
    },
    "pycharm": {
     "is_executing": true
    }
   },
   "cell_type": "code",
   "source": [
    "miner1.print_single_pair_type(\"#\")"
   ],
   "id": "860fe203594c401d",
   "outputs": [],
   "execution_count": null
  },
  {
   "metadata": {
    "ExecuteTime": {
     "end_time": "2024-05-02T19:27:13.049489Z",
     "start_time": "2024-05-02T19:27:13.023438Z"
    },
    "pycharm": {
     "is_executing": true
    }
   },
   "cell_type": "code",
   "source": [
    "miner1.footprint_matrix()\n",
    "miner1.print_pairs()"
   ],
   "id": "1c8d800486cd32a6",
   "outputs": [],
   "execution_count": null
  },
  {
   "metadata": {
    "ExecuteTime": {
     "end_time": "2024-05-02T19:27:13.078778Z",
     "start_time": "2024-05-02T19:27:13.050166Z"
    },
    "pycharm": {
     "is_executing": true
    }
   },
   "cell_type": "code",
   "source": [
    "miner2 = AlphaMiner(\"example_files/slides-example.csv\")\n",
    "miner2.print_pairs()"
   ],
   "id": "3522579160d77f70",
   "outputs": [],
   "execution_count": null
  },
  {
   "metadata": {
    "ExecuteTime": {
     "end_time": "2024-05-02T19:27:13.104221Z",
     "start_time": "2024-05-02T19:27:13.079395Z"
    },
    "pycharm": {
     "is_executing": true
    }
   },
   "cell_type": "code",
   "source": [
    "miner2.event_log"
   ],
   "id": "dfb59c65fdf794a3",
   "outputs": [],
   "execution_count": null
  },
  {
   "metadata": {
    "ExecuteTime": {
     "end_time": "2024-05-02T19:27:13.126538Z",
     "start_time": "2024-05-02T19:27:13.104814Z"
    },
    "pycharm": {
     "is_executing": true
    }
   },
   "cell_type": "code",
   "source": [
    "miner2.traces"
   ],
   "id": "f9cc7825438c2243",
   "outputs": [],
   "execution_count": null
  },
  {
   "metadata": {
    "ExecuteTime": {
     "end_time": "2024-05-02T19:27:13.218242Z",
     "start_time": "2024-05-02T19:27:13.194619Z"
    },
    "pycharm": {
     "is_executing": true
    }
   },
   "cell_type": "code",
   "source": [
    "miner2.print_single_pair_type(\"->\")"
   ],
   "id": "b7d87545f7093c33",
   "outputs": [],
   "execution_count": null
  },
  {
   "metadata": {
    "ExecuteTime": {
     "end_time": "2024-05-02T19:27:13.242008Z",
     "start_time": "2024-05-02T19:27:13.218982Z"
    },
    "pycharm": {
     "is_executing": true
    }
   },
   "cell_type": "code",
   "source": [
    "print(miner2.footprint_matrix())"
   ],
   "id": "83c7092f8c4a2e90",
   "outputs": [],
   "execution_count": null
  },
  {
   "cell_type": "code",
   "execution_count": null,
   "outputs": [],
   "source": [
    "miner2.traces"
   ],
   "metadata": {
    "collapsed": false,
    "pycharm": {
     "is_executing": true
    }
   }
  },
  {
   "cell_type": "markdown",
   "source": [
    "# Part 2 - Scope Footprint to Graph input\n",
    "#### Alpha-Algorithm steps 5 & 6"
   ],
   "metadata": {
    "collapsed": false
   }
  },
  {
   "cell_type": "code",
   "execution_count": 27,
   "outputs": [],
   "source": [
    "# miner1 = AlphaMiner(\"example_files/running-example.csv\")\n",
    "miner2 = AlphaMiner(\"example_files/slides-example.csv\")"
   ],
   "metadata": {
    "collapsed": false
   }
  },
  {
   "cell_type": "code",
   "execution_count": 28,
   "outputs": [],
   "source": [
    "miner3 = AlphaMiner(\"example_files/common-example.csv\")"
   ],
   "metadata": {
    "collapsed": false
   }
  },
  {
   "cell_type": "code",
   "execution_count": null,
   "outputs": [],
   "source": [
    "# miner3.get_maximal_pairs()\n",
    "miner3.print_pairs()"
   ],
   "metadata": {
    "collapsed": false,
    "pycharm": {
     "is_executing": true
    }
   }
  },
  {
   "cell_type": "markdown",
   "source": [
    "#### Maximal Pairs for miner2"
   ],
   "metadata": {
    "collapsed": false
   }
  },
  {
   "cell_type": "code",
   "execution_count": null,
   "outputs": [],
   "source": [
    "miner2.print_single_pair_type(\"max\")"
   ],
   "metadata": {
    "collapsed": false,
    "pycharm": {
     "is_executing": true
    }
   }
  },
  {
   "cell_type": "code",
   "execution_count": null,
   "outputs": [],
   "source": [
    "miner2.print_pairs()"
   ],
   "metadata": {
    "collapsed": false,
    "pycharm": {
     "is_executing": true
    }
   }
  },
  {
   "cell_type": "code",
   "execution_count": null,
   "outputs": [],
   "source": [
    "miner2.get_maximal_pairs()"
   ],
   "metadata": {
    "collapsed": false,
    "pycharm": {
     "is_executing": true
    }
   }
  }
 ],
 "metadata": {
  "kernelspec": {
   "display_name": "Python 3",
   "language": "python",
   "name": "python3"
  },
  "language_info": {
   "codemirror_mode": {
    "name": "ipython",
    "version": 2
   },
   "file_extension": ".py",
   "mimetype": "text/x-python",
   "name": "python",
   "nbconvert_exporter": "python",
   "pygments_lexer": "ipython2",
   "version": "2.7.6"
  }
 },
 "nbformat": 4,
 "nbformat_minor": 5
}
