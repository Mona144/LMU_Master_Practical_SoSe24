{
 "cells": [
  {
   "metadata": {},
   "cell_type": "markdown",
   "source": [
    "# Alpha Miner Algorithm - Playground"
   ],
   "id": "b4b834a8f9747c2a"
  },
  {
   "metadata": {
    "ExecuteTime": {
     "end_time": "2024-05-02T19:27:12.788796Z",
     "start_time": "2024-05-02T19:27:12.752774Z"
    }
   },
   "cell_type": "code",
   "source": [
    "%load_ext autoreload\n",
    "%autoreload 2\n",
    "\n",
    "import pandas\n",
    "import pm4py\n",
    "from practical.ProcessMining.task2.alphaminer import AlphaMiner\n",
    "\n",
    "def import_csv(file_path):\n",
    "    event_log = pandas.read_csv(file_path, sep=';')\n",
    "    event_log = pm4py.format_dataframe(event_log, case_id='case_id', activity_key='activity', timestamp_key='timestamp')\n",
    "    return event_log\n",
    "\n",
    "def import_xes(file_path):\n",
    "    event_log = pm4py.read_xes(file_path)\n",
    "    return event_log\n",
    "\n",
    "def print_all_pairs_of_alphabet(pairs, alphabet):\n",
    "    output = []\n",
    "    int_only = True\n",
    "    for pair in pairs:\n",
    "        first = pair[0]\n",
    "        second = pair[1]\n",
    "\n",
    "        if isinstance(first, tuple):\n",
    "            first = (alphabet.get(first[0]), alphabet.get(first[1]))\n",
    "            int_only = False\n",
    "        else:\n",
    "            first = alphabet.get(first)\n",
    "        if isinstance(second, tuple):\n",
    "            second = (alphabet.get(second[0]), alphabet.get(second[1]))\n",
    "            int_only = False\n",
    "        else:\n",
    "            second = alphabet.get(second)\n",
    "        output.append((first, second))\n",
    "    print(sorted(output)) if int_only else print(output)\n"
   ],
   "id": "37d320794350bb14",
   "outputs": [
    {
     "name": "stdout",
     "output_type": "stream",
     "text": [
      "The autoreload extension is already loaded. To reload it, use:\n",
      "  %reload_ext autoreload\n"
     ]
    }
   ],
   "execution_count": 104
  },
  {
   "metadata": {
    "ExecuteTime": {
     "end_time": "2024-05-02T19:27:12.823782Z",
     "start_time": "2024-05-02T19:27:12.789898Z"
    }
   },
   "cell_type": "code",
   "source": [
    " import_csv(\"example_files/running-example.csv\")"
   ],
   "id": "10a40cdfea2ee937",
   "outputs": [
    {
     "data": {
      "text/plain": "    case_id            activity                 timestamp  costs resource  \\\n0         1    register request 2010-12-30 10:02:00+00:00     50     Pete   \n1         1  examine thoroughly 2010-12-31 09:06:00+00:00    400      Sue   \n2         1        check ticket 2011-01-05 14:12:00+00:00    100     Mike   \n3         1              decide 2011-01-06 10:18:00+00:00    200     Sara   \n4         1      reject request 2011-01-07 13:24:00+00:00    200     Pete   \n5         2    register request 2010-12-30 10:32:00+00:00     50     Mike   \n6         2        check ticket 2010-12-30 11:12:00+00:00    100     Mike   \n7         2    examine casually 2010-12-30 13:16:00+00:00    400     Sean   \n8         2              decide 2011-01-05 10:22:00+00:00    200     Sara   \n9         2    pay compensation 2011-01-08 11:05:00+00:00    200    Ellen   \n10        3    register request 2010-12-30 13:32:00+00:00     50     Pete   \n11        3    examine casually 2010-12-30 14:06:00+00:00    400     Mike   \n12        3        check ticket 2010-12-30 15:34:00+00:00    100    Ellen   \n13        3              decide 2011-01-06 08:18:00+00:00    200     Sara   \n14        3  reinitiate request 2011-01-06 11:18:00+00:00    200     Sara   \n15        3  examine thoroughly 2011-01-06 12:06:00+00:00    400     Sean   \n16        3        check ticket 2011-01-08 10:43:00+00:00    100     Pete   \n17        3              decide 2011-01-09 08:55:00+00:00    200     Sara   \n18        3    pay compensation 2011-01-15 09:45:00+00:00    200    Ellen   \n19        4    register request 2011-01-06 14:02:00+00:00     50     Pete   \n20        4        check ticket 2011-01-07 11:06:00+00:00    100     Mike   \n21        4  examine thoroughly 2011-01-08 13:43:00+00:00    400     Sean   \n22        4              decide 2011-01-09 11:02:00+00:00    200     Sara   \n23        4      reject request 2011-01-12 14:44:00+00:00    200    Ellen   \n24        5    register request 2011-01-06 08:02:00+00:00     50    Ellen   \n25        5    examine casually 2011-01-07 09:16:00+00:00    400     Mike   \n26        5        check ticket 2011-01-08 10:22:00+00:00    100     Pete   \n27        5              decide 2011-01-10 12:28:00+00:00    200     Sara   \n28        5  reinitiate request 2011-01-11 15:18:00+00:00    200     Sara   \n29        5        check ticket 2011-01-14 13:33:00+00:00    100    Ellen   \n30        5    examine casually 2011-01-16 14:50:00+00:00    400     Mike   \n31        5              decide 2011-01-19 10:18:00+00:00    200     Sara   \n32        5  reinitiate request 2011-01-20 11:48:00+00:00    200     Sara   \n33        5    examine casually 2011-01-21 08:06:00+00:00    400      Sue   \n34        5        check ticket 2011-01-21 10:34:00+00:00    100     Pete   \n35        5              decide 2011-01-23 12:12:00+00:00    200     Sara   \n36        5      reject request 2011-01-24 13:56:00+00:00    200     Mike   \n37        6    register request 2011-01-06 14:02:00+00:00     50     Mike   \n38        6    examine casually 2011-01-06 15:06:00+00:00    400    Ellen   \n39        6        check ticket 2011-01-07 15:22:00+00:00    100     Mike   \n40        6              decide 2011-01-07 15:52:00+00:00    200     Sara   \n41        6    pay compensation 2011-01-16 10:47:00+00:00    200     Mike   \n\n   case:concept:name        concept:name            time:timestamp  @@index  \\\n0                  1    register request 2010-12-30 10:02:00+00:00        0   \n1                  1  examine thoroughly 2010-12-31 09:06:00+00:00        1   \n2                  1        check ticket 2011-01-05 14:12:00+00:00        2   \n3                  1              decide 2011-01-06 10:18:00+00:00        3   \n4                  1      reject request 2011-01-07 13:24:00+00:00        4   \n5                  2    register request 2010-12-30 10:32:00+00:00        5   \n6                  2        check ticket 2010-12-30 11:12:00+00:00        6   \n7                  2    examine casually 2010-12-30 13:16:00+00:00        7   \n8                  2              decide 2011-01-05 10:22:00+00:00        8   \n9                  2    pay compensation 2011-01-08 11:05:00+00:00        9   \n10                 3    register request 2010-12-30 13:32:00+00:00       10   \n11                 3    examine casually 2010-12-30 14:06:00+00:00       11   \n12                 3        check ticket 2010-12-30 15:34:00+00:00       12   \n13                 3              decide 2011-01-06 08:18:00+00:00       13   \n14                 3  reinitiate request 2011-01-06 11:18:00+00:00       14   \n15                 3  examine thoroughly 2011-01-06 12:06:00+00:00       15   \n16                 3        check ticket 2011-01-08 10:43:00+00:00       16   \n17                 3              decide 2011-01-09 08:55:00+00:00       17   \n18                 3    pay compensation 2011-01-15 09:45:00+00:00       18   \n19                 4    register request 2011-01-06 14:02:00+00:00       19   \n20                 4        check ticket 2011-01-07 11:06:00+00:00       20   \n21                 4  examine thoroughly 2011-01-08 13:43:00+00:00       21   \n22                 4              decide 2011-01-09 11:02:00+00:00       22   \n23                 4      reject request 2011-01-12 14:44:00+00:00       23   \n24                 5    register request 2011-01-06 08:02:00+00:00       24   \n25                 5    examine casually 2011-01-07 09:16:00+00:00       25   \n26                 5        check ticket 2011-01-08 10:22:00+00:00       26   \n27                 5              decide 2011-01-10 12:28:00+00:00       27   \n28                 5  reinitiate request 2011-01-11 15:18:00+00:00       28   \n29                 5        check ticket 2011-01-14 13:33:00+00:00       29   \n30                 5    examine casually 2011-01-16 14:50:00+00:00       30   \n31                 5              decide 2011-01-19 10:18:00+00:00       31   \n32                 5  reinitiate request 2011-01-20 11:48:00+00:00       32   \n33                 5    examine casually 2011-01-21 08:06:00+00:00       33   \n34                 5        check ticket 2011-01-21 10:34:00+00:00       34   \n35                 5              decide 2011-01-23 12:12:00+00:00       35   \n36                 5      reject request 2011-01-24 13:56:00+00:00       36   \n37                 6    register request 2011-01-06 14:02:00+00:00       37   \n38                 6    examine casually 2011-01-06 15:06:00+00:00       38   \n39                 6        check ticket 2011-01-07 15:22:00+00:00       39   \n40                 6              decide 2011-01-07 15:52:00+00:00       40   \n41                 6    pay compensation 2011-01-16 10:47:00+00:00       41   \n\n    @@case_index  \n0              0  \n1              0  \n2              0  \n3              0  \n4              0  \n5              1  \n6              1  \n7              1  \n8              1  \n9              1  \n10             2  \n11             2  \n12             2  \n13             2  \n14             2  \n15             2  \n16             2  \n17             2  \n18             2  \n19             3  \n20             3  \n21             3  \n22             3  \n23             3  \n24             4  \n25             4  \n26             4  \n27             4  \n28             4  \n29             4  \n30             4  \n31             4  \n32             4  \n33             4  \n34             4  \n35             4  \n36             4  \n37             5  \n38             5  \n39             5  \n40             5  \n41             5  ",
      "text/html": "<div>\n<style scoped>\n    .dataframe tbody tr th:only-of-type {\n        vertical-align: middle;\n    }\n\n    .dataframe tbody tr th {\n        vertical-align: top;\n    }\n\n    .dataframe thead th {\n        text-align: right;\n    }\n</style>\n<table border=\"1\" class=\"dataframe\">\n  <thead>\n    <tr style=\"text-align: right;\">\n      <th></th>\n      <th>case_id</th>\n      <th>activity</th>\n      <th>timestamp</th>\n      <th>costs</th>\n      <th>resource</th>\n      <th>case:concept:name</th>\n      <th>concept:name</th>\n      <th>time:timestamp</th>\n      <th>@@index</th>\n      <th>@@case_index</th>\n    </tr>\n  </thead>\n  <tbody>\n    <tr>\n      <th>0</th>\n      <td>1</td>\n      <td>register request</td>\n      <td>2010-12-30 10:02:00+00:00</td>\n      <td>50</td>\n      <td>Pete</td>\n      <td>1</td>\n      <td>register request</td>\n      <td>2010-12-30 10:02:00+00:00</td>\n      <td>0</td>\n      <td>0</td>\n    </tr>\n    <tr>\n      <th>1</th>\n      <td>1</td>\n      <td>examine thoroughly</td>\n      <td>2010-12-31 09:06:00+00:00</td>\n      <td>400</td>\n      <td>Sue</td>\n      <td>1</td>\n      <td>examine thoroughly</td>\n      <td>2010-12-31 09:06:00+00:00</td>\n      <td>1</td>\n      <td>0</td>\n    </tr>\n    <tr>\n      <th>2</th>\n      <td>1</td>\n      <td>check ticket</td>\n      <td>2011-01-05 14:12:00+00:00</td>\n      <td>100</td>\n      <td>Mike</td>\n      <td>1</td>\n      <td>check ticket</td>\n      <td>2011-01-05 14:12:00+00:00</td>\n      <td>2</td>\n      <td>0</td>\n    </tr>\n    <tr>\n      <th>3</th>\n      <td>1</td>\n      <td>decide</td>\n      <td>2011-01-06 10:18:00+00:00</td>\n      <td>200</td>\n      <td>Sara</td>\n      <td>1</td>\n      <td>decide</td>\n      <td>2011-01-06 10:18:00+00:00</td>\n      <td>3</td>\n      <td>0</td>\n    </tr>\n    <tr>\n      <th>4</th>\n      <td>1</td>\n      <td>reject request</td>\n      <td>2011-01-07 13:24:00+00:00</td>\n      <td>200</td>\n      <td>Pete</td>\n      <td>1</td>\n      <td>reject request</td>\n      <td>2011-01-07 13:24:00+00:00</td>\n      <td>4</td>\n      <td>0</td>\n    </tr>\n    <tr>\n      <th>5</th>\n      <td>2</td>\n      <td>register request</td>\n      <td>2010-12-30 10:32:00+00:00</td>\n      <td>50</td>\n      <td>Mike</td>\n      <td>2</td>\n      <td>register request</td>\n      <td>2010-12-30 10:32:00+00:00</td>\n      <td>5</td>\n      <td>1</td>\n    </tr>\n    <tr>\n      <th>6</th>\n      <td>2</td>\n      <td>check ticket</td>\n      <td>2010-12-30 11:12:00+00:00</td>\n      <td>100</td>\n      <td>Mike</td>\n      <td>2</td>\n      <td>check ticket</td>\n      <td>2010-12-30 11:12:00+00:00</td>\n      <td>6</td>\n      <td>1</td>\n    </tr>\n    <tr>\n      <th>7</th>\n      <td>2</td>\n      <td>examine casually</td>\n      <td>2010-12-30 13:16:00+00:00</td>\n      <td>400</td>\n      <td>Sean</td>\n      <td>2</td>\n      <td>examine casually</td>\n      <td>2010-12-30 13:16:00+00:00</td>\n      <td>7</td>\n      <td>1</td>\n    </tr>\n    <tr>\n      <th>8</th>\n      <td>2</td>\n      <td>decide</td>\n      <td>2011-01-05 10:22:00+00:00</td>\n      <td>200</td>\n      <td>Sara</td>\n      <td>2</td>\n      <td>decide</td>\n      <td>2011-01-05 10:22:00+00:00</td>\n      <td>8</td>\n      <td>1</td>\n    </tr>\n    <tr>\n      <th>9</th>\n      <td>2</td>\n      <td>pay compensation</td>\n      <td>2011-01-08 11:05:00+00:00</td>\n      <td>200</td>\n      <td>Ellen</td>\n      <td>2</td>\n      <td>pay compensation</td>\n      <td>2011-01-08 11:05:00+00:00</td>\n      <td>9</td>\n      <td>1</td>\n    </tr>\n    <tr>\n      <th>10</th>\n      <td>3</td>\n      <td>register request</td>\n      <td>2010-12-30 13:32:00+00:00</td>\n      <td>50</td>\n      <td>Pete</td>\n      <td>3</td>\n      <td>register request</td>\n      <td>2010-12-30 13:32:00+00:00</td>\n      <td>10</td>\n      <td>2</td>\n    </tr>\n    <tr>\n      <th>11</th>\n      <td>3</td>\n      <td>examine casually</td>\n      <td>2010-12-30 14:06:00+00:00</td>\n      <td>400</td>\n      <td>Mike</td>\n      <td>3</td>\n      <td>examine casually</td>\n      <td>2010-12-30 14:06:00+00:00</td>\n      <td>11</td>\n      <td>2</td>\n    </tr>\n    <tr>\n      <th>12</th>\n      <td>3</td>\n      <td>check ticket</td>\n      <td>2010-12-30 15:34:00+00:00</td>\n      <td>100</td>\n      <td>Ellen</td>\n      <td>3</td>\n      <td>check ticket</td>\n      <td>2010-12-30 15:34:00+00:00</td>\n      <td>12</td>\n      <td>2</td>\n    </tr>\n    <tr>\n      <th>13</th>\n      <td>3</td>\n      <td>decide</td>\n      <td>2011-01-06 08:18:00+00:00</td>\n      <td>200</td>\n      <td>Sara</td>\n      <td>3</td>\n      <td>decide</td>\n      <td>2011-01-06 08:18:00+00:00</td>\n      <td>13</td>\n      <td>2</td>\n    </tr>\n    <tr>\n      <th>14</th>\n      <td>3</td>\n      <td>reinitiate request</td>\n      <td>2011-01-06 11:18:00+00:00</td>\n      <td>200</td>\n      <td>Sara</td>\n      <td>3</td>\n      <td>reinitiate request</td>\n      <td>2011-01-06 11:18:00+00:00</td>\n      <td>14</td>\n      <td>2</td>\n    </tr>\n    <tr>\n      <th>15</th>\n      <td>3</td>\n      <td>examine thoroughly</td>\n      <td>2011-01-06 12:06:00+00:00</td>\n      <td>400</td>\n      <td>Sean</td>\n      <td>3</td>\n      <td>examine thoroughly</td>\n      <td>2011-01-06 12:06:00+00:00</td>\n      <td>15</td>\n      <td>2</td>\n    </tr>\n    <tr>\n      <th>16</th>\n      <td>3</td>\n      <td>check ticket</td>\n      <td>2011-01-08 10:43:00+00:00</td>\n      <td>100</td>\n      <td>Pete</td>\n      <td>3</td>\n      <td>check ticket</td>\n      <td>2011-01-08 10:43:00+00:00</td>\n      <td>16</td>\n      <td>2</td>\n    </tr>\n    <tr>\n      <th>17</th>\n      <td>3</td>\n      <td>decide</td>\n      <td>2011-01-09 08:55:00+00:00</td>\n      <td>200</td>\n      <td>Sara</td>\n      <td>3</td>\n      <td>decide</td>\n      <td>2011-01-09 08:55:00+00:00</td>\n      <td>17</td>\n      <td>2</td>\n    </tr>\n    <tr>\n      <th>18</th>\n      <td>3</td>\n      <td>pay compensation</td>\n      <td>2011-01-15 09:45:00+00:00</td>\n      <td>200</td>\n      <td>Ellen</td>\n      <td>3</td>\n      <td>pay compensation</td>\n      <td>2011-01-15 09:45:00+00:00</td>\n      <td>18</td>\n      <td>2</td>\n    </tr>\n    <tr>\n      <th>19</th>\n      <td>4</td>\n      <td>register request</td>\n      <td>2011-01-06 14:02:00+00:00</td>\n      <td>50</td>\n      <td>Pete</td>\n      <td>4</td>\n      <td>register request</td>\n      <td>2011-01-06 14:02:00+00:00</td>\n      <td>19</td>\n      <td>3</td>\n    </tr>\n    <tr>\n      <th>20</th>\n      <td>4</td>\n      <td>check ticket</td>\n      <td>2011-01-07 11:06:00+00:00</td>\n      <td>100</td>\n      <td>Mike</td>\n      <td>4</td>\n      <td>check ticket</td>\n      <td>2011-01-07 11:06:00+00:00</td>\n      <td>20</td>\n      <td>3</td>\n    </tr>\n    <tr>\n      <th>21</th>\n      <td>4</td>\n      <td>examine thoroughly</td>\n      <td>2011-01-08 13:43:00+00:00</td>\n      <td>400</td>\n      <td>Sean</td>\n      <td>4</td>\n      <td>examine thoroughly</td>\n      <td>2011-01-08 13:43:00+00:00</td>\n      <td>21</td>\n      <td>3</td>\n    </tr>\n    <tr>\n      <th>22</th>\n      <td>4</td>\n      <td>decide</td>\n      <td>2011-01-09 11:02:00+00:00</td>\n      <td>200</td>\n      <td>Sara</td>\n      <td>4</td>\n      <td>decide</td>\n      <td>2011-01-09 11:02:00+00:00</td>\n      <td>22</td>\n      <td>3</td>\n    </tr>\n    <tr>\n      <th>23</th>\n      <td>4</td>\n      <td>reject request</td>\n      <td>2011-01-12 14:44:00+00:00</td>\n      <td>200</td>\n      <td>Ellen</td>\n      <td>4</td>\n      <td>reject request</td>\n      <td>2011-01-12 14:44:00+00:00</td>\n      <td>23</td>\n      <td>3</td>\n    </tr>\n    <tr>\n      <th>24</th>\n      <td>5</td>\n      <td>register request</td>\n      <td>2011-01-06 08:02:00+00:00</td>\n      <td>50</td>\n      <td>Ellen</td>\n      <td>5</td>\n      <td>register request</td>\n      <td>2011-01-06 08:02:00+00:00</td>\n      <td>24</td>\n      <td>4</td>\n    </tr>\n    <tr>\n      <th>25</th>\n      <td>5</td>\n      <td>examine casually</td>\n      <td>2011-01-07 09:16:00+00:00</td>\n      <td>400</td>\n      <td>Mike</td>\n      <td>5</td>\n      <td>examine casually</td>\n      <td>2011-01-07 09:16:00+00:00</td>\n      <td>25</td>\n      <td>4</td>\n    </tr>\n    <tr>\n      <th>26</th>\n      <td>5</td>\n      <td>check ticket</td>\n      <td>2011-01-08 10:22:00+00:00</td>\n      <td>100</td>\n      <td>Pete</td>\n      <td>5</td>\n      <td>check ticket</td>\n      <td>2011-01-08 10:22:00+00:00</td>\n      <td>26</td>\n      <td>4</td>\n    </tr>\n    <tr>\n      <th>27</th>\n      <td>5</td>\n      <td>decide</td>\n      <td>2011-01-10 12:28:00+00:00</td>\n      <td>200</td>\n      <td>Sara</td>\n      <td>5</td>\n      <td>decide</td>\n      <td>2011-01-10 12:28:00+00:00</td>\n      <td>27</td>\n      <td>4</td>\n    </tr>\n    <tr>\n      <th>28</th>\n      <td>5</td>\n      <td>reinitiate request</td>\n      <td>2011-01-11 15:18:00+00:00</td>\n      <td>200</td>\n      <td>Sara</td>\n      <td>5</td>\n      <td>reinitiate request</td>\n      <td>2011-01-11 15:18:00+00:00</td>\n      <td>28</td>\n      <td>4</td>\n    </tr>\n    <tr>\n      <th>29</th>\n      <td>5</td>\n      <td>check ticket</td>\n      <td>2011-01-14 13:33:00+00:00</td>\n      <td>100</td>\n      <td>Ellen</td>\n      <td>5</td>\n      <td>check ticket</td>\n      <td>2011-01-14 13:33:00+00:00</td>\n      <td>29</td>\n      <td>4</td>\n    </tr>\n    <tr>\n      <th>30</th>\n      <td>5</td>\n      <td>examine casually</td>\n      <td>2011-01-16 14:50:00+00:00</td>\n      <td>400</td>\n      <td>Mike</td>\n      <td>5</td>\n      <td>examine casually</td>\n      <td>2011-01-16 14:50:00+00:00</td>\n      <td>30</td>\n      <td>4</td>\n    </tr>\n    <tr>\n      <th>31</th>\n      <td>5</td>\n      <td>decide</td>\n      <td>2011-01-19 10:18:00+00:00</td>\n      <td>200</td>\n      <td>Sara</td>\n      <td>5</td>\n      <td>decide</td>\n      <td>2011-01-19 10:18:00+00:00</td>\n      <td>31</td>\n      <td>4</td>\n    </tr>\n    <tr>\n      <th>32</th>\n      <td>5</td>\n      <td>reinitiate request</td>\n      <td>2011-01-20 11:48:00+00:00</td>\n      <td>200</td>\n      <td>Sara</td>\n      <td>5</td>\n      <td>reinitiate request</td>\n      <td>2011-01-20 11:48:00+00:00</td>\n      <td>32</td>\n      <td>4</td>\n    </tr>\n    <tr>\n      <th>33</th>\n      <td>5</td>\n      <td>examine casually</td>\n      <td>2011-01-21 08:06:00+00:00</td>\n      <td>400</td>\n      <td>Sue</td>\n      <td>5</td>\n      <td>examine casually</td>\n      <td>2011-01-21 08:06:00+00:00</td>\n      <td>33</td>\n      <td>4</td>\n    </tr>\n    <tr>\n      <th>34</th>\n      <td>5</td>\n      <td>check ticket</td>\n      <td>2011-01-21 10:34:00+00:00</td>\n      <td>100</td>\n      <td>Pete</td>\n      <td>5</td>\n      <td>check ticket</td>\n      <td>2011-01-21 10:34:00+00:00</td>\n      <td>34</td>\n      <td>4</td>\n    </tr>\n    <tr>\n      <th>35</th>\n      <td>5</td>\n      <td>decide</td>\n      <td>2011-01-23 12:12:00+00:00</td>\n      <td>200</td>\n      <td>Sara</td>\n      <td>5</td>\n      <td>decide</td>\n      <td>2011-01-23 12:12:00+00:00</td>\n      <td>35</td>\n      <td>4</td>\n    </tr>\n    <tr>\n      <th>36</th>\n      <td>5</td>\n      <td>reject request</td>\n      <td>2011-01-24 13:56:00+00:00</td>\n      <td>200</td>\n      <td>Mike</td>\n      <td>5</td>\n      <td>reject request</td>\n      <td>2011-01-24 13:56:00+00:00</td>\n      <td>36</td>\n      <td>4</td>\n    </tr>\n    <tr>\n      <th>37</th>\n      <td>6</td>\n      <td>register request</td>\n      <td>2011-01-06 14:02:00+00:00</td>\n      <td>50</td>\n      <td>Mike</td>\n      <td>6</td>\n      <td>register request</td>\n      <td>2011-01-06 14:02:00+00:00</td>\n      <td>37</td>\n      <td>5</td>\n    </tr>\n    <tr>\n      <th>38</th>\n      <td>6</td>\n      <td>examine casually</td>\n      <td>2011-01-06 15:06:00+00:00</td>\n      <td>400</td>\n      <td>Ellen</td>\n      <td>6</td>\n      <td>examine casually</td>\n      <td>2011-01-06 15:06:00+00:00</td>\n      <td>38</td>\n      <td>5</td>\n    </tr>\n    <tr>\n      <th>39</th>\n      <td>6</td>\n      <td>check ticket</td>\n      <td>2011-01-07 15:22:00+00:00</td>\n      <td>100</td>\n      <td>Mike</td>\n      <td>6</td>\n      <td>check ticket</td>\n      <td>2011-01-07 15:22:00+00:00</td>\n      <td>39</td>\n      <td>5</td>\n    </tr>\n    <tr>\n      <th>40</th>\n      <td>6</td>\n      <td>decide</td>\n      <td>2011-01-07 15:52:00+00:00</td>\n      <td>200</td>\n      <td>Sara</td>\n      <td>6</td>\n      <td>decide</td>\n      <td>2011-01-07 15:52:00+00:00</td>\n      <td>40</td>\n      <td>5</td>\n    </tr>\n    <tr>\n      <th>41</th>\n      <td>6</td>\n      <td>pay compensation</td>\n      <td>2011-01-16 10:47:00+00:00</td>\n      <td>200</td>\n      <td>Mike</td>\n      <td>6</td>\n      <td>pay compensation</td>\n      <td>2011-01-16 10:47:00+00:00</td>\n      <td>41</td>\n      <td>5</td>\n    </tr>\n  </tbody>\n</table>\n</div>"
     },
     "execution_count": 58,
     "metadata": {},
     "output_type": "execute_result"
    }
   ],
   "execution_count": 58
  },
  {
   "metadata": {
    "ExecuteTime": {
     "end_time": "2024-05-02T19:27:12.856146Z",
     "start_time": "2024-05-02T19:27:12.824330Z"
    }
   },
   "cell_type": "code",
   "source": [
    "import_xes(\"example_files/running-example.xes\")"
   ],
   "id": "86804527370041a6",
   "outputs": [
    {
     "data": {
      "text/plain": "parsing log, completed traces ::   0%|          | 0/6 [00:00<?, ?it/s]",
      "application/vnd.jupyter.widget-view+json": {
       "version_major": 2,
       "version_minor": 0,
       "model_id": "66f2563af9ae4424a12f5f91ed111076"
      }
     },
     "metadata": {},
     "output_type": "display_data"
    },
    {
     "data": {
      "text/plain": "          concept:name            time:timestamp  cost:total org:resource  \\\n0     register request 2010-12-30 11:02:00+00:00          50         Pete   \n1   examine thoroughly 2010-12-31 10:06:00+00:00         400          Sue   \n2         check ticket 2011-01-05 15:12:00+00:00         100         Mike   \n3               decide 2011-01-06 11:18:00+00:00         200         Sara   \n4       reject request 2011-01-07 14:24:00+00:00         200         Pete   \n5     register request 2010-12-30 11:32:00+00:00          50         Mike   \n6         check ticket 2010-12-30 12:12:00+00:00         100         Mike   \n7     examine casually 2010-12-30 14:16:00+00:00         400         Sean   \n8               decide 2011-01-05 11:22:00+00:00         200         Sara   \n9     pay compensation 2011-01-08 12:05:00+00:00         200        Ellen   \n10    register request 2010-12-30 14:32:00+00:00          50         Pete   \n11    examine casually 2010-12-30 15:06:00+00:00         400         Mike   \n12        check ticket 2010-12-30 16:34:00+00:00         100        Ellen   \n13              decide 2011-01-06 09:18:00+00:00         200         Sara   \n14  reinitiate request 2011-01-06 12:18:00+00:00         200         Sara   \n15  examine thoroughly 2011-01-06 13:06:00+00:00         400         Sean   \n16        check ticket 2011-01-08 11:43:00+00:00         100         Pete   \n17              decide 2011-01-09 09:55:00+00:00         200         Sara   \n18    pay compensation 2011-01-15 10:45:00+00:00         200        Ellen   \n19    register request 2011-01-06 15:02:00+00:00          50         Pete   \n20        check ticket 2011-01-07 12:06:00+00:00         100         Mike   \n21  examine thoroughly 2011-01-08 14:43:00+00:00         400         Sean   \n22              decide 2011-01-09 12:02:00+00:00         200         Sara   \n23      reject request 2011-01-12 15:44:00+00:00         200        Ellen   \n24    register request 2011-01-06 09:02:00+00:00          50        Ellen   \n25    examine casually 2011-01-07 10:16:00+00:00         400         Mike   \n26        check ticket 2011-01-08 11:22:00+00:00         100         Pete   \n27              decide 2011-01-10 13:28:00+00:00         200         Sara   \n28  reinitiate request 2011-01-11 16:18:00+00:00         200         Sara   \n29        check ticket 2011-01-14 14:33:00+00:00         100        Ellen   \n30    examine casually 2011-01-16 15:50:00+00:00         400         Mike   \n31              decide 2011-01-19 11:18:00+00:00         200         Sara   \n32  reinitiate request 2011-01-20 12:48:00+00:00         200         Sara   \n33    examine casually 2011-01-21 09:06:00+00:00         400          Sue   \n34        check ticket 2011-01-21 11:34:00+00:00         100         Pete   \n35              decide 2011-01-23 13:12:00+00:00         200         Sara   \n36      reject request 2011-01-24 14:56:00+00:00         200         Mike   \n37    register request 2011-01-06 15:02:00+00:00          50         Mike   \n38    examine casually 2011-01-06 16:06:00+00:00         400        Ellen   \n39        check ticket 2011-01-07 16:22:00+00:00         100         Mike   \n40              decide 2011-01-07 16:52:00+00:00         200         Sara   \n41    pay compensation 2011-01-16 11:47:00+00:00         200         Mike   \n\n    @@index case:concept:name  \n0        14                 1  \n1        15                 1  \n2        16                 1  \n3        17                 1  \n4        18                 1  \n5         9                 2  \n6        10                 2  \n7        11                 2  \n8        12                 2  \n9        13                 2  \n10        0                 3  \n11        1                 3  \n12        2                 3  \n13        3                 3  \n14        4                 3  \n15        5                 3  \n16        6                 3  \n17        7                 3  \n18        8                 3  \n19       37                 4  \n20       38                 4  \n21       39                 4  \n22       40                 4  \n23       41                 4  \n24       24                 5  \n25       25                 5  \n26       26                 5  \n27       27                 5  \n28       28                 5  \n29       29                 5  \n30       30                 5  \n31       31                 5  \n32       32                 5  \n33       33                 5  \n34       34                 5  \n35       35                 5  \n36       36                 5  \n37       19                 6  \n38       20                 6  \n39       21                 6  \n40       22                 6  \n41       23                 6  ",
      "text/html": "<div>\n<style scoped>\n    .dataframe tbody tr th:only-of-type {\n        vertical-align: middle;\n    }\n\n    .dataframe tbody tr th {\n        vertical-align: top;\n    }\n\n    .dataframe thead th {\n        text-align: right;\n    }\n</style>\n<table border=\"1\" class=\"dataframe\">\n  <thead>\n    <tr style=\"text-align: right;\">\n      <th></th>\n      <th>concept:name</th>\n      <th>time:timestamp</th>\n      <th>cost:total</th>\n      <th>org:resource</th>\n      <th>@@index</th>\n      <th>case:concept:name</th>\n    </tr>\n  </thead>\n  <tbody>\n    <tr>\n      <th>0</th>\n      <td>register request</td>\n      <td>2010-12-30 11:02:00+00:00</td>\n      <td>50</td>\n      <td>Pete</td>\n      <td>14</td>\n      <td>1</td>\n    </tr>\n    <tr>\n      <th>1</th>\n      <td>examine thoroughly</td>\n      <td>2010-12-31 10:06:00+00:00</td>\n      <td>400</td>\n      <td>Sue</td>\n      <td>15</td>\n      <td>1</td>\n    </tr>\n    <tr>\n      <th>2</th>\n      <td>check ticket</td>\n      <td>2011-01-05 15:12:00+00:00</td>\n      <td>100</td>\n      <td>Mike</td>\n      <td>16</td>\n      <td>1</td>\n    </tr>\n    <tr>\n      <th>3</th>\n      <td>decide</td>\n      <td>2011-01-06 11:18:00+00:00</td>\n      <td>200</td>\n      <td>Sara</td>\n      <td>17</td>\n      <td>1</td>\n    </tr>\n    <tr>\n      <th>4</th>\n      <td>reject request</td>\n      <td>2011-01-07 14:24:00+00:00</td>\n      <td>200</td>\n      <td>Pete</td>\n      <td>18</td>\n      <td>1</td>\n    </tr>\n    <tr>\n      <th>5</th>\n      <td>register request</td>\n      <td>2010-12-30 11:32:00+00:00</td>\n      <td>50</td>\n      <td>Mike</td>\n      <td>9</td>\n      <td>2</td>\n    </tr>\n    <tr>\n      <th>6</th>\n      <td>check ticket</td>\n      <td>2010-12-30 12:12:00+00:00</td>\n      <td>100</td>\n      <td>Mike</td>\n      <td>10</td>\n      <td>2</td>\n    </tr>\n    <tr>\n      <th>7</th>\n      <td>examine casually</td>\n      <td>2010-12-30 14:16:00+00:00</td>\n      <td>400</td>\n      <td>Sean</td>\n      <td>11</td>\n      <td>2</td>\n    </tr>\n    <tr>\n      <th>8</th>\n      <td>decide</td>\n      <td>2011-01-05 11:22:00+00:00</td>\n      <td>200</td>\n      <td>Sara</td>\n      <td>12</td>\n      <td>2</td>\n    </tr>\n    <tr>\n      <th>9</th>\n      <td>pay compensation</td>\n      <td>2011-01-08 12:05:00+00:00</td>\n      <td>200</td>\n      <td>Ellen</td>\n      <td>13</td>\n      <td>2</td>\n    </tr>\n    <tr>\n      <th>10</th>\n      <td>register request</td>\n      <td>2010-12-30 14:32:00+00:00</td>\n      <td>50</td>\n      <td>Pete</td>\n      <td>0</td>\n      <td>3</td>\n    </tr>\n    <tr>\n      <th>11</th>\n      <td>examine casually</td>\n      <td>2010-12-30 15:06:00+00:00</td>\n      <td>400</td>\n      <td>Mike</td>\n      <td>1</td>\n      <td>3</td>\n    </tr>\n    <tr>\n      <th>12</th>\n      <td>check ticket</td>\n      <td>2010-12-30 16:34:00+00:00</td>\n      <td>100</td>\n      <td>Ellen</td>\n      <td>2</td>\n      <td>3</td>\n    </tr>\n    <tr>\n      <th>13</th>\n      <td>decide</td>\n      <td>2011-01-06 09:18:00+00:00</td>\n      <td>200</td>\n      <td>Sara</td>\n      <td>3</td>\n      <td>3</td>\n    </tr>\n    <tr>\n      <th>14</th>\n      <td>reinitiate request</td>\n      <td>2011-01-06 12:18:00+00:00</td>\n      <td>200</td>\n      <td>Sara</td>\n      <td>4</td>\n      <td>3</td>\n    </tr>\n    <tr>\n      <th>15</th>\n      <td>examine thoroughly</td>\n      <td>2011-01-06 13:06:00+00:00</td>\n      <td>400</td>\n      <td>Sean</td>\n      <td>5</td>\n      <td>3</td>\n    </tr>\n    <tr>\n      <th>16</th>\n      <td>check ticket</td>\n      <td>2011-01-08 11:43:00+00:00</td>\n      <td>100</td>\n      <td>Pete</td>\n      <td>6</td>\n      <td>3</td>\n    </tr>\n    <tr>\n      <th>17</th>\n      <td>decide</td>\n      <td>2011-01-09 09:55:00+00:00</td>\n      <td>200</td>\n      <td>Sara</td>\n      <td>7</td>\n      <td>3</td>\n    </tr>\n    <tr>\n      <th>18</th>\n      <td>pay compensation</td>\n      <td>2011-01-15 10:45:00+00:00</td>\n      <td>200</td>\n      <td>Ellen</td>\n      <td>8</td>\n      <td>3</td>\n    </tr>\n    <tr>\n      <th>19</th>\n      <td>register request</td>\n      <td>2011-01-06 15:02:00+00:00</td>\n      <td>50</td>\n      <td>Pete</td>\n      <td>37</td>\n      <td>4</td>\n    </tr>\n    <tr>\n      <th>20</th>\n      <td>check ticket</td>\n      <td>2011-01-07 12:06:00+00:00</td>\n      <td>100</td>\n      <td>Mike</td>\n      <td>38</td>\n      <td>4</td>\n    </tr>\n    <tr>\n      <th>21</th>\n      <td>examine thoroughly</td>\n      <td>2011-01-08 14:43:00+00:00</td>\n      <td>400</td>\n      <td>Sean</td>\n      <td>39</td>\n      <td>4</td>\n    </tr>\n    <tr>\n      <th>22</th>\n      <td>decide</td>\n      <td>2011-01-09 12:02:00+00:00</td>\n      <td>200</td>\n      <td>Sara</td>\n      <td>40</td>\n      <td>4</td>\n    </tr>\n    <tr>\n      <th>23</th>\n      <td>reject request</td>\n      <td>2011-01-12 15:44:00+00:00</td>\n      <td>200</td>\n      <td>Ellen</td>\n      <td>41</td>\n      <td>4</td>\n    </tr>\n    <tr>\n      <th>24</th>\n      <td>register request</td>\n      <td>2011-01-06 09:02:00+00:00</td>\n      <td>50</td>\n      <td>Ellen</td>\n      <td>24</td>\n      <td>5</td>\n    </tr>\n    <tr>\n      <th>25</th>\n      <td>examine casually</td>\n      <td>2011-01-07 10:16:00+00:00</td>\n      <td>400</td>\n      <td>Mike</td>\n      <td>25</td>\n      <td>5</td>\n    </tr>\n    <tr>\n      <th>26</th>\n      <td>check ticket</td>\n      <td>2011-01-08 11:22:00+00:00</td>\n      <td>100</td>\n      <td>Pete</td>\n      <td>26</td>\n      <td>5</td>\n    </tr>\n    <tr>\n      <th>27</th>\n      <td>decide</td>\n      <td>2011-01-10 13:28:00+00:00</td>\n      <td>200</td>\n      <td>Sara</td>\n      <td>27</td>\n      <td>5</td>\n    </tr>\n    <tr>\n      <th>28</th>\n      <td>reinitiate request</td>\n      <td>2011-01-11 16:18:00+00:00</td>\n      <td>200</td>\n      <td>Sara</td>\n      <td>28</td>\n      <td>5</td>\n    </tr>\n    <tr>\n      <th>29</th>\n      <td>check ticket</td>\n      <td>2011-01-14 14:33:00+00:00</td>\n      <td>100</td>\n      <td>Ellen</td>\n      <td>29</td>\n      <td>5</td>\n    </tr>\n    <tr>\n      <th>30</th>\n      <td>examine casually</td>\n      <td>2011-01-16 15:50:00+00:00</td>\n      <td>400</td>\n      <td>Mike</td>\n      <td>30</td>\n      <td>5</td>\n    </tr>\n    <tr>\n      <th>31</th>\n      <td>decide</td>\n      <td>2011-01-19 11:18:00+00:00</td>\n      <td>200</td>\n      <td>Sara</td>\n      <td>31</td>\n      <td>5</td>\n    </tr>\n    <tr>\n      <th>32</th>\n      <td>reinitiate request</td>\n      <td>2011-01-20 12:48:00+00:00</td>\n      <td>200</td>\n      <td>Sara</td>\n      <td>32</td>\n      <td>5</td>\n    </tr>\n    <tr>\n      <th>33</th>\n      <td>examine casually</td>\n      <td>2011-01-21 09:06:00+00:00</td>\n      <td>400</td>\n      <td>Sue</td>\n      <td>33</td>\n      <td>5</td>\n    </tr>\n    <tr>\n      <th>34</th>\n      <td>check ticket</td>\n      <td>2011-01-21 11:34:00+00:00</td>\n      <td>100</td>\n      <td>Pete</td>\n      <td>34</td>\n      <td>5</td>\n    </tr>\n    <tr>\n      <th>35</th>\n      <td>decide</td>\n      <td>2011-01-23 13:12:00+00:00</td>\n      <td>200</td>\n      <td>Sara</td>\n      <td>35</td>\n      <td>5</td>\n    </tr>\n    <tr>\n      <th>36</th>\n      <td>reject request</td>\n      <td>2011-01-24 14:56:00+00:00</td>\n      <td>200</td>\n      <td>Mike</td>\n      <td>36</td>\n      <td>5</td>\n    </tr>\n    <tr>\n      <th>37</th>\n      <td>register request</td>\n      <td>2011-01-06 15:02:00+00:00</td>\n      <td>50</td>\n      <td>Mike</td>\n      <td>19</td>\n      <td>6</td>\n    </tr>\n    <tr>\n      <th>38</th>\n      <td>examine casually</td>\n      <td>2011-01-06 16:06:00+00:00</td>\n      <td>400</td>\n      <td>Ellen</td>\n      <td>20</td>\n      <td>6</td>\n    </tr>\n    <tr>\n      <th>39</th>\n      <td>check ticket</td>\n      <td>2011-01-07 16:22:00+00:00</td>\n      <td>100</td>\n      <td>Mike</td>\n      <td>21</td>\n      <td>6</td>\n    </tr>\n    <tr>\n      <th>40</th>\n      <td>decide</td>\n      <td>2011-01-07 16:52:00+00:00</td>\n      <td>200</td>\n      <td>Sara</td>\n      <td>22</td>\n      <td>6</td>\n    </tr>\n    <tr>\n      <th>41</th>\n      <td>pay compensation</td>\n      <td>2011-01-16 11:47:00+00:00</td>\n      <td>200</td>\n      <td>Mike</td>\n      <td>23</td>\n      <td>6</td>\n    </tr>\n  </tbody>\n</table>\n</div>"
     },
     "execution_count": 59,
     "metadata": {},
     "output_type": "execute_result"
    }
   ],
   "execution_count": 59
  },
  {
   "metadata": {
    "ExecuteTime": {
     "end_time": "2024-05-02T19:27:12.887022Z",
     "start_time": "2024-05-02T19:27:12.857338Z"
    }
   },
   "cell_type": "code",
   "source": [
    "miner1 = AlphaMiner(\"example_files/running-example.csv\")\n",
    "miner1.activities"
   ],
   "id": "1db2301ba54e23f7",
   "outputs": [
    {
     "data": {
      "text/plain": "{0: 'check ticket',\n 1: 'decide',\n 2: 'examine casually',\n 3: 'examine thoroughly',\n 4: 'pay compensation',\n 5: 'register request',\n 6: 'reinitiate request',\n 7: 'reject request'}"
     },
     "execution_count": 60,
     "metadata": {},
     "output_type": "execute_result"
    }
   ],
   "execution_count": 60
  },
  {
   "metadata": {
    "ExecuteTime": {
     "end_time": "2024-05-02T19:27:12.910465Z",
     "start_time": "2024-05-02T19:27:12.887644Z"
    }
   },
   "cell_type": "code",
   "source": [
    "miner1.event_log"
   ],
   "id": "92da295c3cd40bd8",
   "outputs": [
    {
     "data": {
      "text/plain": "   case_id            activity  activity_id\n0        1    register request            5\n1        1  examine thoroughly            3\n2        1        check ticket            0\n3        1              decide            1\n4        1      reject request            7\n5        2    register request            5\n6        2        check ticket            0\n7        2    examine casually            2\n8        2              decide            1\n9        2    pay compensation            4\n10       3    register request            5\n11       3    examine casually            2\n12       3        check ticket            0\n13       3              decide            1\n14       3  reinitiate request            6\n15       3  examine thoroughly            3\n16       3        check ticket            0\n17       3              decide            1\n18       3    pay compensation            4\n19       4    register request            5\n20       4        check ticket            0\n21       4  examine thoroughly            3\n22       4              decide            1\n23       4      reject request            7\n24       5    register request            5\n25       5    examine casually            2\n26       5        check ticket            0\n27       5              decide            1\n28       5  reinitiate request            6\n29       5        check ticket            0\n30       5    examine casually            2\n31       5              decide            1\n32       5  reinitiate request            6\n33       5    examine casually            2\n34       5        check ticket            0\n35       5              decide            1\n36       5      reject request            7\n37       6    register request            5\n38       6    examine casually            2\n39       6        check ticket            0\n40       6              decide            1\n41       6    pay compensation            4",
      "text/html": "<div>\n<style scoped>\n    .dataframe tbody tr th:only-of-type {\n        vertical-align: middle;\n    }\n\n    .dataframe tbody tr th {\n        vertical-align: top;\n    }\n\n    .dataframe thead th {\n        text-align: right;\n    }\n</style>\n<table border=\"1\" class=\"dataframe\">\n  <thead>\n    <tr style=\"text-align: right;\">\n      <th></th>\n      <th>case_id</th>\n      <th>activity</th>\n      <th>activity_id</th>\n    </tr>\n  </thead>\n  <tbody>\n    <tr>\n      <th>0</th>\n      <td>1</td>\n      <td>register request</td>\n      <td>5</td>\n    </tr>\n    <tr>\n      <th>1</th>\n      <td>1</td>\n      <td>examine thoroughly</td>\n      <td>3</td>\n    </tr>\n    <tr>\n      <th>2</th>\n      <td>1</td>\n      <td>check ticket</td>\n      <td>0</td>\n    </tr>\n    <tr>\n      <th>3</th>\n      <td>1</td>\n      <td>decide</td>\n      <td>1</td>\n    </tr>\n    <tr>\n      <th>4</th>\n      <td>1</td>\n      <td>reject request</td>\n      <td>7</td>\n    </tr>\n    <tr>\n      <th>5</th>\n      <td>2</td>\n      <td>register request</td>\n      <td>5</td>\n    </tr>\n    <tr>\n      <th>6</th>\n      <td>2</td>\n      <td>check ticket</td>\n      <td>0</td>\n    </tr>\n    <tr>\n      <th>7</th>\n      <td>2</td>\n      <td>examine casually</td>\n      <td>2</td>\n    </tr>\n    <tr>\n      <th>8</th>\n      <td>2</td>\n      <td>decide</td>\n      <td>1</td>\n    </tr>\n    <tr>\n      <th>9</th>\n      <td>2</td>\n      <td>pay compensation</td>\n      <td>4</td>\n    </tr>\n    <tr>\n      <th>10</th>\n      <td>3</td>\n      <td>register request</td>\n      <td>5</td>\n    </tr>\n    <tr>\n      <th>11</th>\n      <td>3</td>\n      <td>examine casually</td>\n      <td>2</td>\n    </tr>\n    <tr>\n      <th>12</th>\n      <td>3</td>\n      <td>check ticket</td>\n      <td>0</td>\n    </tr>\n    <tr>\n      <th>13</th>\n      <td>3</td>\n      <td>decide</td>\n      <td>1</td>\n    </tr>\n    <tr>\n      <th>14</th>\n      <td>3</td>\n      <td>reinitiate request</td>\n      <td>6</td>\n    </tr>\n    <tr>\n      <th>15</th>\n      <td>3</td>\n      <td>examine thoroughly</td>\n      <td>3</td>\n    </tr>\n    <tr>\n      <th>16</th>\n      <td>3</td>\n      <td>check ticket</td>\n      <td>0</td>\n    </tr>\n    <tr>\n      <th>17</th>\n      <td>3</td>\n      <td>decide</td>\n      <td>1</td>\n    </tr>\n    <tr>\n      <th>18</th>\n      <td>3</td>\n      <td>pay compensation</td>\n      <td>4</td>\n    </tr>\n    <tr>\n      <th>19</th>\n      <td>4</td>\n      <td>register request</td>\n      <td>5</td>\n    </tr>\n    <tr>\n      <th>20</th>\n      <td>4</td>\n      <td>check ticket</td>\n      <td>0</td>\n    </tr>\n    <tr>\n      <th>21</th>\n      <td>4</td>\n      <td>examine thoroughly</td>\n      <td>3</td>\n    </tr>\n    <tr>\n      <th>22</th>\n      <td>4</td>\n      <td>decide</td>\n      <td>1</td>\n    </tr>\n    <tr>\n      <th>23</th>\n      <td>4</td>\n      <td>reject request</td>\n      <td>7</td>\n    </tr>\n    <tr>\n      <th>24</th>\n      <td>5</td>\n      <td>register request</td>\n      <td>5</td>\n    </tr>\n    <tr>\n      <th>25</th>\n      <td>5</td>\n      <td>examine casually</td>\n      <td>2</td>\n    </tr>\n    <tr>\n      <th>26</th>\n      <td>5</td>\n      <td>check ticket</td>\n      <td>0</td>\n    </tr>\n    <tr>\n      <th>27</th>\n      <td>5</td>\n      <td>decide</td>\n      <td>1</td>\n    </tr>\n    <tr>\n      <th>28</th>\n      <td>5</td>\n      <td>reinitiate request</td>\n      <td>6</td>\n    </tr>\n    <tr>\n      <th>29</th>\n      <td>5</td>\n      <td>check ticket</td>\n      <td>0</td>\n    </tr>\n    <tr>\n      <th>30</th>\n      <td>5</td>\n      <td>examine casually</td>\n      <td>2</td>\n    </tr>\n    <tr>\n      <th>31</th>\n      <td>5</td>\n      <td>decide</td>\n      <td>1</td>\n    </tr>\n    <tr>\n      <th>32</th>\n      <td>5</td>\n      <td>reinitiate request</td>\n      <td>6</td>\n    </tr>\n    <tr>\n      <th>33</th>\n      <td>5</td>\n      <td>examine casually</td>\n      <td>2</td>\n    </tr>\n    <tr>\n      <th>34</th>\n      <td>5</td>\n      <td>check ticket</td>\n      <td>0</td>\n    </tr>\n    <tr>\n      <th>35</th>\n      <td>5</td>\n      <td>decide</td>\n      <td>1</td>\n    </tr>\n    <tr>\n      <th>36</th>\n      <td>5</td>\n      <td>reject request</td>\n      <td>7</td>\n    </tr>\n    <tr>\n      <th>37</th>\n      <td>6</td>\n      <td>register request</td>\n      <td>5</td>\n    </tr>\n    <tr>\n      <th>38</th>\n      <td>6</td>\n      <td>examine casually</td>\n      <td>2</td>\n    </tr>\n    <tr>\n      <th>39</th>\n      <td>6</td>\n      <td>check ticket</td>\n      <td>0</td>\n    </tr>\n    <tr>\n      <th>40</th>\n      <td>6</td>\n      <td>decide</td>\n      <td>1</td>\n    </tr>\n    <tr>\n      <th>41</th>\n      <td>6</td>\n      <td>pay compensation</td>\n      <td>4</td>\n    </tr>\n  </tbody>\n</table>\n</div>"
     },
     "execution_count": 61,
     "metadata": {},
     "output_type": "execute_result"
    }
   ],
   "execution_count": 61
  },
  {
   "metadata": {
    "ExecuteTime": {
     "end_time": "2024-05-02T19:27:12.931803Z",
     "start_time": "2024-05-02T19:27:12.911131Z"
    }
   },
   "cell_type": "code",
   "source": [
    "miner1.traces"
   ],
   "id": "1fc65550a6321e19",
   "outputs": [
    {
     "data": {
      "text/plain": "array([array([5, 3, 0, 1, 7]), array([5, 0, 2, 1, 4]),\n       array([5, 2, 0, 1, 6, 3, 0, 1, 4]), array([5, 0, 3, 1, 7]),\n       array([5, 2, 0, 1, 6, 0, 2, 1, 6, 2, 0, 1, 7]),\n       array([5, 2, 0, 1, 4])], dtype=object)"
     },
     "execution_count": 62,
     "metadata": {},
     "output_type": "execute_result"
    }
   ],
   "execution_count": 62
  },
  {
   "metadata": {
    "ExecuteTime": {
     "end_time": "2024-05-02T19:27:12.954281Z",
     "start_time": "2024-05-02T19:27:12.932446Z"
    }
   },
   "cell_type": "code",
   "source": [
    "print_all_pairs_of_alphabet(miner1.following_pairs, miner1.activities)"
   ],
   "id": "613731ca3c9586b2",
   "outputs": [
    {
     "name": "stdout",
     "output_type": "stream",
     "text": [
      "[('check ticket', 'decide'), ('check ticket', 'examine casually'), ('check ticket', 'examine thoroughly'), ('decide', 'pay compensation'), ('decide', 'reinitiate request'), ('decide', 'reject request'), ('examine casually', 'check ticket'), ('examine casually', 'decide'), ('examine thoroughly', 'check ticket'), ('examine thoroughly', 'decide'), ('register request', 'check ticket'), ('register request', 'examine casually'), ('register request', 'examine thoroughly'), ('reinitiate request', 'check ticket'), ('reinitiate request', 'examine thoroughly')]\n"
     ]
    }
   ],
   "execution_count": 63
  },
  {
   "metadata": {
    "ExecuteTime": {
     "end_time": "2024-05-02T19:27:12.976904Z",
     "start_time": "2024-05-02T19:27:12.954977Z"
    }
   },
   "cell_type": "code",
   "source": [
    "print_all_pairs_of_alphabet(miner1.parallel_pairs, miner1.activities)"
   ],
   "id": "d7f87df7c5aec006",
   "outputs": [
    {
     "name": "stdout",
     "output_type": "stream",
     "text": [
      "[('check ticket', 'examine casually'), ('check ticket', 'examine thoroughly'), ('examine casually', 'check ticket'), ('examine thoroughly', 'check ticket')]\n"
     ]
    }
   ],
   "execution_count": 64
  },
  {
   "metadata": {
    "ExecuteTime": {
     "end_time": "2024-05-02T19:27:12.998924Z",
     "start_time": "2024-05-02T19:27:12.977701Z"
    }
   },
   "cell_type": "code",
   "source": [
    "print_all_pairs_of_alphabet(miner1.sequential_pairs, miner1.activities)"
   ],
   "id": "1dd32fe8b8f4c37a",
   "outputs": [
    {
     "name": "stdout",
     "output_type": "stream",
     "text": [
      "[('check ticket', 'decide'), ('decide', 'pay compensation'), ('decide', 'reinitiate request'), ('decide', 'reject request'), ('examine casually', 'decide'), ('examine thoroughly', 'decide'), ('register request', 'check ticket'), ('register request', 'examine casually'), ('register request', 'examine thoroughly'), ('reinitiate request', 'check ticket'), ('reinitiate request', 'examine thoroughly')]\n"
     ]
    }
   ],
   "execution_count": 65
  },
  {
   "metadata": {
    "ExecuteTime": {
     "end_time": "2024-05-02T19:27:13.022894Z",
     "start_time": "2024-05-02T19:27:13.001215Z"
    }
   },
   "cell_type": "code",
   "source": [
    "print_all_pairs_of_alphabet(miner1.not_following_pairs, miner1.activities)"
   ],
   "id": "860fe203594c401d",
   "outputs": [
    {
     "name": "stdout",
     "output_type": "stream",
     "text": [
      "[('check ticket', 'check ticket'), ('check ticket', 'pay compensation'), ('check ticket', 'reject request'), ('decide', 'decide'), ('decide', 'register request'), ('examine casually', 'examine casually'), ('examine casually', 'examine thoroughly'), ('examine casually', 'pay compensation'), ('examine casually', 'reinitiate request'), ('examine casually', 'reject request'), ('examine thoroughly', 'examine casually'), ('examine thoroughly', 'examine thoroughly'), ('examine thoroughly', 'pay compensation'), ('examine thoroughly', 'reject request'), ('pay compensation', 'check ticket'), ('pay compensation', 'examine casually'), ('pay compensation', 'examine thoroughly'), ('pay compensation', 'pay compensation'), ('pay compensation', 'register request'), ('pay compensation', 'reinitiate request'), ('pay compensation', 'reject request'), ('register request', 'decide'), ('register request', 'pay compensation'), ('register request', 'register request'), ('register request', 'reinitiate request'), ('register request', 'reject request'), ('reinitiate request', 'examine casually'), ('reinitiate request', 'pay compensation'), ('reinitiate request', 'register request'), ('reinitiate request', 'reinitiate request'), ('reinitiate request', 'reject request'), ('reject request', 'check ticket'), ('reject request', 'examine casually'), ('reject request', 'examine thoroughly'), ('reject request', 'pay compensation'), ('reject request', 'register request'), ('reject request', 'reinitiate request'), ('reject request', 'reject request')]\n"
     ]
    }
   ],
   "execution_count": 66
  },
  {
   "metadata": {
    "ExecuteTime": {
     "end_time": "2024-05-02T19:27:13.049489Z",
     "start_time": "2024-05-02T19:27:13.023438Z"
    }
   },
   "cell_type": "code",
   "source": [
    "miner1.footprint_matrix()\n",
    "miner1.print_pairs()"
   ],
   "id": "1c8d800486cd32a6",
   "outputs": [
    {
     "name": "stdout",
     "output_type": "stream",
     "text": [
      "Activity dictionary: \n",
      "{0: 'check ticket', 1: 'decide', 2: 'examine casually', 3: 'examine thoroughly', 4: 'pay compensation', 5: 'register request', 6: 'reinitiate request', 7: 'reject request'}\n",
      "Following pairs >: \n",
      "[[0 1]\n",
      " [2 1]\n",
      " [3 1]\n",
      " [0 3]\n",
      " [2 0]\n",
      " [1 4]\n",
      " [3 0]\n",
      " [1 7]\n",
      " [0 2]\n",
      " [5 0]\n",
      " [6 0]\n",
      " [5 3]\n",
      " [1 6]\n",
      " [6 3]\n",
      " [5 2]]\n",
      "Parallel pairs ||: \n",
      "[[0 3]\n",
      " [2 0]\n",
      " [3 0]\n",
      " [0 2]]\n",
      "Sequential pairs ->: \n",
      "[[0 1]\n",
      " [2 1]\n",
      " [3 1]\n",
      " [1 4]\n",
      " [1 7]\n",
      " [5 0]\n",
      " [6 0]\n",
      " [5 3]\n",
      " [1 6]\n",
      " [6 3]\n",
      " [5 2]]\n",
      "Not following pairs #: \n",
      "[[0 0]\n",
      " [0 4]\n",
      " [0 7]\n",
      " [1 1]\n",
      " [1 5]\n",
      " [2 2]\n",
      " [2 3]\n",
      " [2 4]\n",
      " [2 6]\n",
      " [2 7]\n",
      " [3 2]\n",
      " [3 3]\n",
      " [3 4]\n",
      " [3 7]\n",
      " [4 0]\n",
      " [4 2]\n",
      " [4 3]\n",
      " [4 4]\n",
      " [4 5]\n",
      " [4 6]\n",
      " [4 7]\n",
      " [5 1]\n",
      " [5 4]\n",
      " [5 5]\n",
      " [5 6]\n",
      " [5 7]\n",
      " [6 2]\n",
      " [6 4]\n",
      " [6 5]\n",
      " [6 6]\n",
      " [6 7]\n",
      " [7 0]\n",
      " [7 2]\n",
      " [7 3]\n",
      " [7 4]\n",
      " [7 5]\n",
      " [7 6]\n",
      " [7 7]]\n",
      "Maximal pairs: \n",
      "[[1 (4, 6)]\n",
      " [(0, 2) 1]\n",
      " [(0, 3) 1]\n",
      " [1 (6, 7)]\n",
      " [(5, 6) 0]\n",
      " [5 (0, 3)]\n",
      " [(5, 6) 3]\n",
      " [6 (0, 3)]\n",
      " [(2, 3) 1]\n",
      " [1 (4, 7)]\n",
      " [5 (2, 3)]\n",
      " [5 (0, 2)]]\n"
     ]
    }
   ],
   "execution_count": 67
  },
  {
   "metadata": {
    "ExecuteTime": {
     "end_time": "2024-05-02T19:27:13.078778Z",
     "start_time": "2024-05-02T19:27:13.050166Z"
    }
   },
   "cell_type": "code",
   "source": [
    "miner2 = AlphaMiner(\"example_files/slides-example.csv\")\n",
    "miner2.print_pairs()"
   ],
   "id": "3522579160d77f70",
   "outputs": [
    {
     "name": "stdout",
     "output_type": "stream",
     "text": [
      "Activity dictionary: \n",
      "{0: 'a', 1: 'b', 2: 'c', 3: 'd'}\n",
      "Following pairs >: \n",
      "[[1 2]\n",
      " [0 3]\n",
      " [2 3]\n",
      " [0 2]\n",
      " [3 2]\n",
      " [1 3]]\n",
      "Parallel pairs ||: \n",
      "[[2 3]\n",
      " [3 2]]\n",
      "Sequential pairs ->: \n",
      "[[1 2]\n",
      " [0 3]\n",
      " [0 2]\n",
      " [1 3]]\n",
      "Not following pairs #: \n",
      "[[0 0]\n",
      " [0 1]\n",
      " [1 0]\n",
      " [1 1]\n",
      " [2 2]\n",
      " [3 3]]\n",
      "Maximal pairs: \n",
      "[[0 (2, 3)]\n",
      " [1 (2, 3)]\n",
      " [(0, 1) 2]\n",
      " [(0, 1) 3]]\n"
     ]
    }
   ],
   "execution_count": 68
  },
  {
   "metadata": {
    "ExecuteTime": {
     "end_time": "2024-05-02T19:27:13.104221Z",
     "start_time": "2024-05-02T19:27:13.079395Z"
    }
   },
   "cell_type": "code",
   "source": [
    "miner2.event_log"
   ],
   "id": "dfb59c65fdf794a3",
   "outputs": [
    {
     "data": {
      "text/plain": "   case_id activity  activity_id\n0        1        a            0\n1        1        c            2\n2        1        d            3\n3       10        b            1\n4       10        d            3\n5       10        c            2\n6       11        b            1\n7       11        d            3\n8       11        c            2\n9        2        a            0\n10       2        c            2\n11       2        d            3\n12       3        a            0\n13       3        c            2\n14       3        d            3\n15       4        a            0\n16       4        d            3\n17       4        c            2\n18       5        a            0\n19       5        d            3\n20       5        c            2\n21       6        b            1\n22       6        c            2\n23       6        d            3\n24       7        b            1\n25       7        c            2\n26       7        d            3\n27       8        b            1\n28       8        d            3\n29       8        c            2\n30       9        b            1\n31       9        d            3\n32       9        c            2",
      "text/html": "<div>\n<style scoped>\n    .dataframe tbody tr th:only-of-type {\n        vertical-align: middle;\n    }\n\n    .dataframe tbody tr th {\n        vertical-align: top;\n    }\n\n    .dataframe thead th {\n        text-align: right;\n    }\n</style>\n<table border=\"1\" class=\"dataframe\">\n  <thead>\n    <tr style=\"text-align: right;\">\n      <th></th>\n      <th>case_id</th>\n      <th>activity</th>\n      <th>activity_id</th>\n    </tr>\n  </thead>\n  <tbody>\n    <tr>\n      <th>0</th>\n      <td>1</td>\n      <td>a</td>\n      <td>0</td>\n    </tr>\n    <tr>\n      <th>1</th>\n      <td>1</td>\n      <td>c</td>\n      <td>2</td>\n    </tr>\n    <tr>\n      <th>2</th>\n      <td>1</td>\n      <td>d</td>\n      <td>3</td>\n    </tr>\n    <tr>\n      <th>3</th>\n      <td>10</td>\n      <td>b</td>\n      <td>1</td>\n    </tr>\n    <tr>\n      <th>4</th>\n      <td>10</td>\n      <td>d</td>\n      <td>3</td>\n    </tr>\n    <tr>\n      <th>5</th>\n      <td>10</td>\n      <td>c</td>\n      <td>2</td>\n    </tr>\n    <tr>\n      <th>6</th>\n      <td>11</td>\n      <td>b</td>\n      <td>1</td>\n    </tr>\n    <tr>\n      <th>7</th>\n      <td>11</td>\n      <td>d</td>\n      <td>3</td>\n    </tr>\n    <tr>\n      <th>8</th>\n      <td>11</td>\n      <td>c</td>\n      <td>2</td>\n    </tr>\n    <tr>\n      <th>9</th>\n      <td>2</td>\n      <td>a</td>\n      <td>0</td>\n    </tr>\n    <tr>\n      <th>10</th>\n      <td>2</td>\n      <td>c</td>\n      <td>2</td>\n    </tr>\n    <tr>\n      <th>11</th>\n      <td>2</td>\n      <td>d</td>\n      <td>3</td>\n    </tr>\n    <tr>\n      <th>12</th>\n      <td>3</td>\n      <td>a</td>\n      <td>0</td>\n    </tr>\n    <tr>\n      <th>13</th>\n      <td>3</td>\n      <td>c</td>\n      <td>2</td>\n    </tr>\n    <tr>\n      <th>14</th>\n      <td>3</td>\n      <td>d</td>\n      <td>3</td>\n    </tr>\n    <tr>\n      <th>15</th>\n      <td>4</td>\n      <td>a</td>\n      <td>0</td>\n    </tr>\n    <tr>\n      <th>16</th>\n      <td>4</td>\n      <td>d</td>\n      <td>3</td>\n    </tr>\n    <tr>\n      <th>17</th>\n      <td>4</td>\n      <td>c</td>\n      <td>2</td>\n    </tr>\n    <tr>\n      <th>18</th>\n      <td>5</td>\n      <td>a</td>\n      <td>0</td>\n    </tr>\n    <tr>\n      <th>19</th>\n      <td>5</td>\n      <td>d</td>\n      <td>3</td>\n    </tr>\n    <tr>\n      <th>20</th>\n      <td>5</td>\n      <td>c</td>\n      <td>2</td>\n    </tr>\n    <tr>\n      <th>21</th>\n      <td>6</td>\n      <td>b</td>\n      <td>1</td>\n    </tr>\n    <tr>\n      <th>22</th>\n      <td>6</td>\n      <td>c</td>\n      <td>2</td>\n    </tr>\n    <tr>\n      <th>23</th>\n      <td>6</td>\n      <td>d</td>\n      <td>3</td>\n    </tr>\n    <tr>\n      <th>24</th>\n      <td>7</td>\n      <td>b</td>\n      <td>1</td>\n    </tr>\n    <tr>\n      <th>25</th>\n      <td>7</td>\n      <td>c</td>\n      <td>2</td>\n    </tr>\n    <tr>\n      <th>26</th>\n      <td>7</td>\n      <td>d</td>\n      <td>3</td>\n    </tr>\n    <tr>\n      <th>27</th>\n      <td>8</td>\n      <td>b</td>\n      <td>1</td>\n    </tr>\n    <tr>\n      <th>28</th>\n      <td>8</td>\n      <td>d</td>\n      <td>3</td>\n    </tr>\n    <tr>\n      <th>29</th>\n      <td>8</td>\n      <td>c</td>\n      <td>2</td>\n    </tr>\n    <tr>\n      <th>30</th>\n      <td>9</td>\n      <td>b</td>\n      <td>1</td>\n    </tr>\n    <tr>\n      <th>31</th>\n      <td>9</td>\n      <td>d</td>\n      <td>3</td>\n    </tr>\n    <tr>\n      <th>32</th>\n      <td>9</td>\n      <td>c</td>\n      <td>2</td>\n    </tr>\n  </tbody>\n</table>\n</div>"
     },
     "execution_count": 69,
     "metadata": {},
     "output_type": "execute_result"
    }
   ],
   "execution_count": 69
  },
  {
   "metadata": {
    "ExecuteTime": {
     "end_time": "2024-05-02T19:27:13.126538Z",
     "start_time": "2024-05-02T19:27:13.104814Z"
    }
   },
   "cell_type": "code",
   "source": [
    "miner2.traces"
   ],
   "id": "f9cc7825438c2243",
   "outputs": [
    {
     "data": {
      "text/plain": "array([array([0, 2, 3]), array([1, 3, 2]), array([1, 3, 2]),\n       array([0, 2, 3]), array([0, 2, 3]), array([0, 3, 2]),\n       array([0, 3, 2]), array([1, 2, 3]), array([1, 2, 3]),\n       array([1, 3, 2]), array([1, 3, 2])], dtype=object)"
     },
     "execution_count": 70,
     "metadata": {},
     "output_type": "execute_result"
    }
   ],
   "execution_count": 70
  },
  {
   "metadata": {
    "ExecuteTime": {
     "end_time": "2024-05-02T19:27:13.148569Z",
     "start_time": "2024-05-02T19:27:13.127095Z"
    }
   },
   "cell_type": "code",
   "source": [
    "print_all_pairs_of_alphabet(miner2.following_pairs, miner2.activities)"
   ],
   "id": "962a371b27c2381d",
   "outputs": [
    {
     "name": "stdout",
     "output_type": "stream",
     "text": [
      "[('a', 'c'), ('a', 'd'), ('b', 'c'), ('b', 'd'), ('c', 'd'), ('d', 'c')]\n"
     ]
    }
   ],
   "execution_count": 71
  },
  {
   "metadata": {
    "ExecuteTime": {
     "end_time": "2024-05-02T19:27:13.170301Z",
     "start_time": "2024-05-02T19:27:13.149205Z"
    }
   },
   "cell_type": "code",
   "source": [
    "print_all_pairs_of_alphabet(miner2.parallel_pairs, miner2.activities)"
   ],
   "id": "c02fea730cf65878",
   "outputs": [
    {
     "name": "stdout",
     "output_type": "stream",
     "text": [
      "[('c', 'd'), ('d', 'c')]\n"
     ]
    }
   ],
   "execution_count": 72
  },
  {
   "metadata": {
    "ExecuteTime": {
     "end_time": "2024-05-02T19:27:13.193859Z",
     "start_time": "2024-05-02T19:27:13.171202Z"
    }
   },
   "cell_type": "code",
   "source": [
    "print_all_pairs_of_alphabet(miner2.sequential_pairs, miner2.activities)"
   ],
   "id": "6bf3a878013abe13",
   "outputs": [
    {
     "name": "stdout",
     "output_type": "stream",
     "text": [
      "[('a', 'c'), ('a', 'd'), ('b', 'c'), ('b', 'd')]\n"
     ]
    }
   ],
   "execution_count": 73
  },
  {
   "cell_type": "markdown",
   "source": [],
   "metadata": {
    "collapsed": false
   }
  },
  {
   "metadata": {
    "ExecuteTime": {
     "end_time": "2024-05-02T19:27:13.218242Z",
     "start_time": "2024-05-02T19:27:13.194619Z"
    }
   },
   "cell_type": "code",
   "source": [
    "print_all_pairs_of_alphabet(miner2.not_following_pairs, miner2.activities)"
   ],
   "id": "b7d87545f7093c33",
   "outputs": [
    {
     "name": "stdout",
     "output_type": "stream",
     "text": [
      "[('a', 'a'), ('a', 'b'), ('b', 'a'), ('b', 'b'), ('c', 'c'), ('d', 'd')]\n"
     ]
    }
   ],
   "execution_count": 74
  },
  {
   "metadata": {
    "ExecuteTime": {
     "end_time": "2024-05-02T19:27:13.242008Z",
     "start_time": "2024-05-02T19:27:13.218982Z"
    }
   },
   "cell_type": "code",
   "source": [
    "print(miner2.footprint_matrix())"
   ],
   "id": "83c7092f8c4a2e90",
   "outputs": [
    {
     "name": "stdout",
     "output_type": "stream",
     "text": [
      "   a  b   c   d\n",
      "a  #  #   →   →\n",
      "b  #  #   →   →\n",
      "c  ←  ←   #  ||\n",
      "d  ←  ←  ||   #\n"
     ]
    }
   ],
   "execution_count": 75
  },
  {
   "cell_type": "code",
   "execution_count": 76,
   "outputs": [
    {
     "data": {
      "text/plain": "array([array([0, 2, 3]), array([1, 3, 2]), array([1, 3, 2]),\n       array([0, 2, 3]), array([0, 2, 3]), array([0, 3, 2]),\n       array([0, 3, 2]), array([1, 2, 3]), array([1, 2, 3]),\n       array([1, 3, 2]), array([1, 3, 2])], dtype=object)"
     },
     "execution_count": 76,
     "metadata": {},
     "output_type": "execute_result"
    }
   ],
   "source": [
    "miner2.traces"
   ],
   "metadata": {
    "collapsed": false
   }
  },
  {
   "cell_type": "markdown",
   "source": [
    "# Part 2 - Scope Footprint to Graph input"
   ],
   "metadata": {
    "collapsed": false
   }
  },
  {
   "cell_type": "code",
   "execution_count": 88,
   "outputs": [],
   "source": [
    "miner1 = AlphaMiner(\"example_files/running-example.csv\")\n",
    "miner2 = AlphaMiner(\"example_files/slides-example.csv\")"
   ],
   "metadata": {
    "collapsed": false
   }
  },
  {
   "cell_type": "code",
   "execution_count": 106,
   "outputs": [
    {
     "name": "stdout",
     "output_type": "stream",
     "text": [
      "Activity dictionary: \n",
      "{0: 'a', 1: 'b', 2: 'c', 3: 'd'}\n",
      "Following pairs >: \n",
      "[[1 2]\n",
      " [0 3]\n",
      " [2 3]\n",
      " [0 2]\n",
      " [3 2]\n",
      " [1 3]]\n",
      "Parallel pairs ||: \n",
      "[[2 3]\n",
      " [3 2]]\n",
      "Sequential pairs ->: \n",
      "[[1 2]\n",
      " [0 3]\n",
      " [0 2]\n",
      " [1 3]]\n",
      "Not following pairs #: \n",
      "[[0 0]\n",
      " [0 1]\n",
      " [1 0]\n",
      " [1 1]\n",
      " [2 2]\n",
      " [3 3]]\n",
      "Maximal pairs: \n",
      "[[0 (2, 3)]\n",
      " [1 (2, 3)]\n",
      " [(0, 1) 2]\n",
      " [(0, 1) 3]]\n"
     ]
    }
   ],
   "source": [
    "miner2.print_pairs()"
   ],
   "metadata": {
    "collapsed": false
   }
  },
  {
   "cell_type": "markdown",
   "source": [
    "### Maximal Pairs for miner2"
   ],
   "metadata": {
    "collapsed": false
   }
  },
  {
   "cell_type": "code",
   "execution_count": 107,
   "outputs": [
    {
     "name": "stdout",
     "output_type": "stream",
     "text": [
      "[('a', ('c', 'd')), ('b', ('c', 'd')), (('a', 'b'), 'c'), (('a', 'b'), 'd')]\n"
     ]
    }
   ],
   "source": [
    "print_all_pairs_of_alphabet(miner2.maximal_pairs, miner2.activities)"
   ],
   "metadata": {
    "collapsed": false
   }
  },
  {
   "cell_type": "code",
   "execution_count": null,
   "outputs": [],
   "source": [],
   "metadata": {
    "collapsed": false
   }
  }
 ],
 "metadata": {
  "kernelspec": {
   "display_name": "Python 3",
   "language": "python",
   "name": "python3"
  },
  "language_info": {
   "codemirror_mode": {
    "name": "ipython",
    "version": 2
   },
   "file_extension": ".py",
   "mimetype": "text/x-python",
   "name": "python",
   "nbconvert_exporter": "python",
   "pygments_lexer": "ipython2",
   "version": "2.7.6"
  }
 },
 "nbformat": 4,
 "nbformat_minor": 5
}
