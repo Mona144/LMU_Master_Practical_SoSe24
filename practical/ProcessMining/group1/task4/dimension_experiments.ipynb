{
 "cells": [
  {
   "metadata": {},
   "cell_type": "code",
   "source": [
    "import pm4py\n",
    "from tokenreplay import TokenReplay\n",
    "from comparison import ModelComparator\n",
    "from practical.ProcessMining.group1.shared.utils import event_log_to_dataframe, read_txt_test_logs\n",
    "from practical.ProcessMining.group1.shared import utils\n",
    "from practical.ProcessMining.group1.shared.visualizer import Visualizer"
   ],
   "id": "25ce6d8a598dc8c",
   "outputs": [],
   "execution_count": null
  },
  {
   "metadata": {},
   "cell_type": "code",
   "source": [
    "def get_logs(file_path):\n",
    "   return utils.import_csv(file_path)"
   ],
   "id": "b29bb67b2ee250eb",
   "outputs": [],
   "execution_count": null
  },
  {
   "metadata": {},
   "cell_type": "code",
   "source": [
    "def compare_real_logs():\n",
    "    logs = get_logs(\"../shared/example_files/DomesticDeclarations_cleansed.csv\")\n",
    "    logs = event_log_to_dataframe(logs)\n",
    "    logs = pm4py.format_dataframe(logs, case_id='case_id', activity_key='activity', timestamp_key='timestamp')\n",
    "    # alpha\n",
    "    net_alpha, im_alpha, fm_alpha = pm4py.discover_petri_net_alpha(logs)\n",
    "\n",
    "    # heuristic\n",
    "    net_heuristic, im_heuristic, fm_heuristic = pm4py.discover_petri_net_heuristics(logs)\n",
    "\n",
    "    # im\n",
    "    net_inductive, im_inductive, fm_inductive = pm4py.discover_petri_net_inductive(logs)\n",
    "\n",
    "    # #inductive inf\n",
    "    net_inductive_inf, im_inductive_inf, fm_inductive_inf = pm4py.discover_petri_net_inductive(logs,noise_threshold=0.7)\n",
    "\n",
    "    m1 = TokenReplay(logs, net_alpha, im_alpha, fm_alpha, \"AM\")\n",
    "    m2 = TokenReplay(logs, net_heuristic, im_heuristic, fm_heuristic, \"HM\")\n",
    "    m3 = TokenReplay(logs, net_inductive, im_inductive, fm_inductive, \"IM\")\n",
    "    m4 = TokenReplay(logs, net_inductive_inf, im_inductive_inf, fm_inductive_inf, \"IMi\")\n",
    "\n",
    "    comparator = ModelComparator([m1, m2, m3, m4])\n",
    "\n",
    "    # print(\"===== all models values for log:\", log_key, \"=====\")\n",
    "    models_values = comparator.get_models_values()\n",
    "    print('models_values ======', models_values)\n",
    "    # print(\"=============================\\n\")\n",
    "\n",
    "    print(\"===== Pareto Efficient Models for log:\", \"=====\")\n",
    "    results = comparator.run(x_dimension='f', y_dimension='s')\n",
    "    # results_dict[log_key] = results\n",
    "    print(results)\n",
    "    print(\"=============================\\n\")\n",
    "    get_visualizer(m1, net_alpha, im_alpha, fm_alpha)\n",
    "    get_visualizer(m2, net_heuristic, im_heuristic, fm_heuristic)\n",
    "    get_visualizer(m3, net_inductive, im_inductive, fm_inductive)\n",
    "    get_visualizer(m4, net_inductive_inf, im_inductive_inf, fm_inductive_inf)"
   ],
   "id": "d7d306cd9f082cb4",
   "outputs": [],
   "execution_count": null
  },
  {
   "cell_type": "code",
   "id": "9c8d3368ba0d2a6e",
   "metadata": {},
   "source": [
    "def compare_all_logs():\n",
    "    logs = read_txt_test_logs(\"../shared/example_files/simple_event_logs_modified.txt\")\n",
    "\n",
    "    results_dict = {}\n",
    "\n",
    "    for log_key, log in logs.items():\n",
    "        # print(f\"Processing log: {log_key}\")\n",
    "        log_df = event_log_to_dataframe(log)\n",
    "        # print('log_df =====', log_df)\n",
    "        log_df = pm4py.format_dataframe(log_df, case_id='case_id', activity_key='activity', timestamp_key='timestamp')\n",
    "\n",
    "        # alpha\n",
    "        net_alpha, im_alpha, fm_alpha = pm4py.discover_petri_net_alpha(log_df)\n",
    "\n",
    "        # heuristic\n",
    "        net_heuristic, im_heuristic, fm_heuristic = pm4py.discover_petri_net_heuristics(log_df)\n",
    "\n",
    "        # im\n",
    "        net_inductive, im_inductive, fm_inductive = pm4py.discover_petri_net_inductive(log_df)\n",
    "\n",
    "        # #inductive inf\n",
    "        net_inductive_inf, im_inductive_inf, fm_inductive_inf = pm4py.discover_petri_net_inductive(log_df,noise_threshold=0.7)\n",
    "\n",
    "        m1 = TokenReplay(log_df, net_alpha, im_alpha, fm_alpha, \"AM\")\n",
    "        m2 = TokenReplay(log_df, net_heuristic, im_heuristic, fm_heuristic, \"HM\")\n",
    "        m3 = TokenReplay(log_df, net_inductive, im_inductive, fm_inductive, \"IM\")\n",
    "        m4 = TokenReplay(log_df, net_inductive_inf, im_inductive_inf, fm_inductive_inf, \"IMi\")\n",
    "\n",
    "        comparator = ModelComparator([m1, m2, m3, m4])\n",
    "\n",
    "        # print(\"===== all models values for log:\", log_key, \"=====\")\n",
    "        models_values = comparator.get_models_values()\n",
    "        print('models_values ======', models_values)\n",
    "        # print(\"=============================\\n\")\n",
    "\n",
    "        print(\"===== Pareto Efficient Models for log:\", log_key, \"=====\")\n",
    "        results = comparator.run(x_dimension='f', y_dimension='s')\n",
    "        # results_dict[log_key] = results\n",
    "        print(results)\n",
    "        print(\"=============================\\n\")\n",
    "\n",
    "    # Print or return all results after processing all logs\n",
    "    # for log_key, results in results_dict.items():\n",
    "        # print(f\"Results for log {log_key}:\")\n",
    "        # print(results)\n",
    "        # print(\"=============================\\n\")"
   ],
   "outputs": [],
   "execution_count": null
  },
  {
   "metadata": {},
   "cell_type": "code",
   "source": [
    "def get_visualizer(token_replay, net, initial_marking, final_marking):\n",
    "    vizard = Visualizer()\n",
    "    places = net.places\n",
    "    print('places:', places)\n",
    "    tokens = token_replay.get_tokens()\n",
    "    print('tokens ==========', tokens)\n",
    "    graph_fitness = vizard.build_petri_net(net, initial_marking, final_marking, tokens)\n",
    "    print('graph_fitness ===', graph_fitness)\n",
    "    vizard.save(graph_fitness,'graph_fitness')"
   ],
   "id": "764542187ced5133",
   "outputs": [],
   "execution_count": null
  },
  {
   "cell_type": "code",
   "id": "d73ad21dfaed3159",
   "metadata": {},
   "source": [
    "compare_all_logs()"
   ],
   "outputs": [],
   "execution_count": null
  },
  {
   "cell_type": "code",
   "id": "b9a73c4c85b8070c",
   "metadata": {},
   "source": "compare_real_logs()",
   "outputs": [],
   "execution_count": null
  }
 ],
 "metadata": {
  "kernelspec": {
   "display_name": "Python 3 (ipykernel)",
   "language": "python",
   "name": "python3"
  },
  "language_info": {
   "codemirror_mode": {
    "name": "ipython",
    "version": 3
   },
   "file_extension": ".py",
   "mimetype": "text/x-python",
   "name": "python",
   "nbconvert_exporter": "python",
   "pygments_lexer": "ipython3",
   "version": "3.9.6"
  }
 },
 "nbformat": 4,
 "nbformat_minor": 5
}
