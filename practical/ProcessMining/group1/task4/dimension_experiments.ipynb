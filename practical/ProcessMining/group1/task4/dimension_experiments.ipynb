{
 "cells": [
  {
   "cell_type": "code",
   "id": "initial_id",
   "metadata": {
    "collapsed": true
   },
   "source": [
    "import pm4py\n",
    "from tokenreplay import TokenReplay\n",
    "from comparison import ModelComparator\n",
    "from practical.ProcessMining.group1.shared.utils import event_log_to_dataframe, read_txt_test_logs"
   ],
   "outputs": [],
   "execution_count": null
  },
  {
   "metadata": {},
   "cell_type": "code",
   "source": [
    "def compare(x_str=\"f\", y_str=\"s\", log_key=\"L17\"):\n",
    "    logs = read_txt_test_logs(\"../shared/example_files/simple_event_logs.txt\")\n",
    "    log = logs[log_key]\n",
    "    log = event_log_to_dataframe(log)\n",
    "    log = pm4py.format_dataframe(log, case_id='case_id', activity_key='activity', timestamp_key='timestamp')\n",
    "    \n",
    "    net_alpha, im_alpha, fm_alpha = pm4py.discover_petri_net_alpha(log)\n",
    "    net_heuristic, im_heuristic, fm_heuristic = pm4py.discover_petri_net_heuristics(log)\n",
    "    net_inductive, im_inductive, fm_inductive = pm4py.discover_petri_net_inductive(log)\n",
    "    \n",
    "    m1 = TokenReplay(log, net_alpha, im_alpha, fm_alpha, \"alpha\")\n",
    "    m2 = TokenReplay(log, net_heuristic, im_heuristic, fm_heuristic, \"heuristic\")\n",
    "    m3 = TokenReplay(log, net_inductive, im_inductive, fm_inductive, \"inductive\")\n",
    "    \n",
    "    comparator = ModelComparator([m1, m2, m3])\n",
    "    \n",
    "    print(\"===== All models values =====\")\n",
    "    print(comparator.get_models_values())\n",
    "    print(\"=============================\\n\")\n",
    "    \n",
    "    print(\"===== Pareto Efficient Models =====\")\n",
    "    results = comparator.run(x_dimension=x_str, y_dimension=y_str)\n",
    "    print(results)\n",
    "    print(\"=============================\\n\")"
   ],
   "id": "e1ac35aec8567048",
   "outputs": [],
   "execution_count": null
  },
  {
   "metadata": {},
   "cell_type": "code",
   "source": "compare()",
   "id": "742c1c18badbb08c",
   "outputs": [],
   "execution_count": null
  }
 ],
 "metadata": {
  "kernelspec": {
   "display_name": "Python 3",
   "language": "python",
   "name": "python3"
  },
  "language_info": {
   "codemirror_mode": {
    "name": "ipython",
    "version": 2
   },
   "file_extension": ".py",
   "mimetype": "text/x-python",
   "name": "python",
   "nbconvert_exporter": "python",
   "pygments_lexer": "ipython2",
   "version": "2.7.6"
  }
 },
 "nbformat": 4,
 "nbformat_minor": 5
}
