{
 "cells": [
  {
   "cell_type": "code",
   "id": "25ce6d8a598dc8c",
   "metadata": {},
   "source": [
    "import pm4py\n",
    "from tokenreplay import TokenReplay\n",
    "from comparison import ModelComparator\n",
    "from practical.ProcessMining.group1.shared import utils"
   ],
   "execution_count": null,
   "outputs": []
  },
  {
   "metadata": {},
   "cell_type": "code",
   "source": [
    "def compare_logs(x_dim=\"fitness\", y_dim=\"generalization\", log_key=None):\n",
    "    logs = utils.read_txt_test_logs(\"../shared/example_files/simple_event_logs_modified.txt\")\n",
    "    if log_key:\n",
    "        logs = {log_key: logs[log_key]}\n",
    "\n",
    "    for log_key, log in logs.items():\n",
    "        # print(f\"Processing log: {log_key}\")\n",
    "        log_df = utils.event_log_to_dataframe(log)\n",
    "        # print('log_df =====', log_df)\n",
    "        log_df = pm4py.format_dataframe(log_df, case_id='case_id', activity_key='activity', timestamp_key='timestamp')\n",
    "\n",
    "        net_alpha, im_alpha, fm_alpha = pm4py.discover_petri_net_alpha(log_df)\n",
    "\n",
    "        net_heuristic, im_heuristic, fm_heuristic = pm4py.discover_petri_net_heuristics(log_df)\n",
    "\n",
    "        net_inductive, im_inductive, fm_inductive = pm4py.discover_petri_net_inductive(log_df)\n",
    "        \n",
    "        net_inductive_inf, im_inductive_inf, fm_inductive_inf = pm4py.discover_petri_net_inductive(log_df,noise_threshold=0.7)\n",
    "\n",
    "        m1 = TokenReplay(log_df, net_alpha, im_alpha, fm_alpha, \"AM\")\n",
    "        m2 = TokenReplay(log_df, net_heuristic, im_heuristic, fm_heuristic, \"HM\")\n",
    "        m3 = TokenReplay(log_df, net_inductive, im_inductive, fm_inductive, \"IM\")\n",
    "        m4 = TokenReplay(log_df, net_inductive_inf, im_inductive_inf, fm_inductive_inf, \"IMi\")\n",
    "\n",
    "        comparator = ModelComparator([m1, m2, m3, m4])\n",
    "\n",
    "        print(\"===== Model Comparison for log:\", log_key, \"=====\")\n",
    "        res = comparator.run(x_dimension=x_dim, y_dimension=y_dim)\n",
    "        print(res)"
   ],
   "id": "9c8d3368ba0d2a6e",
   "outputs": [],
   "execution_count": null
  },
  {
   "metadata": {},
   "cell_type": "code",
   "source": "compare_logs(log_key=\"L1\")",
   "id": "d73ad21dfaed3159",
   "outputs": [],
   "execution_count": null
  },
  {
   "metadata": {},
   "cell_type": "code",
   "source": "compare_logs(x_dim=\"p\", y_dim=\"s\")",
   "id": "7858191c4926cbf1",
   "outputs": [],
   "execution_count": null
  }
 ],
 "metadata": {
  "kernelspec": {
   "display_name": "Python 3 (ipykernel)",
   "language": "python",
   "name": "python3"
  },
  "language_info": {
   "codemirror_mode": {
    "name": "ipython",
    "version": 3
   },
   "file_extension": ".py",
   "mimetype": "text/x-python",
   "name": "python",
   "nbconvert_exporter": "python",
   "pygments_lexer": "ipython3",
   "version": "3.9.6"
  }
 },
 "nbformat": 4,
 "nbformat_minor": 5
}
