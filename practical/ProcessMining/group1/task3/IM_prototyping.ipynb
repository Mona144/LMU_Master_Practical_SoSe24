{
 "cells": [
  {
   "metadata": {},
   "cell_type": "markdown",
   "source": "# Inductive Miner (Infrequent) Prototyping",
   "id": "89e5f5b239c5bfde"
  },
  {
   "metadata": {},
   "cell_type": "markdown",
   "source": "### Inductive Miner - Base",
   "id": "6186bd09cae95196"
  },
  {
   "cell_type": "code",
   "id": "initial_id",
   "metadata": {
    "collapsed": true
   },
   "source": [
    "%reload_ext autoreload\n",
    "%autoreload 2\n",
    "\n",
    "from practical.ProcessMining.group1.task3.inductiveminer import InductiveMiner\n",
    "from practical.ProcessMining.group1.task3.inductiveminer_infrequent import InductiveMinerInfrequent\n",
    "\n",
    "def run(log):\n",
    "  miner = InductiveMiner(log)\n",
    "  miner.run()\n",
    "  miner.print_process_tree()\n",
    "  miner.visualize_process_tree()\n",
    "\n",
    "def run_freq(log, threshold):\n",
    "  miner = InductiveMinerInfrequent(log, threshold)\n",
    "  miner.run()\n",
    "  miner.print_process_tree()\n",
    "  miner.visualize_process_tree()"
   ],
   "outputs": [],
   "execution_count": null
  },
  {
   "metadata": {},
   "cell_type": "code",
   "source": [
    "## Parallel Log\n",
    "log = [('b', 'e'),\n",
    "       ('b', 'e', 'c', 'd', 'b'),\n",
    "       ('b', 'c', 'e', 'd', 'b'),\n",
    "       ('b', 'c', 'd', 'e', 'b'),\n",
    "       ('e', 'b', 'c', 'd', 'b')]\n",
    "run(log)"
   ],
   "id": "cdb53a2d79b37d4",
   "outputs": [],
   "execution_count": null
  },
  {
   "metadata": {},
   "cell_type": "code",
   "source": [
    "## XOR Log\n",
    "log = [('a', 'b', 'c', 'd'),\n",
    "       ('a', 'c', 'b', 'd'),\n",
    "       ('a', 'b', 'c', 'e', 'f', 'b', 'c', 'd'),\n",
    "       ('a', 'c', 'b', 'e', 'f', 'b', 'c', 'd'),\n",
    "       ('a', 'b', 'c', 'e', 'f', 'c', 'b', 'd'),\n",
    "       ('a', 'c', 'b', 'e', 'f', 'b', 'c', 'e', 'f', 'c', 'b', 'd')]\n",
    "run(log)"
   ],
   "id": "a702de43ad93bf7d",
   "outputs": [],
   "execution_count": null
  },
  {
   "metadata": {},
   "cell_type": "code",
   "source": [
    "## TAU Log\n",
    "log = [('',), ('a',), ('a', 'a')]\n",
    "run(log)"
   ],
   "id": "59a75f0fbd1e4f6c",
   "outputs": [],
   "execution_count": null
  },
  {
   "metadata": {},
   "cell_type": "code",
   "source": [
    "log = [('b', 'c'),\n",
    " ('c', 'b'),\n",
    " ('b', 'c', 'e', 'f', 'b', 'c'),\n",
    " ('c', 'b', 'e', 'f', 'b', 'c'),\n",
    " ('b', 'c', 'e', 'f', 'c', 'b'),\n",
    " ('c', 'b', 'e', 'f', 'b', 'c', 'e', 'f', 'c', 'b')]\n",
    "run(log)"
   ],
   "id": "959031d60433890b",
   "outputs": [],
   "execution_count": null
  },
  {
   "metadata": {},
   "cell_type": "code",
   "source": [
    "## Sequence Log\n",
    "log = [('a', 'b', 'c', 'd', 'e', 'f', 'g')]\n",
    "run(log)"
   ],
   "id": "3053a2a0362c450a",
   "outputs": [],
   "execution_count": null
  },
  {
   "metadata": {},
   "cell_type": "markdown",
   "source": "### Inductive Miner - Infrequent",
   "id": "f1908d9756e70f2f"
  },
  {
   "metadata": {},
   "cell_type": "code",
   "source": [
    "log = [('a', 'c', 'd', 'e', 'b'),\n",
    "       ('a', 'b', 'a', 'e', 'd', 'c'),\n",
    "       ('a', 'e', 'c', 'b', 'd'),\n",
    "       ('a', 'd', 'b', 'c', 'e')]\n",
    "run_freq(log, 0.3)"
   ],
   "id": "3e615ecd8c044a9f",
   "outputs": [],
   "execution_count": null
  }
 ],
 "metadata": {
  "kernelspec": {
   "display_name": "Python 3",
   "language": "python",
   "name": "python3"
  },
  "language_info": {
   "codemirror_mode": {
    "name": "ipython",
    "version": 2
   },
   "file_extension": ".py",
   "mimetype": "text/x-python",
   "name": "python",
   "nbconvert_exporter": "python",
   "pygments_lexer": "ipython2",
   "version": "2.7.6"
  }
 },
 "nbformat": 4,
 "nbformat_minor": 5
}
