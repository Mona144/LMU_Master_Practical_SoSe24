{
 "cells": [
  {
   "metadata": {},
   "cell_type": "markdown",
   "source": "# Inductive Miner (Infrequent) Prototyping",
   "id": "89e5f5b239c5bfde"
  },
  {
   "cell_type": "code",
   "id": "initial_id",
   "metadata": {
    "collapsed": true,
    "ExecuteTime": {
     "end_time": "2024-06-02T22:08:00.037499Z",
     "start_time": "2024-06-02T22:07:59.315345Z"
    }
   },
   "source": [
    "%reload_ext autoreload\n",
    "%autoreload 2\n",
    "\n",
    "from practical.ProcessMining.group1.task3.inductiveminer import InductiveMiner"
   ],
   "outputs": [],
   "execution_count": 1
  },
  {
   "metadata": {
    "ExecuteTime": {
     "end_time": "2024-06-02T22:08:00.078239Z",
     "start_time": "2024-06-02T22:08:00.038494Z"
    }
   },
   "cell_type": "code",
   "source": [
    "log = [('b', 'e'),\n",
    "       ('b', 'e', 'c', 'd', 'b'),\n",
    "       ('b', 'c', 'e', 'd', 'b'),\n",
    "       ('b', 'c', 'd', 'e', 'b'),\n",
    "       ('e', 'b', 'c', 'd', 'b')]\n",
    "miner = InductiveMiner(log)\n",
    "miner.run()\n",
    "miner.print_process_tree()"
   ],
   "id": "cdb53a2d79b37d4",
   "outputs": [
    {
     "name": "stdout",
     "output_type": "stream",
     "text": [
      "∧(e, ↺(b, c, d, 𝜏))\n"
     ]
    }
   ],
   "execution_count": 2
  },
  {
   "metadata": {
    "ExecuteTime": {
     "end_time": "2024-06-02T22:08:00.107202Z",
     "start_time": "2024-06-02T22:08:00.078987Z"
    }
   },
   "cell_type": "code",
   "source": [
    "log = [('',), ('a',), ('a', 'a')]\n",
    "miner = InductiveMiner(log)\n",
    "miner.run()\n",
    "miner.print_process_tree()"
   ],
   "id": "59a75f0fbd1e4f6c",
   "outputs": [
    {
     "name": "stdout",
     "output_type": "stream",
     "text": [
      "↺(𝜏, a)\n"
     ]
    }
   ],
   "execution_count": 3
  },
  {
   "metadata": {
    "ExecuteTime": {
     "end_time": "2024-06-02T22:08:00.146399Z",
     "start_time": "2024-06-02T22:08:00.107905Z"
    }
   },
   "cell_type": "code",
   "source": [
    "log = [('b', 'c'),\n",
    " ('c', 'b'),\n",
    " ('b', 'c', 'e', 'f', 'b', 'c'),\n",
    " ('c', 'b', 'e', 'f', 'b', 'c'),\n",
    " ('b', 'c', 'e', 'f', 'c', 'b'),\n",
    " ('c', 'b', 'e', 'f', 'b', 'c', 'e', 'f', 'c', 'b')]\n",
    "miner = InductiveMiner(log)\n",
    "miner.run()\n",
    "miner.print_process_tree()"
   ],
   "id": "959031d60433890b",
   "outputs": [
    {
     "name": "stdout",
     "output_type": "stream",
     "text": [
      "↺(∧(b, c), ↺(e, f, 𝜏))\n"
     ]
    }
   ],
   "execution_count": 4
  },
  {
   "metadata": {
    "ExecuteTime": {
     "end_time": "2024-06-02T22:08:00.177323Z",
     "start_time": "2024-06-02T22:08:00.147876Z"
    }
   },
   "cell_type": "code",
   "source": [
    "log = [('a', 'b', 'c', 'd', 'e', 'f', 'g')]\n",
    "miner = InductiveMiner(log)\n",
    "miner.run()\n",
    "miner.print_process_tree()"
   ],
   "id": "3053a2a0362c450a",
   "outputs": [
    {
     "name": "stdout",
     "output_type": "stream",
     "text": [
      "↺(a, b, c, d, e, f, g, 𝜏)\n"
     ]
    }
   ],
   "execution_count": 5
  },
  {
   "metadata": {
    "ExecuteTime": {
     "end_time": "2024-06-02T22:08:00.179473Z",
     "start_time": "2024-06-02T22:08:00.177951Z"
    }
   },
   "cell_type": "code",
   "source": "",
   "id": "3323294329e91391",
   "outputs": [],
   "execution_count": 5
  }
 ],
 "metadata": {
  "kernelspec": {
   "display_name": "Python 3",
   "language": "python",
   "name": "python3"
  },
  "language_info": {
   "codemirror_mode": {
    "name": "ipython",
    "version": 2
   },
   "file_extension": ".py",
   "mimetype": "text/x-python",
   "name": "python",
   "nbconvert_exporter": "python",
   "pygments_lexer": "ipython2",
   "version": "2.7.6"
  }
 },
 "nbformat": 4,
 "nbformat_minor": 5
}
