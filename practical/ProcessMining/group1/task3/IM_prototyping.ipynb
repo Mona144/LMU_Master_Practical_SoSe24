{
 "cells": [
  {
   "metadata": {},
   "cell_type": "markdown",
   "source": "# Inductive Miner (Infrequent) Prototyping",
   "id": "89e5f5b239c5bfde"
  },
  {
   "metadata": {},
   "cell_type": "markdown",
   "source": "### Inductive Miner - Base",
   "id": "6186bd09cae95196"
  },
  {
   "cell_type": "code",
   "id": "initial_id",
   "metadata": {
    "collapsed": true
   },
   "source": [
    "%reload_ext autoreload\n",
    "%autoreload 2\n",
    "\n",
    "from practical.ProcessMining.group1.task3.inductiveminer import InductiveMiner"
   ],
   "outputs": [],
   "execution_count": null
  },
  {
   "metadata": {},
   "cell_type": "code",
   "source": [
    "log = [('b', 'e'),\n",
    "       ('b', 'e', 'c', 'd', 'b'),\n",
    "       ('b', 'c', 'e', 'd', 'b'),\n",
    "       ('b', 'c', 'd', 'e', 'b'),\n",
    "       ('e', 'b', 'c', 'd', 'b')]\n",
    "miner = InductiveMiner(log)\n",
    "miner.run()\n",
    "miner.print_process_tree()"
   ],
   "id": "cdb53a2d79b37d4",
   "outputs": [],
   "execution_count": null
  },
  {
   "metadata": {},
   "cell_type": "code",
   "source": [
    "log = [('',), ('a',), ('a', 'a')]\n",
    "miner = InductiveMiner(log)\n",
    "miner.run()\n",
    "miner.print_process_tree()"
   ],
   "id": "59a75f0fbd1e4f6c",
   "outputs": [],
   "execution_count": null
  },
  {
   "metadata": {},
   "cell_type": "code",
   "source": [
    "log = [('b', 'c'),\n",
    " ('c', 'b'),\n",
    " ('b', 'c', 'e', 'f', 'b', 'c'),\n",
    " ('c', 'b', 'e', 'f', 'b', 'c'),\n",
    " ('b', 'c', 'e', 'f', 'c', 'b'),\n",
    " ('c', 'b', 'e', 'f', 'b', 'c', 'e', 'f', 'c', 'b')]\n",
    "miner = InductiveMiner(log)\n",
    "miner.run()\n",
    "miner.print_process_tree()"
   ],
   "id": "959031d60433890b",
   "outputs": [],
   "execution_count": null
  },
  {
   "metadata": {},
   "cell_type": "code",
   "source": [
    "log = [('a', 'b', 'c', 'd', 'e', 'f', 'g')]\n",
    "miner = InductiveMiner(log)\n",
    "miner.run()\n",
    "miner.print_process_tree()"
   ],
   "id": "3053a2a0362c450a",
   "outputs": [],
   "execution_count": null
  },
  {
   "metadata": {},
   "cell_type": "markdown",
   "source": "### Inductive Miner - Infrequent",
   "id": "f1908d9756e70f2f"
  },
  {
   "metadata": {},
   "cell_type": "code",
   "source": [
    "%reload_ext autoreload\n",
    "%autoreload 2\n",
    "\n",
    "from practical.ProcessMining.group1.task3.inductiveminer_infrequent import InductiveMinerInfrequent"
   ],
   "id": "55f007e6d6f7cae9",
   "outputs": [],
   "execution_count": null
  },
  {
   "metadata": {},
   "cell_type": "code",
   "source": [
    "log = [('b', 'c'),\n",
    "       ('c', 'b'),\n",
    "       ('b', 'c', 'e', 'f', 'b', 'c'),\n",
    "       ('c', 'b', 'e', 'f', 'b', 'c'),\n",
    "       ('b', 'c', 'e', 'f', 'c', 'b'),\n",
    "       ('c', 'b', 'e', 'f', 'b', 'c', 'e', 'f', 'c', 'b')]\n",
    "\n",
    "miner = InductiveMinerInfrequent(event_log=log, threshold=0.4)\n",
    "dfg_frequent = miner.get_frequent_directly_follows_graph(miner.dfg)\n",
    "efg_frequent = miner.get_frequent_eventually_follows_graph(miner.dfg)\n",
    "\n",
    "miner.run()\n",
    "miner.print_process_tree()"
   ],
   "id": "3e615ecd8c044a9f",
   "outputs": [],
   "execution_count": null
  }
 ],
 "metadata": {
  "kernelspec": {
   "display_name": "Python 3",
   "language": "python",
   "name": "python3"
  },
  "language_info": {
   "codemirror_mode": {
    "name": "ipython",
    "version": 2
   },
   "file_extension": ".py",
   "mimetype": "text/x-python",
   "name": "python",
   "nbconvert_exporter": "python",
   "pygments_lexer": "ipython2",
   "version": "2.7.6"
  }
 },
 "nbformat": 4,
 "nbformat_minor": 5
}
