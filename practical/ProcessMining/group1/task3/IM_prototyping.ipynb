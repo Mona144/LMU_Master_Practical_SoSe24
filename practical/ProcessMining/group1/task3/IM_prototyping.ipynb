{
 "cells": [
  {
   "metadata": {},
   "cell_type": "markdown",
   "source": "# Inductive Miner (Infrequent) Prototyping",
   "id": "89e5f5b239c5bfde"
  },
  {
   "metadata": {},
   "cell_type": "markdown",
   "source": "### Inductive Miner - Base",
   "id": "6186bd09cae95196"
  },
  {
   "metadata": {},
   "cell_type": "code",
   "source": [
    "%reload_ext autoreload\n",
    "%autoreload 2\n",
    "\n",
    "from practical.ProcessMining.group1.task3.inductiveminer import InductiveMiner\n",
    "from practical.ProcessMining.group1.task3.inductiveminer_infrequent import InductiveMinerInfrequent\n",
    "from practical.ProcessMining.group1.shared.utils import read_txt_test_logs\n",
    "import pandas as pd\n",
    "from IPython.display import Image, display\n",
    "from pm4py.visualization.process_tree import visualizer as pt_vis\n",
    "from pm4py.objects.conversion.log import converter as log_converter\n",
    "from pm4py.algo.discovery.inductive import algorithm as inductive_miner\n",
    "import tempfile\n",
    "\n",
    "def visualize_pm4py_process_tree(log):\n",
    "    data = [{'case:concept:name': idx, 'concept:name': activity, 'time:timestamp': idx}\n",
    "            for idx, trace in enumerate(log)\n",
    "            for activity in trace]\n",
    "    df = pd.DataFrame(data)\n",
    "    event_log = log_converter.apply(df)\n",
    "    process_tree = inductive_miner.apply(event_log, variant=inductive_miner.Variants.IM)\n",
    "    gviz_tree = pt_vis.apply(process_tree)\n",
    "    \n",
    "    with tempfile.NamedTemporaryFile(suffix=\".png\") as temp_file:\n",
    "        pt_vis.save(gviz_tree, temp_file.name)\n",
    "        display(Image(filename=temp_file.name))\n",
    "    \n",
    "\n",
    "def visualize_custom_miner(miner):\n",
    "    miner.run()\n",
    "    print(miner)\n",
    "    miner.visualize_process_tree()\n",
    "    miner.build_and_visualize_petrinet()\n",
    "\n",
    "def run(log):\n",
    "    miner = InductiveMiner(log)\n",
    "    # PM4Py visualization\n",
    "    visualize_pm4py_process_tree(log)\n",
    "    \n",
    "    # Custom implementation visualization\n",
    "    visualize_custom_miner(miner)\n",
    "\n",
    "def run_infrequent(log):\n",
    "    miner = InductiveMinerInfrequent(log, 0.3)\n",
    "    visualize_custom_miner(miner)\n",
    "  \n",
    "def run_debug(log):\n",
    "    visualize_custom_miner(InductiveMiner(log))"
   ],
   "id": "initial_id",
   "outputs": [],
   "execution_count": null
  },
  {
   "metadata": {},
   "cell_type": "markdown",
   "source": "Sequence Logs",
   "id": "30d46782743c76ba"
  },
  {
   "metadata": {},
   "cell_type": "code",
   "source": [
    "log = [('a', 'b', 'c', 'd', 'e', 'f', 'g')]\n",
    "run(log)"
   ],
   "id": "3053a2a0362c450a",
   "outputs": [],
   "execution_count": null
  },
  {
   "metadata": {},
   "cell_type": "markdown",
   "source": "XOR Logs",
   "id": "8bb76bff03871ad4"
  },
  {
   "metadata": {},
   "cell_type": "code",
   "source": [
    "log = [('a', 'c', 'i'), ('d', 'e', 'k' ,'h'), ('a', 'c', 'j'), ('d', 'e', 'h', 'f')]\n",
    "run(log)"
   ],
   "id": "e79f266ff7945c76",
   "outputs": [],
   "execution_count": null
  },
  {
   "metadata": {},
   "cell_type": "markdown",
   "source": "Mixed Logs",
   "id": "aad40d7fda5b2153"
  },
  {
   "metadata": {},
   "cell_type": "code",
   "source": [
    "## Parallel Log\n",
    "log = [('b', 'e'),\n",
    "       ('b', 'e', 'c', 'd', 'b'),\n",
    "       ('b', 'c', 'e', 'd', 'b'),\n",
    "       ('b', 'c', 'd', 'e', 'b'),\n",
    "       ('e', 'b', 'c', 'd', 'b')]\n",
    "run(log)"
   ],
   "id": "cdb53a2d79b37d4",
   "outputs": [],
   "execution_count": null
  },
  {
   "metadata": {},
   "cell_type": "code",
   "source": [
    "log = [('a', 'b', 'c', 'd'),\n",
    "       ('a', 'c', 'b', 'd'),\n",
    "       ('a', 'b', 'c', 'e', 'f', 'b', 'c', 'd'),\n",
    "       ('a', 'c', 'b', 'e', 'f', 'b', 'c', 'd'),\n",
    "       ('a', 'b', 'c', 'e', 'f', 'c', 'b', 'd'),\n",
    "       ('a', 'c', 'b', 'e', 'f', 'b', 'c', 'e', 'f', 'c', 'b', 'd')]\n",
    "run(log)"
   ],
   "id": "a702de43ad93bf7d",
   "outputs": [],
   "execution_count": null
  },
  {
   "metadata": {},
   "cell_type": "code",
   "source": [
    "log = [('b', 'c'),\n",
    " ('c', 'b'),\n",
    " ('b', 'c', 'e', 'f', 'b', 'c'),\n",
    " ('c', 'b', 'e', 'f', 'b', 'c'),\n",
    " ('b', 'c', 'e', 'f', 'c', 'b'),\n",
    " ('c', 'b', 'e', 'f', 'b', 'c', 'e', 'f', 'c', 'b')]\n",
    "run(log)"
   ],
   "id": "959031d60433890b",
   "outputs": [],
   "execution_count": null
  },
  {
   "metadata": {},
   "cell_type": "markdown",
   "source": "Tau Logs",
   "id": "1513c4d401ed2b5c"
  },
  {
   "metadata": {},
   "cell_type": "code",
   "source": [
    "log = [('',), ('a',), ('a', 'a')]\n",
    "run(log)"
   ],
   "id": "59a75f0fbd1e4f6c",
   "outputs": [],
   "execution_count": null
  },
  {
   "metadata": {},
   "cell_type": "code",
   "source": [
    "log = [('a', 'b', 'c', 'd'), ('d', 'a', 'b'), ('a', 'd', 'c'), ('b', 'c', 'd',)]\n",
    "run(log)"
   ],
   "id": "c7fb0aebabfc4306",
   "outputs": [],
   "execution_count": null
  },
  {
   "metadata": {},
   "cell_type": "code",
   "source": [
    "log = [('a', 'c', 'd', 'e', 'b'),\n",
    "       ('a', 'b', 'a', 'e', 'd', 'c'),\n",
    "       ('a', 'e', 'c', 'b', 'd'),\n",
    "       ('a', 'd', 'b', 'c', 'e')]\n",
    "\n",
    "#run_freq(log, 0.3)\n",
    "miner = InductiveMinerInfrequent(log, 0.3)\n",
    "miner.run()\n",
    "print(miner)"
   ],
   "id": "3e615ecd8c044a9f",
   "outputs": [],
   "execution_count": null
  },
  {
   "metadata": {},
   "cell_type": "code",
   "source": "run([('a',), ('a',), ('a',)])",
   "id": "402cc6cd7681f571",
   "outputs": [],
   "execution_count": null
  },
  {
   "metadata": {},
   "cell_type": "code",
   "source": "run([('',), ('a',), ('a',)])",
   "id": "f548efa7f95d6033",
   "outputs": [],
   "execution_count": null
  },
  {
   "metadata": {},
   "cell_type": "code",
   "source": "run([('a',), ('a', 'a'), ('a', 'a', 'a')])",
   "id": "1386929cffd1013b",
   "outputs": [],
   "execution_count": null
  },
  {
   "metadata": {},
   "cell_type": "code",
   "source": "run([('',), ('a',), ('a', 'a')])",
   "id": "18f2f3c1dd80502a",
   "outputs": [],
   "execution_count": null
  },
  {
   "metadata": {},
   "cell_type": "markdown",
   "source": "# Test with simple event logs",
   "id": "205ba617026f63df"
  },
  {
   "metadata": {},
   "cell_type": "markdown",
   "source": "### Inductive Miner - Comparison base vs infrequent",
   "id": "c5541ef4635c9b59"
  },
  {
   "metadata": {},
   "cell_type": "code",
   "source": [
    "test_logs = read_txt_test_logs(\"../shared/example_files/simple_event_logs.txt\")\n",
    "\n",
    "for key in test_logs.keys():\n",
    "    print(key) #test_logs[key])\n",
    "    run(test_logs[key])\n",
    "    run_infrequent(test_logs[key])"
   ],
   "id": "a5516c297d7158fd",
   "outputs": [],
   "execution_count": null
  },
  {
   "metadata": {},
   "cell_type": "code",
   "source": "",
   "id": "d87263e380ca14ee",
   "outputs": [],
   "execution_count": null
  }
 ],
 "metadata": {
  "kernelspec": {
   "display_name": "Python 3",
   "language": "python",
   "name": "python3"
  },
  "language_info": {
   "codemirror_mode": {
    "name": "ipython",
    "version": 2
   },
   "file_extension": ".py",
   "mimetype": "text/x-python",
   "name": "python",
   "nbconvert_exporter": "python",
   "pygments_lexer": "ipython2",
   "version": "2.7.6"
  }
 },
 "nbformat": 4,
 "nbformat_minor": 5
}
