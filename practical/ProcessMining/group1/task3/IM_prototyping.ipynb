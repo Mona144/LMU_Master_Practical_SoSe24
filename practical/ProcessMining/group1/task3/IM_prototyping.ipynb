{
 "cells": [
  {
   "metadata": {},
   "cell_type": "markdown",
   "source": "# Inductive Miner (Infrequent) Prototyping",
   "id": "89e5f5b239c5bfde"
  },
  {
   "cell_type": "code",
   "id": "initial_id",
   "metadata": {
    "collapsed": true,
    "ExecuteTime": {
     "end_time": "2024-06-01T20:05:22.211664Z",
     "start_time": "2024-06-01T20:05:21.682375Z"
    }
   },
   "source": [
    "%reload_ext autoreload\n",
    "%autoreload 2\n",
    "\n",
    "from practical.ProcessMining.group1.task3.inductiveminer import InductiveMiner"
   ],
   "outputs": [],
   "execution_count": 32
  },
  {
   "metadata": {
    "ExecuteTime": {
     "end_time": "2024-06-01T20:05:22.777968Z",
     "start_time": "2024-06-01T20:05:22.212685Z"
    }
   },
   "cell_type": "code",
   "source": [
    "log = [('b', 'c'),\n",
    "       ('c', 'b'),\n",
    "       ('b', 'c', 'e', 'f', 'b', 'c'),\n",
    "       ('c', 'b', 'e', 'f', 'b', 'c'),\n",
    "       ('b', 'c', 'e', 'f', 'c', 'b'),\n",
    "       ('c', 'b', 'e', 'f', 'b', 'c', 'e', 'f', 'c', 'b')]\n",
    "miner = InductiveMiner(log)\n",
    "miner.run()\n",
    "miner.print_process_tree()"
   ],
   "id": "cdb53a2d79b37d4",
   "outputs": [
    {
     "name": "stdout",
     "output_type": "stream",
     "text": [
      "(↺, (c, b),(f, e),(∧, c, b, (↺, e, f)))\n"
     ]
    }
   ],
   "execution_count": 33
  },
  {
   "metadata": {
    "ExecuteTime": {
     "end_time": "2024-06-01T20:05:22.784278Z",
     "start_time": "2024-06-01T20:05:22.778761Z"
    }
   },
   "cell_type": "code",
   "source": "",
   "id": "44222676e1641a0a",
   "outputs": [],
   "execution_count": 33
  }
 ],
 "metadata": {
  "kernelspec": {
   "display_name": "Python 3",
   "language": "python",
   "name": "python3"
  },
  "language_info": {
   "codemirror_mode": {
    "name": "ipython",
    "version": 2
   },
   "file_extension": ".py",
   "mimetype": "text/x-python",
   "name": "python",
   "nbconvert_exporter": "python",
   "pygments_lexer": "ipython2",
   "version": "2.7.6"
  }
 },
 "nbformat": 4,
 "nbformat_minor": 5
}
