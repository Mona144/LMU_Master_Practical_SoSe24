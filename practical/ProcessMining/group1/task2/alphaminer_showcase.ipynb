{
 "cells": [
  {
   "cell_type": "markdown",
   "id": "5c3ef7b6c3a38525",
   "metadata": {},
   "source": [
    "# Alpha Algorithm for Process Mining\n",
    "**Workflow Mining: Discovering Process Models from Event Logs** (_Wil van der Aalst, Ton Weijters, and Laura Maruster_)"
   ]
  },
  {
   "cell_type": "code",
   "id": "c87cfcb4ad21534a",
   "metadata": {
    "ExecuteTime": {
     "end_time": "2024-06-22T10:44:44.381339Z",
     "start_time": "2024-06-22T10:44:44.325203Z"
    }
   },
   "source": [
    "%reload_ext autoreload\n",
    "%autoreload 2\n",
    "from practical.ProcessMining.group1.task2.alphaminer import AlphaMiner\n",
    "from practical.ProcessMining.group1.shared import utils\n",
    "import pm4py"
   ],
   "outputs": [],
   "execution_count": 33
  },
  {
   "cell_type": "markdown",
   "id": "b2f3b341a5410bb6",
   "metadata": {
    "ExecuteTime": {
     "end_time": "2024-05-14T00:21:32.918107Z",
     "start_time": "2024-05-14T00:21:32.735785Z"
    }
   },
   "source": [
    "## Basic Example from the Paper\n",
    "A simple event log to illustrate the idea behind the algorithm. \n",
    "\n",
    "`{ABCD, ACBD, AED}`"
   ]
  },
  {
   "cell_type": "code",
   "id": "c7fb98f97d6046af",
   "metadata": {
    "ExecuteTime": {
     "end_time": "2024-06-22T10:44:44.545767Z",
     "start_time": "2024-06-22T10:44:44.501289Z"
    }
   },
   "source": [
    "simple_log = utils.event_log_to_csv([(\"a\", \"b\", \"c\", \"d\"), (\"a\", \"c\", \"b\", \"d\"), (\"a\", \"e\", \"d\")])\n",
    "miner_simple = AlphaMiner(simple_log)\n",
    "miner_simple.event_log.head()"
   ],
   "outputs": [
    {
     "data": {
      "text/plain": [
       "  case_id activity  activity_id\n",
       "0       1        a            0\n",
       "1       1        b            1\n",
       "2       1        c            2\n",
       "3       1        d            3\n",
       "4       2        a            0"
      ],
      "text/html": [
       "<div>\n",
       "<style scoped>\n",
       "    .dataframe tbody tr th:only-of-type {\n",
       "        vertical-align: middle;\n",
       "    }\n",
       "\n",
       "    .dataframe tbody tr th {\n",
       "        vertical-align: top;\n",
       "    }\n",
       "\n",
       "    .dataframe thead th {\n",
       "        text-align: right;\n",
       "    }\n",
       "</style>\n",
       "<table border=\"1\" class=\"dataframe\">\n",
       "  <thead>\n",
       "    <tr style=\"text-align: right;\">\n",
       "      <th></th>\n",
       "      <th>case_id</th>\n",
       "      <th>activity</th>\n",
       "      <th>activity_id</th>\n",
       "    </tr>\n",
       "  </thead>\n",
       "  <tbody>\n",
       "    <tr>\n",
       "      <th>0</th>\n",
       "      <td>1</td>\n",
       "      <td>a</td>\n",
       "      <td>0</td>\n",
       "    </tr>\n",
       "    <tr>\n",
       "      <th>1</th>\n",
       "      <td>1</td>\n",
       "      <td>b</td>\n",
       "      <td>1</td>\n",
       "    </tr>\n",
       "    <tr>\n",
       "      <th>2</th>\n",
       "      <td>1</td>\n",
       "      <td>c</td>\n",
       "      <td>2</td>\n",
       "    </tr>\n",
       "    <tr>\n",
       "      <th>3</th>\n",
       "      <td>1</td>\n",
       "      <td>d</td>\n",
       "      <td>3</td>\n",
       "    </tr>\n",
       "    <tr>\n",
       "      <th>4</th>\n",
       "      <td>2</td>\n",
       "      <td>a</td>\n",
       "      <td>0</td>\n",
       "    </tr>\n",
       "  </tbody>\n",
       "</table>\n",
       "</div>"
      ]
     },
     "execution_count": 34,
     "metadata": {},
     "output_type": "execute_result"
    }
   ],
   "execution_count": 34
  },
  {
   "cell_type": "markdown",
   "id": "8c668e244f6ce005",
   "metadata": {
    "ExecuteTime": {
     "end_time": "2024-05-14T00:21:34.170434Z",
     "start_time": "2024-05-14T00:21:34.094250Z"
    }
   },
   "source": [
    "### 1. Event Log to Footprint Matrix\n",
    "\n",
    "Steps 1-4 of the Alpha algorithm"
   ]
  },
  {
   "cell_type": "code",
   "id": "637c2c0ea9286ab5",
   "metadata": {
    "ExecuteTime": {
     "end_time": "2024-06-22T10:44:44.579201Z",
     "start_time": "2024-06-22T10:44:44.546759Z"
    }
   },
   "source": [
    "print(miner_simple.footprint_matrix())"
   ],
   "outputs": [
    {
     "name": "stdout",
     "output_type": "stream",
     "text": [
      "   a   b   c  d  e\n",
      "a  #   →   →  #  →\n",
      "b  ←   #  ||  →  #\n",
      "c  ←  ||   #  →  #\n",
      "d  #   ←   ←  #  ←\n",
      "e  ←   #   #  →  #\n"
     ]
    }
   ],
   "execution_count": 35
  },
  {
   "cell_type": "code",
   "id": "67b9f21eb0bbe5b",
   "metadata": {
    "ExecuteTime": {
     "end_time": "2024-06-22T10:44:44.612474Z",
     "start_time": "2024-06-22T10:44:44.579845Z"
    }
   },
   "source": [
    "footprints = miner_simple.discover_footprints()\n",
    "for key in footprints.keys():\n",
    "    print(f\"{key}: \\n{footprints[key]}\\n\")"
   ],
   "outputs": [
    {
     "name": "stdout",
     "output_type": "stream",
     "text": [
      "dfg: \n",
      "{('a', 'e'), ('a', 'b'), ('e', 'd'), ('c', 'b'), ('b', 'c'), ('b', 'd'), ('a', 'c'), ('c', 'd')}\n",
      "\n",
      "sequence: \n",
      "{('a', 'e'), ('a', 'b'), ('e', 'd'), ('b', 'd'), ('a', 'c'), ('c', 'd')}\n",
      "\n",
      "parallel: \n",
      "{('c', 'b'), ('b', 'c')}\n",
      "\n",
      "activities: \n",
      "{'c', 'd', 'b', 'a', 'e'}\n",
      "\n",
      "start_activities: \n",
      "{'a'}\n",
      "\n",
      "end_activities: \n",
      "{'d'}\n",
      "\n",
      "min_trace_length: \n",
      "3\n",
      "\n"
     ]
    }
   ],
   "execution_count": 36
  },
  {
   "cell_type": "code",
   "id": "9288d07b432536a0",
   "metadata": {
    "ExecuteTime": {
     "end_time": "2024-06-22T10:44:44.647127Z",
     "start_time": "2024-06-22T10:44:44.613821Z"
    }
   },
   "source": [
    "miner_simple.print_pairs()"
   ],
   "outputs": [
    {
     "name": "stdout",
     "output_type": "stream",
     "text": [
      "Following pairs:\n",
      "[({'a'}, {'b'}), ({'b'}, {'c'}), ({'a'}, {'e'}), ({'c'}, {'b'}), ({'e'}, {'d'}), ({'c'}, {'d'}), ({'a'}, {'c'}), ({'b'}, {'d'})]\n",
      "\n",
      "Parallel pairs:\n",
      "[({'b'}, {'c'}), ({'c'}, {'b'})]\n",
      "\n",
      "Sequential pairs:\n",
      "[({'a'}, {'b'}), ({'a'}, {'e'}), ({'e'}, {'d'}), ({'c'}, {'d'}), ({'a'}, {'c'}), ({'b'}, {'d'})]\n",
      "\n",
      "Not following pairs:\n",
      "[({'a'}, {'a'}), ({'a'}, {'d'}), ({'b'}, {'b'}), ({'b'}, {'e'}), ({'c'}, {'c'}), ({'c'}, {'e'}), ({'d'}, {'a'}), ({'d'}, {'d'}), ({'e'}, {'b'}), ({'e'}, {'c'}), ({'e'}, {'e'})]\n",
      "\n",
      "Before pairs:\n",
      "[({'b'}, {'a'}), ({'c'}, {'a'}), ({'d'}, {'b'}), ({'d'}, {'c'}), ({'d'}, {'e'}), ({'e'}, {'a'})]\n",
      "\n",
      "Maximal pairs:\n",
      "[({'a'}, {'e', 'b'}), ({'a'}, {'c', 'e'}), ({'c', 'e'}, {'d'}), ({'e', 'b'}, {'d'})]\n",
      "\n"
     ]
    }
   ],
   "execution_count": 37
  },
  {
   "cell_type": "markdown",
   "id": "d80f4aadcfafeef",
   "metadata": {},
   "source": [
    "### 2. Footprint Matrix to Process Graph\n",
    "Steps 5-8 of the Alpha algorithm"
   ]
  },
  {
   "cell_type": "code",
   "id": "786a3e2515d50c10",
   "metadata": {
    "ExecuteTime": {
     "end_time": "2024-06-22T10:44:44.682118Z",
     "start_time": "2024-06-22T10:44:44.647928Z"
    }
   },
   "source": [
    "miner_simple.get_maximal_pairs()"
   ],
   "outputs": [
    {
     "data": {
      "text/plain": [
       "[({'a'}, {'b', 'e'}),\n",
       " ({'a'}, {'c', 'e'}),\n",
       " ({'c', 'e'}, {'d'}),\n",
       " ({'b', 'e'}, {'d'})]"
      ]
     },
     "execution_count": 38,
     "metadata": {},
     "output_type": "execute_result"
    }
   ],
   "execution_count": 38
  },
  {
   "cell_type": "code",
   "id": "c957225e9813df0f",
   "metadata": {
    "ExecuteTime": {
     "end_time": "2024-06-22T10:44:44.969163Z",
     "start_time": "2024-06-22T10:44:44.682960Z"
    }
   },
   "source": [
    "miner_simple.build_and_visualize_petrinet()"
   ],
   "outputs": [
    {
     "data": {
      "image/svg+xml": "<?xml version=\"1.0\" encoding=\"UTF-8\" standalone=\"no\"?>\n<!DOCTYPE svg PUBLIC \"-//W3C//DTD SVG 1.1//EN\"\n \"http://www.w3.org/Graphics/SVG/1.1/DTD/svg11.dtd\">\n<!-- Generated by graphviz version 10.0.1 (20240210.2158)\n -->\n<!-- Title: Alpha Miner Petri Net Pages: 1 -->\n<svg width=\"610pt\" height=\"152pt\"\n viewBox=\"0.00 0.00 610.00 152.00\" xmlns=\"http://www.w3.org/2000/svg\" xmlns:xlink=\"http://www.w3.org/1999/xlink\">\n<g id=\"graph0\" class=\"graph\" transform=\"scale(1 1) rotate(0) translate(4 148)\">\n<title>Alpha Miner Petri Net</title>\n<polygon fill=\"white\" stroke=\"none\" points=\"-4,4 -4,-148 606,-148 606,4 -4,4\"/>\n<!-- 6285583488 -->\n<g id=\"node1\" class=\"node\">\n<title>6285583488</title>\n<polygon fill=\"none\" stroke=\"black\" points=\"324,-90 270,-90 270,-54 324,-54 324,-90\"/>\n<text text-anchor=\"middle\" x=\"297\" y=\"-67.72\" font-family=\"Arial\" font-size=\"12.00\">e</text>\n</g>\n<!-- 6285279504 -->\n<g id=\"node10\" class=\"node\">\n<title>6285279504</title>\n<ellipse fill=\"none\" stroke=\"black\" cx=\"387\" cy=\"-108\" rx=\"27\" ry=\"27\"/>\n</g>\n<!-- 6285583488&#45;&gt;6285279504 -->\n<g id=\"edge6\" class=\"edge\">\n<title>6285583488&#45;&gt;6285279504</title>\n<path fill=\"none\" stroke=\"black\" d=\"M324.4,-82.8C332.75,-86.22 342.12,-90.05 350.97,-93.67\"/>\n<polygon fill=\"black\" stroke=\"black\" points=\"349.44,-96.83 360.02,-97.37 352.09,-90.35 349.44,-96.83\"/>\n</g>\n<!-- 6285286176 -->\n<g id=\"node11\" class=\"node\">\n<title>6285286176</title>\n<ellipse fill=\"none\" stroke=\"black\" cx=\"387\" cy=\"-36\" rx=\"27\" ry=\"27\"/>\n</g>\n<!-- 6285583488&#45;&gt;6285286176 -->\n<g id=\"edge7\" class=\"edge\">\n<title>6285583488&#45;&gt;6285286176</title>\n<path fill=\"none\" stroke=\"black\" d=\"M324.4,-61.2C332.75,-57.78 342.12,-53.95 350.97,-50.33\"/>\n<polygon fill=\"black\" stroke=\"black\" points=\"352.09,-53.65 360.02,-46.63 349.44,-47.17 352.09,-53.65\"/>\n</g>\n<!-- 6285589152 -->\n<g id=\"node2\" class=\"node\">\n<title>6285589152</title>\n<polygon fill=\"none\" stroke=\"black\" points=\"504,-90 450,-90 450,-54 504,-54 504,-90\"/>\n<text text-anchor=\"middle\" x=\"477\" y=\"-67.72\" font-family=\"Arial\" font-size=\"12.00\">d</text>\n</g>\n<!-- 6285286128 -->\n<g id=\"node6\" class=\"node\">\n<title>6285286128</title>\n<ellipse fill=\"none\" stroke=\"black\" cx=\"571\" cy=\"-72\" rx=\"27\" ry=\"27\"/>\n<ellipse fill=\"none\" stroke=\"black\" cx=\"571\" cy=\"-72\" rx=\"31\" ry=\"31\"/>\n<text text-anchor=\"start\" x=\"561.25\" y=\"-59.98\" font-family=\"Arial\" font-size=\"32.00\">■</text>\n</g>\n<!-- 6285589152&#45;&gt;6285286128 -->\n<g id=\"edge5\" class=\"edge\">\n<title>6285589152&#45;&gt;6285286128</title>\n<path fill=\"none\" stroke=\"black\" d=\"M504.12,-72C511.63,-72 520.01,-72 528.22,-72\"/>\n<polygon fill=\"black\" stroke=\"black\" points=\"528.08,-75.5 538.08,-72 528.08,-68.5 528.08,-75.5\"/>\n</g>\n<!-- 6285588096 -->\n<g id=\"node3\" class=\"node\">\n<title>6285588096</title>\n<polygon fill=\"none\" stroke=\"black\" points=\"324,-144 270,-144 270,-108 324,-108 324,-144\"/>\n<text text-anchor=\"middle\" x=\"297\" y=\"-121.72\" font-family=\"Arial\" font-size=\"12.00\">c</text>\n</g>\n<!-- 6285588096&#45;&gt;6285279504 -->\n<g id=\"edge4\" class=\"edge\">\n<title>6285588096&#45;&gt;6285279504</title>\n<path fill=\"none\" stroke=\"black\" d=\"M324.4,-120.6C332.2,-119 340.88,-117.23 349.2,-115.53\"/>\n<polygon fill=\"black\" stroke=\"black\" points=\"349.64,-119.01 358.74,-113.58 348.24,-112.15 349.64,-119.01\"/>\n</g>\n<!-- 6285587664 -->\n<g id=\"node4\" class=\"node\">\n<title>6285587664</title>\n<polygon fill=\"none\" stroke=\"black\" points=\"144,-90 90,-90 90,-54 144,-54 144,-90\"/>\n<text text-anchor=\"middle\" x=\"117\" y=\"-67.72\" font-family=\"Arial\" font-size=\"12.00\">a</text>\n</g>\n<!-- 6285290880 -->\n<g id=\"node8\" class=\"node\">\n<title>6285290880</title>\n<ellipse fill=\"none\" stroke=\"black\" cx=\"207\" cy=\"-108\" rx=\"27\" ry=\"27\"/>\n</g>\n<!-- 6285587664&#45;&gt;6285290880 -->\n<g id=\"edge1\" class=\"edge\">\n<title>6285587664&#45;&gt;6285290880</title>\n<path fill=\"none\" stroke=\"black\" d=\"M144.4,-82.8C152.75,-86.22 162.12,-90.05 170.97,-93.67\"/>\n<polygon fill=\"black\" stroke=\"black\" points=\"169.44,-96.83 180.02,-97.37 172.09,-90.35 169.44,-96.83\"/>\n</g>\n<!-- 6285293328 -->\n<g id=\"node9\" class=\"node\">\n<title>6285293328</title>\n<ellipse fill=\"none\" stroke=\"black\" cx=\"207\" cy=\"-36\" rx=\"27\" ry=\"27\"/>\n</g>\n<!-- 6285587664&#45;&gt;6285293328 -->\n<g id=\"edge2\" class=\"edge\">\n<title>6285587664&#45;&gt;6285293328</title>\n<path fill=\"none\" stroke=\"black\" d=\"M144.4,-61.2C152.75,-57.78 162.12,-53.95 170.97,-50.33\"/>\n<polygon fill=\"black\" stroke=\"black\" points=\"172.09,-53.65 180.02,-46.63 169.44,-47.17 172.09,-53.65\"/>\n</g>\n<!-- 6285577104 -->\n<g id=\"node5\" class=\"node\">\n<title>6285577104</title>\n<polygon fill=\"none\" stroke=\"black\" points=\"324,-36 270,-36 270,0 324,0 324,-36\"/>\n<text text-anchor=\"middle\" x=\"297\" y=\"-13.72\" font-family=\"Arial\" font-size=\"12.00\">b</text>\n</g>\n<!-- 6285577104&#45;&gt;6285286176 -->\n<g id=\"edge3\" class=\"edge\">\n<title>6285577104&#45;&gt;6285286176</title>\n<path fill=\"none\" stroke=\"black\" d=\"M324.4,-23.4C332.2,-25 340.88,-26.77 349.2,-28.47\"/>\n<polygon fill=\"black\" stroke=\"black\" points=\"348.24,-31.85 358.74,-30.42 349.64,-24.99 348.24,-31.85\"/>\n</g>\n<!-- 6285586656 -->\n<g id=\"node7\" class=\"node\">\n<title>6285586656</title>\n<ellipse fill=\"none\" stroke=\"black\" cx=\"27\" cy=\"-72\" rx=\"27\" ry=\"27\"/>\n<text text-anchor=\"start\" x=\"16.88\" y=\"-59.2\" font-family=\"Arial\" font-size=\"34.00\">●</text>\n</g>\n<!-- 6285586656&#45;&gt;6285587664 -->\n<g id=\"edge8\" class=\"edge\">\n<title>6285586656&#45;&gt;6285587664</title>\n<path fill=\"none\" stroke=\"black\" d=\"M54.4,-72C61.89,-72 70.18,-72 78.2,-72\"/>\n<polygon fill=\"black\" stroke=\"black\" points=\"78.1,-75.5 88.1,-72 78.1,-68.5 78.1,-75.5\"/>\n</g>\n<!-- 6285290880&#45;&gt;6285583488 -->\n<g id=\"edge10\" class=\"edge\">\n<title>6285290880&#45;&gt;6285583488</title>\n<path fill=\"none\" stroke=\"black\" d=\"M232.51,-97.97C240.76,-94.6 250.14,-90.76 259.12,-87.09\"/>\n<polygon fill=\"black\" stroke=\"black\" points=\"260.44,-90.33 268.37,-83.3 257.79,-83.85 260.44,-90.33\"/>\n</g>\n<!-- 6285290880&#45;&gt;6285588096 -->\n<g id=\"edge9\" class=\"edge\">\n<title>6285290880&#45;&gt;6285588096</title>\n<path fill=\"none\" stroke=\"black\" d=\"M233.93,-113.3C241.66,-114.89 250.31,-116.65 258.62,-118.35\"/>\n<polygon fill=\"black\" stroke=\"black\" points=\"257.67,-121.73 268.17,-120.31 259.07,-114.87 257.67,-121.73\"/>\n</g>\n<!-- 6285293328&#45;&gt;6285583488 -->\n<g id=\"edge12\" class=\"edge\">\n<title>6285293328&#45;&gt;6285583488</title>\n<path fill=\"none\" stroke=\"black\" d=\"M232.51,-46.03C240.76,-49.4 250.14,-53.24 259.12,-56.91\"/>\n<polygon fill=\"black\" stroke=\"black\" points=\"257.79,-60.15 268.37,-60.7 260.44,-53.67 257.79,-60.15\"/>\n</g>\n<!-- 6285293328&#45;&gt;6285577104 -->\n<g id=\"edge11\" class=\"edge\">\n<title>6285293328&#45;&gt;6285577104</title>\n<path fill=\"none\" stroke=\"black\" d=\"M233.93,-30.7C241.66,-29.11 250.31,-27.35 258.62,-25.65\"/>\n<polygon fill=\"black\" stroke=\"black\" points=\"259.07,-29.13 268.17,-23.69 257.67,-22.27 259.07,-29.13\"/>\n</g>\n<!-- 6285279504&#45;&gt;6285589152 -->\n<g id=\"edge13\" class=\"edge\">\n<title>6285279504&#45;&gt;6285589152</title>\n<path fill=\"none\" stroke=\"black\" d=\"M412.51,-97.97C420.76,-94.6 430.14,-90.76 439.12,-87.09\"/>\n<polygon fill=\"black\" stroke=\"black\" points=\"440.44,-90.33 448.37,-83.3 437.79,-83.85 440.44,-90.33\"/>\n</g>\n<!-- 6285286176&#45;&gt;6285589152 -->\n<g id=\"edge14\" class=\"edge\">\n<title>6285286176&#45;&gt;6285589152</title>\n<path fill=\"none\" stroke=\"black\" d=\"M412.51,-46.03C420.76,-49.4 430.14,-53.24 439.12,-56.91\"/>\n<polygon fill=\"black\" stroke=\"black\" points=\"437.79,-60.15 448.37,-60.7 440.44,-53.67 437.79,-60.15\"/>\n</g>\n</g>\n</svg>\n",
      "text/plain": [
       "<graphviz.graphs.Digraph at 0x176a1e840>"
      ]
     },
     "execution_count": 39,
     "metadata": {},
     "output_type": "execute_result"
    }
   ],
   "execution_count": 39
  },
  {
   "metadata": {
    "ExecuteTime": {
     "end_time": "2024-06-22T10:44:45.182929Z",
     "start_time": "2024-06-22T10:44:44.969920Z"
    }
   },
   "cell_type": "code",
   "source": [
    "net, start, end = pm4py.discover_petri_net_alpha(utils.import_csv(\"../shared/example_files/slides-example.csv\"))\n",
    "pm4py.view_petri_net(net, start, end)"
   ],
   "id": "bbf916ae07a6ce0c",
   "outputs": [
    {
     "data": {
      "image/png": "[encoded data removed]",
      "text/plain": [
       "<IPython.core.display.Image object>"
      ]
     },
     "metadata": {},
     "output_type": "display_data"
    }
   ],
   "execution_count": 40
  },
  {
   "cell_type": "markdown",
   "id": "fec5ca2807a520de",
   "metadata": {},
   "source": [
    "## Extended Example\n",
    "A slightly more complex example of an event log"
   ]
  },
  {
   "cell_type": "code",
   "id": "e1052ffbaffa23ec",
   "metadata": {
    "ExecuteTime": {
     "end_time": "2024-06-22T10:44:45.236389Z",
     "start_time": "2024-06-22T10:44:45.183884Z"
    }
   },
   "source": "utils.import_xes(\"../shared/example_files/running-example.xes\").head()",
   "outputs": [
    {
     "data": {
      "text/plain": [
       "parsing log, completed traces ::   0%|          | 0/6 [00:00<?, ?it/s]"
      ],
      "application/vnd.jupyter.widget-view+json": {
       "version_major": 2,
       "version_minor": 0,
       "model_id": "4b0f13ca34bd488ab6f423b4cb013921"
      }
     },
     "metadata": {},
     "output_type": "display_data"
    },
    {
     "data": {
      "text/plain": [
       "         concept:name            time:timestamp  cost:total org:resource  \\\n",
       "0    register request 2010-12-30 11:02:00+00:00          50         Pete   \n",
       "1  examine thoroughly 2010-12-31 10:06:00+00:00         400          Sue   \n",
       "2        check ticket 2011-01-05 15:12:00+00:00         100         Mike   \n",
       "3              decide 2011-01-06 11:18:00+00:00         200         Sara   \n",
       "4      reject request 2011-01-07 14:24:00+00:00         200         Pete   \n",
       "\n",
       "   @@index case:concept:name  \n",
       "0       14                 1  \n",
       "1       15                 1  \n",
       "2       16                 1  \n",
       "3       17                 1  \n",
       "4       18                 1  "
      ],
      "text/html": [
       "<div>\n",
       "<style scoped>\n",
       "    .dataframe tbody tr th:only-of-type {\n",
       "        vertical-align: middle;\n",
       "    }\n",
       "\n",
       "    .dataframe tbody tr th {\n",
       "        vertical-align: top;\n",
       "    }\n",
       "\n",
       "    .dataframe thead th {\n",
       "        text-align: right;\n",
       "    }\n",
       "</style>\n",
       "<table border=\"1\" class=\"dataframe\">\n",
       "  <thead>\n",
       "    <tr style=\"text-align: right;\">\n",
       "      <th></th>\n",
       "      <th>concept:name</th>\n",
       "      <th>time:timestamp</th>\n",
       "      <th>cost:total</th>\n",
       "      <th>org:resource</th>\n",
       "      <th>@@index</th>\n",
       "      <th>case:concept:name</th>\n",
       "    </tr>\n",
       "  </thead>\n",
       "  <tbody>\n",
       "    <tr>\n",
       "      <th>0</th>\n",
       "      <td>register request</td>\n",
       "      <td>2010-12-30 11:02:00+00:00</td>\n",
       "      <td>50</td>\n",
       "      <td>Pete</td>\n",
       "      <td>14</td>\n",
       "      <td>1</td>\n",
       "    </tr>\n",
       "    <tr>\n",
       "      <th>1</th>\n",
       "      <td>examine thoroughly</td>\n",
       "      <td>2010-12-31 10:06:00+00:00</td>\n",
       "      <td>400</td>\n",
       "      <td>Sue</td>\n",
       "      <td>15</td>\n",
       "      <td>1</td>\n",
       "    </tr>\n",
       "    <tr>\n",
       "      <th>2</th>\n",
       "      <td>check ticket</td>\n",
       "      <td>2011-01-05 15:12:00+00:00</td>\n",
       "      <td>100</td>\n",
       "      <td>Mike</td>\n",
       "      <td>16</td>\n",
       "      <td>1</td>\n",
       "    </tr>\n",
       "    <tr>\n",
       "      <th>3</th>\n",
       "      <td>decide</td>\n",
       "      <td>2011-01-06 11:18:00+00:00</td>\n",
       "      <td>200</td>\n",
       "      <td>Sara</td>\n",
       "      <td>17</td>\n",
       "      <td>1</td>\n",
       "    </tr>\n",
       "    <tr>\n",
       "      <th>4</th>\n",
       "      <td>reject request</td>\n",
       "      <td>2011-01-07 14:24:00+00:00</td>\n",
       "      <td>200</td>\n",
       "      <td>Pete</td>\n",
       "      <td>18</td>\n",
       "      <td>1</td>\n",
       "    </tr>\n",
       "  </tbody>\n",
       "</table>\n",
       "</div>"
      ]
     },
     "execution_count": 41,
     "metadata": {},
     "output_type": "execute_result"
    }
   ],
   "execution_count": 41
  },
  {
   "cell_type": "code",
   "id": "2d08587a2aeae1db",
   "metadata": {
    "ExecuteTime": {
     "end_time": "2024-06-22T10:44:45.284786Z",
     "start_time": "2024-06-22T10:44:45.238758Z"
    }
   },
   "source": [
    "miner_extended = AlphaMiner(\"../shared/example_files/running-example.xes\")\n",
    "miner_extended.event_log.head()"
   ],
   "outputs": [
    {
     "data": {
      "text/plain": [
       "parsing log, completed traces ::   0%|          | 0/6 [00:00<?, ?it/s]"
      ],
      "application/vnd.jupyter.widget-view+json": {
       "version_major": 2,
       "version_minor": 0,
       "model_id": "ff4c19419a20485ba2464370075af5e1"
      }
     },
     "metadata": {},
     "output_type": "display_data"
    },
    {
     "data": {
      "text/plain": [
       "  case_id            activity  activity_id\n",
       "0       1    register request            5\n",
       "1       1  examine thoroughly            3\n",
       "2       1        check ticket            0\n",
       "3       1              decide            1\n",
       "4       1      reject request            7"
      ],
      "text/html": [
       "<div>\n",
       "<style scoped>\n",
       "    .dataframe tbody tr th:only-of-type {\n",
       "        vertical-align: middle;\n",
       "    }\n",
       "\n",
       "    .dataframe tbody tr th {\n",
       "        vertical-align: top;\n",
       "    }\n",
       "\n",
       "    .dataframe thead th {\n",
       "        text-align: right;\n",
       "    }\n",
       "</style>\n",
       "<table border=\"1\" class=\"dataframe\">\n",
       "  <thead>\n",
       "    <tr style=\"text-align: right;\">\n",
       "      <th></th>\n",
       "      <th>case_id</th>\n",
       "      <th>activity</th>\n",
       "      <th>activity_id</th>\n",
       "    </tr>\n",
       "  </thead>\n",
       "  <tbody>\n",
       "    <tr>\n",
       "      <th>0</th>\n",
       "      <td>1</td>\n",
       "      <td>register request</td>\n",
       "      <td>5</td>\n",
       "    </tr>\n",
       "    <tr>\n",
       "      <th>1</th>\n",
       "      <td>1</td>\n",
       "      <td>examine thoroughly</td>\n",
       "      <td>3</td>\n",
       "    </tr>\n",
       "    <tr>\n",
       "      <th>2</th>\n",
       "      <td>1</td>\n",
       "      <td>check ticket</td>\n",
       "      <td>0</td>\n",
       "    </tr>\n",
       "    <tr>\n",
       "      <th>3</th>\n",
       "      <td>1</td>\n",
       "      <td>decide</td>\n",
       "      <td>1</td>\n",
       "    </tr>\n",
       "    <tr>\n",
       "      <th>4</th>\n",
       "      <td>1</td>\n",
       "      <td>reject request</td>\n",
       "      <td>7</td>\n",
       "    </tr>\n",
       "  </tbody>\n",
       "</table>\n",
       "</div>"
      ]
     },
     "execution_count": 42,
     "metadata": {},
     "output_type": "execute_result"
    }
   ],
   "execution_count": 42
  },
  {
   "cell_type": "markdown",
   "id": "1c48938b6565943",
   "metadata": {},
   "source": [
    "### 1. Event Log to Footprint Matrix\n",
    "\n",
    "Steps 1-4 of the Alpha algorithm"
   ]
  },
  {
   "cell_type": "code",
   "id": "8b34ff12a62c27f3",
   "metadata": {
    "ExecuteTime": {
     "end_time": "2024-06-22T10:44:45.328368Z",
     "start_time": "2024-06-22T10:44:45.285499Z"
    }
   },
   "source": [
    "miner_extended.footprint_matrix()"
   ],
   "outputs": [
    {
     "data": {
      "text/plain": [
       "                   check ticket decide examine casually examine thoroughly  \\\n",
       "check ticket                  #      →               ||                 ||   \n",
       "decide                        ←      #                ←                  ←   \n",
       "examine casually             ||      →                #                  #   \n",
       "examine thoroughly           ||      →                #                  #   \n",
       "pay compensation              #      ←                #                  #   \n",
       "register request              →      #                →                  →   \n",
       "reinitiate request            →      ←                →                  →   \n",
       "reject request                #      ←                #                  #   \n",
       "\n",
       "                   pay compensation register request reinitiate request  \\\n",
       "check ticket                      #                ←                  ←   \n",
       "decide                            →                #                  →   \n",
       "examine casually                  #                ←                  ←   \n",
       "examine thoroughly                #                ←                  ←   \n",
       "pay compensation                  #                #                  #   \n",
       "register request                  #                #                  #   \n",
       "reinitiate request                #                #                  #   \n",
       "reject request                    #                #                  #   \n",
       "\n",
       "                   reject request  \n",
       "check ticket                    #  \n",
       "decide                          →  \n",
       "examine casually                #  \n",
       "examine thoroughly              #  \n",
       "pay compensation                #  \n",
       "register request                #  \n",
       "reinitiate request              #  \n",
       "reject request                  #  "
      ],
      "text/html": [
       "<div>\n",
       "<style scoped>\n",
       "    .dataframe tbody tr th:only-of-type {\n",
       "        vertical-align: middle;\n",
       "    }\n",
       "\n",
       "    .dataframe tbody tr th {\n",
       "        vertical-align: top;\n",
       "    }\n",
       "\n",
       "    .dataframe thead th {\n",
       "        text-align: right;\n",
       "    }\n",
       "</style>\n",
       "<table border=\"1\" class=\"dataframe\">\n",
       "  <thead>\n",
       "    <tr style=\"text-align: right;\">\n",
       "      <th></th>\n",
       "      <th>check ticket</th>\n",
       "      <th>decide</th>\n",
       "      <th>examine casually</th>\n",
       "      <th>examine thoroughly</th>\n",
       "      <th>pay compensation</th>\n",
       "      <th>register request</th>\n",
       "      <th>reinitiate request</th>\n",
       "      <th>reject request</th>\n",
       "    </tr>\n",
       "  </thead>\n",
       "  <tbody>\n",
       "    <tr>\n",
       "      <th>check ticket</th>\n",
       "      <td>#</td>\n",
       "      <td>→</td>\n",
       "      <td>||</td>\n",
       "      <td>||</td>\n",
       "      <td>#</td>\n",
       "      <td>←</td>\n",
       "      <td>←</td>\n",
       "      <td>#</td>\n",
       "    </tr>\n",
       "    <tr>\n",
       "      <th>decide</th>\n",
       "      <td>←</td>\n",
       "      <td>#</td>\n",
       "      <td>←</td>\n",
       "      <td>←</td>\n",
       "      <td>→</td>\n",
       "      <td>#</td>\n",
       "      <td>→</td>\n",
       "      <td>→</td>\n",
       "    </tr>\n",
       "    <tr>\n",
       "      <th>examine casually</th>\n",
       "      <td>||</td>\n",
       "      <td>→</td>\n",
       "      <td>#</td>\n",
       "      <td>#</td>\n",
       "      <td>#</td>\n",
       "      <td>←</td>\n",
       "      <td>←</td>\n",
       "      <td>#</td>\n",
       "    </tr>\n",
       "    <tr>\n",
       "      <th>examine thoroughly</th>\n",
       "      <td>||</td>\n",
       "      <td>→</td>\n",
       "      <td>#</td>\n",
       "      <td>#</td>\n",
       "      <td>#</td>\n",
       "      <td>←</td>\n",
       "      <td>←</td>\n",
       "      <td>#</td>\n",
       "    </tr>\n",
       "    <tr>\n",
       "      <th>pay compensation</th>\n",
       "      <td>#</td>\n",
       "      <td>←</td>\n",
       "      <td>#</td>\n",
       "      <td>#</td>\n",
       "      <td>#</td>\n",
       "      <td>#</td>\n",
       "      <td>#</td>\n",
       "      <td>#</td>\n",
       "    </tr>\n",
       "    <tr>\n",
       "      <th>register request</th>\n",
       "      <td>→</td>\n",
       "      <td>#</td>\n",
       "      <td>→</td>\n",
       "      <td>→</td>\n",
       "      <td>#</td>\n",
       "      <td>#</td>\n",
       "      <td>#</td>\n",
       "      <td>#</td>\n",
       "    </tr>\n",
       "    <tr>\n",
       "      <th>reinitiate request</th>\n",
       "      <td>→</td>\n",
       "      <td>←</td>\n",
       "      <td>→</td>\n",
       "      <td>→</td>\n",
       "      <td>#</td>\n",
       "      <td>#</td>\n",
       "      <td>#</td>\n",
       "      <td>#</td>\n",
       "    </tr>\n",
       "    <tr>\n",
       "      <th>reject request</th>\n",
       "      <td>#</td>\n",
       "      <td>←</td>\n",
       "      <td>#</td>\n",
       "      <td>#</td>\n",
       "      <td>#</td>\n",
       "      <td>#</td>\n",
       "      <td>#</td>\n",
       "      <td>#</td>\n",
       "    </tr>\n",
       "  </tbody>\n",
       "</table>\n",
       "</div>"
      ]
     },
     "execution_count": 43,
     "metadata": {},
     "output_type": "execute_result"
    }
   ],
   "execution_count": 43
  },
  {
   "cell_type": "code",
   "id": "65a175272d96454b",
   "metadata": {
    "ExecuteTime": {
     "end_time": "2024-06-22T10:44:45.363363Z",
     "start_time": "2024-06-22T10:44:45.328929Z"
    }
   },
   "source": [
    "footprints = miner_extended.discover_footprints()\n",
    "for key in footprints.keys():\n",
    "    print(f\"{key}: \\n{footprints[key]}\\n\")"
   ],
   "outputs": [
    {
     "name": "stdout",
     "output_type": "stream",
     "text": [
      "dfg: \n",
      "{('decide', 'reinitiate request'), ('examine thoroughly', 'decide'), ('register request', 'examine thoroughly'), ('examine casually', 'check ticket'), ('check ticket', 'examine casually'), ('reinitiate request', 'examine casually'), ('reinitiate request', 'check ticket'), ('check ticket', 'decide'), ('examine casually', 'decide'), ('check ticket', 'examine thoroughly'), ('decide', 'reject request'), ('examine thoroughly', 'check ticket'), ('register request', 'check ticket'), ('register request', 'examine casually'), ('decide', 'pay compensation'), ('reinitiate request', 'examine thoroughly')}\n",
      "\n",
      "sequence: \n",
      "{('decide', 'reinitiate request'), ('examine thoroughly', 'decide'), ('register request', 'examine thoroughly'), ('reinitiate request', 'examine casually'), ('reinitiate request', 'check ticket'), ('check ticket', 'decide'), ('examine casually', 'decide'), ('decide', 'reject request'), ('register request', 'check ticket'), ('register request', 'examine casually'), ('decide', 'pay compensation'), ('reinitiate request', 'examine thoroughly')}\n",
      "\n",
      "parallel: \n",
      "{('examine thoroughly', 'check ticket'), ('check ticket', 'examine thoroughly'), ('check ticket', 'examine casually'), ('examine casually', 'check ticket')}\n",
      "\n",
      "activities: \n",
      "{'pay compensation', 'decide', 'reject request', 'check ticket', 'reinitiate request', 'register request', 'examine thoroughly', 'examine casually'}\n",
      "\n",
      "start_activities: \n",
      "{'register request'}\n",
      "\n",
      "end_activities: \n",
      "{'pay compensation', 'reject request'}\n",
      "\n",
      "min_trace_length: \n",
      "5\n",
      "\n"
     ]
    }
   ],
   "execution_count": 44
  },
  {
   "cell_type": "code",
   "id": "8572d8156f62245d",
   "metadata": {
    "ExecuteTime": {
     "end_time": "2024-06-22T10:44:45.399097Z",
     "start_time": "2024-06-22T10:44:45.363977Z"
    }
   },
   "source": [
    "miner_extended.print_pairs()"
   ],
   "outputs": [
    {
     "name": "stdout",
     "output_type": "stream",
     "text": [
      "Following pairs:\n",
      "[({'check ticket'}, {'decide'}), ({'reinitiate request'}, {'examine casually'}), ({'examine casually'}, {'decide'}), ({'examine thoroughly'}, {'decide'}), ({'check ticket'}, {'examine thoroughly'}), ({'examine casually'}, {'check ticket'}), ({'decide'}, {'pay compensation'}), ({'examine thoroughly'}, {'check ticket'}), ({'check ticket'}, {'examine casually'}), ({'decide'}, {'reject request'}), ({'register request'}, {'check ticket'}), ({'reinitiate request'}, {'check ticket'}), ({'register request'}, {'examine thoroughly'}), ({'decide'}, {'reinitiate request'}), ({'reinitiate request'}, {'examine thoroughly'}), ({'register request'}, {'examine casually'})]\n",
      "\n",
      "Parallel pairs:\n",
      "[({'check ticket'}, {'examine thoroughly'}), ({'examine casually'}, {'check ticket'}), ({'examine thoroughly'}, {'check ticket'}), ({'check ticket'}, {'examine casually'})]\n",
      "\n",
      "Sequential pairs:\n",
      "[({'check ticket'}, {'decide'}), ({'reinitiate request'}, {'examine casually'}), ({'examine casually'}, {'decide'}), ({'examine thoroughly'}, {'decide'}), ({'decide'}, {'pay compensation'}), ({'decide'}, {'reject request'}), ({'register request'}, {'check ticket'}), ({'reinitiate request'}, {'check ticket'}), ({'register request'}, {'examine thoroughly'}), ({'decide'}, {'reinitiate request'}), ({'reinitiate request'}, {'examine thoroughly'}), ({'register request'}, {'examine casually'})]\n",
      "\n",
      "Not following pairs:\n",
      "[({'check ticket'}, {'check ticket'}), ({'check ticket'}, {'pay compensation'}), ({'check ticket'}, {'reject request'}), ({'decide'}, {'decide'}), ({'decide'}, {'register request'}), ({'examine casually'}, {'examine casually'}), ({'examine casually'}, {'examine thoroughly'}), ({'examine casually'}, {'pay compensation'}), ({'examine casually'}, {'reject request'}), ({'examine thoroughly'}, {'examine casually'}), ({'examine thoroughly'}, {'examine thoroughly'}), ({'examine thoroughly'}, {'pay compensation'}), ({'examine thoroughly'}, {'reject request'}), ({'pay compensation'}, {'check ticket'}), ({'pay compensation'}, {'examine casually'}), ({'pay compensation'}, {'examine thoroughly'}), ({'pay compensation'}, {'pay compensation'}), ({'pay compensation'}, {'register request'}), ({'pay compensation'}, {'reinitiate request'}), ({'pay compensation'}, {'reject request'}), ({'register request'}, {'decide'}), ({'register request'}, {'pay compensation'}), ({'register request'}, {'register request'}), ({'register request'}, {'reinitiate request'}), ({'register request'}, {'reject request'}), ({'reinitiate request'}, {'pay compensation'}), ({'reinitiate request'}, {'register request'}), ({'reinitiate request'}, {'reinitiate request'}), ({'reinitiate request'}, {'reject request'}), ({'reject request'}, {'check ticket'}), ({'reject request'}, {'examine casually'}), ({'reject request'}, {'examine thoroughly'}), ({'reject request'}, {'pay compensation'}), ({'reject request'}, {'register request'}), ({'reject request'}, {'reinitiate request'}), ({'reject request'}, {'reject request'})]\n",
      "\n",
      "Before pairs:\n",
      "[({'check ticket'}, {'register request'}), ({'check ticket'}, {'reinitiate request'}), ({'decide'}, {'check ticket'}), ({'decide'}, {'examine casually'}), ({'decide'}, {'examine thoroughly'}), ({'examine casually'}, {'register request'}), ({'examine casually'}, {'reinitiate request'}), ({'examine thoroughly'}, {'register request'}), ({'examine thoroughly'}, {'reinitiate request'}), ({'pay compensation'}, {'decide'}), ({'reinitiate request'}, {'decide'}), ({'reject request'}, {'decide'})]\n",
      "\n",
      "Maximal pairs:\n",
      "[({'decide'}, {'pay compensation', 'reinitiate request'}), ({'reinitiate request'}, {'examine thoroughly', 'examine casually'}), ({'check ticket'}, {'decide'}), ({'decide'}, {'reject request', 'reinitiate request'}), ({'reinitiate request', 'register request'}, {'check ticket'}), ({'reinitiate request', 'register request'}, {'examine thoroughly'}), ({'decide'}, {'pay compensation', 'reject request'}), ({'reinitiate request', 'register request'}, {'examine casually'}), ({'register request'}, {'examine thoroughly', 'examine casually'}), ({'examine thoroughly', 'examine casually'}, {'decide'})]\n",
      "\n"
     ]
    }
   ],
   "execution_count": 45
  },
  {
   "cell_type": "markdown",
   "id": "e1a69309ce8dac61",
   "metadata": {},
   "source": [
    "### 2. Footprint Matrix to Process Graph\n",
    "Steps 5-8 of the Alpha algorithm"
   ]
  },
  {
   "cell_type": "code",
   "id": "812dbd4a29c13d70",
   "metadata": {
    "ExecuteTime": {
     "end_time": "2024-06-22T10:44:45.433418Z",
     "start_time": "2024-06-22T10:44:45.399616Z"
    }
   },
   "source": [
    "miner_extended.get_maximal_pairs()"
   ],
   "outputs": [
    {
     "data": {
      "text/plain": [
       "[({'decide'}, {'pay compensation', 'reinitiate request'}),\n",
       " ({'reinitiate request'}, {'examine casually', 'examine thoroughly'}),\n",
       " ({'check ticket'}, {'decide'}),\n",
       " ({'decide'}, {'reinitiate request', 'reject request'}),\n",
       " ({'register request', 'reinitiate request'}, {'check ticket'}),\n",
       " ({'register request', 'reinitiate request'}, {'examine thoroughly'}),\n",
       " ({'decide'}, {'pay compensation', 'reject request'}),\n",
       " ({'register request', 'reinitiate request'}, {'examine casually'}),\n",
       " ({'register request'}, {'examine casually', 'examine thoroughly'}),\n",
       " ({'examine casually', 'examine thoroughly'}, {'decide'})]"
      ]
     },
     "execution_count": 46,
     "metadata": {},
     "output_type": "execute_result"
    }
   ],
   "execution_count": 46
  },
  {
   "cell_type": "code",
   "id": "8a24b45eddb01672",
   "metadata": {
    "ExecuteTime": {
     "end_time": "2024-06-22T10:44:45.612990Z",
     "start_time": "2024-06-22T10:44:45.434080Z"
    }
   },
   "source": [
    "miner_extended.build_and_visualize_petrinet()"
   ],
   "outputs": [
    {
     "data": {
      "image/svg+xml": "<?xml version=\"1.0\" encoding=\"UTF-8\" standalone=\"no\"?>\n<!DOCTYPE svg PUBLIC \"-//W3C//DTD SVG 1.1//EN\"\n \"http://www.w3.org/Graphics/SVG/1.1/DTD/svg11.dtd\">\n<!-- Generated by graphviz version 10.0.1 (20240210.2158)\n -->\n<!-- Title: Alpha Miner Petri Net Pages: 1 -->\n<svg width=\"1196pt\" height=\"602pt\"\n viewBox=\"0.00 0.00 1196.00 602.00\" xmlns=\"http://www.w3.org/2000/svg\" xmlns:xlink=\"http://www.w3.org/1999/xlink\">\n<g id=\"graph0\" class=\"graph\" transform=\"scale(1 1) rotate(0) translate(4 598)\">\n<title>Alpha Miner Petri Net</title>\n<polygon fill=\"white\" stroke=\"none\" points=\"-4,4 -4,-598 1192,-598 1192,4 -4,4\"/>\n<!-- 6285581568 -->\n<g id=\"node1\" class=\"node\">\n<title>6285581568</title>\n<polygon fill=\"none\" stroke=\"black\" points=\"423.5,-221 314.5,-221 314.5,-185 423.5,-185 423.5,-221\"/>\n<text text-anchor=\"middle\" x=\"369\" y=\"-198.72\" font-family=\"Arial\" font-size=\"12.00\">examine casually</text>\n</g>\n<!-- 6285842080 -->\n<g id=\"node15\" class=\"node\">\n<title>6285842080</title>\n<ellipse fill=\"none\" stroke=\"black\" cx=\"486.5\" cy=\"-203\" rx=\"27\" ry=\"27\"/>\n</g>\n<!-- 6285581568&#45;&gt;6285842080 -->\n<g id=\"edge5\" class=\"edge\">\n<title>6285581568&#45;&gt;6285842080</title>\n<path fill=\"none\" stroke=\"black\" d=\"M423.69,-203C431.91,-203 440.23,-203 448,-203\"/>\n<polygon fill=\"black\" stroke=\"black\" points=\"447.76,-206.5 457.76,-203 447.76,-199.5 447.76,-206.5\"/>\n</g>\n<!-- 6285843232 -->\n<g id=\"node2\" class=\"node\">\n<title>6285843232</title>\n<polygon fill=\"none\" stroke=\"black\" points=\"188.5,-248 90,-248 90,-212 188.5,-212 188.5,-248\"/>\n<text text-anchor=\"middle\" x=\"139.25\" y=\"-225.72\" font-family=\"Arial\" font-size=\"12.00\">register request</text>\n</g>\n<!-- 6285837712 -->\n<g id=\"node16\" class=\"node\">\n<title>6285837712</title>\n<ellipse fill=\"none\" stroke=\"black\" cx=\"251.5\" cy=\"-203\" rx=\"27\" ry=\"27\"/>\n</g>\n<!-- 6285843232&#45;&gt;6285837712 -->\n<g id=\"edge24\" class=\"edge\">\n<title>6285843232&#45;&gt;6285837712</title>\n<path fill=\"none\" stroke=\"black\" d=\"M188.93,-218.08C197.22,-216.05 205.71,-213.97 213.64,-212.03\"/>\n<polygon fill=\"black\" stroke=\"black\" points=\"214.4,-215.44 223.28,-209.67 212.74,-208.65 214.4,-215.44\"/>\n</g>\n<!-- 6285840256 -->\n<g id=\"node17\" class=\"node\">\n<title>6285840256</title>\n<ellipse fill=\"none\" stroke=\"black\" cx=\"910\" cy=\"-313\" rx=\"27\" ry=\"27\"/>\n</g>\n<!-- 6285843232&#45;&gt;6285840256 -->\n<g id=\"edge25\" class=\"edge\">\n<title>6285843232&#45;&gt;6285840256</title>\n<path fill=\"none\" stroke=\"black\" d=\"M188.91,-239.48C234.88,-247.6 305.85,-258 368,-258 368,-258 368,-258 667.5,-258 746.49,-258 766.94,-264.68 843,-286 853.51,-288.94 864.6,-293.06 874.63,-297.19\"/>\n<polygon fill=\"black\" stroke=\"black\" points=\"873.06,-300.33 883.63,-301.04 875.81,-293.89 873.06,-300.33\"/>\n</g>\n<!-- 6285837520 -->\n<g id=\"node18\" class=\"node\">\n<title>6285837520</title>\n<ellipse fill=\"none\" stroke=\"black\" cx=\"910\" cy=\"-567\" rx=\"27\" ry=\"27\"/>\n</g>\n<!-- 6285843232&#45;&gt;6285837520 -->\n<g id=\"edge26\" class=\"edge\">\n<title>6285843232&#45;&gt;6285837520</title>\n<path fill=\"none\" stroke=\"black\" d=\"M142.73,-248.25C153.75,-321.2 205.2,-588 368,-588 368,-588 368,-588 667.5,-588 740.05,-588 824.4,-578.48 871.76,-572.26\"/>\n<polygon fill=\"black\" stroke=\"black\" points=\"872.03,-575.75 881.48,-570.96 871.1,-568.81 872.03,-575.75\"/>\n</g>\n<!-- 6285842320 -->\n<g id=\"node19\" class=\"node\">\n<title>6285842320</title>\n<ellipse fill=\"none\" stroke=\"black\" cx=\"910\" cy=\"-93\" rx=\"27\" ry=\"27\"/>\n</g>\n<!-- 6285843232&#45;&gt;6285842320 -->\n<g id=\"edge27\" class=\"edge\">\n<title>6285843232&#45;&gt;6285842320</title>\n<path fill=\"none\" stroke=\"black\" d=\"M147.73,-211.57C171.23,-156.99 249.15,0 368,0 368,0 368,0 667.5,0 747.32,0 832.66,-44.79 877.42,-72.2\"/>\n<polygon fill=\"black\" stroke=\"black\" points=\"875.5,-75.13 885.84,-77.46 879.21,-69.19 875.5,-75.13\"/>\n</g>\n<!-- 6285839872 -->\n<g id=\"node3\" class=\"node\">\n<title>6285839872</title>\n<polygon fill=\"none\" stroke=\"black\" points=\"838.5,-331 734,-331 734,-295 838.5,-295 838.5,-331\"/>\n<text text-anchor=\"middle\" x=\"786.25\" y=\"-308.73\" font-family=\"Arial\" font-size=\"12.00\">reinitiate request</text>\n</g>\n<!-- 6285839872&#45;&gt;6285840256 -->\n<g id=\"edge28\" class=\"edge\">\n<title>6285839872&#45;&gt;6285840256</title>\n<path fill=\"none\" stroke=\"black\" d=\"M838.88,-313C849.69,-313 860.9,-313 871.09,-313\"/>\n<polygon fill=\"black\" stroke=\"black\" points=\"871,-316.5 881,-313 871,-309.5 871,-316.5\"/>\n</g>\n<!-- 6285839872&#45;&gt;6285837520 -->\n<g id=\"edge29\" class=\"edge\">\n<title>6285839872&#45;&gt;6285837520</title>\n<path fill=\"none\" stroke=\"black\" d=\"M807.83,-331.39C819.48,-342.71 833.56,-358.08 843,-374 858.88,-400.79 884.1,-481.88 898.32,-530.01\"/>\n<polygon fill=\"black\" stroke=\"black\" points=\"894.92,-530.84 901.09,-539.45 901.64,-528.87 894.92,-530.84\"/>\n</g>\n<!-- 6285839872&#45;&gt;6285842320 -->\n<g id=\"edge30\" class=\"edge\">\n<title>6285839872&#45;&gt;6285842320</title>\n<path fill=\"none\" stroke=\"black\" d=\"M794.67,-294.74C808.82,-260.8 841.62,-186.23 879,-129 880.65,-126.47 882.46,-123.91 884.34,-121.4\"/>\n<polygon fill=\"black\" stroke=\"black\" points=\"886.94,-123.75 890.38,-113.73 881.44,-119.42 886.94,-123.75\"/>\n</g>\n<!-- 6285842032 -->\n<g id=\"node20\" class=\"node\">\n<title>6285842032</title>\n<ellipse fill=\"none\" stroke=\"black\" cx=\"910\" cy=\"-165\" rx=\"27\" ry=\"27\"/>\n</g>\n<!-- 6285839872&#45;&gt;6285842032 -->\n<g id=\"edge31\" class=\"edge\">\n<title>6285839872&#45;&gt;6285842032</title>\n<path fill=\"none\" stroke=\"black\" d=\"M802.42,-294.55C823.1,-269.41 860.37,-224.11 884.9,-194.3\"/>\n<polygon fill=\"black\" stroke=\"black\" points=\"887.46,-196.7 891.11,-186.75 882.05,-192.25 887.46,-196.7\"/>\n</g>\n<!-- 6285284400 -->\n<g id=\"node4\" class=\"node\">\n<title>6285284400</title>\n<polygon fill=\"none\" stroke=\"black\" points=\"1076.62,-408 998.38,-408 998.38,-372 1076.62,-372 1076.62,-408\"/>\n<text text-anchor=\"middle\" x=\"1037.5\" y=\"-385.73\" font-family=\"Arial\" font-size=\"12.00\">check ticket</text>\n</g>\n<!-- 6285839968 -->\n<g id=\"node11\" class=\"node\">\n<title>6285839968</title>\n<ellipse fill=\"none\" stroke=\"black\" cx=\"1161\" cy=\"-451\" rx=\"27\" ry=\"27\"/>\n</g>\n<!-- 6285284400&#45;&gt;6285839968 -->\n<g id=\"edge1\" class=\"edge\">\n<title>6285284400&#45;&gt;6285839968</title>\n<path fill=\"none\" stroke=\"black\" d=\"M1075.28,-408.47C1091.56,-416.64 1110.56,-426.18 1126.44,-434.15\"/>\n<polygon fill=\"black\" stroke=\"black\" points=\"1124.5,-437.1 1135.01,-438.45 1127.64,-430.84 1124.5,-437.1\"/>\n</g>\n<!-- 6285281136 -->\n<g id=\"node5\" class=\"node\">\n<title>6285281136</title>\n<polygon fill=\"none\" stroke=\"black\" points=\"603.5,-403 549.5,-403 549.5,-367 603.5,-367 603.5,-403\"/>\n<text text-anchor=\"middle\" x=\"576.5\" y=\"-380.73\" font-family=\"Arial\" font-size=\"12.00\">decide</text>\n</g>\n<!-- 6285836992 -->\n<g id=\"node12\" class=\"node\">\n<title>6285836992</title>\n<ellipse fill=\"none\" stroke=\"black\" cx=\"666.5\" cy=\"-313\" rx=\"27\" ry=\"27\"/>\n</g>\n<!-- 6285281136&#45;&gt;6285836992 -->\n<g id=\"edge2\" class=\"edge\">\n<title>6285281136&#45;&gt;6285836992</title>\n<path fill=\"none\" stroke=\"black\" d=\"M599.71,-366.83C610.82,-357.74 624.42,-346.61 636.37,-336.84\"/>\n<polygon fill=\"black\" stroke=\"black\" points=\"638.42,-339.68 643.94,-330.64 633.98,-334.26 638.42,-339.68\"/>\n</g>\n<!-- 6285843376 -->\n<g id=\"node13\" class=\"node\">\n<title>6285843376</title>\n<ellipse fill=\"none\" stroke=\"black\" cx=\"666.5\" cy=\"-457\" rx=\"27\" ry=\"27\"/>\n</g>\n<!-- 6285281136&#45;&gt;6285843376 -->\n<g id=\"edge3\" class=\"edge\">\n<title>6285281136&#45;&gt;6285843376</title>\n<path fill=\"none\" stroke=\"black\" d=\"M599.71,-403.17C610.82,-412.26 624.42,-423.39 636.37,-433.16\"/>\n<polygon fill=\"black\" stroke=\"black\" points=\"633.98,-435.74 643.94,-439.36 638.42,-430.32 633.98,-435.74\"/>\n</g>\n<!-- 6285838672 -->\n<g id=\"node14\" class=\"node\">\n<title>6285838672</title>\n<ellipse fill=\"none\" stroke=\"black\" cx=\"666.5\" cy=\"-385\" rx=\"27\" ry=\"27\"/>\n</g>\n<!-- 6285281136&#45;&gt;6285838672 -->\n<g id=\"edge4\" class=\"edge\">\n<title>6285281136&#45;&gt;6285838672</title>\n<path fill=\"none\" stroke=\"black\" d=\"M603.9,-385C611.39,-385 619.68,-385 627.7,-385\"/>\n<polygon fill=\"black\" stroke=\"black\" points=\"627.6,-388.5 637.6,-385 627.6,-381.5 627.6,-388.5\"/>\n</g>\n<!-- 6285836464 -->\n<g id=\"node6\" class=\"node\">\n<title>6285836464</title>\n<polygon fill=\"none\" stroke=\"black\" points=\"843,-419 729.5,-419 729.5,-383 843,-383 843,-419\"/>\n<text text-anchor=\"middle\" x=\"786.25\" y=\"-396.73\" font-family=\"Arial\" font-size=\"12.00\">pay compensation</text>\n</g>\n<!-- 6285840976 -->\n<g id=\"node9\" class=\"node\">\n<title>6285840976</title>\n<ellipse fill=\"none\" stroke=\"black\" cx=\"910\" cy=\"-427\" rx=\"27\" ry=\"27\"/>\n<ellipse fill=\"none\" stroke=\"black\" cx=\"910\" cy=\"-427\" rx=\"31\" ry=\"31\"/>\n<text text-anchor=\"start\" x=\"900.25\" y=\"-414.98\" font-family=\"Arial\" font-size=\"32.00\">■</text>\n</g>\n<!-- 6285836464&#45;&gt;6285840976 -->\n<g id=\"edge23\" class=\"edge\">\n<title>6285836464&#45;&gt;6285840976</title>\n<path fill=\"none\" stroke=\"black\" d=\"M843.49,-413.01C851.78,-414.78 860.18,-416.58 868.08,-418.26\"/>\n<polygon fill=\"black\" stroke=\"black\" points=\"867.23,-421.66 877.74,-420.33 868.7,-414.81 867.23,-421.66\"/>\n</g>\n<!-- 6285574608 -->\n<g id=\"node7\" class=\"node\">\n<title>6285574608</title>\n<polygon fill=\"none\" stroke=\"black\" points=\"1098,-147 977,-147 977,-111 1098,-111 1098,-147\"/>\n<text text-anchor=\"middle\" x=\"1037.5\" y=\"-124.72\" font-family=\"Arial\" font-size=\"12.00\">examine thoroughly</text>\n</g>\n<!-- 6285574608&#45;&gt;6285842080 -->\n<g id=\"edge6\" class=\"edge\">\n<title>6285574608&#45;&gt;6285842080</title>\n<path fill=\"none\" stroke=\"black\" d=\"M1018.26,-147.49C1000.29,-164.46 971.22,-188.77 941,-201 877.17,-226.83 856.1,-220 787.25,-220 665.5,-220 665.5,-220 665.5,-220 616.83,-220 561.01,-213.62 525.06,-208.68\"/>\n<polygon fill=\"black\" stroke=\"black\" points=\"525.55,-205.22 515.16,-207.28 524.57,-212.15 525.55,-205.22\"/>\n</g>\n<!-- 6285837328 -->\n<g id=\"node8\" class=\"node\">\n<title>6285837328</title>\n<polygon fill=\"none\" stroke=\"black\" points=\"830.25,-473 742.25,-473 742.25,-437 830.25,-437 830.25,-473\"/>\n<text text-anchor=\"middle\" x=\"786.25\" y=\"-450.73\" font-family=\"Arial\" font-size=\"12.00\">reject request</text>\n</g>\n<!-- 6285837328&#45;&gt;6285840976 -->\n<g id=\"edge32\" class=\"edge\">\n<title>6285837328&#45;&gt;6285840976</title>\n<path fill=\"none\" stroke=\"black\" d=\"M830.52,-445.05C842.84,-442.21 856.23,-439.14 868.39,-436.34\"/>\n<polygon fill=\"black\" stroke=\"black\" points=\"869.17,-439.75 878.13,-434.1 867.6,-432.93 869.17,-439.75\"/>\n</g>\n<!-- 6285841216 -->\n<g id=\"node10\" class=\"node\">\n<title>6285841216</title>\n<ellipse fill=\"none\" stroke=\"black\" cx=\"27\" cy=\"-230\" rx=\"27\" ry=\"27\"/>\n<text text-anchor=\"start\" x=\"16.88\" y=\"-217.2\" font-family=\"Arial\" font-size=\"34.00\">●</text>\n</g>\n<!-- 6285841216&#45;&gt;6285843232 -->\n<g id=\"edge7\" class=\"edge\">\n<title>6285841216&#45;&gt;6285843232</title>\n<path fill=\"none\" stroke=\"black\" d=\"M54.41,-230C61.68,-230 69.87,-230 78.22,-230\"/>\n<polygon fill=\"black\" stroke=\"black\" points=\"78.11,-233.5 88.11,-230 78.11,-226.5 78.11,-233.5\"/>\n</g>\n<!-- 6285839968&#45;&gt;6285281136 -->\n<g id=\"edge8\" class=\"edge\">\n<title>6285839968&#45;&gt;6285281136</title>\n<path fill=\"none\" stroke=\"black\" d=\"M1135.74,-461.07C1091.76,-478.4 995.56,-512 911,-512 785.25,-512 785.25,-512 785.25,-512 719.92,-512 693.79,-529.33 639.5,-493 611.92,-474.55 595.12,-439.4 586.09,-414.21\"/>\n<polygon fill=\"black\" stroke=\"black\" points=\"589.46,-413.23 582.96,-404.86 582.82,-415.46 589.46,-413.23\"/>\n</g>\n<!-- 6285836992&#45;&gt;6285839872 -->\n<g id=\"edge10\" class=\"edge\">\n<title>6285836992&#45;&gt;6285839872</title>\n<path fill=\"none\" stroke=\"black\" d=\"M693.93,-313C702.5,-313 712.4,-313 722.46,-313\"/>\n<polygon fill=\"black\" stroke=\"black\" points=\"722.31,-316.5 732.31,-313 722.31,-309.5 722.31,-316.5\"/>\n</g>\n<!-- 6285836992&#45;&gt;6285836464 -->\n<g id=\"edge9\" class=\"edge\">\n<title>6285836992&#45;&gt;6285836464</title>\n<path fill=\"none\" stroke=\"black\" d=\"M688.82,-328.94C706.33,-342.02 731.44,-360.79 751.65,-375.89\"/>\n<polygon fill=\"black\" stroke=\"black\" points=\"749.51,-378.66 759.62,-381.84 753.7,-373.05 749.51,-378.66\"/>\n</g>\n<!-- 6285843376&#45;&gt;6285836464 -->\n<g id=\"edge11\" class=\"edge\">\n<title>6285843376&#45;&gt;6285836464</title>\n<path fill=\"none\" stroke=\"black\" d=\"M691.33,-445.67C704.34,-439.48 720.94,-431.59 736.55,-424.16\"/>\n<polygon fill=\"black\" stroke=\"black\" points=\"737.73,-427.48 745.26,-420.02 734.72,-421.15 737.73,-427.48\"/>\n</g>\n<!-- 6285843376&#45;&gt;6285837328 -->\n<g id=\"edge12\" class=\"edge\">\n<title>6285843376&#45;&gt;6285837328</title>\n<path fill=\"none\" stroke=\"black\" d=\"M693.93,-456.55C704.72,-456.37 717.64,-456.15 730.31,-455.93\"/>\n<polygon fill=\"black\" stroke=\"black\" points=\"730.36,-459.43 740.3,-455.76 730.24,-452.43 730.36,-459.43\"/>\n</g>\n<!-- 6285838672&#45;&gt;6285839872 -->\n<g id=\"edge13\" class=\"edge\">\n<title>6285838672&#45;&gt;6285839872</title>\n<path fill=\"none\" stroke=\"black\" d=\"M690.2,-371.12C705.84,-361.56 727.03,-348.6 745.44,-337.35\"/>\n<polygon fill=\"black\" stroke=\"black\" points=\"747.04,-340.46 753.75,-332.26 743.39,-334.49 747.04,-340.46\"/>\n</g>\n<!-- 6285838672&#45;&gt;6285837328 -->\n<g id=\"edge14\" class=\"edge\">\n<title>6285838672&#45;&gt;6285837328</title>\n<path fill=\"none\" stroke=\"black\" d=\"M688.77,-400.97C700.49,-409.46 715.47,-419.81 729.5,-428 731.38,-429.1 733.31,-430.19 735.28,-431.27\"/>\n<polygon fill=\"black\" stroke=\"black\" points=\"733.45,-434.27 743.92,-435.86 736.73,-428.08 733.45,-434.27\"/>\n</g>\n<!-- 6285842080&#45;&gt;6285281136 -->\n<g id=\"edge15\" class=\"edge\">\n<title>6285842080&#45;&gt;6285281136</title>\n<path fill=\"none\" stroke=\"black\" d=\"M499.19,-227.17C515.33,-260.55 544.41,-320.69 561.63,-356.31\"/>\n<polygon fill=\"black\" stroke=\"black\" points=\"558.4,-357.68 565.91,-365.16 564.71,-354.64 558.4,-357.68\"/>\n</g>\n<!-- 6285837712&#45;&gt;6285581568 -->\n<g id=\"edge16\" class=\"edge\">\n<title>6285837712&#45;&gt;6285581568</title>\n<path fill=\"none\" stroke=\"black\" d=\"M279,-203C286.23,-203 294.4,-203 302.79,-203\"/>\n<polygon fill=\"black\" stroke=\"black\" points=\"302.77,-206.5 312.77,-203 302.77,-199.5 302.77,-206.5\"/>\n</g>\n<!-- 6285837712&#45;&gt;6285574608 -->\n<g id=\"edge17\" class=\"edge\">\n<title>6285837712&#45;&gt;6285574608</title>\n<path fill=\"none\" stroke=\"black\" d=\"M268.1,-181.09C302.08,-136.21 387.6,-38 485.5,-38 485.5,-38 485.5,-38 787.25,-38 856.1,-38 877.17,-31.17 941,-57 966.97,-67.51 992.09,-86.94 1010.05,-102.97\"/>\n<polygon fill=\"black\" stroke=\"black\" points=\"1007.41,-105.3 1017.14,-109.49 1012.15,-100.14 1007.41,-105.3\"/>\n</g>\n<!-- 6285840256&#45;&gt;6285284400 -->\n<g id=\"edge18\" class=\"edge\">\n<title>6285840256&#45;&gt;6285284400</title>\n<path fill=\"none\" stroke=\"black\" d=\"M933.44,-326.77C951.09,-337.6 976.12,-352.95 997.09,-365.82\"/>\n<polygon fill=\"black\" stroke=\"black\" points=\"995.06,-368.68 1005.42,-370.93 998.72,-362.72 995.06,-368.68\"/>\n</g>\n<!-- 6285837520&#45;&gt;6285581568 -->\n<g id=\"edge19\" class=\"edge\">\n<title>6285837520&#45;&gt;6285581568</title>\n<path fill=\"none\" stroke=\"black\" d=\"M882.95,-563.96C838.73,-559.07 746.1,-550 667.5,-550 575.5,-550 575.5,-550 575.5,-550 428.35,-550 384.31,-316.13 373.25,-232.39\"/>\n<polygon fill=\"black\" stroke=\"black\" points=\"376.75,-232.16 372.04,-222.67 369.81,-233.03 376.75,-232.16\"/>\n</g>\n<!-- 6285842320&#45;&gt;6285574608 -->\n<g id=\"edge20\" class=\"edge\">\n<title>6285842320&#45;&gt;6285574608</title>\n<path fill=\"none\" stroke=\"black\" d=\"M936.4,-100.29C945.06,-102.77 955.22,-105.68 965.68,-108.69\"/>\n<polygon fill=\"black\" stroke=\"black\" points=\"964.62,-112.02 975.19,-111.41 966.55,-105.29 964.62,-112.02\"/>\n</g>\n<!-- 6285842032&#45;&gt;6285581568 -->\n<g id=\"edge21\" class=\"edge\">\n<title>6285842032&#45;&gt;6285581568</title>\n<path fill=\"none\" stroke=\"black\" d=\"M882.95,-161.96C838.73,-157.07 746.1,-148 667.5,-148 575.5,-148 575.5,-148 575.5,-148 523.26,-148 509.82,-152.94 459.5,-167 446.77,-170.55 433.39,-175.34 420.97,-180.25\"/>\n<polygon fill=\"black\" stroke=\"black\" points=\"419.68,-177 411.74,-184.01 422.32,-183.48 419.68,-177\"/>\n</g>\n<!-- 6285842032&#45;&gt;6285574608 -->\n<g id=\"edge22\" class=\"edge\">\n<title>6285842032&#45;&gt;6285574608</title>\n<path fill=\"none\" stroke=\"black\" d=\"M936.4,-157.71C945.06,-155.23 955.22,-152.32 965.68,-149.31\"/>\n<polygon fill=\"black\" stroke=\"black\" points=\"966.55,-152.71 975.19,-146.59 964.62,-145.98 966.55,-152.71\"/>\n</g>\n</g>\n</svg>\n",
      "text/plain": [
       "<graphviz.graphs.Digraph at 0x176aa5a60>"
      ]
     },
     "execution_count": 47,
     "metadata": {},
     "output_type": "execute_result"
    }
   ],
   "execution_count": 47
  },
  {
   "cell_type": "markdown",
   "id": "b8901085994eb673",
   "metadata": {},
   "source": [
    "## Limitations\n",
    "\n",
    "The algorithm has several limitations that are important to consider:\n",
    "\n",
    "- Implicit places (places that are redundant)\n",
    "- Loops of length 1 and 2\n",
    "- Non-local dependencies\n",
    "\n",
    "\n",
    "- Representational bias (cannot discover transitions with duplicate or invisible labels)\n",
    "- Discovered model does not need to be sound\n",
    "- Noise (infrequent behaviour/incorrectly recorded events)\n",
    "- Incompleteness (missing events)"
   ]
  },
  {
   "cell_type": "markdown",
   "id": "1a85773047bbb041",
   "metadata": {},
   "source": [
    "### Implicit Places\n",
    "The algorithm does not discover implicit places, which are places that are redundant in the model. For example, in the following event log, the Alpha algorithm would discover the following model:\n",
    "\n",
    "`{ACEG, AECG, BDFG, BFDG}`"
   ]
  },
  {
   "cell_type": "code",
   "id": "ded7e59dfcb5b511",
   "metadata": {
    "ExecuteTime": {
     "end_time": "2024-06-22T10:44:45.665140Z",
     "start_time": "2024-06-22T10:44:45.614269Z"
    }
   },
   "source": [
    "implicit_log = utils.event_log_to_csv([(\"a\", \"c\", \"e\", \"g\"), (\"a\", \"e\", \"c\", \"g\"), (\"b\", \"d\", \"f\", \"g\"), (\"b\", \"f\", \"d\", \"g\")])\n",
    "miner_implicit = AlphaMiner(implicit_log)\n",
    "miner_implicit.event_log.head()"
   ],
   "outputs": [
    {
     "data": {
      "text/plain": [
       "  case_id activity  activity_id\n",
       "0       1        a            0\n",
       "1       1        c            2\n",
       "2       1        e            4\n",
       "3       1        g            6\n",
       "4       2        a            0"
      ],
      "text/html": [
       "<div>\n",
       "<style scoped>\n",
       "    .dataframe tbody tr th:only-of-type {\n",
       "        vertical-align: middle;\n",
       "    }\n",
       "\n",
       "    .dataframe tbody tr th {\n",
       "        vertical-align: top;\n",
       "    }\n",
       "\n",
       "    .dataframe thead th {\n",
       "        text-align: right;\n",
       "    }\n",
       "</style>\n",
       "<table border=\"1\" class=\"dataframe\">\n",
       "  <thead>\n",
       "    <tr style=\"text-align: right;\">\n",
       "      <th></th>\n",
       "      <th>case_id</th>\n",
       "      <th>activity</th>\n",
       "      <th>activity_id</th>\n",
       "    </tr>\n",
       "  </thead>\n",
       "  <tbody>\n",
       "    <tr>\n",
       "      <th>0</th>\n",
       "      <td>1</td>\n",
       "      <td>a</td>\n",
       "      <td>0</td>\n",
       "    </tr>\n",
       "    <tr>\n",
       "      <th>1</th>\n",
       "      <td>1</td>\n",
       "      <td>c</td>\n",
       "      <td>2</td>\n",
       "    </tr>\n",
       "    <tr>\n",
       "      <th>2</th>\n",
       "      <td>1</td>\n",
       "      <td>e</td>\n",
       "      <td>4</td>\n",
       "    </tr>\n",
       "    <tr>\n",
       "      <th>3</th>\n",
       "      <td>1</td>\n",
       "      <td>g</td>\n",
       "      <td>6</td>\n",
       "    </tr>\n",
       "    <tr>\n",
       "      <th>4</th>\n",
       "      <td>2</td>\n",
       "      <td>a</td>\n",
       "      <td>0</td>\n",
       "    </tr>\n",
       "  </tbody>\n",
       "</table>\n",
       "</div>"
      ]
     },
     "execution_count": 48,
     "metadata": {},
     "output_type": "execute_result"
    }
   ],
   "execution_count": 48
  },
  {
   "cell_type": "code",
   "id": "da7979cdbb3d91cc",
   "metadata": {
    "ExecuteTime": {
     "end_time": "2024-06-22T10:44:45.707289Z",
     "start_time": "2024-06-22T10:44:45.665795Z"
    }
   },
   "source": [
    "print(miner_implicit.footprint_matrix())"
   ],
   "outputs": [
    {
     "name": "stdout",
     "output_type": "stream",
     "text": [
      "   a  b   c   d   e   f  g\n",
      "a  #  #   →   #   →   #  #\n",
      "b  #  #   #   →   #   →  #\n",
      "c  ←  #   #   #  ||   #  →\n",
      "d  #  ←   #   #   #  ||  →\n",
      "e  ←  #  ||   #   #   #  →\n",
      "f  #  ←   #  ||   #   #  →\n",
      "g  #  #   ←   ←   ←   ←  #\n"
     ]
    }
   ],
   "execution_count": 49
  },
  {
   "cell_type": "code",
   "id": "3221a2bb01bc935b",
   "metadata": {
    "ExecuteTime": {
     "end_time": "2024-06-22T10:44:45.747353Z",
     "start_time": "2024-06-22T10:44:45.708072Z"
    }
   },
   "source": [
    "miner_implicit.print_pairs()"
   ],
   "outputs": [
    {
     "name": "stdout",
     "output_type": "stream",
     "text": [
      "Following pairs:\n",
      "[({'c'}, {'e'}), ({'a'}, {'e'}), ({'b'}, {'f'}), ({'e'}, {'g'}), ({'e'}, {'c'}), ({'a'}, {'c'}), ({'c'}, {'g'}), ({'f'}, {'g'}), ({'d'}, {'g'}), ({'f'}, {'d'}), ({'b'}, {'d'}), ({'d'}, {'f'})]\n",
      "\n",
      "Parallel pairs:\n",
      "[({'c'}, {'e'}), ({'e'}, {'c'}), ({'f'}, {'d'}), ({'d'}, {'f'})]\n",
      "\n",
      "Sequential pairs:\n",
      "[({'a'}, {'e'}), ({'b'}, {'f'}), ({'e'}, {'g'}), ({'a'}, {'c'}), ({'c'}, {'g'}), ({'f'}, {'g'}), ({'d'}, {'g'}), ({'b'}, {'d'})]\n",
      "\n",
      "Not following pairs:\n",
      "[({'a'}, {'a'}), ({'a'}, {'b'}), ({'a'}, {'d'}), ({'a'}, {'f'}), ({'a'}, {'g'}), ({'b'}, {'a'}), ({'b'}, {'b'}), ({'b'}, {'c'}), ({'b'}, {'e'}), ({'b'}, {'g'}), ({'c'}, {'b'}), ({'c'}, {'c'}), ({'c'}, {'d'}), ({'c'}, {'f'}), ({'d'}, {'a'}), ({'d'}, {'c'}), ({'d'}, {'d'}), ({'d'}, {'e'}), ({'e'}, {'b'}), ({'e'}, {'d'}), ({'e'}, {'e'}), ({'e'}, {'f'}), ({'f'}, {'a'}), ({'f'}, {'c'}), ({'f'}, {'e'}), ({'f'}, {'f'}), ({'g'}, {'a'}), ({'g'}, {'b'}), ({'g'}, {'g'})]\n",
      "\n",
      "Before pairs:\n",
      "[({'c'}, {'a'}), ({'d'}, {'b'}), ({'e'}, {'a'}), ({'f'}, {'b'}), ({'g'}, {'c'}), ({'g'}, {'d'}), ({'g'}, {'e'}), ({'g'}, {'f'})]\n",
      "\n",
      "Maximal pairs:\n",
      "[({'a'}, {'e'}), ({'b'}, {'f'}), ({'c', 'd'}, {'g'}), ({'e', 'f'}, {'g'}), ({'e', 'd'}, {'g'}), ({'a'}, {'c'}), ({'c', 'f'}, {'g'}), ({'b'}, {'d'})]\n",
      "\n"
     ]
    }
   ],
   "execution_count": 50
  },
  {
   "cell_type": "code",
   "id": "1ae102d5a9ec40ee",
   "metadata": {
    "ExecuteTime": {
     "end_time": "2024-06-22T10:44:45.985435Z",
     "start_time": "2024-06-22T10:44:45.748243Z"
    }
   },
   "source": [
    "miner_implicit.build_and_visualize_petrinet()"
   ],
   "outputs": [
    {
     "data": {
      "image/svg+xml": "<?xml version=\"1.0\" encoding=\"UTF-8\" standalone=\"no\"?>\n<!DOCTYPE svg PUBLIC \"-//W3C//DTD SVG 1.1//EN\"\n \"http://www.w3.org/Graphics/SVG/1.1/DTD/svg11.dtd\">\n<!-- Generated by graphviz version 10.0.1 (20240210.2158)\n -->\n<!-- Title: Alpha Miner Petri Net Pages: 1 -->\n<svg width=\"610pt\" height=\"278pt\"\n viewBox=\"0.00 0.00 610.00 278.00\" xmlns=\"http://www.w3.org/2000/svg\" xmlns:xlink=\"http://www.w3.org/1999/xlink\">\n<g id=\"graph0\" class=\"graph\" transform=\"scale(1 1) rotate(0) translate(4 274)\">\n<title>Alpha Miner Petri Net</title>\n<polygon fill=\"white\" stroke=\"none\" points=\"-4,4 -4,-274 606,-274 606,4 -4,4\"/>\n<!-- 6284961472 -->\n<g id=\"node1\" class=\"node\">\n<title>6284961472</title>\n<polygon fill=\"none\" stroke=\"black\" points=\"144,-117 90,-117 90,-81 144,-81 144,-117\"/>\n<text text-anchor=\"middle\" x=\"117\" y=\"-94.72\" font-family=\"Arial\" font-size=\"12.00\">a</text>\n</g>\n<!-- 6285849904 -->\n<g id=\"node10\" class=\"node\">\n<title>6285849904</title>\n<ellipse fill=\"none\" stroke=\"black\" cx=\"207\" cy=\"-99\" rx=\"27\" ry=\"27\"/>\n</g>\n<!-- 6284961472&#45;&gt;6285849904 -->\n<g id=\"edge1\" class=\"edge\">\n<title>6284961472&#45;&gt;6285849904</title>\n<path fill=\"none\" stroke=\"black\" d=\"M144.4,-99C151.89,-99 160.18,-99 168.2,-99\"/>\n<polygon fill=\"black\" stroke=\"black\" points=\"168.1,-102.5 178.1,-99 168.1,-95.5 168.1,-102.5\"/>\n</g>\n<!-- 6285848368 -->\n<g id=\"node11\" class=\"node\">\n<title>6285848368</title>\n<ellipse fill=\"none\" stroke=\"black\" cx=\"207\" cy=\"-27\" rx=\"27\" ry=\"27\"/>\n</g>\n<!-- 6284961472&#45;&gt;6285848368 -->\n<g id=\"edge2\" class=\"edge\">\n<title>6284961472&#45;&gt;6285848368</title>\n<path fill=\"none\" stroke=\"black\" d=\"M140.21,-80.83C151.32,-71.74 164.92,-60.61 176.87,-50.84\"/>\n<polygon fill=\"black\" stroke=\"black\" points=\"178.92,-53.68 184.44,-44.64 174.48,-48.26 178.92,-53.68\"/>\n</g>\n<!-- 6285848320 -->\n<g id=\"node2\" class=\"node\">\n<title>6285848320</title>\n<polygon fill=\"none\" stroke=\"black\" points=\"144,-189 90,-189 90,-153 144,-153 144,-189\"/>\n<text text-anchor=\"middle\" x=\"117\" y=\"-166.72\" font-family=\"Arial\" font-size=\"12.00\">b</text>\n</g>\n<!-- 6285848704 -->\n<g id=\"node12\" class=\"node\">\n<title>6285848704</title>\n<ellipse fill=\"none\" stroke=\"black\" cx=\"207\" cy=\"-171\" rx=\"27\" ry=\"27\"/>\n</g>\n<!-- 6285848320&#45;&gt;6285848704 -->\n<g id=\"edge3\" class=\"edge\">\n<title>6285848320&#45;&gt;6285848704</title>\n<path fill=\"none\" stroke=\"black\" d=\"M144.4,-171C151.89,-171 160.18,-171 168.2,-171\"/>\n<polygon fill=\"black\" stroke=\"black\" points=\"168.1,-174.5 178.1,-171 168.1,-167.5 168.1,-174.5\"/>\n</g>\n<!-- 6285848896 -->\n<g id=\"node13\" class=\"node\">\n<title>6285848896</title>\n<ellipse fill=\"none\" stroke=\"black\" cx=\"207\" cy=\"-243\" rx=\"27\" ry=\"27\"/>\n</g>\n<!-- 6285848320&#45;&gt;6285848896 -->\n<g id=\"edge4\" class=\"edge\">\n<title>6285848320&#45;&gt;6285848896</title>\n<path fill=\"none\" stroke=\"black\" d=\"M140.21,-189.17C151.32,-198.26 164.92,-209.39 176.87,-219.16\"/>\n<polygon fill=\"black\" stroke=\"black\" points=\"174.48,-221.74 184.44,-225.36 178.92,-216.32 174.48,-221.74\"/>\n</g>\n<!-- 6285845440 -->\n<g id=\"node3\" class=\"node\">\n<title>6285845440</title>\n<polygon fill=\"none\" stroke=\"black\" points=\"324,-198 270,-198 270,-162 324,-162 324,-198\"/>\n<text text-anchor=\"middle\" x=\"297\" y=\"-175.72\" font-family=\"Arial\" font-size=\"12.00\">c</text>\n</g>\n<!-- 6285848800 -->\n<g id=\"node14\" class=\"node\">\n<title>6285848800</title>\n<ellipse fill=\"none\" stroke=\"black\" cx=\"387\" cy=\"-171\" rx=\"27\" ry=\"27\"/>\n</g>\n<!-- 6285845440&#45;&gt;6285848800 -->\n<g id=\"edge5\" class=\"edge\">\n<title>6285845440&#45;&gt;6285848800</title>\n<path fill=\"none\" stroke=\"black\" d=\"M324.4,-177.3C332.04,-176.52 340.53,-175.65 348.7,-174.81\"/>\n<polygon fill=\"black\" stroke=\"black\" points=\"348.82,-178.32 358.41,-173.82 348.11,-171.36 348.82,-178.32\"/>\n</g>\n<!-- 6285850192 -->\n<g id=\"node15\" class=\"node\">\n<title>6285850192</title>\n<ellipse fill=\"none\" stroke=\"black\" cx=\"387\" cy=\"-243\" rx=\"27\" ry=\"27\"/>\n</g>\n<!-- 6285845440&#45;&gt;6285850192 -->\n<g id=\"edge6\" class=\"edge\">\n<title>6285845440&#45;&gt;6285850192</title>\n<path fill=\"none\" stroke=\"black\" d=\"M323.45,-198.22C333.4,-205.34 344.9,-213.58 355.3,-221.02\"/>\n<polygon fill=\"black\" stroke=\"black\" points=\"353.07,-223.73 363.24,-226.71 357.15,-218.04 353.07,-223.73\"/>\n</g>\n<!-- 6285848416 -->\n<g id=\"node4\" class=\"node\">\n<title>6285848416</title>\n<polygon fill=\"none\" stroke=\"black\" points=\"504,-153 450,-153 450,-117 504,-117 504,-153\"/>\n<text text-anchor=\"middle\" x=\"477\" y=\"-130.72\" font-family=\"Arial\" font-size=\"12.00\">g</text>\n</g>\n<!-- 6285850864 -->\n<g id=\"node8\" class=\"node\">\n<title>6285850864</title>\n<ellipse fill=\"none\" stroke=\"black\" cx=\"571\" cy=\"-135\" rx=\"27\" ry=\"27\"/>\n<ellipse fill=\"none\" stroke=\"black\" cx=\"571\" cy=\"-135\" rx=\"31\" ry=\"31\"/>\n<text text-anchor=\"start\" x=\"561.25\" y=\"-122.97\" font-family=\"Arial\" font-size=\"32.00\">■</text>\n</g>\n<!-- 6285848416&#45;&gt;6285850864 -->\n<g id=\"edge13\" class=\"edge\">\n<title>6285848416&#45;&gt;6285850864</title>\n<path fill=\"none\" stroke=\"black\" d=\"M504.12,-135C511.63,-135 520.01,-135 528.22,-135\"/>\n<polygon fill=\"black\" stroke=\"black\" points=\"528.08,-138.5 538.08,-135 528.08,-131.5 528.08,-138.5\"/>\n</g>\n<!-- 6285849808 -->\n<g id=\"node5\" class=\"node\">\n<title>6285849808</title>\n<polygon fill=\"none\" stroke=\"black\" points=\"324,-45 270,-45 270,-9 324,-9 324,-45\"/>\n<text text-anchor=\"middle\" x=\"297\" y=\"-22.73\" font-family=\"Arial\" font-size=\"12.00\">e</text>\n</g>\n<!-- 6285850528 -->\n<g id=\"node16\" class=\"node\">\n<title>6285850528</title>\n<ellipse fill=\"none\" stroke=\"black\" cx=\"387\" cy=\"-27\" rx=\"27\" ry=\"27\"/>\n</g>\n<!-- 6285849808&#45;&gt;6285850528 -->\n<g id=\"edge9\" class=\"edge\">\n<title>6285849808&#45;&gt;6285850528</title>\n<path fill=\"none\" stroke=\"black\" d=\"M324.4,-27C331.89,-27 340.18,-27 348.2,-27\"/>\n<polygon fill=\"black\" stroke=\"black\" points=\"348.1,-30.5 358.1,-27 348.1,-23.5 348.1,-30.5\"/>\n</g>\n<!-- 6285849184 -->\n<g id=\"node17\" class=\"node\">\n<title>6285849184</title>\n<ellipse fill=\"none\" stroke=\"black\" cx=\"387\" cy=\"-99\" rx=\"27\" ry=\"27\"/>\n</g>\n<!-- 6285849808&#45;&gt;6285849184 -->\n<g id=\"edge10\" class=\"edge\">\n<title>6285849808&#45;&gt;6285849184</title>\n<path fill=\"none\" stroke=\"black\" d=\"M320.21,-45.17C331.32,-54.26 344.92,-65.39 356.87,-75.16\"/>\n<polygon fill=\"black\" stroke=\"black\" points=\"354.48,-77.74 364.44,-81.36 358.92,-72.32 354.48,-77.74\"/>\n</g>\n<!-- 6285847504 -->\n<g id=\"node6\" class=\"node\">\n<title>6285847504</title>\n<polygon fill=\"none\" stroke=\"black\" points=\"324,-144 270,-144 270,-108 324,-108 324,-144\"/>\n<text text-anchor=\"middle\" x=\"297\" y=\"-121.72\" font-family=\"Arial\" font-size=\"12.00\">d</text>\n</g>\n<!-- 6285847504&#45;&gt;6285848800 -->\n<g id=\"edge7\" class=\"edge\">\n<title>6285847504&#45;&gt;6285848800</title>\n<path fill=\"none\" stroke=\"black\" d=\"M324.4,-139.5C333.23,-144.02 343.19,-149.11 352.49,-153.86\"/>\n<polygon fill=\"black\" stroke=\"black\" points=\"350.76,-156.91 361.26,-158.35 353.95,-150.68 350.76,-156.91\"/>\n</g>\n<!-- 6285847504&#45;&gt;6285850528 -->\n<g id=\"edge8\" class=\"edge\">\n<title>6285847504&#45;&gt;6285850528</title>\n<path fill=\"none\" stroke=\"black\" d=\"M314.14,-107.84C327.24,-93.11 345.93,-72.07 360.97,-55.16\"/>\n<polygon fill=\"black\" stroke=\"black\" points=\"363.42,-57.67 367.45,-47.87 358.19,-53.02 363.42,-57.67\"/>\n</g>\n<!-- 6285836752 -->\n<g id=\"node7\" class=\"node\">\n<title>6285836752</title>\n<polygon fill=\"none\" stroke=\"black\" points=\"324,-261 270,-261 270,-225 324,-225 324,-261\"/>\n<text text-anchor=\"middle\" x=\"297\" y=\"-238.72\" font-family=\"Arial\" font-size=\"12.00\">f</text>\n</g>\n<!-- 6285836752&#45;&gt;6285850192 -->\n<g id=\"edge11\" class=\"edge\">\n<title>6285836752&#45;&gt;6285850192</title>\n<path fill=\"none\" stroke=\"black\" d=\"M324.4,-243C331.89,-243 340.18,-243 348.2,-243\"/>\n<polygon fill=\"black\" stroke=\"black\" points=\"348.1,-246.5 358.1,-243 348.1,-239.5 348.1,-246.5\"/>\n</g>\n<!-- 6285836752&#45;&gt;6285849184 -->\n<g id=\"edge12\" class=\"edge\">\n<title>6285836752&#45;&gt;6285849184</title>\n<path fill=\"none\" stroke=\"black\" d=\"M312.08,-224.71C316.12,-219.15 320.41,-212.93 324,-207 342.53,-176.4 341.47,-165.6 360,-135 361.11,-133.17 362.28,-131.31 363.49,-129.46\"/>\n<polygon fill=\"black\" stroke=\"black\" points=\"366.14,-131.8 368.89,-121.57 360.36,-127.85 366.14,-131.8\"/>\n</g>\n<!-- 6285841120 -->\n<g id=\"node9\" class=\"node\">\n<title>6285841120</title>\n<ellipse fill=\"none\" stroke=\"black\" cx=\"27\" cy=\"-135\" rx=\"27\" ry=\"27\"/>\n<text text-anchor=\"start\" x=\"16.88\" y=\"-122.2\" font-family=\"Arial\" font-size=\"34.00\">●</text>\n</g>\n<!-- 6285841120&#45;&gt;6284961472 -->\n<g id=\"edge14\" class=\"edge\">\n<title>6285841120&#45;&gt;6284961472</title>\n<path fill=\"none\" stroke=\"black\" d=\"M52.51,-124.97C60.76,-121.6 70.14,-117.76 79.12,-114.09\"/>\n<polygon fill=\"black\" stroke=\"black\" points=\"80.44,-117.33 88.37,-110.3 77.79,-110.85 80.44,-117.33\"/>\n</g>\n<!-- 6285841120&#45;&gt;6285848320 -->\n<g id=\"edge15\" class=\"edge\">\n<title>6285841120&#45;&gt;6285848320</title>\n<path fill=\"none\" stroke=\"black\" d=\"M52.51,-145.03C60.76,-148.4 70.14,-152.24 79.12,-155.91\"/>\n<polygon fill=\"black\" stroke=\"black\" points=\"77.79,-159.15 88.37,-159.7 80.44,-152.67 77.79,-159.15\"/>\n</g>\n<!-- 6285849904&#45;&gt;6285845440 -->\n<g id=\"edge16\" class=\"edge\">\n<title>6285849904&#45;&gt;6285845440</title>\n<path fill=\"none\" stroke=\"black\" d=\"M227.53,-116.98C239.33,-127.83 254.56,-141.86 267.67,-153.92\"/>\n<polygon fill=\"black\" stroke=\"black\" points=\"265.07,-156.29 274.8,-160.49 269.81,-151.14 265.07,-156.29\"/>\n</g>\n<!-- 6285848368&#45;&gt;6285849808 -->\n<g id=\"edge17\" class=\"edge\">\n<title>6285848368&#45;&gt;6285849808</title>\n<path fill=\"none\" stroke=\"black\" d=\"M234.4,-27C241.89,-27 250.18,-27 258.2,-27\"/>\n<polygon fill=\"black\" stroke=\"black\" points=\"258.1,-30.5 268.1,-27 258.1,-23.5 258.1,-30.5\"/>\n</g>\n<!-- 6285848704&#45;&gt;6285847504 -->\n<g id=\"edge18\" class=\"edge\">\n<title>6285848704&#45;&gt;6285847504</title>\n<path fill=\"none\" stroke=\"black\" d=\"M231.58,-158.94C240.18,-154.54 250.12,-149.46 259.57,-144.63\"/>\n<polygon fill=\"black\" stroke=\"black\" points=\"260.9,-147.88 268.21,-140.21 257.71,-141.65 260.9,-147.88\"/>\n</g>\n<!-- 6285848896&#45;&gt;6285836752 -->\n<g id=\"edge19\" class=\"edge\">\n<title>6285848896&#45;&gt;6285836752</title>\n<path fill=\"none\" stroke=\"black\" d=\"M234.4,-243C241.89,-243 250.18,-243 258.2,-243\"/>\n<polygon fill=\"black\" stroke=\"black\" points=\"258.1,-246.5 268.1,-243 258.1,-239.5 258.1,-246.5\"/>\n</g>\n<!-- 6285848800&#45;&gt;6285848416 -->\n<g id=\"edge20\" class=\"edge\">\n<title>6285848800&#45;&gt;6285848416</title>\n<path fill=\"none\" stroke=\"black\" d=\"M412.51,-160.97C420.76,-157.6 430.14,-153.76 439.12,-150.09\"/>\n<polygon fill=\"black\" stroke=\"black\" points=\"440.44,-153.33 448.37,-146.3 437.79,-146.85 440.44,-153.33\"/>\n</g>\n<!-- 6285850192&#45;&gt;6285848416 -->\n<g id=\"edge21\" class=\"edge\">\n<title>6285850192&#45;&gt;6285848416</title>\n<path fill=\"none\" stroke=\"black\" d=\"M404.76,-222.43C418.67,-205.36 438.56,-180.95 453.79,-162.26\"/>\n<polygon fill=\"black\" stroke=\"black\" points=\"456.5,-164.47 460.11,-154.51 451.08,-160.05 456.5,-164.47\"/>\n</g>\n<!-- 6285850528&#45;&gt;6285848416 -->\n<g id=\"edge22\" class=\"edge\">\n<title>6285850528&#45;&gt;6285848416</title>\n<path fill=\"none\" stroke=\"black\" d=\"M404.76,-47.57C418.67,-64.64 438.56,-89.05 453.79,-107.74\"/>\n<polygon fill=\"black\" stroke=\"black\" points=\"451.08,-109.95 460.11,-115.49 456.5,-105.53 451.08,-109.95\"/>\n</g>\n<!-- 6285849184&#45;&gt;6285848416 -->\n<g id=\"edge23\" class=\"edge\">\n<title>6285849184&#45;&gt;6285848416</title>\n<path fill=\"none\" stroke=\"black\" d=\"M412.51,-109.03C420.76,-112.4 430.14,-116.24 439.12,-119.91\"/>\n<polygon fill=\"black\" stroke=\"black\" points=\"437.79,-123.15 448.37,-123.7 440.44,-116.67 437.79,-123.15\"/>\n</g>\n</g>\n</svg>\n",
      "text/plain": [
       "<graphviz.graphs.Digraph at 0x176aa7b90>"
      ]
     },
     "execution_count": 51,
     "metadata": {},
     "output_type": "execute_result"
    }
   ],
   "execution_count": 51
  },
  {
   "metadata": {
    "ExecuteTime": {
     "end_time": "2024-06-22T10:44:46.214224Z",
     "start_time": "2024-06-22T10:44:45.986420Z"
    }
   },
   "cell_type": "code",
   "source": [
    "net, start, end = pm4py.discover_petri_net_alpha(utils.import_csv(implicit_log))\n",
    "pm4py.view_petri_net(net, start, end)"
   ],
   "id": "df9073a58d00f3d4",
   "outputs": [
    {
     "data": {
      "image/png": "[encoded data removed]",
      "text/plain": [
       "<IPython.core.display.Image object>"
      ]
     },
     "metadata": {},
     "output_type": "display_data"
    }
   ],
   "execution_count": 52
  },
  {
   "cell_type": "markdown",
   "id": "1060ab2e40dce8ef",
   "metadata": {},
   "source": [
    "### Loops of Length 1 and 2\n",
    "\n",
    "The algorithm does not discover loops of length 1 and 2. For example, in the following event log, the Alpha algorithm would discover the following model:\n",
    "\n",
    "`{AC, ABC, ABBC, ABBBBC}`\n",
    "`{ABD, ABCBD, ABCBCBD}`"
   ]
  },
  {
   "cell_type": "code",
   "id": "e110e5327802cbdf",
   "metadata": {
    "ExecuteTime": {
     "end_time": "2024-06-22T10:44:46.261567Z",
     "start_time": "2024-06-22T10:44:46.215131Z"
    }
   },
   "source": [
    "loop1_log = utils.event_log_to_csv([(\"a\", \"c\"), (\"a\", \"b\", \"c\"), (\"a\", \"b\", \"b\", \"c\"), (\"a\", \"b\", \"b\", \"b\", \"b\", \"c\")])\n",
    "miner_loop1 = AlphaMiner(loop1_log)\n",
    "miner_loop1.event_log.head()"
   ],
   "outputs": [
    {
     "data": {
      "text/plain": [
       "  case_id activity  activity_id\n",
       "0       1        a            0\n",
       "1       1        c            2\n",
       "2       2        a            0\n",
       "3       2        b            1\n",
       "4       2        c            2"
      ],
      "text/html": [
       "<div>\n",
       "<style scoped>\n",
       "    .dataframe tbody tr th:only-of-type {\n",
       "        vertical-align: middle;\n",
       "    }\n",
       "\n",
       "    .dataframe tbody tr th {\n",
       "        vertical-align: top;\n",
       "    }\n",
       "\n",
       "    .dataframe thead th {\n",
       "        text-align: right;\n",
       "    }\n",
       "</style>\n",
       "<table border=\"1\" class=\"dataframe\">\n",
       "  <thead>\n",
       "    <tr style=\"text-align: right;\">\n",
       "      <th></th>\n",
       "      <th>case_id</th>\n",
       "      <th>activity</th>\n",
       "      <th>activity_id</th>\n",
       "    </tr>\n",
       "  </thead>\n",
       "  <tbody>\n",
       "    <tr>\n",
       "      <th>0</th>\n",
       "      <td>1</td>\n",
       "      <td>a</td>\n",
       "      <td>0</td>\n",
       "    </tr>\n",
       "    <tr>\n",
       "      <th>1</th>\n",
       "      <td>1</td>\n",
       "      <td>c</td>\n",
       "      <td>2</td>\n",
       "    </tr>\n",
       "    <tr>\n",
       "      <th>2</th>\n",
       "      <td>2</td>\n",
       "      <td>a</td>\n",
       "      <td>0</td>\n",
       "    </tr>\n",
       "    <tr>\n",
       "      <th>3</th>\n",
       "      <td>2</td>\n",
       "      <td>b</td>\n",
       "      <td>1</td>\n",
       "    </tr>\n",
       "    <tr>\n",
       "      <th>4</th>\n",
       "      <td>2</td>\n",
       "      <td>c</td>\n",
       "      <td>2</td>\n",
       "    </tr>\n",
       "  </tbody>\n",
       "</table>\n",
       "</div>"
      ]
     },
     "execution_count": 53,
     "metadata": {},
     "output_type": "execute_result"
    }
   ],
   "execution_count": 53
  },
  {
   "cell_type": "code",
   "id": "a003a30780f36aa4",
   "metadata": {
    "ExecuteTime": {
     "end_time": "2024-06-22T10:44:46.297514Z",
     "start_time": "2024-06-22T10:44:46.262114Z"
    }
   },
   "source": [
    "print(miner_loop1.footprint_matrix())"
   ],
   "outputs": [
    {
     "name": "stdout",
     "output_type": "stream",
     "text": [
      "   a   b  c\n",
      "a  #   →  →\n",
      "b  ←  ||  →\n",
      "c  ←   ←  #\n"
     ]
    }
   ],
   "execution_count": 54
  },
  {
   "cell_type": "code",
   "id": "b9ba932953ba1493",
   "metadata": {
    "ExecuteTime": {
     "end_time": "2024-06-22T10:44:46.354521Z",
     "start_time": "2024-06-22T10:44:46.298279Z"
    }
   },
   "source": [
    "miner_loop1.print_pairs()"
   ],
   "outputs": [
    {
     "name": "stdout",
     "output_type": "stream",
     "text": [
      "Following pairs:\n",
      "[({'a'}, {'b'}), ({'a'}, {'c'}), ({'b'}, {'c'}), ({'b'}, {'b'})]\n",
      "\n",
      "Parallel pairs:\n",
      "[({'b'}, {'b'})]\n",
      "\n",
      "Sequential pairs:\n",
      "[({'a'}, {'b'}), ({'a'}, {'c'}), ({'b'}, {'c'})]\n",
      "\n",
      "Not following pairs:\n",
      "[({'a'}, {'a'}), ({'c'}, {'c'})]\n",
      "\n",
      "Before pairs:\n",
      "[({'b'}, {'a'}), ({'c'}, {'a'}), ({'c'}, {'b'})]\n",
      "\n",
      "Maximal pairs:\n",
      "[({'a'}, {'c'})]\n",
      "\n"
     ]
    }
   ],
   "execution_count": 55
  },
  {
   "cell_type": "code",
   "id": "a448477529090bf3",
   "metadata": {
    "ExecuteTime": {
     "end_time": "2024-06-22T10:44:46.539046Z",
     "start_time": "2024-06-22T10:44:46.357992Z"
    }
   },
   "source": [
    "miner_loop1.build_and_visualize_petrinet()"
   ],
   "outputs": [
    {
     "data": {
      "image/svg+xml": "<?xml version=\"1.0\" encoding=\"UTF-8\" standalone=\"no\"?>\n<!DOCTYPE svg PUBLIC \"-//W3C//DTD SVG 1.1//EN\"\n \"http://www.w3.org/Graphics/SVG/1.1/DTD/svg11.dtd\">\n<!-- Generated by graphviz version 10.0.1 (20240210.2158)\n -->\n<!-- Title: Alpha Miner Petri Net Pages: 1 -->\n<svg width=\"430pt\" height=\"120pt\"\n viewBox=\"0.00 0.00 430.00 120.00\" xmlns=\"http://www.w3.org/2000/svg\" xmlns:xlink=\"http://www.w3.org/1999/xlink\">\n<g id=\"graph0\" class=\"graph\" transform=\"scale(1 1) rotate(0) translate(4 116)\">\n<title>Alpha Miner Petri Net</title>\n<polygon fill=\"white\" stroke=\"none\" points=\"-4,4 -4,-116 426,-116 426,4 -4,4\"/>\n<!-- 6284932784 -->\n<g id=\"node1\" class=\"node\">\n<title>6284932784</title>\n<polygon fill=\"none\" stroke=\"black\" points=\"144,-49 90,-49 90,-13 144,-13 144,-49\"/>\n<text text-anchor=\"middle\" x=\"117\" y=\"-26.73\" font-family=\"Arial\" font-size=\"12.00\">a</text>\n</g>\n<!-- 6285284688 -->\n<g id=\"node6\" class=\"node\">\n<title>6285284688</title>\n<ellipse fill=\"none\" stroke=\"black\" cx=\"207\" cy=\"-31\" rx=\"27\" ry=\"27\"/>\n</g>\n<!-- 6284932784&#45;&gt;6285284688 -->\n<g id=\"edge1\" class=\"edge\">\n<title>6284932784&#45;&gt;6285284688</title>\n<path fill=\"none\" stroke=\"black\" d=\"M144.4,-31C151.89,-31 160.18,-31 168.2,-31\"/>\n<polygon fill=\"black\" stroke=\"black\" points=\"168.1,-34.5 178.1,-31 168.1,-27.5 168.1,-34.5\"/>\n</g>\n<!-- 6285291552 -->\n<g id=\"node2\" class=\"node\">\n<title>6285291552</title>\n<polygon fill=\"none\" stroke=\"black\" points=\"54,-112 0,-112 0,-76 54,-76 54,-112\"/>\n<text text-anchor=\"middle\" x=\"27\" y=\"-89.72\" font-family=\"Arial\" font-size=\"12.00\">b</text>\n</g>\n<!-- 6285284640 -->\n<g id=\"node3\" class=\"node\">\n<title>6285284640</title>\n<polygon fill=\"none\" stroke=\"black\" points=\"324,-49 270,-49 270,-13 324,-13 324,-49\"/>\n<text text-anchor=\"middle\" x=\"297\" y=\"-26.73\" font-family=\"Arial\" font-size=\"12.00\">c</text>\n</g>\n<!-- 6285582624 -->\n<g id=\"node4\" class=\"node\">\n<title>6285582624</title>\n<ellipse fill=\"none\" stroke=\"black\" cx=\"391\" cy=\"-31\" rx=\"27\" ry=\"27\"/>\n<ellipse fill=\"none\" stroke=\"black\" cx=\"391\" cy=\"-31\" rx=\"31\" ry=\"31\"/>\n<text text-anchor=\"start\" x=\"381.25\" y=\"-18.98\" font-family=\"Arial\" font-size=\"32.00\">■</text>\n</g>\n<!-- 6285284640&#45;&gt;6285582624 -->\n<g id=\"edge2\" class=\"edge\">\n<title>6285284640&#45;&gt;6285582624</title>\n<path fill=\"none\" stroke=\"black\" d=\"M324.12,-31C331.63,-31 340.01,-31 348.22,-31\"/>\n<polygon fill=\"black\" stroke=\"black\" points=\"348.08,-34.5 358.08,-31 348.08,-27.5 348.08,-34.5\"/>\n</g>\n<!-- 6285286560 -->\n<g id=\"node5\" class=\"node\">\n<title>6285286560</title>\n<ellipse fill=\"none\" stroke=\"black\" cx=\"27\" cy=\"-31\" rx=\"27\" ry=\"27\"/>\n<text text-anchor=\"start\" x=\"16.88\" y=\"-18.2\" font-family=\"Arial\" font-size=\"34.00\">●</text>\n</g>\n<!-- 6285286560&#45;&gt;6284932784 -->\n<g id=\"edge3\" class=\"edge\">\n<title>6285286560&#45;&gt;6284932784</title>\n<path fill=\"none\" stroke=\"black\" d=\"M54.4,-31C61.89,-31 70.18,-31 78.2,-31\"/>\n<polygon fill=\"black\" stroke=\"black\" points=\"78.1,-34.5 88.1,-31 78.1,-27.5 78.1,-34.5\"/>\n</g>\n<!-- 6285284688&#45;&gt;6285284640 -->\n<g id=\"edge4\" class=\"edge\">\n<title>6285284688&#45;&gt;6285284640</title>\n<path fill=\"none\" stroke=\"black\" d=\"M234.4,-31C241.89,-31 250.18,-31 258.2,-31\"/>\n<polygon fill=\"black\" stroke=\"black\" points=\"258.1,-34.5 268.1,-31 258.1,-27.5 258.1,-34.5\"/>\n</g>\n</g>\n</svg>\n",
      "text/plain": [
       "<graphviz.graphs.Digraph at 0x147260c50>"
      ]
     },
     "execution_count": 56,
     "metadata": {},
     "output_type": "execute_result"
    }
   ],
   "execution_count": 56
  },
  {
   "metadata": {
    "ExecuteTime": {
     "end_time": "2024-06-22T10:44:46.758598Z",
     "start_time": "2024-06-22T10:44:46.539934Z"
    }
   },
   "cell_type": "code",
   "source": [
    "net, start, end = pm4py.discover_petri_net_alpha(utils.import_csv(loop1_log))\n",
    "pm4py.view_petri_net(net, start, end)"
   ],
   "id": "dace7dbd770b9079",
   "outputs": [
    {
     "data": {
      "image/png": "[encoded data removed]",
      "text/plain": [
       "<IPython.core.display.Image object>"
      ]
     },
     "metadata": {},
     "output_type": "display_data"
    }
   ],
   "execution_count": 57
  },
  {
   "cell_type": "code",
   "id": "cf9bb77ce30cf45b",
   "metadata": {
    "ExecuteTime": {
     "end_time": "2024-06-22T10:44:46.806133Z",
     "start_time": "2024-06-22T10:44:46.759487Z"
    }
   },
   "source": [
    "loop2_log = utils.event_log_to_csv([(\"a\", \"b\", \"d\"), (\"a\", \"b\", \"c\", \"b\", \"d\"), (\"a\", \"b\", \"c\", \"b\", \"c\", \"b\", \"d\")])\n",
    "miner_loop2 = AlphaMiner(loop2_log)\n",
    "miner_loop2.event_log"
   ],
   "outputs": [
    {
     "data": {
      "text/plain": [
       "   case_id activity  activity_id\n",
       "0        1        a            0\n",
       "1        1        b            1\n",
       "2        1        d            3\n",
       "3        2        a            0\n",
       "4        2        b            1\n",
       "5        2        c            2\n",
       "6        2        b            1\n",
       "7        2        d            3\n",
       "8        3        a            0\n",
       "9        3        b            1\n",
       "10       3        c            2\n",
       "11       3        b            1\n",
       "12       3        c            2\n",
       "13       3        b            1\n",
       "14       3        d            3"
      ],
      "text/html": [
       "<div>\n",
       "<style scoped>\n",
       "    .dataframe tbody tr th:only-of-type {\n",
       "        vertical-align: middle;\n",
       "    }\n",
       "\n",
       "    .dataframe tbody tr th {\n",
       "        vertical-align: top;\n",
       "    }\n",
       "\n",
       "    .dataframe thead th {\n",
       "        text-align: right;\n",
       "    }\n",
       "</style>\n",
       "<table border=\"1\" class=\"dataframe\">\n",
       "  <thead>\n",
       "    <tr style=\"text-align: right;\">\n",
       "      <th></th>\n",
       "      <th>case_id</th>\n",
       "      <th>activity</th>\n",
       "      <th>activity_id</th>\n",
       "    </tr>\n",
       "  </thead>\n",
       "  <tbody>\n",
       "    <tr>\n",
       "      <th>0</th>\n",
       "      <td>1</td>\n",
       "      <td>a</td>\n",
       "      <td>0</td>\n",
       "    </tr>\n",
       "    <tr>\n",
       "      <th>1</th>\n",
       "      <td>1</td>\n",
       "      <td>b</td>\n",
       "      <td>1</td>\n",
       "    </tr>\n",
       "    <tr>\n",
       "      <th>2</th>\n",
       "      <td>1</td>\n",
       "      <td>d</td>\n",
       "      <td>3</td>\n",
       "    </tr>\n",
       "    <tr>\n",
       "      <th>3</th>\n",
       "      <td>2</td>\n",
       "      <td>a</td>\n",
       "      <td>0</td>\n",
       "    </tr>\n",
       "    <tr>\n",
       "      <th>4</th>\n",
       "      <td>2</td>\n",
       "      <td>b</td>\n",
       "      <td>1</td>\n",
       "    </tr>\n",
       "    <tr>\n",
       "      <th>5</th>\n",
       "      <td>2</td>\n",
       "      <td>c</td>\n",
       "      <td>2</td>\n",
       "    </tr>\n",
       "    <tr>\n",
       "      <th>6</th>\n",
       "      <td>2</td>\n",
       "      <td>b</td>\n",
       "      <td>1</td>\n",
       "    </tr>\n",
       "    <tr>\n",
       "      <th>7</th>\n",
       "      <td>2</td>\n",
       "      <td>d</td>\n",
       "      <td>3</td>\n",
       "    </tr>\n",
       "    <tr>\n",
       "      <th>8</th>\n",
       "      <td>3</td>\n",
       "      <td>a</td>\n",
       "      <td>0</td>\n",
       "    </tr>\n",
       "    <tr>\n",
       "      <th>9</th>\n",
       "      <td>3</td>\n",
       "      <td>b</td>\n",
       "      <td>1</td>\n",
       "    </tr>\n",
       "    <tr>\n",
       "      <th>10</th>\n",
       "      <td>3</td>\n",
       "      <td>c</td>\n",
       "      <td>2</td>\n",
       "    </tr>\n",
       "    <tr>\n",
       "      <th>11</th>\n",
       "      <td>3</td>\n",
       "      <td>b</td>\n",
       "      <td>1</td>\n",
       "    </tr>\n",
       "    <tr>\n",
       "      <th>12</th>\n",
       "      <td>3</td>\n",
       "      <td>c</td>\n",
       "      <td>2</td>\n",
       "    </tr>\n",
       "    <tr>\n",
       "      <th>13</th>\n",
       "      <td>3</td>\n",
       "      <td>b</td>\n",
       "      <td>1</td>\n",
       "    </tr>\n",
       "    <tr>\n",
       "      <th>14</th>\n",
       "      <td>3</td>\n",
       "      <td>d</td>\n",
       "      <td>3</td>\n",
       "    </tr>\n",
       "  </tbody>\n",
       "</table>\n",
       "</div>"
      ]
     },
     "execution_count": 58,
     "metadata": {},
     "output_type": "execute_result"
    }
   ],
   "execution_count": 58
  },
  {
   "cell_type": "code",
   "id": "1d20887f810eb554",
   "metadata": {
    "ExecuteTime": {
     "end_time": "2024-06-22T10:44:46.839954Z",
     "start_time": "2024-06-22T10:44:46.806779Z"
    }
   },
   "source": [
    "print(miner_loop2.footprint_matrix())"
   ],
   "outputs": [
    {
     "name": "stdout",
     "output_type": "stream",
     "text": [
      "   a   b   c  d\n",
      "a  #   →   #  #\n",
      "b  ←   #  ||  →\n",
      "c  #  ||   #  #\n",
      "d  #   ←   #  #\n"
     ]
    }
   ],
   "execution_count": 59
  },
  {
   "cell_type": "code",
   "id": "846a0bd4eee74bcf",
   "metadata": {
    "ExecuteTime": {
     "end_time": "2024-06-22T10:44:46.878193Z",
     "start_time": "2024-06-22T10:44:46.840688Z"
    }
   },
   "source": [
    "miner_loop2.print_pairs()"
   ],
   "outputs": [
    {
     "name": "stdout",
     "output_type": "stream",
     "text": [
      "Following pairs:\n",
      "[({'a'}, {'b'}), ({'b'}, {'c'}), ({'b'}, {'d'}), ({'c'}, {'b'})]\n",
      "\n",
      "Parallel pairs:\n",
      "[({'b'}, {'c'}), ({'c'}, {'b'})]\n",
      "\n",
      "Sequential pairs:\n",
      "[({'a'}, {'b'}), ({'b'}, {'d'})]\n",
      "\n",
      "Not following pairs:\n",
      "[({'a'}, {'a'}), ({'a'}, {'c'}), ({'a'}, {'d'}), ({'b'}, {'b'}), ({'c'}, {'a'}), ({'c'}, {'c'}), ({'c'}, {'d'}), ({'d'}, {'a'}), ({'d'}, {'c'}), ({'d'}, {'d'})]\n",
      "\n",
      "Before pairs:\n",
      "[({'b'}, {'a'}), ({'d'}, {'b'})]\n",
      "\n",
      "Maximal pairs:\n",
      "[({'a'}, {'b'}), ({'b'}, {'d'})]\n",
      "\n"
     ]
    }
   ],
   "execution_count": 60
  },
  {
   "cell_type": "code",
   "id": "371047a540ca7db9",
   "metadata": {
    "ExecuteTime": {
     "end_time": "2024-06-22T10:44:47.046266Z",
     "start_time": "2024-06-22T10:44:46.878915Z"
    }
   },
   "source": [
    "miner_loop2.build_and_visualize_petrinet()"
   ],
   "outputs": [
    {
     "data": {
      "image/svg+xml": "<?xml version=\"1.0\" encoding=\"UTF-8\" standalone=\"no\"?>\n<!DOCTYPE svg PUBLIC \"-//W3C//DTD SVG 1.1//EN\"\n \"http://www.w3.org/Graphics/SVG/1.1/DTD/svg11.dtd\">\n<!-- Generated by graphviz version 10.0.1 (20240210.2158)\n -->\n<!-- Title: Alpha Miner Petri Net Pages: 1 -->\n<svg width=\"610pt\" height=\"120pt\"\n viewBox=\"0.00 0.00 610.00 120.00\" xmlns=\"http://www.w3.org/2000/svg\" xmlns:xlink=\"http://www.w3.org/1999/xlink\">\n<g id=\"graph0\" class=\"graph\" transform=\"scale(1 1) rotate(0) translate(4 116)\">\n<title>Alpha Miner Petri Net</title>\n<polygon fill=\"white\" stroke=\"none\" points=\"-4,4 -4,-116 606,-116 606,4 -4,4\"/>\n<!-- 6285945376 -->\n<g id=\"node1\" class=\"node\">\n<title>6285945376</title>\n<polygon fill=\"none\" stroke=\"black\" points=\"144,-49 90,-49 90,-13 144,-13 144,-49\"/>\n<text text-anchor=\"middle\" x=\"117\" y=\"-26.73\" font-family=\"Arial\" font-size=\"12.00\">a</text>\n</g>\n<!-- 6285935968 -->\n<g id=\"node7\" class=\"node\">\n<title>6285935968</title>\n<ellipse fill=\"none\" stroke=\"black\" cx=\"207\" cy=\"-31\" rx=\"27\" ry=\"27\"/>\n</g>\n<!-- 6285945376&#45;&gt;6285935968 -->\n<g id=\"edge1\" class=\"edge\">\n<title>6285945376&#45;&gt;6285935968</title>\n<path fill=\"none\" stroke=\"black\" d=\"M144.4,-31C151.89,-31 160.18,-31 168.2,-31\"/>\n<polygon fill=\"black\" stroke=\"black\" points=\"168.1,-34.5 178.1,-31 168.1,-27.5 168.1,-34.5\"/>\n</g>\n<!-- 6285949456 -->\n<g id=\"node2\" class=\"node\">\n<title>6285949456</title>\n<polygon fill=\"none\" stroke=\"black\" points=\"324,-49 270,-49 270,-13 324,-13 324,-49\"/>\n<text text-anchor=\"middle\" x=\"297\" y=\"-26.73\" font-family=\"Arial\" font-size=\"12.00\">b</text>\n</g>\n<!-- 6285949984 -->\n<g id=\"node8\" class=\"node\">\n<title>6285949984</title>\n<ellipse fill=\"none\" stroke=\"black\" cx=\"387\" cy=\"-31\" rx=\"27\" ry=\"27\"/>\n</g>\n<!-- 6285949456&#45;&gt;6285949984 -->\n<g id=\"edge2\" class=\"edge\">\n<title>6285949456&#45;&gt;6285949984</title>\n<path fill=\"none\" stroke=\"black\" d=\"M324.4,-31C331.89,-31 340.18,-31 348.2,-31\"/>\n<polygon fill=\"black\" stroke=\"black\" points=\"348.1,-34.5 358.1,-31 348.1,-27.5 348.1,-34.5\"/>\n</g>\n<!-- 6285948544 -->\n<g id=\"node3\" class=\"node\">\n<title>6285948544</title>\n<polygon fill=\"none\" stroke=\"black\" points=\"504,-49 450,-49 450,-13 504,-13 504,-49\"/>\n<text text-anchor=\"middle\" x=\"477\" y=\"-26.73\" font-family=\"Arial\" font-size=\"12.00\">d</text>\n</g>\n<!-- 6285946000 -->\n<g id=\"node5\" class=\"node\">\n<title>6285946000</title>\n<ellipse fill=\"none\" stroke=\"black\" cx=\"571\" cy=\"-31\" rx=\"27\" ry=\"27\"/>\n<ellipse fill=\"none\" stroke=\"black\" cx=\"571\" cy=\"-31\" rx=\"31\" ry=\"31\"/>\n<text text-anchor=\"start\" x=\"561.25\" y=\"-18.98\" font-family=\"Arial\" font-size=\"32.00\">■</text>\n</g>\n<!-- 6285948544&#45;&gt;6285946000 -->\n<g id=\"edge3\" class=\"edge\">\n<title>6285948544&#45;&gt;6285946000</title>\n<path fill=\"none\" stroke=\"black\" d=\"M504.12,-31C511.63,-31 520.01,-31 528.22,-31\"/>\n<polygon fill=\"black\" stroke=\"black\" points=\"528.08,-34.5 538.08,-31 528.08,-27.5 528.08,-34.5\"/>\n</g>\n<!-- 6285948112 -->\n<g id=\"node4\" class=\"node\">\n<title>6285948112</title>\n<polygon fill=\"none\" stroke=\"black\" points=\"54,-112 0,-112 0,-76 54,-76 54,-112\"/>\n<text text-anchor=\"middle\" x=\"27\" y=\"-89.72\" font-family=\"Arial\" font-size=\"12.00\">c</text>\n</g>\n<!-- 6285949936 -->\n<g id=\"node6\" class=\"node\">\n<title>6285949936</title>\n<ellipse fill=\"none\" stroke=\"black\" cx=\"27\" cy=\"-31\" rx=\"27\" ry=\"27\"/>\n<text text-anchor=\"start\" x=\"16.88\" y=\"-18.2\" font-family=\"Arial\" font-size=\"34.00\">●</text>\n</g>\n<!-- 6285949936&#45;&gt;6285945376 -->\n<g id=\"edge4\" class=\"edge\">\n<title>6285949936&#45;&gt;6285945376</title>\n<path fill=\"none\" stroke=\"black\" d=\"M54.4,-31C61.89,-31 70.18,-31 78.2,-31\"/>\n<polygon fill=\"black\" stroke=\"black\" points=\"78.1,-34.5 88.1,-31 78.1,-27.5 78.1,-34.5\"/>\n</g>\n<!-- 6285935968&#45;&gt;6285949456 -->\n<g id=\"edge5\" class=\"edge\">\n<title>6285935968&#45;&gt;6285949456</title>\n<path fill=\"none\" stroke=\"black\" d=\"M234.4,-31C241.89,-31 250.18,-31 258.2,-31\"/>\n<polygon fill=\"black\" stroke=\"black\" points=\"258.1,-34.5 268.1,-31 258.1,-27.5 258.1,-34.5\"/>\n</g>\n<!-- 6285949984&#45;&gt;6285948544 -->\n<g id=\"edge6\" class=\"edge\">\n<title>6285949984&#45;&gt;6285948544</title>\n<path fill=\"none\" stroke=\"black\" d=\"M414.4,-31C421.89,-31 430.18,-31 438.2,-31\"/>\n<polygon fill=\"black\" stroke=\"black\" points=\"438.1,-34.5 448.1,-31 438.1,-27.5 438.1,-34.5\"/>\n</g>\n</g>\n</svg>\n",
      "text/plain": [
       "<graphviz.graphs.Digraph at 0x176abff80>"
      ]
     },
     "execution_count": 61,
     "metadata": {},
     "output_type": "execute_result"
    }
   ],
   "execution_count": 61
  },
  {
   "metadata": {
    "ExecuteTime": {
     "end_time": "2024-06-22T10:44:47.258359Z",
     "start_time": "2024-06-22T10:44:47.047033Z"
    }
   },
   "cell_type": "code",
   "source": [
    "net, start, end = pm4py.discover_petri_net_alpha(utils.import_csv(loop2_log))\n",
    "pm4py.view_petri_net(net, start, end)"
   ],
   "id": "d4641dbace5059e0",
   "outputs": [
    {
     "data": {
      "image/png": "[encoded data removed]",
      "text/plain": [
       "<IPython.core.display.Image object>"
      ]
     },
     "metadata": {},
     "output_type": "display_data"
    }
   ],
   "execution_count": 62
  },
  {
   "cell_type": "markdown",
   "id": "251e40d9273dd6d8",
   "metadata": {},
   "source": [
    "### Non-Local Dependencies\n",
    "\n",
    "The algorithm does not discover non-local dependencies. For example, in the following event log, the Alpha algorithm would discover the following model:\n",
    "\n",
    "`{ACD, BCE}`"
   ]
  },
  {
   "cell_type": "code",
   "id": "e3057e8018e059db",
   "metadata": {
    "ExecuteTime": {
     "end_time": "2024-06-22T10:44:47.303366Z",
     "start_time": "2024-06-22T10:44:47.259232Z"
    }
   },
   "source": [
    "non_local_log = utils.event_log_to_csv([(\"a\", \"c\", \"d\"), (\"b\", \"c\", \"e\")])\n",
    "miner_non_local = AlphaMiner(non_local_log)\n",
    "miner_non_local.event_log.head()"
   ],
   "outputs": [
    {
     "data": {
      "text/plain": [
       "  case_id activity  activity_id\n",
       "0       1        a            0\n",
       "1       1        c            2\n",
       "2       1        d            3\n",
       "3       2        b            1\n",
       "4       2        c            2"
      ],
      "text/html": [
       "<div>\n",
       "<style scoped>\n",
       "    .dataframe tbody tr th:only-of-type {\n",
       "        vertical-align: middle;\n",
       "    }\n",
       "\n",
       "    .dataframe tbody tr th {\n",
       "        vertical-align: top;\n",
       "    }\n",
       "\n",
       "    .dataframe thead th {\n",
       "        text-align: right;\n",
       "    }\n",
       "</style>\n",
       "<table border=\"1\" class=\"dataframe\">\n",
       "  <thead>\n",
       "    <tr style=\"text-align: right;\">\n",
       "      <th></th>\n",
       "      <th>case_id</th>\n",
       "      <th>activity</th>\n",
       "      <th>activity_id</th>\n",
       "    </tr>\n",
       "  </thead>\n",
       "  <tbody>\n",
       "    <tr>\n",
       "      <th>0</th>\n",
       "      <td>1</td>\n",
       "      <td>a</td>\n",
       "      <td>0</td>\n",
       "    </tr>\n",
       "    <tr>\n",
       "      <th>1</th>\n",
       "      <td>1</td>\n",
       "      <td>c</td>\n",
       "      <td>2</td>\n",
       "    </tr>\n",
       "    <tr>\n",
       "      <th>2</th>\n",
       "      <td>1</td>\n",
       "      <td>d</td>\n",
       "      <td>3</td>\n",
       "    </tr>\n",
       "    <tr>\n",
       "      <th>3</th>\n",
       "      <td>2</td>\n",
       "      <td>b</td>\n",
       "      <td>1</td>\n",
       "    </tr>\n",
       "    <tr>\n",
       "      <th>4</th>\n",
       "      <td>2</td>\n",
       "      <td>c</td>\n",
       "      <td>2</td>\n",
       "    </tr>\n",
       "  </tbody>\n",
       "</table>\n",
       "</div>"
      ]
     },
     "execution_count": 63,
     "metadata": {},
     "output_type": "execute_result"
    }
   ],
   "execution_count": 63
  },
  {
   "cell_type": "code",
   "id": "57a0282f8cc03345",
   "metadata": {
    "ExecuteTime": {
     "end_time": "2024-06-22T10:44:47.343457Z",
     "start_time": "2024-06-22T10:44:47.303987Z"
    }
   },
   "source": [
    "print(miner_non_local.footprint_matrix())"
   ],
   "outputs": [
    {
     "name": "stdout",
     "output_type": "stream",
     "text": [
      "   a  b  c  d  e\n",
      "a  #  #  →  #  #\n",
      "b  #  #  →  #  #\n",
      "c  ←  ←  #  →  →\n",
      "d  #  #  ←  #  #\n",
      "e  #  #  ←  #  #\n"
     ]
    }
   ],
   "execution_count": 64
  },
  {
   "cell_type": "code",
   "id": "3edcb70af915589b",
   "metadata": {
    "ExecuteTime": {
     "end_time": "2024-06-22T10:44:47.380502Z",
     "start_time": "2024-06-22T10:44:47.344205Z"
    }
   },
   "source": [
    "miner_non_local.print_pairs()"
   ],
   "outputs": [
    {
     "name": "stdout",
     "output_type": "stream",
     "text": [
      "Following pairs:\n",
      "[({'c'}, {'d'}), ({'a'}, {'c'}), ({'b'}, {'c'}), ({'c'}, {'e'})]\n",
      "\n",
      "Parallel pairs:\n",
      "[]\n",
      "\n",
      "Sequential pairs:\n",
      "[({'c'}, {'d'}), ({'a'}, {'c'}), ({'b'}, {'c'}), ({'c'}, {'e'})]\n",
      "\n",
      "Not following pairs:\n",
      "[({'a'}, {'a'}), ({'a'}, {'b'}), ({'a'}, {'d'}), ({'a'}, {'e'}), ({'b'}, {'a'}), ({'b'}, {'b'}), ({'b'}, {'d'}), ({'b'}, {'e'}), ({'c'}, {'c'}), ({'d'}, {'a'}), ({'d'}, {'b'}), ({'d'}, {'d'}), ({'d'}, {'e'}), ({'e'}, {'a'}), ({'e'}, {'b'}), ({'e'}, {'d'}), ({'e'}, {'e'})]\n",
      "\n",
      "Before pairs:\n",
      "[({'c'}, {'a'}), ({'c'}, {'b'}), ({'d'}, {'c'}), ({'e'}, {'c'})]\n",
      "\n",
      "Maximal pairs:\n",
      "[({'c'}, {'e', 'd'}), ({'a', 'b'}, {'c'})]\n",
      "\n"
     ]
    }
   ],
   "execution_count": 65
  },
  {
   "cell_type": "code",
   "id": "ce434fafd95675a0",
   "metadata": {
    "ExecuteTime": {
     "end_time": "2024-06-22T10:44:47.543960Z",
     "start_time": "2024-06-22T10:44:47.381150Z"
    }
   },
   "source": [
    "miner_non_local.build_and_visualize_petrinet()"
   ],
   "outputs": [
    {
     "data": {
      "image/svg+xml": "<?xml version=\"1.0\" encoding=\"UTF-8\" standalone=\"no\"?>\n<!DOCTYPE svg PUBLIC \"-//W3C//DTD SVG 1.1//EN\"\n \"http://www.w3.org/Graphics/SVG/1.1/DTD/svg11.dtd\">\n<!-- Generated by graphviz version 10.0.1 (20240210.2158)\n -->\n<!-- Title: Alpha Miner Petri Net Pages: 1 -->\n<svg width=\"610pt\" height=\"98pt\"\n viewBox=\"0.00 0.00 610.00 98.00\" xmlns=\"http://www.w3.org/2000/svg\" xmlns:xlink=\"http://www.w3.org/1999/xlink\">\n<g id=\"graph0\" class=\"graph\" transform=\"scale(1 1) rotate(0) translate(4 94)\">\n<title>Alpha Miner Petri Net</title>\n<polygon fill=\"white\" stroke=\"none\" points=\"-4,4 -4,-94 606,-94 606,4 -4,4\"/>\n<!-- 6285985312 -->\n<g id=\"node1\" class=\"node\">\n<title>6285985312</title>\n<polygon fill=\"none\" stroke=\"black\" points=\"144,-90 90,-90 90,-54 144,-54 144,-90\"/>\n<text text-anchor=\"middle\" x=\"117\" y=\"-67.72\" font-family=\"Arial\" font-size=\"12.00\">a</text>\n</g>\n<!-- 6285992176 -->\n<g id=\"node8\" class=\"node\">\n<title>6285992176</title>\n<ellipse fill=\"none\" stroke=\"black\" cx=\"207\" cy=\"-45\" rx=\"27\" ry=\"27\"/>\n</g>\n<!-- 6285985312&#45;&gt;6285992176 -->\n<g id=\"edge1\" class=\"edge\">\n<title>6285985312&#45;&gt;6285992176</title>\n<path fill=\"none\" stroke=\"black\" d=\"M144.4,-63.9C152.43,-61.44 161.39,-58.69 169.94,-56.06\"/>\n<polygon fill=\"black\" stroke=\"black\" points=\"170.84,-59.45 179.38,-53.17 168.79,-52.76 170.84,-59.45\"/>\n</g>\n<!-- 6285989536 -->\n<g id=\"node2\" class=\"node\">\n<title>6285989536</title>\n<polygon fill=\"none\" stroke=\"black\" points=\"324,-63 270,-63 270,-27 324,-27 324,-63\"/>\n<text text-anchor=\"middle\" x=\"297\" y=\"-40.73\" font-family=\"Arial\" font-size=\"12.00\">c</text>\n</g>\n<!-- 6285992752 -->\n<g id=\"node9\" class=\"node\">\n<title>6285992752</title>\n<ellipse fill=\"none\" stroke=\"black\" cx=\"387\" cy=\"-45\" rx=\"27\" ry=\"27\"/>\n</g>\n<!-- 6285989536&#45;&gt;6285992752 -->\n<g id=\"edge3\" class=\"edge\">\n<title>6285989536&#45;&gt;6285992752</title>\n<path fill=\"none\" stroke=\"black\" d=\"M324.4,-45C331.89,-45 340.18,-45 348.2,-45\"/>\n<polygon fill=\"black\" stroke=\"black\" points=\"348.1,-48.5 358.1,-45 348.1,-41.5 348.1,-48.5\"/>\n</g>\n<!-- 6285992320 -->\n<g id=\"node3\" class=\"node\">\n<title>6285992320</title>\n<polygon fill=\"none\" stroke=\"black\" points=\"504,-90 450,-90 450,-54 504,-54 504,-90\"/>\n<text text-anchor=\"middle\" x=\"477\" y=\"-67.72\" font-family=\"Arial\" font-size=\"12.00\">d</text>\n</g>\n<!-- 6285992560 -->\n<g id=\"node6\" class=\"node\">\n<title>6285992560</title>\n<ellipse fill=\"none\" stroke=\"black\" cx=\"571\" cy=\"-45\" rx=\"27\" ry=\"27\"/>\n<ellipse fill=\"none\" stroke=\"black\" cx=\"571\" cy=\"-45\" rx=\"31\" ry=\"31\"/>\n<text text-anchor=\"start\" x=\"561.25\" y=\"-32.98\" font-family=\"Arial\" font-size=\"32.00\">■</text>\n</g>\n<!-- 6285992320&#45;&gt;6285992560 -->\n<g id=\"edge4\" class=\"edge\">\n<title>6285992320&#45;&gt;6285992560</title>\n<path fill=\"none\" stroke=\"black\" d=\"M504.12,-64.34C512.19,-61.97 521.26,-59.3 530.04,-56.73\"/>\n<polygon fill=\"black\" stroke=\"black\" points=\"530.84,-60.14 539.45,-53.96 528.87,-53.42 530.84,-60.14\"/>\n</g>\n<!-- 6285990112 -->\n<g id=\"node4\" class=\"node\">\n<title>6285990112</title>\n<polygon fill=\"none\" stroke=\"black\" points=\"504,-36 450,-36 450,0 504,0 504,-36\"/>\n<text text-anchor=\"middle\" x=\"477\" y=\"-13.72\" font-family=\"Arial\" font-size=\"12.00\">e</text>\n</g>\n<!-- 6285990112&#45;&gt;6285992560 -->\n<g id=\"edge5\" class=\"edge\">\n<title>6285990112&#45;&gt;6285992560</title>\n<path fill=\"none\" stroke=\"black\" d=\"M504.12,-25.66C512.19,-28.03 521.26,-30.7 530.04,-33.27\"/>\n<polygon fill=\"black\" stroke=\"black\" points=\"528.87,-36.58 539.45,-36.04 530.84,-29.86 528.87,-36.58\"/>\n</g>\n<!-- 6285989296 -->\n<g id=\"node5\" class=\"node\">\n<title>6285989296</title>\n<polygon fill=\"none\" stroke=\"black\" points=\"144,-36 90,-36 90,0 144,0 144,-36\"/>\n<text text-anchor=\"middle\" x=\"117\" y=\"-13.72\" font-family=\"Arial\" font-size=\"12.00\">b</text>\n</g>\n<!-- 6285989296&#45;&gt;6285992176 -->\n<g id=\"edge2\" class=\"edge\">\n<title>6285989296&#45;&gt;6285992176</title>\n<path fill=\"none\" stroke=\"black\" d=\"M144.4,-26.1C152.43,-28.56 161.39,-31.31 169.94,-33.94\"/>\n<polygon fill=\"black\" stroke=\"black\" points=\"168.79,-37.24 179.38,-36.83 170.84,-30.55 168.79,-37.24\"/>\n</g>\n<!-- 6285991984 -->\n<g id=\"node7\" class=\"node\">\n<title>6285991984</title>\n<ellipse fill=\"none\" stroke=\"black\" cx=\"27\" cy=\"-45\" rx=\"27\" ry=\"27\"/>\n<text text-anchor=\"start\" x=\"16.88\" y=\"-32.2\" font-family=\"Arial\" font-size=\"34.00\">●</text>\n</g>\n<!-- 6285991984&#45;&gt;6285985312 -->\n<g id=\"edge6\" class=\"edge\">\n<title>6285991984&#45;&gt;6285985312</title>\n<path fill=\"none\" stroke=\"black\" d=\"M52.98,-52.66C61.06,-55.14 70.19,-57.94 78.95,-60.63\"/>\n<polygon fill=\"black\" stroke=\"black\" points=\"77.69,-63.91 88.28,-63.5 79.75,-57.22 77.69,-63.91\"/>\n</g>\n<!-- 6285991984&#45;&gt;6285989296 -->\n<g id=\"edge7\" class=\"edge\">\n<title>6285991984&#45;&gt;6285989296</title>\n<path fill=\"none\" stroke=\"black\" d=\"M52.98,-37.34C61.06,-34.86 70.19,-32.06 78.95,-29.37\"/>\n<polygon fill=\"black\" stroke=\"black\" points=\"79.75,-32.78 88.28,-26.5 77.69,-26.09 79.75,-32.78\"/>\n</g>\n<!-- 6285992176&#45;&gt;6285989536 -->\n<g id=\"edge8\" class=\"edge\">\n<title>6285992176&#45;&gt;6285989536</title>\n<path fill=\"none\" stroke=\"black\" d=\"M234.4,-45C241.89,-45 250.18,-45 258.2,-45\"/>\n<polygon fill=\"black\" stroke=\"black\" points=\"258.1,-48.5 268.1,-45 258.1,-41.5 258.1,-48.5\"/>\n</g>\n<!-- 6285992752&#45;&gt;6285992320 -->\n<g id=\"edge9\" class=\"edge\">\n<title>6285992752&#45;&gt;6285992320</title>\n<path fill=\"none\" stroke=\"black\" d=\"M412.98,-52.66C421.06,-55.14 430.19,-57.94 438.95,-60.63\"/>\n<polygon fill=\"black\" stroke=\"black\" points=\"437.69,-63.91 448.28,-63.5 439.75,-57.22 437.69,-63.91\"/>\n</g>\n<!-- 6285992752&#45;&gt;6285990112 -->\n<g id=\"edge10\" class=\"edge\">\n<title>6285992752&#45;&gt;6285990112</title>\n<path fill=\"none\" stroke=\"black\" d=\"M412.98,-37.34C421.06,-34.86 430.19,-32.06 438.95,-29.37\"/>\n<polygon fill=\"black\" stroke=\"black\" points=\"439.75,-32.78 448.28,-26.5 437.69,-26.09 439.75,-32.78\"/>\n</g>\n</g>\n</svg>\n",
      "text/plain": [
       "<graphviz.graphs.Digraph at 0x176aca540>"
      ]
     },
     "execution_count": 66,
     "metadata": {},
     "output_type": "execute_result"
    }
   ],
   "execution_count": 66
  },
  {
   "metadata": {
    "ExecuteTime": {
     "end_time": "2024-06-22T10:44:47.772819Z",
     "start_time": "2024-06-22T10:44:47.544786Z"
    }
   },
   "cell_type": "code",
   "source": [
    "net, start, end = pm4py.discover_petri_net_alpha(utils.import_csv(non_local_log))\n",
    "pm4py.view_petri_net(net, start, end)"
   ],
   "id": "c9be46b76353a051",
   "outputs": [
    {
     "data": {
      "image/png": "[encoded data removed]",
      "text/plain": [
       "<IPython.core.display.Image object>"
      ]
     },
     "metadata": {},
     "output_type": "display_data"
    }
   ],
   "execution_count": 67
  },
  {
   "cell_type": "markdown",
   "id": "dbd75c0ab8251b7f",
   "metadata": {},
   "source": [
    "### Representational Bias\n",
    "\n",
    "The algorithm has a representational bias, as it cannot discover transitions with duplicate or invisible labels. For example, in the following event log, the Alpha algorithm would discover the following model:\n",
    "\n",
    "`{ABC, AC}`"
   ]
  },
  {
   "cell_type": "code",
   "id": "acbeeb389db27e83",
   "metadata": {
    "ExecuteTime": {
     "end_time": "2024-06-22T10:44:47.829522Z",
     "start_time": "2024-06-22T10:44:47.774018Z"
    }
   },
   "source": [
    "representational_log = utils.event_log_to_csv([(\"a\", \"b\", \"c\"), (\"a\", \"c\")])\n",
    "miner_representational = AlphaMiner(representational_log)\n",
    "miner_representational.event_log"
   ],
   "outputs": [
    {
     "data": {
      "text/plain": [
       "  case_id activity  activity_id\n",
       "0       1        a            0\n",
       "1       1        b            1\n",
       "2       1        c            2\n",
       "3       2        a            0\n",
       "4       2        c            2"
      ],
      "text/html": [
       "<div>\n",
       "<style scoped>\n",
       "    .dataframe tbody tr th:only-of-type {\n",
       "        vertical-align: middle;\n",
       "    }\n",
       "\n",
       "    .dataframe tbody tr th {\n",
       "        vertical-align: top;\n",
       "    }\n",
       "\n",
       "    .dataframe thead th {\n",
       "        text-align: right;\n",
       "    }\n",
       "</style>\n",
       "<table border=\"1\" class=\"dataframe\">\n",
       "  <thead>\n",
       "    <tr style=\"text-align: right;\">\n",
       "      <th></th>\n",
       "      <th>case_id</th>\n",
       "      <th>activity</th>\n",
       "      <th>activity_id</th>\n",
       "    </tr>\n",
       "  </thead>\n",
       "  <tbody>\n",
       "    <tr>\n",
       "      <th>0</th>\n",
       "      <td>1</td>\n",
       "      <td>a</td>\n",
       "      <td>0</td>\n",
       "    </tr>\n",
       "    <tr>\n",
       "      <th>1</th>\n",
       "      <td>1</td>\n",
       "      <td>b</td>\n",
       "      <td>1</td>\n",
       "    </tr>\n",
       "    <tr>\n",
       "      <th>2</th>\n",
       "      <td>1</td>\n",
       "      <td>c</td>\n",
       "      <td>2</td>\n",
       "    </tr>\n",
       "    <tr>\n",
       "      <th>3</th>\n",
       "      <td>2</td>\n",
       "      <td>a</td>\n",
       "      <td>0</td>\n",
       "    </tr>\n",
       "    <tr>\n",
       "      <th>4</th>\n",
       "      <td>2</td>\n",
       "      <td>c</td>\n",
       "      <td>2</td>\n",
       "    </tr>\n",
       "  </tbody>\n",
       "</table>\n",
       "</div>"
      ]
     },
     "execution_count": 68,
     "metadata": {},
     "output_type": "execute_result"
    }
   ],
   "execution_count": 68
  },
  {
   "cell_type": "code",
   "id": "840f2b7f1b0aeca1",
   "metadata": {
    "ExecuteTime": {
     "end_time": "2024-06-22T10:44:47.868510Z",
     "start_time": "2024-06-22T10:44:47.830788Z"
    }
   },
   "source": [
    "print(miner_representational.footprint_matrix())"
   ],
   "outputs": [
    {
     "name": "stdout",
     "output_type": "stream",
     "text": [
      "   a  b  c\n",
      "a  #  →  →\n",
      "b  ←  #  →\n",
      "c  ←  ←  #\n"
     ]
    }
   ],
   "execution_count": 69
  },
  {
   "cell_type": "code",
   "id": "b6094653c3c58b22",
   "metadata": {
    "ExecuteTime": {
     "end_time": "2024-06-22T10:44:47.903181Z",
     "start_time": "2024-06-22T10:44:47.869399Z"
    }
   },
   "source": [
    "miner_representational.print_pairs()"
   ],
   "outputs": [
    {
     "name": "stdout",
     "output_type": "stream",
     "text": [
      "Following pairs:\n",
      "[({'a'}, {'b'}), ({'a'}, {'c'}), ({'b'}, {'c'})]\n",
      "\n",
      "Parallel pairs:\n",
      "[]\n",
      "\n",
      "Sequential pairs:\n",
      "[({'a'}, {'b'}), ({'a'}, {'c'}), ({'b'}, {'c'})]\n",
      "\n",
      "Not following pairs:\n",
      "[({'a'}, {'a'}), ({'b'}, {'b'}), ({'c'}, {'c'})]\n",
      "\n",
      "Before pairs:\n",
      "[({'b'}, {'a'}), ({'c'}, {'a'}), ({'c'}, {'b'})]\n",
      "\n",
      "Maximal pairs:\n",
      "[({'a'}, {'b'}), ({'a'}, {'c'}), ({'b'}, {'c'})]\n",
      "\n"
     ]
    }
   ],
   "execution_count": 70
  },
  {
   "cell_type": "code",
   "id": "1015bfe708d07560",
   "metadata": {
    "ExecuteTime": {
     "end_time": "2024-06-22T10:44:48.084708Z",
     "start_time": "2024-06-22T10:44:47.903981Z"
    }
   },
   "source": [
    "miner_representational.build_and_visualize_petrinet()"
   ],
   "outputs": [
    {
     "data": {
      "image/svg+xml": "<?xml version=\"1.0\" encoding=\"UTF-8\" standalone=\"no\"?>\n<!DOCTYPE svg PUBLIC \"-//W3C//DTD SVG 1.1//EN\"\n \"http://www.w3.org/Graphics/SVG/1.1/DTD/svg11.dtd\">\n<!-- Generated by graphviz version 10.0.1 (20240210.2158)\n -->\n<!-- Title: Alpha Miner Petri Net Pages: 1 -->\n<svg width=\"610pt\" height=\"123pt\"\n viewBox=\"0.00 0.00 610.00 123.00\" xmlns=\"http://www.w3.org/2000/svg\" xmlns:xlink=\"http://www.w3.org/1999/xlink\">\n<g id=\"graph0\" class=\"graph\" transform=\"scale(1 1) rotate(0) translate(4 119)\">\n<title>Alpha Miner Petri Net</title>\n<polygon fill=\"white\" stroke=\"none\" points=\"-4,4 -4,-119 606,-119 606,4 -4,4\"/>\n<!-- 6285996016 -->\n<g id=\"node1\" class=\"node\">\n<title>6285996016</title>\n<polygon fill=\"none\" stroke=\"black\" points=\"144,-76 90,-76 90,-40 144,-40 144,-76\"/>\n<text text-anchor=\"middle\" x=\"117\" y=\"-53.73\" font-family=\"Arial\" font-size=\"12.00\">a</text>\n</g>\n<!-- 6285988816 -->\n<g id=\"node6\" class=\"node\">\n<title>6285988816</title>\n<ellipse fill=\"none\" stroke=\"black\" cx=\"207\" cy=\"-88\" rx=\"27\" ry=\"27\"/>\n</g>\n<!-- 6285996016&#45;&gt;6285988816 -->\n<g id=\"edge1\" class=\"edge\">\n<title>6285996016&#45;&gt;6285988816</title>\n<path fill=\"none\" stroke=\"black\" d=\"M144.4,-67C152.59,-69.79 161.75,-72.92 170.45,-75.88\"/>\n<polygon fill=\"black\" stroke=\"black\" points=\"169.1,-79.12 179.69,-79.03 171.35,-72.49 169.1,-79.12\"/>\n</g>\n<!-- 6286083376 -->\n<g id=\"node7\" class=\"node\">\n<title>6286083376</title>\n<ellipse fill=\"none\" stroke=\"black\" cx=\"297\" cy=\"-27\" rx=\"27\" ry=\"27\"/>\n</g>\n<!-- 6285996016&#45;&gt;6286083376 -->\n<g id=\"edge2\" class=\"edge\">\n<title>6285996016&#45;&gt;6286083376</title>\n<path fill=\"none\" stroke=\"black\" d=\"M144.26,-53.43C174.59,-48.14 224.68,-39.42 258.95,-33.45\"/>\n<polygon fill=\"black\" stroke=\"black\" points=\"259.18,-36.97 268.43,-31.8 257.97,-30.07 259.18,-36.97\"/>\n</g>\n<!-- 6285995104 -->\n<g id=\"node2\" class=\"node\">\n<title>6285995104</title>\n<polygon fill=\"none\" stroke=\"black\" points=\"324,-108 270,-108 270,-72 324,-72 324,-108\"/>\n<text text-anchor=\"middle\" x=\"297\" y=\"-85.72\" font-family=\"Arial\" font-size=\"12.00\">b</text>\n</g>\n<!-- 6286083712 -->\n<g id=\"node8\" class=\"node\">\n<title>6286083712</title>\n<ellipse fill=\"none\" stroke=\"black\" cx=\"387\" cy=\"-88\" rx=\"27\" ry=\"27\"/>\n</g>\n<!-- 6285995104&#45;&gt;6286083712 -->\n<g id=\"edge3\" class=\"edge\">\n<title>6285995104&#45;&gt;6286083712</title>\n<path fill=\"none\" stroke=\"black\" d=\"M324.4,-89.4C331.89,-89.23 340.18,-89.04 348.2,-88.86\"/>\n<polygon fill=\"black\" stroke=\"black\" points=\"348.18,-92.36 358.1,-88.63 348.03,-85.36 348.18,-92.36\"/>\n</g>\n<!-- 6285995392 -->\n<g id=\"node3\" class=\"node\">\n<title>6285995392</title>\n<polygon fill=\"none\" stroke=\"black\" points=\"504,-76 450,-76 450,-40 504,-40 504,-76\"/>\n<text text-anchor=\"middle\" x=\"477\" y=\"-53.73\" font-family=\"Arial\" font-size=\"12.00\">c</text>\n</g>\n<!-- 6286084336 -->\n<g id=\"node4\" class=\"node\">\n<title>6286084336</title>\n<ellipse fill=\"none\" stroke=\"black\" cx=\"571\" cy=\"-58\" rx=\"27\" ry=\"27\"/>\n<ellipse fill=\"none\" stroke=\"black\" cx=\"571\" cy=\"-58\" rx=\"31\" ry=\"31\"/>\n<text text-anchor=\"start\" x=\"561.25\" y=\"-45.98\" font-family=\"Arial\" font-size=\"32.00\">■</text>\n</g>\n<!-- 6285995392&#45;&gt;6286084336 -->\n<g id=\"edge4\" class=\"edge\">\n<title>6285995392&#45;&gt;6286084336</title>\n<path fill=\"none\" stroke=\"black\" d=\"M504.12,-58C511.63,-58 520.01,-58 528.22,-58\"/>\n<polygon fill=\"black\" stroke=\"black\" points=\"528.08,-61.5 538.08,-58 528.08,-54.5 528.08,-61.5\"/>\n</g>\n<!-- 6285998128 -->\n<g id=\"node5\" class=\"node\">\n<title>6285998128</title>\n<ellipse fill=\"none\" stroke=\"black\" cx=\"27\" cy=\"-58\" rx=\"27\" ry=\"27\"/>\n<text text-anchor=\"start\" x=\"16.88\" y=\"-45.2\" font-family=\"Arial\" font-size=\"34.00\">●</text>\n</g>\n<!-- 6285998128&#45;&gt;6285996016 -->\n<g id=\"edge5\" class=\"edge\">\n<title>6285998128&#45;&gt;6285996016</title>\n<path fill=\"none\" stroke=\"black\" d=\"M54.4,-58C61.89,-58 70.18,-58 78.2,-58\"/>\n<polygon fill=\"black\" stroke=\"black\" points=\"78.1,-61.5 88.1,-58 78.1,-54.5 78.1,-61.5\"/>\n</g>\n<!-- 6285988816&#45;&gt;6285995104 -->\n<g id=\"edge6\" class=\"edge\">\n<title>6285988816&#45;&gt;6285995104</title>\n<path fill=\"none\" stroke=\"black\" d=\"M234.4,-88.6C241.89,-88.77 250.18,-88.96 258.2,-89.14\"/>\n<polygon fill=\"black\" stroke=\"black\" points=\"258.03,-92.64 268.1,-89.37 258.18,-85.64 258.03,-92.64\"/>\n</g>\n<!-- 6286083376&#45;&gt;6285995392 -->\n<g id=\"edge7\" class=\"edge\">\n<title>6286083376&#45;&gt;6285995392</title>\n<path fill=\"none\" stroke=\"black\" d=\"M323.88,-31.51C354.03,-36.76 404.08,-45.48 438.49,-51.47\"/>\n<polygon fill=\"black\" stroke=\"black\" points=\"437.56,-54.86 448.01,-53.13 438.76,-47.96 437.56,-54.86\"/>\n</g>\n<!-- 6286083712&#45;&gt;6285995392 -->\n<g id=\"edge8\" class=\"edge\">\n<title>6286083712&#45;&gt;6285995392</title>\n<path fill=\"none\" stroke=\"black\" d=\"M412.98,-79.48C421.06,-76.73 430.19,-73.62 438.95,-70.63\"/>\n<polygon fill=\"black\" stroke=\"black\" points=\"439.96,-73.98 448.29,-67.44 437.7,-67.36 439.96,-73.98\"/>\n</g>\n</g>\n</svg>\n",
      "text/plain": [
       "<graphviz.graphs.Digraph at 0x176ae0b30>"
      ]
     },
     "execution_count": 71,
     "metadata": {},
     "output_type": "execute_result"
    }
   ],
   "execution_count": 71
  },
  {
   "metadata": {
    "ExecuteTime": {
     "end_time": "2024-06-22T10:44:48.314283Z",
     "start_time": "2024-06-22T10:44:48.085529Z"
    }
   },
   "cell_type": "code",
   "source": [
    "net, start, end = pm4py.discover_petri_net_alpha(utils.import_csv(representational_log))\n",
    "pm4py.view_petri_net(net, start, end)"
   ],
   "id": "4f15d873a85f2942",
   "outputs": [
    {
     "data": {
      "image/png": "[encoded data removed]",
      "text/plain": [
       "<IPython.core.display.Image object>"
      ]
     },
     "metadata": {},
     "output_type": "display_data"
    }
   ],
   "execution_count": 72
  },
  {
   "cell_type": "markdown",
   "id": "ab9c9535d062d0c0",
   "metadata": {},
   "source": [
    "### Soundness\n",
    "\n",
    "The discovered model does not need to be sound. For example, in the following event log, the Alpha algorithm would discover the following model:\n",
    "\n",
    "`{ABDEF, ACEDF}`"
   ]
  },
  {
   "cell_type": "code",
   "id": "c2b707c27a0a87d6",
   "metadata": {
    "ExecuteTime": {
     "end_time": "2024-06-22T10:44:48.356208Z",
     "start_time": "2024-06-22T10:44:48.315274Z"
    }
   },
   "source": [
    "unsound_log = utils.event_log_to_csv([(\"a\", \"b\", \"d\", \"e\", \"f\"), (\"a\", \"c\", \"e\", \"d\", \"f\")])\n",
    "miner_unsound = AlphaMiner(unsound_log)\n",
    "miner_unsound.event_log.head()"
   ],
   "outputs": [
    {
     "data": {
      "text/plain": [
       "  case_id activity  activity_id\n",
       "0       1        a            0\n",
       "1       1        b            1\n",
       "2       1        d            3\n",
       "3       1        e            4\n",
       "4       1        f            5"
      ],
      "text/html": [
       "<div>\n",
       "<style scoped>\n",
       "    .dataframe tbody tr th:only-of-type {\n",
       "        vertical-align: middle;\n",
       "    }\n",
       "\n",
       "    .dataframe tbody tr th {\n",
       "        vertical-align: top;\n",
       "    }\n",
       "\n",
       "    .dataframe thead th {\n",
       "        text-align: right;\n",
       "    }\n",
       "</style>\n",
       "<table border=\"1\" class=\"dataframe\">\n",
       "  <thead>\n",
       "    <tr style=\"text-align: right;\">\n",
       "      <th></th>\n",
       "      <th>case_id</th>\n",
       "      <th>activity</th>\n",
       "      <th>activity_id</th>\n",
       "    </tr>\n",
       "  </thead>\n",
       "  <tbody>\n",
       "    <tr>\n",
       "      <th>0</th>\n",
       "      <td>1</td>\n",
       "      <td>a</td>\n",
       "      <td>0</td>\n",
       "    </tr>\n",
       "    <tr>\n",
       "      <th>1</th>\n",
       "      <td>1</td>\n",
       "      <td>b</td>\n",
       "      <td>1</td>\n",
       "    </tr>\n",
       "    <tr>\n",
       "      <th>2</th>\n",
       "      <td>1</td>\n",
       "      <td>d</td>\n",
       "      <td>3</td>\n",
       "    </tr>\n",
       "    <tr>\n",
       "      <th>3</th>\n",
       "      <td>1</td>\n",
       "      <td>e</td>\n",
       "      <td>4</td>\n",
       "    </tr>\n",
       "    <tr>\n",
       "      <th>4</th>\n",
       "      <td>1</td>\n",
       "      <td>f</td>\n",
       "      <td>5</td>\n",
       "    </tr>\n",
       "  </tbody>\n",
       "</table>\n",
       "</div>"
      ]
     },
     "execution_count": 73,
     "metadata": {},
     "output_type": "execute_result"
    }
   ],
   "execution_count": 73
  },
  {
   "cell_type": "code",
   "id": "1f4c3eb52e6bc8d9",
   "metadata": {
    "ExecuteTime": {
     "end_time": "2024-06-22T10:44:48.389580Z",
     "start_time": "2024-06-22T10:44:48.356916Z"
    }
   },
   "source": [
    "print(miner_unsound.footprint_matrix())"
   ],
   "outputs": [
    {
     "name": "stdout",
     "output_type": "stream",
     "text": [
      "   a  b  c   d   e  f\n",
      "a  #  →  →   #   #  #\n",
      "b  ←  #  #   →   #  #\n",
      "c  ←  #  #   #   →  #\n",
      "d  #  ←  #   #  ||  →\n",
      "e  #  #  ←  ||   #  →\n",
      "f  #  #  #   ←   ←  #\n"
     ]
    }
   ],
   "execution_count": 74
  },
  {
   "cell_type": "code",
   "id": "3c30addb0b2402fa",
   "metadata": {
    "ExecuteTime": {
     "end_time": "2024-06-22T10:44:48.422347Z",
     "start_time": "2024-06-22T10:44:48.390361Z"
    }
   },
   "source": [
    "miner_unsound.print_pairs()"
   ],
   "outputs": [
    {
     "name": "stdout",
     "output_type": "stream",
     "text": [
      "Following pairs:\n",
      "[({'a'}, {'b'}), ({'c'}, {'e'}), ({'d'}, {'e'}), ({'e'}, {'d'}), ({'a'}, {'c'}), ({'e'}, {'f'}), ({'b'}, {'d'}), ({'d'}, {'f'})]\n",
      "\n",
      "Parallel pairs:\n",
      "[({'d'}, {'e'}), ({'e'}, {'d'})]\n",
      "\n",
      "Sequential pairs:\n",
      "[({'a'}, {'b'}), ({'c'}, {'e'}), ({'a'}, {'c'}), ({'e'}, {'f'}), ({'b'}, {'d'}), ({'d'}, {'f'})]\n",
      "\n",
      "Not following pairs:\n",
      "[({'a'}, {'a'}), ({'a'}, {'d'}), ({'a'}, {'e'}), ({'a'}, {'f'}), ({'b'}, {'b'}), ({'b'}, {'c'}), ({'b'}, {'e'}), ({'b'}, {'f'}), ({'c'}, {'b'}), ({'c'}, {'c'}), ({'c'}, {'d'}), ({'c'}, {'f'}), ({'d'}, {'a'}), ({'d'}, {'c'}), ({'d'}, {'d'}), ({'e'}, {'a'}), ({'e'}, {'b'}), ({'e'}, {'e'}), ({'f'}, {'a'}), ({'f'}, {'b'}), ({'f'}, {'c'}), ({'f'}, {'f'})]\n",
      "\n",
      "Before pairs:\n",
      "[({'b'}, {'a'}), ({'c'}, {'a'}), ({'d'}, {'b'}), ({'e'}, {'c'}), ({'f'}, {'d'}), ({'f'}, {'e'})]\n",
      "\n",
      "Maximal pairs:\n",
      "[({'c'}, {'e'}), ({'a'}, {'c', 'b'}), ({'e'}, {'f'}), ({'b'}, {'d'}), ({'d'}, {'f'})]\n",
      "\n"
     ]
    }
   ],
   "execution_count": 75
  },
  {
   "cell_type": "code",
   "id": "46f544a5818e52a2",
   "metadata": {
    "ExecuteTime": {
     "end_time": "2024-06-22T10:44:48.583367Z",
     "start_time": "2024-06-22T10:44:48.423150Z"
    }
   },
   "source": [
    "miner_unsound.build_and_visualize_petrinet()"
   ],
   "outputs": [
    {
     "data": {
      "image/svg+xml": "<?xml version=\"1.0\" encoding=\"UTF-8\" standalone=\"no\"?>\n<!DOCTYPE svg PUBLIC \"-//W3C//DTD SVG 1.1//EN\"\n \"http://www.w3.org/Graphics/SVG/1.1/DTD/svg11.dtd\">\n<!-- Generated by graphviz version 10.0.1 (20240210.2158)\n -->\n<!-- Title: Alpha Miner Petri Net Pages: 1 -->\n<svg width=\"790pt\" height=\"134pt\"\n viewBox=\"0.00 0.00 790.00 134.00\" xmlns=\"http://www.w3.org/2000/svg\" xmlns:xlink=\"http://www.w3.org/1999/xlink\">\n<g id=\"graph0\" class=\"graph\" transform=\"scale(1 1) rotate(0) translate(4 130)\">\n<title>Alpha Miner Petri Net</title>\n<polygon fill=\"white\" stroke=\"none\" points=\"-4,4 -4,-130 786,-130 786,4 -4,4\"/>\n<!-- 6285250624 -->\n<g id=\"node1\" class=\"node\">\n<title>6285250624</title>\n<polygon fill=\"none\" stroke=\"black\" points=\"144,-81 90,-81 90,-45 144,-45 144,-81\"/>\n<text text-anchor=\"middle\" x=\"117\" y=\"-58.73\" font-family=\"Arial\" font-size=\"12.00\">a</text>\n</g>\n<!-- 6286088656 -->\n<g id=\"node9\" class=\"node\">\n<title>6286088656</title>\n<ellipse fill=\"none\" stroke=\"black\" cx=\"207\" cy=\"-63\" rx=\"27\" ry=\"27\"/>\n</g>\n<!-- 6285250624&#45;&gt;6286088656 -->\n<g id=\"edge1\" class=\"edge\">\n<title>6285250624&#45;&gt;6286088656</title>\n<path fill=\"none\" stroke=\"black\" d=\"M144.4,-63C151.89,-63 160.18,-63 168.2,-63\"/>\n<polygon fill=\"black\" stroke=\"black\" points=\"168.1,-66.5 178.1,-63 168.1,-59.5 168.1,-66.5\"/>\n</g>\n<!-- 6286089184 -->\n<g id=\"node2\" class=\"node\">\n<title>6286089184</title>\n<polygon fill=\"none\" stroke=\"black\" points=\"504,-45 450,-45 450,-9 504,-9 504,-45\"/>\n<text text-anchor=\"middle\" x=\"477\" y=\"-22.73\" font-family=\"Arial\" font-size=\"12.00\">e</text>\n</g>\n<!-- 6286086112 -->\n<g id=\"node13\" class=\"node\">\n<title>6286086112</title>\n<ellipse fill=\"none\" stroke=\"black\" cx=\"567\" cy=\"-27\" rx=\"27\" ry=\"27\"/>\n</g>\n<!-- 6286089184&#45;&gt;6286086112 -->\n<g id=\"edge5\" class=\"edge\">\n<title>6286089184&#45;&gt;6286086112</title>\n<path fill=\"none\" stroke=\"black\" d=\"M504.4,-27C511.89,-27 520.18,-27 528.2,-27\"/>\n<polygon fill=\"black\" stroke=\"black\" points=\"528.1,-30.5 538.1,-27 528.1,-23.5 528.1,-30.5\"/>\n</g>\n<!-- 6285250432 -->\n<g id=\"node3\" class=\"node\">\n<title>6285250432</title>\n<polygon fill=\"none\" stroke=\"black\" points=\"324,-112 270,-112 270,-76 324,-76 324,-112\"/>\n<text text-anchor=\"middle\" x=\"297\" y=\"-89.72\" font-family=\"Arial\" font-size=\"12.00\">b</text>\n</g>\n<!-- 6286086688 -->\n<g id=\"node10\" class=\"node\">\n<title>6286086688</title>\n<ellipse fill=\"none\" stroke=\"black\" cx=\"387\" cy=\"-99\" rx=\"27\" ry=\"27\"/>\n</g>\n<!-- 6285250432&#45;&gt;6286086688 -->\n<g id=\"edge2\" class=\"edge\">\n<title>6285250432&#45;&gt;6286086688</title>\n<path fill=\"none\" stroke=\"black\" d=\"M324.4,-95.5C331.89,-95.93 340.18,-96.4 348.2,-96.85\"/>\n<polygon fill=\"black\" stroke=\"black\" points=\"347.92,-100.34 358.1,-97.42 348.32,-93.35 347.92,-100.34\"/>\n</g>\n<!-- 6286088416 -->\n<g id=\"node4\" class=\"node\">\n<title>6286088416</title>\n<polygon fill=\"none\" stroke=\"black\" points=\"684,-81 630,-81 630,-45 684,-45 684,-81\"/>\n<text text-anchor=\"middle\" x=\"657\" y=\"-58.73\" font-family=\"Arial\" font-size=\"12.00\">f</text>\n</g>\n<!-- 6286086544 -->\n<g id=\"node7\" class=\"node\">\n<title>6286086544</title>\n<ellipse fill=\"none\" stroke=\"black\" cx=\"751\" cy=\"-63\" rx=\"27\" ry=\"27\"/>\n<ellipse fill=\"none\" stroke=\"black\" cx=\"751\" cy=\"-63\" rx=\"31\" ry=\"31\"/>\n<text text-anchor=\"start\" x=\"741.25\" y=\"-50.98\" font-family=\"Arial\" font-size=\"32.00\">■</text>\n</g>\n<!-- 6286088416&#45;&gt;6286086544 -->\n<g id=\"edge6\" class=\"edge\">\n<title>6286088416&#45;&gt;6286086544</title>\n<path fill=\"none\" stroke=\"black\" d=\"M684.12,-63C691.63,-63 700.01,-63 708.22,-63\"/>\n<polygon fill=\"black\" stroke=\"black\" points=\"708.08,-66.5 718.08,-63 708.08,-59.5 708.08,-66.5\"/>\n</g>\n<!-- 6285251056 -->\n<g id=\"node5\" class=\"node\">\n<title>6285251056</title>\n<polygon fill=\"none\" stroke=\"black\" points=\"324,-54 270,-54 270,-18 324,-18 324,-54\"/>\n<text text-anchor=\"middle\" x=\"297\" y=\"-31.73\" font-family=\"Arial\" font-size=\"12.00\">c</text>\n</g>\n<!-- 6286088128 -->\n<g id=\"node11\" class=\"node\">\n<title>6286088128</title>\n<ellipse fill=\"none\" stroke=\"black\" cx=\"387\" cy=\"-27\" rx=\"27\" ry=\"27\"/>\n</g>\n<!-- 6285251056&#45;&gt;6286088128 -->\n<g id=\"edge3\" class=\"edge\">\n<title>6285251056&#45;&gt;6286088128</title>\n<path fill=\"none\" stroke=\"black\" d=\"M324.4,-33.3C332.04,-32.52 340.53,-31.65 348.7,-30.81\"/>\n<polygon fill=\"black\" stroke=\"black\" points=\"348.82,-34.32 358.41,-29.82 348.11,-27.36 348.82,-34.32\"/>\n</g>\n<!-- 6285256144 -->\n<g id=\"node6\" class=\"node\">\n<title>6285256144</title>\n<polygon fill=\"none\" stroke=\"black\" points=\"504,-117 450,-117 450,-81 504,-81 504,-117\"/>\n<text text-anchor=\"middle\" x=\"477\" y=\"-94.72\" font-family=\"Arial\" font-size=\"12.00\">d</text>\n</g>\n<!-- 6286088464 -->\n<g id=\"node12\" class=\"node\">\n<title>6286088464</title>\n<ellipse fill=\"none\" stroke=\"black\" cx=\"567\" cy=\"-99\" rx=\"27\" ry=\"27\"/>\n</g>\n<!-- 6285256144&#45;&gt;6286088464 -->\n<g id=\"edge4\" class=\"edge\">\n<title>6285256144&#45;&gt;6286088464</title>\n<path fill=\"none\" stroke=\"black\" d=\"M504.4,-99C511.89,-99 520.18,-99 528.2,-99\"/>\n<polygon fill=\"black\" stroke=\"black\" points=\"528.1,-102.5 538.1,-99 528.1,-95.5 528.1,-102.5\"/>\n</g>\n<!-- 6286088320 -->\n<g id=\"node8\" class=\"node\">\n<title>6286088320</title>\n<ellipse fill=\"none\" stroke=\"black\" cx=\"27\" cy=\"-63\" rx=\"27\" ry=\"27\"/>\n<text text-anchor=\"start\" x=\"16.88\" y=\"-50.2\" font-family=\"Arial\" font-size=\"34.00\">●</text>\n</g>\n<!-- 6286088320&#45;&gt;6285250624 -->\n<g id=\"edge7\" class=\"edge\">\n<title>6286088320&#45;&gt;6285250624</title>\n<path fill=\"none\" stroke=\"black\" d=\"M54.4,-63C61.89,-63 70.18,-63 78.2,-63\"/>\n<polygon fill=\"black\" stroke=\"black\" points=\"78.1,-66.5 88.1,-63 78.1,-59.5 78.1,-66.5\"/>\n</g>\n<!-- 6286088656&#45;&gt;6285250432 -->\n<g id=\"edge8\" class=\"edge\">\n<title>6286088656&#45;&gt;6285250432</title>\n<path fill=\"none\" stroke=\"black\" d=\"M232.98,-71.8C241.06,-74.64 250.19,-77.86 258.95,-80.95\"/>\n<polygon fill=\"black\" stroke=\"black\" points=\"257.71,-84.22 268.3,-84.24 260.03,-77.62 257.71,-84.22\"/>\n</g>\n<!-- 6286088656&#45;&gt;6285251056 -->\n<g id=\"edge9\" class=\"edge\">\n<title>6286088656&#45;&gt;6285251056</title>\n<path fill=\"none\" stroke=\"black\" d=\"M232.98,-55.34C241.06,-52.86 250.19,-50.06 258.95,-47.37\"/>\n<polygon fill=\"black\" stroke=\"black\" points=\"259.75,-50.78 268.28,-44.5 257.69,-44.09 259.75,-50.78\"/>\n</g>\n<!-- 6286086688&#45;&gt;6285256144 -->\n<g id=\"edge10\" class=\"edge\">\n<title>6286086688&#45;&gt;6285256144</title>\n<path fill=\"none\" stroke=\"black\" d=\"M414.4,-99C421.89,-99 430.18,-99 438.2,-99\"/>\n<polygon fill=\"black\" stroke=\"black\" points=\"438.1,-102.5 448.1,-99 438.1,-95.5 438.1,-102.5\"/>\n</g>\n<!-- 6286088128&#45;&gt;6286089184 -->\n<g id=\"edge11\" class=\"edge\">\n<title>6286088128&#45;&gt;6286089184</title>\n<path fill=\"none\" stroke=\"black\" d=\"M414.4,-27C421.89,-27 430.18,-27 438.2,-27\"/>\n<polygon fill=\"black\" stroke=\"black\" points=\"438.1,-30.5 448.1,-27 438.1,-23.5 438.1,-30.5\"/>\n</g>\n<!-- 6286088464&#45;&gt;6286088416 -->\n<g id=\"edge12\" class=\"edge\">\n<title>6286088464&#45;&gt;6286088416</title>\n<path fill=\"none\" stroke=\"black\" d=\"M592.51,-88.97C600.76,-85.6 610.14,-81.76 619.12,-78.09\"/>\n<polygon fill=\"black\" stroke=\"black\" points=\"620.44,-81.33 628.37,-74.3 617.79,-74.85 620.44,-81.33\"/>\n</g>\n<!-- 6286086112&#45;&gt;6286088416 -->\n<g id=\"edge13\" class=\"edge\">\n<title>6286086112&#45;&gt;6286088416</title>\n<path fill=\"none\" stroke=\"black\" d=\"M592.51,-37.03C600.76,-40.4 610.14,-44.24 619.12,-47.91\"/>\n<polygon fill=\"black\" stroke=\"black\" points=\"617.79,-51.15 628.37,-51.7 620.44,-44.67 617.79,-51.15\"/>\n</g>\n</g>\n</svg>\n",
      "text/plain": [
       "<graphviz.graphs.Digraph at 0x176ae1c10>"
      ]
     },
     "execution_count": 76,
     "metadata": {},
     "output_type": "execute_result"
    }
   ],
   "execution_count": 76
  },
  {
   "metadata": {
    "ExecuteTime": {
     "end_time": "2024-06-22T10:44:48.801899Z",
     "start_time": "2024-06-22T10:44:48.584166Z"
    }
   },
   "cell_type": "code",
   "source": [
    "net, start, end = pm4py.discover_petri_net_alpha(utils.import_csv(unsound_log))\n",
    "pm4py.view_petri_net(net, start, end)"
   ],
   "id": "7ded58fd972c420a",
   "outputs": [
    {
     "data": {
      "image/png": "[encoded data removed]",
      "text/plain": [
       "<IPython.core.display.Image object>"
      ]
     },
     "metadata": {},
     "output_type": "display_data"
    }
   ],
   "execution_count": 77
  },
  {
   "cell_type": "markdown",
   "id": "72f5f4571de8ed7a",
   "metadata": {},
   "source": [
    "## Real Example"
   ]
  },
  {
   "cell_type": "code",
   "id": "debc0ef53f74226f",
   "metadata": {
    "ExecuteTime": {
     "end_time": "2024-06-22T10:44:49.532370Z",
     "start_time": "2024-06-22T10:44:48.802907Z"
    }
   },
   "source": [
    "miner_real = AlphaMiner(\"sorted_session_data1.csv\")"
   ],
   "outputs": [],
   "execution_count": 78
  },
  {
   "cell_type": "code",
   "id": "49c1d00b2605198a",
   "metadata": {
    "ExecuteTime": {
     "end_time": "2024-06-22T10:44:49.570364Z",
     "start_time": "2024-06-22T10:44:49.533171Z"
    }
   },
   "source": [
    "miner_real.discover_footprints()"
   ],
   "outputs": [
    {
     "data": {
      "text/plain": [
       "{'dfg': {('10-stappen', 'WDO211959'),\n",
       "  ('50plus', 'mijn_berichten'),\n",
       "  ('50plus', 'top20-vacatures'),\n",
       "  ('50plus', 'vacatures_bij_mijn_cv'),\n",
       "  ('PORTAL.wwsec_app_priv.logout', 'home'),\n",
       "  ('Portal (ignore_request_page)', 'taken'),\n",
       "  ('WDO211559', 'WDO211559'),\n",
       "  ('WDO211559', 'inschrijven'),\n",
       "  ('WDO211559', 'mijn_berichten'),\n",
       "  ('WDO211559', 'mijn_cv'),\n",
       "  ('WDO211559', 'mijn_tips'),\n",
       "  ('WDO211559', 'mijn_werkmap'),\n",
       "  ('WDO211559', 'taken'),\n",
       "  ('WDO211559', 'vacatures_bij_mijn_cv'),\n",
       "  ('WDO211559', 'vacatures_zoeken'),\n",
       "  ('WDO211559', 'wdo_010304'),\n",
       "  ('WDO211559', 'werkmap'),\n",
       "  ('WDO211959', 'top20-vacatures'),\n",
       "  ('aanvragen-ww', 'PORTAL.wwsec_app_priv.logout'),\n",
       "  ('aanvragen-ww', 'aanvragen-ww'),\n",
       "  ('aanvragen-ww', 'home'),\n",
       "  ('aanvragen-ww', 'mijn_werkmap'),\n",
       "  ('aanvragen-ww', 'overzicht'),\n",
       "  ('bevestigingspagina', 'mijn_cv'),\n",
       "  ('bijstandsuitkering', 'inschrijven'),\n",
       "  ('certificaat-ervaring', 'wdo_014546'),\n",
       "  ('eigen-bedrijf', '10-stappen'),\n",
       "  ('email_uw_vraag', 'email_uw_vraag'),\n",
       "  ('email_uw_vraag', 'home'),\n",
       "  ('foutopgetreden.html', 'home'),\n",
       "  ('foutopgetreden.html', 'mijn_werkmap'),\n",
       "  ('foutopgetreden.html', 'uitkering-aanvragen'),\n",
       "  ('foutopgetreden.html', 'vacatures'),\n",
       "  ('geen-digid', 'hoe-verleng-ik-mijn-inschrijving-bij-uwv'),\n",
       "  ('gegevens', 'gegevens'),\n",
       "  ('gegevens', 'home'),\n",
       "  ('handleiding', 'werkmap'),\n",
       "  ('hoe-verleng-ik-mijn-inschrijving-bij-uwv', 'inschrijven'),\n",
       "  ('hoe-verleng-ik-mijn-inschrijving-bij-uwv', 'werkmap'),\n",
       "  ('home', 'aanvragen-ww'),\n",
       "  ('home', 'home'),\n",
       "  ('home', 'inschrijven'),\n",
       "  ('home', 'mijn_berichten'),\n",
       "  ('home', 'mijn_cv'),\n",
       "  ('home', 'mijn_sollicitaties'),\n",
       "  ('home', 'mijn_tips'),\n",
       "  ('home', 'mijn_werkmap'),\n",
       "  ('home', 'portal'),\n",
       "  ('home', 'sollicitatie-wijziging'),\n",
       "  ('home', 'solliciteren'),\n",
       "  ('home', 'solliciteren-werk-zoeken'),\n",
       "  ('home', 'taken'),\n",
       "  ('home', 'uitkering-aanvragen'),\n",
       "  ('home', 'vacatures'),\n",
       "  ('home', 'vacatures_bij_mijn_cv'),\n",
       "  ('home', 'vacatures_zoeken'),\n",
       "  ('home', 'wdo212395'),\n",
       "  ('home', 'werkmap'),\n",
       "  ('home', 'ww'),\n",
       "  ('home', 'zoeken'),\n",
       "  ('inschrijven', 'WDO211559'),\n",
       "  ('inschrijven', 'aanvragen-ww'),\n",
       "  ('inschrijven', 'bijstandsuitkering'),\n",
       "  ('inschrijven', 'foutopgetreden.html'),\n",
       "  ('inschrijven', 'geen-digid'),\n",
       "  ('inschrijven', 'gegevens'),\n",
       "  ('inschrijven', 'hoe-verleng-ik-mijn-inschrijving-bij-uwv'),\n",
       "  ('inschrijven', 'home'),\n",
       "  ('inschrijven', 'inschrijven'),\n",
       "  ('inschrijven', 'mijn_berichten'),\n",
       "  ('inschrijven', 'mijn_bewijs_van_inschrijving'),\n",
       "  ('inschrijven', 'mijn_cv'),\n",
       "  ('inschrijven', 'mijn_documenten'),\n",
       "  ('inschrijven', 'mijn_online_trainingen'),\n",
       "  ('inschrijven', 'mijn_sollicitaties'),\n",
       "  ('inschrijven', 'mijn_tips'),\n",
       "  ('inschrijven', 'mijn_werkmap'),\n",
       "  ('inschrijven', 'solliciteren'),\n",
       "  ('inschrijven', 'taken'),\n",
       "  ('inschrijven', 'uitkering-aanvragen'),\n",
       "  ('inschrijven', 'uwvsanlig-webfont.eot'),\n",
       "  ('inschrijven', 'uwvsanlig-webfont.woff'),\n",
       "  ('inschrijven', 'vacatures_bij_mijn_cv'),\n",
       "  ('inschrijven', 'vacatures_zoeken'),\n",
       "  ('inschrijven', 'vragenlijst-uwv'),\n",
       "  ('inschrijven', 'wdo211818'),\n",
       "  ('inschrijven', 'wdo212395'),\n",
       "  ('inschrijven', 'wdo_010304'),\n",
       "  ('inschrijven', 'werkmap'),\n",
       "  ('inschrijven', 'ww'),\n",
       "  ('kansverkenner', 'eigen-bedrijf'),\n",
       "  ('kansverkenner', 'kansverkenner'),\n",
       "  ('kansverkenner', 'zoekBeroepenlijst'),\n",
       "  ('malta', 'malta'),\n",
       "  ('malta', 'vacatures_bij_mijn_cv'),\n",
       "  ('melding_sha2', 'home'),\n",
       "  ('mijn_agenda', 'mijn_agenda'),\n",
       "  ('mijn_agenda', 'mijn_netwerk'),\n",
       "  ('mijn_berichten', '50plus'),\n",
       "  ('mijn_berichten', 'home'),\n",
       "  ('mijn_berichten', 'inschrijven'),\n",
       "  ('mijn_berichten', 'mijn_berichten'),\n",
       "  ('mijn_berichten', 'mijn_bewijs_van_inschrijving'),\n",
       "  ('mijn_berichten', 'mijn_cv'),\n",
       "  ('mijn_berichten', 'mijn_documenten'),\n",
       "  ('mijn_berichten', 'mijn_sollicitaties'),\n",
       "  ('mijn_berichten', 'mijn_tips'),\n",
       "  ('mijn_berichten', 'solliciteren'),\n",
       "  ('mijn_berichten', 'taken'),\n",
       "  ('mijn_berichten', 'vacatures_bij_mijn_cv'),\n",
       "  ('mijn_berichten', 'vacatures_zoeken'),\n",
       "  ('mijn_berichten', 'wdo212395'),\n",
       "  ('mijn_berichten', 'zoekBeroepenlijst'),\n",
       "  ('mijn_bewijs_van_inschrijving', 'home'),\n",
       "  ('mijn_bewijs_van_inschrijving', 'inschrijven'),\n",
       "  ('mijn_bewijs_van_inschrijving', 'mijn_rechten_en_plichten'),\n",
       "  ('mijn_bewijs_van_inschrijving', 'mijn_sollicitaties'),\n",
       "  ('mijn_bewijs_van_inschrijving', 'wdo212395'),\n",
       "  ('mijn_cv', 'aanvragen-ww'),\n",
       "  ('mijn_cv', 'email_uw_vraag'),\n",
       "  ('mijn_cv', 'foutopgetreden.html'),\n",
       "  ('mijn_cv', 'home'),\n",
       "  ('mijn_cv', 'mijn_berichten'),\n",
       "  ('mijn_cv', 'mijn_cv'),\n",
       "  ('mijn_cv', 'mijn_werkmap'),\n",
       "  ('mijn_cv', 'taken'),\n",
       "  ('mijn_cv', 'vacatures_bij_mijn_cv'),\n",
       "  ('mijn_cv', 'vacatures_zoeken'),\n",
       "  ('mijn_cv', 'wdo212395'),\n",
       "  ('mijn_cv', 'wijziging_doorgeven'),\n",
       "  ('mijn_documenten', 'home'),\n",
       "  ('mijn_documenten', 'mijn_berichten'),\n",
       "  ('mijn_documenten', 'mijn_cv'),\n",
       "  ('mijn_documenten', 'mijn_documenten'),\n",
       "  ('mijn_documenten', 'mijn_sollicitaties'),\n",
       "  ('mijn_documenten', 'mijn_tips'),\n",
       "  ('mijn_documenten', 'taken'),\n",
       "  ('mijn_documenten', 'vacatures_zoeken'),\n",
       "  ('mijn_netwerk', 'vacatures_zoeken'),\n",
       "  ('mijn_netwerk', 'wijziging_doorgeven'),\n",
       "  ('mijn_online_trainingen', 'home'),\n",
       "  ('mijn_online_trainingen', 'mijn_bewijs_van_inschrijving'),\n",
       "  ('mijn_online_trainingen', 'taken'),\n",
       "  ('mijn_online_trainingen', 'vacatures'),\n",
       "  ('mijn_rechten_en_plichten', 'home'),\n",
       "  ('mijn_rechten_en_plichten', 'vacatures_bij_mijn_cv'),\n",
       "  ('mijn_sollicitaties', 'home'),\n",
       "  ('mijn_sollicitaties', 'mijn_berichten'),\n",
       "  ('mijn_sollicitaties', 'mijn_documenten'),\n",
       "  ('mijn_sollicitaties', 'mijn_sollicitaties'),\n",
       "  ('mijn_sollicitaties', 'mijn_werkmap'),\n",
       "  ('mijn_sollicitaties', 'taken'),\n",
       "  ('mijn_sollicitaties', 'vacatures_bij_mijn_cv'),\n",
       "  ('mijn_sollicitaties', 'wdo211746'),\n",
       "  ('mijn_sollicitaties', 'wdo212395'),\n",
       "  ('mijn_sollicitaties', 'wijziging_doorgeven'),\n",
       "  ('mijn_tips', 'home'),\n",
       "  ('mijn_tips', 'mijn_agenda'),\n",
       "  ('mijn_tips', 'mijn_bewijs_van_inschrijving'),\n",
       "  ('mijn_tips', 'mijn_cv'),\n",
       "  ('mijn_tips', 'mijn_tips'),\n",
       "  ('mijn_tips', 'mijn_werkmap'),\n",
       "  ('mijn_werkmap', 'home'),\n",
       "  ('mijn_werkmap', 'inschrijven'),\n",
       "  ('mijn_werkmap', 'mijn_berichten'),\n",
       "  ('mijn_werkmap', 'mijn_cv'),\n",
       "  ('mijn_werkmap', 'mijn_documenten'),\n",
       "  ('mijn_werkmap', 'mijn_online_trainingen'),\n",
       "  ('mijn_werkmap', 'mijn_sollicitaties'),\n",
       "  ('mijn_werkmap', 'mijn_tips'),\n",
       "  ('mijn_werkmap', 'mijn_werkmap'),\n",
       "  ('mijn_werkmap', 'taken'),\n",
       "  ('mijn_werkmap', 'vacatures'),\n",
       "  ('mijn_werkmap', 'vacatures_bij_mijn_cv'),\n",
       "  ('mijn_werkmap', 'vacatures_zoeken'),\n",
       "  ('mijn_werkmap', 'wdo211812'),\n",
       "  ('mijn_werkmap', 'werkplan_lightbox'),\n",
       "  ('online-training', 'mijn_werkmap'),\n",
       "  ('online-training', 'ontwikkel-uzelf'),\n",
       "  ('ontwikkel-uzelf', 'opleiding'),\n",
       "  ('opleiding', 'wdo_014546'),\n",
       "  ('over-werk-nl', 'mijn_sollicitaties'),\n",
       "  ('overzicht', 'aanvragen-ww'),\n",
       "  ('overzicht', 'foutopgetreden.html'),\n",
       "  ('portal', 'taken'),\n",
       "  ('sollicitatie-wijziging', 'mijn_tips'),\n",
       "  ('solliciteren', 'home'),\n",
       "  ('solliciteren', 'online-training'),\n",
       "  ('solliciteren', 'solliciteren-werk-zoeken'),\n",
       "  ('solliciteren', 'taken'),\n",
       "  ('solliciteren', 'vacatures'),\n",
       "  ('solliciteren', 'wdo_010304'),\n",
       "  ('solliciteren-werk-zoeken', 'home'),\n",
       "  ('taken', 'home'),\n",
       "  ('taken', 'inschrijven'),\n",
       "  ('taken', 'mijn_berichten'),\n",
       "  ('taken', 'mijn_bewijs_van_inschrijving'),\n",
       "  ('taken', 'mijn_cv'),\n",
       "  ('taken', 'mijn_rechten_en_plichten'),\n",
       "  ('taken', 'mijn_sollicitaties'),\n",
       "  ('taken', 'mijn_tips'),\n",
       "  ('taken', 'mijn_werkmap'),\n",
       "  ('taken', 'taken'),\n",
       "  ('taken', 'vacatures_bij_mijn_cv'),\n",
       "  ('taken', 'vacatures_zoeken'),\n",
       "  ('taken', 'vragenlijst-uwv'),\n",
       "  ('taken', 'wdo211812'),\n",
       "  ('taken', 'wdo212395'),\n",
       "  ('taken', 'werkmap'),\n",
       "  ('taken', 'wijziging_doorgeven'),\n",
       "  ('top20-vacatures', 'mijn_berichten'),\n",
       "  ('top20-vacatures', 'taken'),\n",
       "  ('uitkering-aanvragen', 'ww'),\n",
       "  ('uwvsanlig-webfont.eot', 'WDO211559'),\n",
       "  ('uwvsanlig-webfont.eot', 'taken'),\n",
       "  ('uwvsanlig-webfont.woff', 'WDO211559'),\n",
       "  ('vacatures', 'home'),\n",
       "  ('vacatures', 'mijn_werkmap'),\n",
       "  ('vacatures', 'solliciteren'),\n",
       "  ('vacatures', 'vacatures'),\n",
       "  ('vacatures', 'vacatures_bij_mijn_cv'),\n",
       "  ('vacatures', 'zoekBeroep'),\n",
       "  ('vacatures_bij_mijn_cv', 'PORTAL.wwsbr_javascript.page_js'),\n",
       "  ('vacatures_bij_mijn_cv', 'Portal (ignore_request_page)'),\n",
       "  ('vacatures_bij_mijn_cv', 'foutopgetreden.html'),\n",
       "  ('vacatures_bij_mijn_cv', 'gegevens'),\n",
       "  ('vacatures_bij_mijn_cv', 'home'),\n",
       "  ('vacatures_bij_mijn_cv', 'mijn_berichten'),\n",
       "  ('vacatures_bij_mijn_cv', 'mijn_bewijs_van_inschrijving'),\n",
       "  ('vacatures_bij_mijn_cv', 'mijn_cv'),\n",
       "  ('vacatures_bij_mijn_cv', 'mijn_sollicitaties'),\n",
       "  ('vacatures_bij_mijn_cv', 'mijn_werkmap'),\n",
       "  ('vacatures_bij_mijn_cv', 'taken'),\n",
       "  ('vacatures_bij_mijn_cv', 'vacatures_bij_mijn_cv'),\n",
       "  ('vacatures_bij_mijn_cv', 'vacatures_zoeken'),\n",
       "  ('vacatures_bij_mijn_cv', 'wijziging_doorgeven'),\n",
       "  ('vacatures_zoeken', 'home'),\n",
       "  ('vacatures_zoeken', 'mijn_agenda'),\n",
       "  ('vacatures_zoeken', 'mijn_berichten'),\n",
       "  ('vacatures_zoeken', 'mijn_cv'),\n",
       "  ('vacatures_zoeken', 'mijn_werkmap'),\n",
       "  ('vacatures_zoeken', 'taken'),\n",
       "  ('vacatures_zoeken', 'vacatures_bij_mijn_cv'),\n",
       "  ('vacatures_zoeken', 'vacatures_zoeken'),\n",
       "  ('vragenlijst-uwv', 'home'),\n",
       "  ('vragenlijst-uwv', 'taken'),\n",
       "  ('vragenlijst-uwv', 'vragenlijst-uwv'),\n",
       "  ('wdo211746', 'wdo211812'),\n",
       "  ('wdo211812', 'home'),\n",
       "  ('wdo211812', 'mijn_werkmap'),\n",
       "  ('wdo211812', 'taken'),\n",
       "  ('wdo211818', 'werkmap'),\n",
       "  ('wdo212395', 'aanvragen-ww'),\n",
       "  ('wdo212395', 'gegevens'),\n",
       "  ('wdo212395', 'home'),\n",
       "  ('wdo212395', 'inschrijven'),\n",
       "  ('wdo212395', 'mijn_berichten'),\n",
       "  ('wdo212395', 'over-werk-nl'),\n",
       "  ('wdo212395', 'vacatures'),\n",
       "  ('wdo212395', 'wdo212395'),\n",
       "  ('wdo_010304', 'home'),\n",
       "  ('wdo_010304', 'taken'),\n",
       "  ('wdo_010304', 'wdo_010304'),\n",
       "  ('wdo_014546', 'certificaat-ervaring'),\n",
       "  ('wdo_014546', 'online-training'),\n",
       "  ('werkmap', 'handleiding'),\n",
       "  ('werkmap', 'home'),\n",
       "  ('werkmap', 'mijn_berichten'),\n",
       "  ('werkmap', 'mijn_cv'),\n",
       "  ('werkmap', 'mijn_werkmap'),\n",
       "  ('werkmap', 'solliciteren'),\n",
       "  ('werkmap', 'taken'),\n",
       "  ('werkmap', 'vacatures'),\n",
       "  ('werkmap', 'werkmap'),\n",
       "  ('werkplan_lightbox', 'taken'),\n",
       "  ('wijziging_doorgeven', 'bevestigingspagina'),\n",
       "  ('wijziging_doorgeven', 'mijn_berichten'),\n",
       "  ('wijziging_doorgeven', 'mijn_cv'),\n",
       "  ('wijziging_doorgeven', 'mijn_rechten_en_plichten'),\n",
       "  ('wijziging_doorgeven', 'taken'),\n",
       "  ('wijziging_doorgeven', 'vacatures_zoeken'),\n",
       "  ('wijziging_doorgeven', 'wijziging_doorgeven'),\n",
       "  ('ww', 'aanvragen-ww'),\n",
       "  ('ww', 'inschrijven'),\n",
       "  ('zoekAantalIndicatief', 'vacatures'),\n",
       "  ('zoekAantalIndicatief', 'zoekAantalIndicatief'),\n",
       "  ('zoekBeroep', 'zoekAantalIndicatief'),\n",
       "  ('zoekBeroep', 'zoekBeroep'),\n",
       "  ('zoekBeroepenlijst', 'kansverkenner'),\n",
       "  ('zoekBeroepenlijst', 'zoekBeroepenlijst')},\n",
       " 'sequence': {('10-stappen', 'WDO211959'),\n",
       "  ('50plus', 'top20-vacatures'),\n",
       "  ('50plus', 'vacatures_bij_mijn_cv'),\n",
       "  ('PORTAL.wwsec_app_priv.logout', 'home'),\n",
       "  ('Portal (ignore_request_page)', 'taken'),\n",
       "  ('WDO211559', 'mijn_berichten'),\n",
       "  ('WDO211559', 'mijn_cv'),\n",
       "  ('WDO211559', 'mijn_tips'),\n",
       "  ('WDO211559', 'mijn_werkmap'),\n",
       "  ('WDO211559', 'taken'),\n",
       "  ('WDO211559', 'vacatures_bij_mijn_cv'),\n",
       "  ('WDO211559', 'vacatures_zoeken'),\n",
       "  ('WDO211559', 'wdo_010304'),\n",
       "  ('WDO211559', 'werkmap'),\n",
       "  ('WDO211959', 'top20-vacatures'),\n",
       "  ('aanvragen-ww', 'PORTAL.wwsec_app_priv.logout'),\n",
       "  ('aanvragen-ww', 'mijn_werkmap'),\n",
       "  ('bevestigingspagina', 'mijn_cv'),\n",
       "  ('eigen-bedrijf', '10-stappen'),\n",
       "  ('email_uw_vraag', 'home'),\n",
       "  ('foutopgetreden.html', 'home'),\n",
       "  ('foutopgetreden.html', 'mijn_werkmap'),\n",
       "  ('foutopgetreden.html', 'uitkering-aanvragen'),\n",
       "  ('foutopgetreden.html', 'vacatures'),\n",
       "  ('geen-digid', 'hoe-verleng-ik-mijn-inschrijving-bij-uwv'),\n",
       "  ('gegevens', 'home'),\n",
       "  ('hoe-verleng-ik-mijn-inschrijving-bij-uwv', 'werkmap'),\n",
       "  ('home', 'portal'),\n",
       "  ('home', 'sollicitatie-wijziging'),\n",
       "  ('home', 'uitkering-aanvragen'),\n",
       "  ('home', 'ww'),\n",
       "  ('home', 'zoeken'),\n",
       "  ('inschrijven', 'aanvragen-ww'),\n",
       "  ('inschrijven', 'foutopgetreden.html'),\n",
       "  ('inschrijven', 'geen-digid'),\n",
       "  ('inschrijven', 'gegevens'),\n",
       "  ('inschrijven', 'mijn_cv'),\n",
       "  ('inschrijven', 'mijn_documenten'),\n",
       "  ('inschrijven', 'mijn_online_trainingen'),\n",
       "  ('inschrijven', 'mijn_sollicitaties'),\n",
       "  ('inschrijven', 'mijn_tips'),\n",
       "  ('inschrijven', 'solliciteren'),\n",
       "  ('inschrijven', 'uitkering-aanvragen'),\n",
       "  ('inschrijven', 'uwvsanlig-webfont.eot'),\n",
       "  ('inschrijven', 'uwvsanlig-webfont.woff'),\n",
       "  ('inschrijven', 'vacatures_bij_mijn_cv'),\n",
       "  ('inschrijven', 'vacatures_zoeken'),\n",
       "  ('inschrijven', 'vragenlijst-uwv'),\n",
       "  ('inschrijven', 'wdo211818'),\n",
       "  ('inschrijven', 'wdo_010304'),\n",
       "  ('inschrijven', 'werkmap'),\n",
       "  ('kansverkenner', 'eigen-bedrijf'),\n",
       "  ('malta', 'vacatures_bij_mijn_cv'),\n",
       "  ('melding_sha2', 'home'),\n",
       "  ('mijn_agenda', 'mijn_netwerk'),\n",
       "  ('mijn_berichten', 'mijn_bewijs_van_inschrijving'),\n",
       "  ('mijn_berichten', 'mijn_tips'),\n",
       "  ('mijn_berichten', 'solliciteren'),\n",
       "  ('mijn_berichten', 'zoekBeroepenlijst'),\n",
       "  ('mijn_bewijs_van_inschrijving', 'home'),\n",
       "  ('mijn_bewijs_van_inschrijving', 'mijn_rechten_en_plichten'),\n",
       "  ('mijn_bewijs_van_inschrijving', 'mijn_sollicitaties'),\n",
       "  ('mijn_bewijs_van_inschrijving', 'wdo212395'),\n",
       "  ('mijn_cv', 'aanvragen-ww'),\n",
       "  ('mijn_cv', 'email_uw_vraag'),\n",
       "  ('mijn_cv', 'foutopgetreden.html'),\n",
       "  ('mijn_cv', 'wdo212395'),\n",
       "  ('mijn_documenten', 'home'),\n",
       "  ('mijn_documenten', 'mijn_cv'),\n",
       "  ('mijn_documenten', 'mijn_tips'),\n",
       "  ('mijn_documenten', 'taken'),\n",
       "  ('mijn_documenten', 'vacatures_zoeken'),\n",
       "  ('mijn_netwerk', 'vacatures_zoeken'),\n",
       "  ('mijn_netwerk', 'wijziging_doorgeven'),\n",
       "  ('mijn_online_trainingen', 'home'),\n",
       "  ('mijn_online_trainingen', 'mijn_bewijs_van_inschrijving'),\n",
       "  ('mijn_online_trainingen', 'taken'),\n",
       "  ('mijn_online_trainingen', 'vacatures'),\n",
       "  ('mijn_rechten_en_plichten', 'home'),\n",
       "  ('mijn_rechten_en_plichten', 'vacatures_bij_mijn_cv'),\n",
       "  ('mijn_sollicitaties', 'wdo211746'),\n",
       "  ('mijn_sollicitaties', 'wdo212395'),\n",
       "  ('mijn_sollicitaties', 'wijziging_doorgeven'),\n",
       "  ('mijn_tips', 'mijn_agenda'),\n",
       "  ('mijn_tips', 'mijn_bewijs_van_inschrijving'),\n",
       "  ('mijn_tips', 'mijn_cv'),\n",
       "  ('mijn_werkmap', 'mijn_berichten'),\n",
       "  ('mijn_werkmap', 'mijn_documenten'),\n",
       "  ('mijn_werkmap', 'mijn_online_trainingen'),\n",
       "  ('mijn_werkmap', 'werkplan_lightbox'),\n",
       "  ('online-training', 'mijn_werkmap'),\n",
       "  ('online-training', 'ontwikkel-uzelf'),\n",
       "  ('ontwikkel-uzelf', 'opleiding'),\n",
       "  ('opleiding', 'wdo_014546'),\n",
       "  ('over-werk-nl', 'mijn_sollicitaties'),\n",
       "  ('overzicht', 'foutopgetreden.html'),\n",
       "  ('portal', 'taken'),\n",
       "  ('sollicitatie-wijziging', 'mijn_tips'),\n",
       "  ('solliciteren', 'online-training'),\n",
       "  ('solliciteren', 'solliciteren-werk-zoeken'),\n",
       "  ('solliciteren', 'taken'),\n",
       "  ('solliciteren', 'wdo_010304'),\n",
       "  ('taken', 'mijn_bewijs_van_inschrijving'),\n",
       "  ('taken', 'mijn_rechten_en_plichten'),\n",
       "  ('taken', 'mijn_tips'),\n",
       "  ('taken', 'wdo212395'),\n",
       "  ('top20-vacatures', 'mijn_berichten'),\n",
       "  ('top20-vacatures', 'taken'),\n",
       "  ('uitkering-aanvragen', 'ww'),\n",
       "  ('uwvsanlig-webfont.eot', 'WDO211559'),\n",
       "  ('uwvsanlig-webfont.eot', 'taken'),\n",
       "  ('uwvsanlig-webfont.woff', 'WDO211559'),\n",
       "  ('vacatures', 'vacatures_bij_mijn_cv'),\n",
       "  ('vacatures', 'zoekBeroep'),\n",
       "  ('vacatures_bij_mijn_cv', 'PORTAL.wwsbr_javascript.page_js'),\n",
       "  ('vacatures_bij_mijn_cv', 'Portal (ignore_request_page)'),\n",
       "  ('vacatures_bij_mijn_cv', 'foutopgetreden.html'),\n",
       "  ('vacatures_bij_mijn_cv', 'gegevens'),\n",
       "  ('vacatures_bij_mijn_cv', 'mijn_bewijs_van_inschrijving'),\n",
       "  ('vacatures_bij_mijn_cv', 'wijziging_doorgeven'),\n",
       "  ('vacatures_zoeken', 'mijn_agenda'),\n",
       "  ('vragenlijst-uwv', 'home'),\n",
       "  ('wdo211746', 'wdo211812'),\n",
       "  ('wdo211812', 'home'),\n",
       "  ('wdo211818', 'werkmap'),\n",
       "  ('wdo212395', 'aanvragen-ww'),\n",
       "  ('wdo212395', 'gegevens'),\n",
       "  ('wdo212395', 'over-werk-nl'),\n",
       "  ('wdo212395', 'vacatures'),\n",
       "  ('wdo_010304', 'home'),\n",
       "  ('wdo_010304', 'taken'),\n",
       "  ('wdo_014546', 'online-training'),\n",
       "  ('werkmap', 'mijn_berichten'),\n",
       "  ('werkmap', 'mijn_cv'),\n",
       "  ('werkmap', 'mijn_werkmap'),\n",
       "  ('werkmap', 'solliciteren'),\n",
       "  ('werkmap', 'vacatures'),\n",
       "  ('werkplan_lightbox', 'taken'),\n",
       "  ('wijziging_doorgeven', 'bevestigingspagina'),\n",
       "  ('wijziging_doorgeven', 'mijn_berichten'),\n",
       "  ('wijziging_doorgeven', 'mijn_rechten_en_plichten'),\n",
       "  ('wijziging_doorgeven', 'vacatures_zoeken'),\n",
       "  ('ww', 'aanvragen-ww'),\n",
       "  ('zoekAantalIndicatief', 'vacatures'),\n",
       "  ('zoekBeroep', 'zoekAantalIndicatief')},\n",
       " 'parallel': {('50plus', 'mijn_berichten'),\n",
       "  ('WDO211559', 'WDO211559'),\n",
       "  ('WDO211559', 'inschrijven'),\n",
       "  ('aanvragen-ww', 'aanvragen-ww'),\n",
       "  ('aanvragen-ww', 'home'),\n",
       "  ('aanvragen-ww', 'overzicht'),\n",
       "  ('bijstandsuitkering', 'inschrijven'),\n",
       "  ('certificaat-ervaring', 'wdo_014546'),\n",
       "  ('email_uw_vraag', 'email_uw_vraag'),\n",
       "  ('gegevens', 'gegevens'),\n",
       "  ('handleiding', 'werkmap'),\n",
       "  ('hoe-verleng-ik-mijn-inschrijving-bij-uwv', 'inschrijven'),\n",
       "  ('home', 'aanvragen-ww'),\n",
       "  ('home', 'home'),\n",
       "  ('home', 'inschrijven'),\n",
       "  ('home', 'mijn_berichten'),\n",
       "  ('home', 'mijn_cv'),\n",
       "  ('home', 'mijn_sollicitaties'),\n",
       "  ('home', 'mijn_tips'),\n",
       "  ('home', 'mijn_werkmap'),\n",
       "  ('home', 'solliciteren'),\n",
       "  ('home', 'solliciteren-werk-zoeken'),\n",
       "  ('home', 'taken'),\n",
       "  ('home', 'vacatures'),\n",
       "  ('home', 'vacatures_bij_mijn_cv'),\n",
       "  ('home', 'vacatures_zoeken'),\n",
       "  ('home', 'wdo212395'),\n",
       "  ('home', 'werkmap'),\n",
       "  ('inschrijven', 'WDO211559'),\n",
       "  ('inschrijven', 'bijstandsuitkering'),\n",
       "  ('inschrijven', 'hoe-verleng-ik-mijn-inschrijving-bij-uwv'),\n",
       "  ('inschrijven', 'home'),\n",
       "  ('inschrijven', 'inschrijven'),\n",
       "  ('inschrijven', 'mijn_berichten'),\n",
       "  ('inschrijven', 'mijn_bewijs_van_inschrijving'),\n",
       "  ('inschrijven', 'mijn_werkmap'),\n",
       "  ('inschrijven', 'taken'),\n",
       "  ('inschrijven', 'wdo212395'),\n",
       "  ('inschrijven', 'ww'),\n",
       "  ('kansverkenner', 'kansverkenner'),\n",
       "  ('kansverkenner', 'zoekBeroepenlijst'),\n",
       "  ('malta', 'malta'),\n",
       "  ('mijn_agenda', 'mijn_agenda'),\n",
       "  ('mijn_berichten', '50plus'),\n",
       "  ('mijn_berichten', 'home'),\n",
       "  ('mijn_berichten', 'inschrijven'),\n",
       "  ('mijn_berichten', 'mijn_berichten'),\n",
       "  ('mijn_berichten', 'mijn_cv'),\n",
       "  ('mijn_berichten', 'mijn_documenten'),\n",
       "  ('mijn_berichten', 'mijn_sollicitaties'),\n",
       "  ('mijn_berichten', 'taken'),\n",
       "  ('mijn_berichten', 'vacatures_bij_mijn_cv'),\n",
       "  ('mijn_berichten', 'vacatures_zoeken'),\n",
       "  ('mijn_berichten', 'wdo212395'),\n",
       "  ('mijn_bewijs_van_inschrijving', 'inschrijven'),\n",
       "  ('mijn_cv', 'home'),\n",
       "  ('mijn_cv', 'mijn_berichten'),\n",
       "  ('mijn_cv', 'mijn_cv'),\n",
       "  ('mijn_cv', 'mijn_werkmap'),\n",
       "  ('mijn_cv', 'taken'),\n",
       "  ('mijn_cv', 'vacatures_bij_mijn_cv'),\n",
       "  ('mijn_cv', 'vacatures_zoeken'),\n",
       "  ('mijn_cv', 'wijziging_doorgeven'),\n",
       "  ('mijn_documenten', 'mijn_berichten'),\n",
       "  ('mijn_documenten', 'mijn_documenten'),\n",
       "  ('mijn_documenten', 'mijn_sollicitaties'),\n",
       "  ('mijn_sollicitaties', 'home'),\n",
       "  ('mijn_sollicitaties', 'mijn_berichten'),\n",
       "  ('mijn_sollicitaties', 'mijn_documenten'),\n",
       "  ('mijn_sollicitaties', 'mijn_sollicitaties'),\n",
       "  ('mijn_sollicitaties', 'mijn_werkmap'),\n",
       "  ('mijn_sollicitaties', 'taken'),\n",
       "  ('mijn_sollicitaties', 'vacatures_bij_mijn_cv'),\n",
       "  ('mijn_tips', 'home'),\n",
       "  ('mijn_tips', 'mijn_tips'),\n",
       "  ('mijn_tips', 'mijn_werkmap'),\n",
       "  ('mijn_werkmap', 'home'),\n",
       "  ('mijn_werkmap', 'inschrijven'),\n",
       "  ('mijn_werkmap', 'mijn_cv'),\n",
       "  ('mijn_werkmap', 'mijn_sollicitaties'),\n",
       "  ('mijn_werkmap', 'mijn_tips'),\n",
       "  ('mijn_werkmap', 'mijn_werkmap'),\n",
       "  ('mijn_werkmap', 'taken'),\n",
       "  ('mijn_werkmap', 'vacatures'),\n",
       "  ('mijn_werkmap', 'vacatures_bij_mijn_cv'),\n",
       "  ('mijn_werkmap', 'vacatures_zoeken'),\n",
       "  ('mijn_werkmap', 'wdo211812'),\n",
       "  ('overzicht', 'aanvragen-ww'),\n",
       "  ('solliciteren', 'home'),\n",
       "  ('solliciteren', 'vacatures'),\n",
       "  ('solliciteren-werk-zoeken', 'home'),\n",
       "  ('taken', 'home'),\n",
       "  ('taken', 'inschrijven'),\n",
       "  ('taken', 'mijn_berichten'),\n",
       "  ('taken', 'mijn_cv'),\n",
       "  ('taken', 'mijn_sollicitaties'),\n",
       "  ('taken', 'mijn_werkmap'),\n",
       "  ('taken', 'taken'),\n",
       "  ('taken', 'vacatures_bij_mijn_cv'),\n",
       "  ('taken', 'vacatures_zoeken'),\n",
       "  ('taken', 'vragenlijst-uwv'),\n",
       "  ('taken', 'wdo211812'),\n",
       "  ('taken', 'werkmap'),\n",
       "  ('taken', 'wijziging_doorgeven'),\n",
       "  ('vacatures', 'home'),\n",
       "  ('vacatures', 'mijn_werkmap'),\n",
       "  ('vacatures', 'solliciteren'),\n",
       "  ('vacatures', 'vacatures'),\n",
       "  ('vacatures_bij_mijn_cv', 'home'),\n",
       "  ('vacatures_bij_mijn_cv', 'mijn_berichten'),\n",
       "  ('vacatures_bij_mijn_cv', 'mijn_cv'),\n",
       "  ('vacatures_bij_mijn_cv', 'mijn_sollicitaties'),\n",
       "  ('vacatures_bij_mijn_cv', 'mijn_werkmap'),\n",
       "  ('vacatures_bij_mijn_cv', 'taken'),\n",
       "  ('vacatures_bij_mijn_cv', 'vacatures_bij_mijn_cv'),\n",
       "  ('vacatures_bij_mijn_cv', 'vacatures_zoeken'),\n",
       "  ('vacatures_zoeken', 'home'),\n",
       "  ('vacatures_zoeken', 'mijn_berichten'),\n",
       "  ('vacatures_zoeken', 'mijn_cv'),\n",
       "  ('vacatures_zoeken', 'mijn_werkmap'),\n",
       "  ('vacatures_zoeken', 'taken'),\n",
       "  ('vacatures_zoeken', 'vacatures_bij_mijn_cv'),\n",
       "  ('vacatures_zoeken', 'vacatures_zoeken'),\n",
       "  ('vragenlijst-uwv', 'taken'),\n",
       "  ('vragenlijst-uwv', 'vragenlijst-uwv'),\n",
       "  ('wdo211812', 'mijn_werkmap'),\n",
       "  ('wdo211812', 'taken'),\n",
       "  ('wdo212395', 'home'),\n",
       "  ('wdo212395', 'inschrijven'),\n",
       "  ('wdo212395', 'mijn_berichten'),\n",
       "  ('wdo212395', 'wdo212395'),\n",
       "  ('wdo_010304', 'wdo_010304'),\n",
       "  ('wdo_014546', 'certificaat-ervaring'),\n",
       "  ('werkmap', 'handleiding'),\n",
       "  ('werkmap', 'home'),\n",
       "  ('werkmap', 'taken'),\n",
       "  ('werkmap', 'werkmap'),\n",
       "  ('wijziging_doorgeven', 'mijn_cv'),\n",
       "  ('wijziging_doorgeven', 'taken'),\n",
       "  ('wijziging_doorgeven', 'wijziging_doorgeven'),\n",
       "  ('ww', 'inschrijven'),\n",
       "  ('zoekAantalIndicatief', 'zoekAantalIndicatief'),\n",
       "  ('zoekBeroep', 'zoekBeroep'),\n",
       "  ('zoekBeroepenlijst', 'kansverkenner'),\n",
       "  ('zoekBeroepenlijst', 'zoekBeroepenlijst')},\n",
       " 'activities': {'10-stappen',\n",
       "  '50plus',\n",
       "  'PORTAL.wwsbr_javascript.page_js',\n",
       "  'PORTAL.wwsec_app_priv.logout',\n",
       "  'Portal (ignore_request_page)',\n",
       "  'WDO211559',\n",
       "  'WDO211959',\n",
       "  'aanvragen-ww',\n",
       "  'bevestigingspagina',\n",
       "  'bijstandsuitkering',\n",
       "  'certificaat-ervaring',\n",
       "  'eigen-bedrijf',\n",
       "  'email_uw_vraag',\n",
       "  'foutopgetreden.html',\n",
       "  'geen-digid',\n",
       "  'gegevens',\n",
       "  'handleiding',\n",
       "  'hoe-verleng-ik-mijn-inschrijving-bij-uwv',\n",
       "  'home',\n",
       "  'inschrijven',\n",
       "  'kansverkenner',\n",
       "  'malta',\n",
       "  'melding_sha2',\n",
       "  'mijn_agenda',\n",
       "  'mijn_berichten',\n",
       "  'mijn_bewijs_van_inschrijving',\n",
       "  'mijn_cv',\n",
       "  'mijn_documenten',\n",
       "  'mijn_netwerk',\n",
       "  'mijn_online_trainingen',\n",
       "  'mijn_rechten_en_plichten',\n",
       "  'mijn_sollicitaties',\n",
       "  'mijn_tips',\n",
       "  'mijn_werkmap',\n",
       "  'online-training',\n",
       "  'ontwikkel-uzelf',\n",
       "  'opleiding',\n",
       "  'over-werk-nl',\n",
       "  'overzicht',\n",
       "  'portal',\n",
       "  'sollicitatie-wijziging',\n",
       "  'solliciteren',\n",
       "  'solliciteren-werk-zoeken',\n",
       "  'taken',\n",
       "  'top20-vacatures',\n",
       "  'uitkering-aanvragen',\n",
       "  'uwvsanlig-webfont.eot',\n",
       "  'uwvsanlig-webfont.woff',\n",
       "  'vacatures',\n",
       "  'vacatures_bij_mijn_cv',\n",
       "  'vacatures_zoeken',\n",
       "  'vragenlijst-uwv',\n",
       "  'wdo211746',\n",
       "  'wdo211812',\n",
       "  'wdo211818',\n",
       "  'wdo212395',\n",
       "  'wdo_010304',\n",
       "  'wdo_014546',\n",
       "  'werkmap',\n",
       "  'werkplan_lightbox',\n",
       "  'wijziging_doorgeven',\n",
       "  'ww',\n",
       "  'zoekAantalIndicatief',\n",
       "  'zoekBeroep',\n",
       "  'zoekBeroepenlijst',\n",
       "  'zoeken'},\n",
       " 'start_activities': {'50plus',\n",
       "  'gegevens',\n",
       "  'inschrijven',\n",
       "  'malta',\n",
       "  'melding_sha2',\n",
       "  'vacatures_bij_mijn_cv'},\n",
       " 'end_activities': {'50plus',\n",
       "  'PORTAL.wwsbr_javascript.page_js',\n",
       "  'aanvragen-ww',\n",
       "  'foutopgetreden.html',\n",
       "  'gegevens',\n",
       "  'home',\n",
       "  'inschrijven',\n",
       "  'mijn_berichten',\n",
       "  'mijn_bewijs_van_inschrijving',\n",
       "  'mijn_cv',\n",
       "  'mijn_documenten',\n",
       "  'mijn_rechten_en_plichten',\n",
       "  'mijn_sollicitaties',\n",
       "  'mijn_werkmap',\n",
       "  'solliciteren',\n",
       "  'taken',\n",
       "  'uitkering-aanvragen',\n",
       "  'vacatures',\n",
       "  'vacatures_bij_mijn_cv',\n",
       "  'vacatures_zoeken',\n",
       "  'wdo212395',\n",
       "  'wdo_010304',\n",
       "  'werkmap',\n",
       "  'wijziging_doorgeven',\n",
       "  'ww',\n",
       "  'zoeken'},\n",
       " 'min_trace_length': 1}"
      ]
     },
     "execution_count": 79,
     "metadata": {},
     "output_type": "execute_result"
    }
   ],
   "execution_count": 79
  },
  {
   "cell_type": "code",
   "id": "ada25614815bba8b",
   "metadata": {
    "ExecuteTime": {
     "end_time": "2024-06-22T10:44:49.604355Z",
     "start_time": "2024-06-22T10:44:49.571076Z"
    }
   },
   "source": [
    "miner_real.get_maximal_pairs()"
   ],
   "outputs": [
    {
     "data": {
      "text/plain": [
       "[({'solliciteren', 'wdo_014546'}, {'online-training'}),\n",
       " ({'mijn_tips', 'vacatures_bij_mijn_cv'}, {'mijn_bewijs_van_inschrijving'}),\n",
       " ({'mijn_cv', 'overzicht'}, {'foutopgetreden.html'}),\n",
       " ({'ontwikkel-uzelf'}, {'opleiding'}),\n",
       " ({'inschrijven', 'overzicht'}, {'foutopgetreden.html'}),\n",
       " ({'mijn_bewijs_van_inschrijving', 'wijziging_doorgeven'},\n",
       "  {'mijn_rechten_en_plichten'}),\n",
       " ({'overzicht', 'vacatures_bij_mijn_cv'}, {'foutopgetreden.html'}),\n",
       " ({'online-training'}, {'mijn_werkmap', 'ontwikkel-uzelf'}),\n",
       " ({'solliciteren'}, {'online-training', 'solliciteren-werk-zoeken'}),\n",
       " ({'50plus', 'WDO211959'}, {'top20-vacatures'}),\n",
       " ({'mijn_online_trainingen', 'mijn_tips'}, {'mijn_bewijs_van_inschrijving'}),\n",
       " ({'solliciteren'}, {'solliciteren-werk-zoeken', 'wdo_010304'}),\n",
       " ({'uitkering-aanvragen'}, {'ww'}),\n",
       " ({'solliciteren'}, {'online-training', 'taken'}),\n",
       " ({'mijn_online_trainingen', 'vacatures_bij_mijn_cv'},\n",
       "  {'mijn_bewijs_van_inschrijving'}),\n",
       " ({'50plus'}, {'top20-vacatures', 'vacatures_bij_mijn_cv'}),\n",
       " ({'foutopgetreden.html'}, {'uitkering-aanvragen', 'vacatures'}),\n",
       " ({'mijn_bewijs_van_inschrijving'}, {'mijn_rechten_en_plichten', 'wdo212395'}),\n",
       " ({'opleiding'}, {'wdo_014546'}),\n",
       " ({'solliciteren'}, {'solliciteren-werk-zoeken', 'taken'}),\n",
       " ({'wdo211746'}, {'wdo211812'}),\n",
       " ({'mijn_online_trainingen'}, {'mijn_bewijs_van_inschrijving', 'vacatures'}),\n",
       " ({'eigen-bedrijf'}, {'10-stappen'}),\n",
       " ({'geen-digid'}, {'hoe-verleng-ik-mijn-inschrijving-bij-uwv'}),\n",
       " ({'mijn_bewijs_van_inschrijving'},\n",
       "  {'mijn_rechten_en_plichten', 'mijn_sollicitaties'}),\n",
       " ({'solliciteren'}, {'online-training', 'wdo_010304'}),\n",
       " ({'10-stappen'}, {'WDO211959'}),\n",
       " ({'mijn_berichten', 'mijn_online_trainingen'},\n",
       "  {'mijn_bewijs_van_inschrijving'}),\n",
       " ({'foutopgetreden.html'}, {'mijn_werkmap', 'uitkering-aanvragen'}),\n",
       " ({'mijn_online_trainingen'}, {'taken', 'vacatures'})]"
      ]
     },
     "execution_count": 80,
     "metadata": {},
     "output_type": "execute_result"
    }
   ],
   "execution_count": 80
  },
  {
   "cell_type": "code",
   "id": "6d6276dfc2080867",
   "metadata": {
    "ExecuteTime": {
     "end_time": "2024-06-22T10:45:01.915893Z",
     "start_time": "2024-06-22T10:44:49.604989Z"
    }
   },
   "source": [
    "miner_real.footprint_matrix()"
   ],
   "outputs": [
    {
     "data": {
      "text/plain": [
       "                                10-stappen 50plus  \\\n",
       "10-stappen                               #      #   \n",
       "50plus                                   #      #   \n",
       "PORTAL.wwsbr_javascript.page_js          #      #   \n",
       "PORTAL.wwsec_app_priv.logout             #      #   \n",
       "Portal (ignore_request_page)             #      #   \n",
       "...                                    ...    ...   \n",
       "ww                                       #      #   \n",
       "zoekAantalIndicatief                     #      #   \n",
       "zoekBeroep                               #      #   \n",
       "zoekBeroepenlijst                        #      #   \n",
       "zoeken                                   #      #   \n",
       "\n",
       "                                PORTAL.wwsbr_javascript.page_js  \\\n",
       "10-stappen                                                    #   \n",
       "50plus                                                        #   \n",
       "PORTAL.wwsbr_javascript.page_js                               #   \n",
       "PORTAL.wwsec_app_priv.logout                                  #   \n",
       "Portal (ignore_request_page)                                  #   \n",
       "...                                                         ...   \n",
       "ww                                                            #   \n",
       "zoekAantalIndicatief                                          #   \n",
       "zoekBeroep                                                    #   \n",
       "zoekBeroepenlijst                                             #   \n",
       "zoeken                                                        #   \n",
       "\n",
       "                                PORTAL.wwsec_app_priv.logout  \\\n",
       "10-stappen                                                 #   \n",
       "50plus                                                     #   \n",
       "PORTAL.wwsbr_javascript.page_js                            #   \n",
       "PORTAL.wwsec_app_priv.logout                               #   \n",
       "Portal (ignore_request_page)                               #   \n",
       "...                                                      ...   \n",
       "ww                                                         #   \n",
       "zoekAantalIndicatief                                       #   \n",
       "zoekBeroep                                                 #   \n",
       "zoekBeroepenlijst                                          #   \n",
       "zoeken                                                     #   \n",
       "\n",
       "                                Portal (ignore_request_page) WDO211559  \\\n",
       "10-stappen                                                 #         #   \n",
       "50plus                                                     #         #   \n",
       "PORTAL.wwsbr_javascript.page_js                            #         #   \n",
       "PORTAL.wwsec_app_priv.logout                               #         #   \n",
       "Portal (ignore_request_page)                               #         #   \n",
       "...                                                      ...       ...   \n",
       "ww                                                         #         #   \n",
       "zoekAantalIndicatief                                       #         #   \n",
       "zoekBeroep                                                 #         #   \n",
       "zoekBeroepenlijst                                          #         #   \n",
       "zoeken                                                     #         #   \n",
       "\n",
       "                                WDO211959 aanvragen-ww bevestigingspagina  \\\n",
       "10-stappen                              →            #                  #   \n",
       "50plus                                  #            #                  #   \n",
       "PORTAL.wwsbr_javascript.page_js         #            #                  #   \n",
       "PORTAL.wwsec_app_priv.logout            #            ←                  #   \n",
       "Portal (ignore_request_page)            #            #                  #   \n",
       "...                                   ...          ...                ...   \n",
       "ww                                      #            →                  #   \n",
       "zoekAantalIndicatief                    #            #                  #   \n",
       "zoekBeroep                              #            #                  #   \n",
       "zoekBeroepenlijst                       #            #                  #   \n",
       "zoeken                                  #            #                  #   \n",
       "\n",
       "                                bijstandsuitkering  ... wdo_010304 wdo_014546  \\\n",
       "10-stappen                                       #  ...          #          #   \n",
       "50plus                                           #  ...          #          #   \n",
       "PORTAL.wwsbr_javascript.page_js                  #  ...          #          #   \n",
       "PORTAL.wwsec_app_priv.logout                     #  ...          #          #   \n",
       "Portal (ignore_request_page)                     #  ...          #          #   \n",
       "...                                            ...  ...        ...        ...   \n",
       "ww                                               #  ...          #          #   \n",
       "zoekAantalIndicatief                             #  ...          #          #   \n",
       "zoekBeroep                                       #  ...          #          #   \n",
       "zoekBeroepenlijst                                #  ...          #          #   \n",
       "zoeken                                           #  ...          #          #   \n",
       "\n",
       "                                werkmap werkplan_lightbox wijziging_doorgeven  \\\n",
       "10-stappen                            #                 #                   #   \n",
       "50plus                                #                 #                   #   \n",
       "PORTAL.wwsbr_javascript.page_js       #                 #                   #   \n",
       "PORTAL.wwsec_app_priv.logout          #                 #                   #   \n",
       "Portal (ignore_request_page)          #                 #                   #   \n",
       "...                                 ...               ...                 ...   \n",
       "ww                                    #                 #                   #   \n",
       "zoekAantalIndicatief                  #                 #                   #   \n",
       "zoekBeroep                            #                 #                   #   \n",
       "zoekBeroepenlijst                     #                 #                   #   \n",
       "zoeken                                #                 #                   #   \n",
       "\n",
       "                                ww zoekAantalIndicatief zoekBeroep  \\\n",
       "10-stappen                       #                    #          #   \n",
       "50plus                           #                    #          #   \n",
       "PORTAL.wwsbr_javascript.page_js  #                    #          #   \n",
       "PORTAL.wwsec_app_priv.logout     #                    #          #   \n",
       "Portal (ignore_request_page)     #                    #          #   \n",
       "...                             ..                  ...        ...   \n",
       "ww                               #                    #          #   \n",
       "zoekAantalIndicatief             #                   ||          ←   \n",
       "zoekBeroep                       #                    →         ||   \n",
       "zoekBeroepenlijst                #                    #          #   \n",
       "zoeken                           #                    #          #   \n",
       "\n",
       "                                zoekBeroepenlijst zoeken  \n",
       "10-stappen                                      #      #  \n",
       "50plus                                          #      #  \n",
       "PORTAL.wwsbr_javascript.page_js                 #      #  \n",
       "PORTAL.wwsec_app_priv.logout                    #      #  \n",
       "Portal (ignore_request_page)                    #      #  \n",
       "...                                           ...    ...  \n",
       "ww                                              #      #  \n",
       "zoekAantalIndicatief                            #      #  \n",
       "zoekBeroep                                      #      #  \n",
       "zoekBeroepenlijst                              ||      #  \n",
       "zoeken                                          #      #  \n",
       "\n",
       "[66 rows x 66 columns]"
      ],
      "text/html": [
       "<div>\n",
       "<style scoped>\n",
       "    .dataframe tbody tr th:only-of-type {\n",
       "        vertical-align: middle;\n",
       "    }\n",
       "\n",
       "    .dataframe tbody tr th {\n",
       "        vertical-align: top;\n",
       "    }\n",
       "\n",
       "    .dataframe thead th {\n",
       "        text-align: right;\n",
       "    }\n",
       "</style>\n",
       "<table border=\"1\" class=\"dataframe\">\n",
       "  <thead>\n",
       "    <tr style=\"text-align: right;\">\n",
       "      <th></th>\n",
       "      <th>10-stappen</th>\n",
       "      <th>50plus</th>\n",
       "      <th>PORTAL.wwsbr_javascript.page_js</th>\n",
       "      <th>PORTAL.wwsec_app_priv.logout</th>\n",
       "      <th>Portal (ignore_request_page)</th>\n",
       "      <th>WDO211559</th>\n",
       "      <th>WDO211959</th>\n",
       "      <th>aanvragen-ww</th>\n",
       "      <th>bevestigingspagina</th>\n",
       "      <th>bijstandsuitkering</th>\n",
       "      <th>...</th>\n",
       "      <th>wdo_010304</th>\n",
       "      <th>wdo_014546</th>\n",
       "      <th>werkmap</th>\n",
       "      <th>werkplan_lightbox</th>\n",
       "      <th>wijziging_doorgeven</th>\n",
       "      <th>ww</th>\n",
       "      <th>zoekAantalIndicatief</th>\n",
       "      <th>zoekBeroep</th>\n",
       "      <th>zoekBeroepenlijst</th>\n",
       "      <th>zoeken</th>\n",
       "    </tr>\n",
       "  </thead>\n",
       "  <tbody>\n",
       "    <tr>\n",
       "      <th>10-stappen</th>\n",
       "      <td>#</td>\n",
       "      <td>#</td>\n",
       "      <td>#</td>\n",
       "      <td>#</td>\n",
       "      <td>#</td>\n",
       "      <td>#</td>\n",
       "      <td>→</td>\n",
       "      <td>#</td>\n",
       "      <td>#</td>\n",
       "      <td>#</td>\n",
       "      <td>...</td>\n",
       "      <td>#</td>\n",
       "      <td>#</td>\n",
       "      <td>#</td>\n",
       "      <td>#</td>\n",
       "      <td>#</td>\n",
       "      <td>#</td>\n",
       "      <td>#</td>\n",
       "      <td>#</td>\n",
       "      <td>#</td>\n",
       "      <td>#</td>\n",
       "    </tr>\n",
       "    <tr>\n",
       "      <th>50plus</th>\n",
       "      <td>#</td>\n",
       "      <td>#</td>\n",
       "      <td>#</td>\n",
       "      <td>#</td>\n",
       "      <td>#</td>\n",
       "      <td>#</td>\n",
       "      <td>#</td>\n",
       "      <td>#</td>\n",
       "      <td>#</td>\n",
       "      <td>#</td>\n",
       "      <td>...</td>\n",
       "      <td>#</td>\n",
       "      <td>#</td>\n",
       "      <td>#</td>\n",
       "      <td>#</td>\n",
       "      <td>#</td>\n",
       "      <td>#</td>\n",
       "      <td>#</td>\n",
       "      <td>#</td>\n",
       "      <td>#</td>\n",
       "      <td>#</td>\n",
       "    </tr>\n",
       "    <tr>\n",
       "      <th>PORTAL.wwsbr_javascript.page_js</th>\n",
       "      <td>#</td>\n",
       "      <td>#</td>\n",
       "      <td>#</td>\n",
       "      <td>#</td>\n",
       "      <td>#</td>\n",
       "      <td>#</td>\n",
       "      <td>#</td>\n",
       "      <td>#</td>\n",
       "      <td>#</td>\n",
       "      <td>#</td>\n",
       "      <td>...</td>\n",
       "      <td>#</td>\n",
       "      <td>#</td>\n",
       "      <td>#</td>\n",
       "      <td>#</td>\n",
       "      <td>#</td>\n",
       "      <td>#</td>\n",
       "      <td>#</td>\n",
       "      <td>#</td>\n",
       "      <td>#</td>\n",
       "      <td>#</td>\n",
       "    </tr>\n",
       "    <tr>\n",
       "      <th>PORTAL.wwsec_app_priv.logout</th>\n",
       "      <td>#</td>\n",
       "      <td>#</td>\n",
       "      <td>#</td>\n",
       "      <td>#</td>\n",
       "      <td>#</td>\n",
       "      <td>#</td>\n",
       "      <td>#</td>\n",
       "      <td>←</td>\n",
       "      <td>#</td>\n",
       "      <td>#</td>\n",
       "      <td>...</td>\n",
       "      <td>#</td>\n",
       "      <td>#</td>\n",
       "      <td>#</td>\n",
       "      <td>#</td>\n",
       "      <td>#</td>\n",
       "      <td>#</td>\n",
       "      <td>#</td>\n",
       "      <td>#</td>\n",
       "      <td>#</td>\n",
       "      <td>#</td>\n",
       "    </tr>\n",
       "    <tr>\n",
       "      <th>Portal (ignore_request_page)</th>\n",
       "      <td>#</td>\n",
       "      <td>#</td>\n",
       "      <td>#</td>\n",
       "      <td>#</td>\n",
       "      <td>#</td>\n",
       "      <td>#</td>\n",
       "      <td>#</td>\n",
       "      <td>#</td>\n",
       "      <td>#</td>\n",
       "      <td>#</td>\n",
       "      <td>...</td>\n",
       "      <td>#</td>\n",
       "      <td>#</td>\n",
       "      <td>#</td>\n",
       "      <td>#</td>\n",
       "      <td>#</td>\n",
       "      <td>#</td>\n",
       "      <td>#</td>\n",
       "      <td>#</td>\n",
       "      <td>#</td>\n",
       "      <td>#</td>\n",
       "    </tr>\n",
       "    <tr>\n",
       "      <th>...</th>\n",
       "      <td>...</td>\n",
       "      <td>...</td>\n",
       "      <td>...</td>\n",
       "      <td>...</td>\n",
       "      <td>...</td>\n",
       "      <td>...</td>\n",
       "      <td>...</td>\n",
       "      <td>...</td>\n",
       "      <td>...</td>\n",
       "      <td>...</td>\n",
       "      <td>...</td>\n",
       "      <td>...</td>\n",
       "      <td>...</td>\n",
       "      <td>...</td>\n",
       "      <td>...</td>\n",
       "      <td>...</td>\n",
       "      <td>...</td>\n",
       "      <td>...</td>\n",
       "      <td>...</td>\n",
       "      <td>...</td>\n",
       "      <td>...</td>\n",
       "    </tr>\n",
       "    <tr>\n",
       "      <th>ww</th>\n",
       "      <td>#</td>\n",
       "      <td>#</td>\n",
       "      <td>#</td>\n",
       "      <td>#</td>\n",
       "      <td>#</td>\n",
       "      <td>#</td>\n",
       "      <td>#</td>\n",
       "      <td>→</td>\n",
       "      <td>#</td>\n",
       "      <td>#</td>\n",
       "      <td>...</td>\n",
       "      <td>#</td>\n",
       "      <td>#</td>\n",
       "      <td>#</td>\n",
       "      <td>#</td>\n",
       "      <td>#</td>\n",
       "      <td>#</td>\n",
       "      <td>#</td>\n",
       "      <td>#</td>\n",
       "      <td>#</td>\n",
       "      <td>#</td>\n",
       "    </tr>\n",
       "    <tr>\n",
       "      <th>zoekAantalIndicatief</th>\n",
       "      <td>#</td>\n",
       "      <td>#</td>\n",
       "      <td>#</td>\n",
       "      <td>#</td>\n",
       "      <td>#</td>\n",
       "      <td>#</td>\n",
       "      <td>#</td>\n",
       "      <td>#</td>\n",
       "      <td>#</td>\n",
       "      <td>#</td>\n",
       "      <td>...</td>\n",
       "      <td>#</td>\n",
       "      <td>#</td>\n",
       "      <td>#</td>\n",
       "      <td>#</td>\n",
       "      <td>#</td>\n",
       "      <td>#</td>\n",
       "      <td>||</td>\n",
       "      <td>←</td>\n",
       "      <td>#</td>\n",
       "      <td>#</td>\n",
       "    </tr>\n",
       "    <tr>\n",
       "      <th>zoekBeroep</th>\n",
       "      <td>#</td>\n",
       "      <td>#</td>\n",
       "      <td>#</td>\n",
       "      <td>#</td>\n",
       "      <td>#</td>\n",
       "      <td>#</td>\n",
       "      <td>#</td>\n",
       "      <td>#</td>\n",
       "      <td>#</td>\n",
       "      <td>#</td>\n",
       "      <td>...</td>\n",
       "      <td>#</td>\n",
       "      <td>#</td>\n",
       "      <td>#</td>\n",
       "      <td>#</td>\n",
       "      <td>#</td>\n",
       "      <td>#</td>\n",
       "      <td>→</td>\n",
       "      <td>||</td>\n",
       "      <td>#</td>\n",
       "      <td>#</td>\n",
       "    </tr>\n",
       "    <tr>\n",
       "      <th>zoekBeroepenlijst</th>\n",
       "      <td>#</td>\n",
       "      <td>#</td>\n",
       "      <td>#</td>\n",
       "      <td>#</td>\n",
       "      <td>#</td>\n",
       "      <td>#</td>\n",
       "      <td>#</td>\n",
       "      <td>#</td>\n",
       "      <td>#</td>\n",
       "      <td>#</td>\n",
       "      <td>...</td>\n",
       "      <td>#</td>\n",
       "      <td>#</td>\n",
       "      <td>#</td>\n",
       "      <td>#</td>\n",
       "      <td>#</td>\n",
       "      <td>#</td>\n",
       "      <td>#</td>\n",
       "      <td>#</td>\n",
       "      <td>||</td>\n",
       "      <td>#</td>\n",
       "    </tr>\n",
       "    <tr>\n",
       "      <th>zoeken</th>\n",
       "      <td>#</td>\n",
       "      <td>#</td>\n",
       "      <td>#</td>\n",
       "      <td>#</td>\n",
       "      <td>#</td>\n",
       "      <td>#</td>\n",
       "      <td>#</td>\n",
       "      <td>#</td>\n",
       "      <td>#</td>\n",
       "      <td>#</td>\n",
       "      <td>...</td>\n",
       "      <td>#</td>\n",
       "      <td>#</td>\n",
       "      <td>#</td>\n",
       "      <td>#</td>\n",
       "      <td>#</td>\n",
       "      <td>#</td>\n",
       "      <td>#</td>\n",
       "      <td>#</td>\n",
       "      <td>#</td>\n",
       "      <td>#</td>\n",
       "    </tr>\n",
       "  </tbody>\n",
       "</table>\n",
       "<p>66 rows × 66 columns</p>\n",
       "</div>"
      ]
     },
     "execution_count": 81,
     "metadata": {},
     "output_type": "execute_result"
    }
   ],
   "execution_count": 81
  },
  {
   "cell_type": "code",
   "id": "3f8b778b6189263b",
   "metadata": {
    "ExecuteTime": {
     "end_time": "2024-06-22T10:45:02.163959Z",
     "start_time": "2024-06-22T10:45:01.917092Z"
    }
   },
   "source": [
    "miner_real.build_and_visualize_petrinet()"
   ],
   "outputs": [
    {
     "data": {
      "image/svg+xml": "<?xml version=\"1.0\" encoding=\"UTF-8\" standalone=\"no\"?>\n<!DOCTYPE svg PUBLIC \"-//W3C//DTD SVG 1.1//EN\"\n \"http://www.w3.org/Graphics/SVG/1.1/DTD/svg11.dtd\">\n<!-- Generated by graphviz version 10.0.1 (20240210.2158)\n -->\n<!-- Title: Alpha Miner Petri Net Pages: 1 -->\n<svg width=\"2440pt\" height=\"1917pt\"\n viewBox=\"0.00 0.00 2439.50 1917.00\" xmlns=\"http://www.w3.org/2000/svg\" xmlns:xlink=\"http://www.w3.org/1999/xlink\">\n<g id=\"graph0\" class=\"graph\" transform=\"scale(1 1) rotate(0) translate(4 1913)\">\n<title>Alpha Miner Petri Net</title>\n<polygon fill=\"white\" stroke=\"none\" points=\"-4,4 -4,-1913 2435.5,-1913 2435.5,4 -4,4\"/>\n<!-- 6286619136 -->\n<g id=\"node1\" class=\"node\">\n<title>6286619136</title>\n<polygon fill=\"none\" stroke=\"black\" points=\"181.75,-613 9.75,-613 9.75,-577 181.75,-577 181.75,-613\"/>\n<text text-anchor=\"middle\" x=\"95.75\" y=\"-590.73\" font-family=\"Arial\" font-size=\"12.00\">Portal (ignore_request_page)</text>\n</g>\n<!-- 6286620288 -->\n<g id=\"node2\" class=\"node\">\n<title>6286620288</title>\n<polygon fill=\"none\" stroke=\"black\" points=\"150.62,-667 40.88,-667 40.88,-631 150.62,-631 150.62,-667\"/>\n<text text-anchor=\"middle\" x=\"95.75\" y=\"-644.73\" font-family=\"Arial\" font-size=\"12.00\">bijstandsuitkering</text>\n</g>\n<!-- 6286621440 -->\n<g id=\"node3\" class=\"node\">\n<title>6286621440</title>\n<polygon fill=\"none\" stroke=\"black\" points=\"1880.38,-916 1775.88,-916 1775.88,-880 1880.38,-880 1880.38,-916\"/>\n<text text-anchor=\"middle\" x=\"1828.12\" y=\"-893.73\" font-family=\"Arial\" font-size=\"12.00\">mijn_sollicitaties</text>\n</g>\n<!-- 6286864224 -->\n<g id=\"node67\" class=\"node\">\n<title>6286864224</title>\n<ellipse fill=\"none\" stroke=\"black\" cx=\"1997.25\" cy=\"-703\" rx=\"27\" ry=\"27\"/>\n<ellipse fill=\"none\" stroke=\"black\" cx=\"1997.25\" cy=\"-703\" rx=\"31\" ry=\"31\"/>\n<text text-anchor=\"start\" x=\"1987.5\" y=\"-690.98\" font-family=\"Arial\" font-size=\"32.00\">■</text>\n</g>\n<!-- 6286621440&#45;&gt;6286864224 -->\n<g id=\"edge38\" class=\"edge\">\n<title>6286621440&#45;&gt;6286864224</title>\n<path fill=\"none\" stroke=\"black\" d=\"M1880.65,-893.68C1898.11,-889.93 1916.63,-883.16 1930.25,-871 1966.59,-838.57 1983.13,-783.59 1990.52,-745.4\"/>\n<polygon fill=\"black\" stroke=\"black\" points=\"1993.95,-746.08 1992.26,-735.62 1987.06,-744.85 1993.95,-746.08\"/>\n</g>\n<!-- 6286085632 -->\n<g id=\"node4\" class=\"node\">\n<title>6286085632</title>\n<polygon fill=\"none\" stroke=\"black\" points=\"155.88,-775 35.62,-775 35.62,-739 155.88,-739 155.88,-775\"/>\n<text text-anchor=\"middle\" x=\"95.75\" y=\"-752.73\" font-family=\"Arial\" font-size=\"12.00\">sollicitatie&#45;wijziging</text>\n</g>\n<!-- 6286852224 -->\n<g id=\"node5\" class=\"node\">\n<title>6286852224</title>\n<polygon fill=\"none\" stroke=\"black\" points=\"1019.38,-766 917.88,-766 917.88,-730 1019.38,-730 1019.38,-766\"/>\n<text text-anchor=\"middle\" x=\"968.62\" y=\"-743.73\" font-family=\"Arial\" font-size=\"12.00\">top20&#45;vacatures</text>\n</g>\n<!-- 6286852608 -->\n<g id=\"node6\" class=\"node\">\n<title>6286852608</title>\n<polygon fill=\"none\" stroke=\"black\" points=\"134.88,-829 56.62,-829 56.62,-793 134.88,-793 134.88,-829\"/>\n<text text-anchor=\"middle\" x=\"95.75\" y=\"-806.73\" font-family=\"Arial\" font-size=\"12.00\">wdo211746</text>\n</g>\n<!-- 6286860720 -->\n<g id=\"node98\" class=\"node\">\n<title>6286860720</title>\n<ellipse fill=\"none\" stroke=\"black\" cx=\"254.5\" cy=\"-811\" rx=\"27\" ry=\"27\"/>\n</g>\n<!-- 6286852608&#45;&gt;6286860720 -->\n<g id=\"edge107\" class=\"edge\">\n<title>6286852608&#45;&gt;6286860720</title>\n<path fill=\"none\" stroke=\"black\" d=\"M135.1,-811C159.71,-811 191.52,-811 215.97,-811\"/>\n<polygon fill=\"black\" stroke=\"black\" points=\"215.81,-814.5 225.81,-811 215.81,-807.5 215.81,-814.5\"/>\n</g>\n<!-- 6286852992 -->\n<g id=\"node7\" class=\"node\">\n<title>6286852992</title>\n<polygon fill=\"none\" stroke=\"black\" points=\"1576.75,-852 1449.75,-852 1449.75,-816 1576.75,-816 1576.75,-852\"/>\n<text text-anchor=\"middle\" x=\"1513.25\" y=\"-829.73\" font-family=\"Arial\" font-size=\"12.00\">wijziging_doorgeven</text>\n</g>\n<!-- 6286852992&#45;&gt;6286864224 -->\n<g id=\"edge112\" class=\"edge\">\n<title>6286852992&#45;&gt;6286864224</title>\n<path fill=\"none\" stroke=\"black\" d=\"M1577.17,-824.55C1689.55,-807.53 1914.54,-772.77 1930.25,-765 1944.74,-757.84 1958.23,-746.43 1969.19,-735.34\"/>\n<polygon fill=\"black\" stroke=\"black\" points=\"1971.71,-737.78 1976.02,-728.1 1966.61,-732.98 1971.71,-737.78\"/>\n</g>\n<!-- 6286855152 -->\n<g id=\"node76\" class=\"node\">\n<title>6286855152</title>\n<ellipse fill=\"none\" stroke=\"black\" cx=\"1663\" cy=\"-853\" rx=\"27\" ry=\"27\"/>\n</g>\n<!-- 6286852992&#45;&gt;6286855152 -->\n<g id=\"edge113\" class=\"edge\">\n<title>6286852992&#45;&gt;6286855152</title>\n<path fill=\"none\" stroke=\"black\" d=\"M1576.91,-842.06C1593.29,-844.16 1610.43,-846.37 1625,-848.24\"/>\n<polygon fill=\"black\" stroke=\"black\" points=\"1624.2,-851.67 1634.56,-849.47 1625.09,-844.72 1624.2,-851.67\"/>\n</g>\n<!-- 6286621968 -->\n<g id=\"node8\" class=\"node\">\n<title>6286621968</title>\n<polygon fill=\"none\" stroke=\"black\" points=\"468.12,-721 392.12,-721 392.12,-685 468.12,-685 468.12,-721\"/>\n<text text-anchor=\"middle\" x=\"430.12\" y=\"-698.73\" font-family=\"Arial\" font-size=\"12.00\">10&#45;stappen</text>\n</g>\n<!-- 6286862736 -->\n<g id=\"node69\" class=\"node\">\n<title>6286862736</title>\n<ellipse fill=\"none\" stroke=\"black\" cx=\"605.75\" cy=\"-703\" rx=\"27\" ry=\"27\"/>\n</g>\n<!-- 6286621968&#45;&gt;6286862736 -->\n<g id=\"edge1\" class=\"edge\">\n<title>6286621968&#45;&gt;6286862736</title>\n<path fill=\"none\" stroke=\"black\" d=\"M468.37,-703C497.45,-703 537.68,-703 566.9,-703\"/>\n<polygon fill=\"black\" stroke=\"black\" points=\"566.79,-706.5 576.79,-703 566.79,-699.5 566.79,-706.5\"/>\n</g>\n<!-- 6286621584 -->\n<g id=\"node9\" class=\"node\">\n<title>6286621584</title>\n<polygon fill=\"none\" stroke=\"black\" points=\"741.62,-829 687.62,-829 687.62,-793 741.62,-793 741.62,-829\"/>\n<text text-anchor=\"middle\" x=\"714.62\" y=\"-806.73\" font-family=\"Arial\" font-size=\"12.00\">50plus</text>\n</g>\n<!-- 6286621584&#45;&gt;6286864224 -->\n<g id=\"edge2\" class=\"edge\">\n<title>6286621584&#45;&gt;6286864224</title>\n<path fill=\"none\" stroke=\"black\" d=\"M741.94,-798.92C748.64,-794.9 755.39,-789.92 760.5,-784 787.6,-752.65 763.69,-723.3 796.5,-698 857.32,-651.1 890.83,-674 967.62,-674 967.62,-674 967.62,-674 1232.38,-674 1542.73,-674 1620.37,-680.94 1930.25,-698 1938.2,-698.44 1946.69,-699.01 1954.84,-699.6\"/>\n<polygon fill=\"black\" stroke=\"black\" points=\"1954.29,-703.07 1964.53,-700.33 1954.82,-696.09 1954.29,-703.07\"/>\n</g>\n<!-- 6286856688 -->\n<g id=\"node70\" class=\"node\">\n<title>6286856688</title>\n<ellipse fill=\"none\" stroke=\"black\" cx=\"830.75\" cy=\"-734\" rx=\"27\" ry=\"27\"/>\n</g>\n<!-- 6286621584&#45;&gt;6286856688 -->\n<g id=\"edge3\" class=\"edge\">\n<title>6286621584&#45;&gt;6286856688</title>\n<path fill=\"none\" stroke=\"black\" d=\"M741.96,-795.66C748.1,-791.94 754.58,-787.91 760.5,-784 773.49,-775.43 787.46,-765.48 799.44,-756.73\"/>\n<polygon fill=\"black\" stroke=\"black\" points=\"801.36,-759.66 807.33,-750.91 797.21,-754.02 801.36,-759.66\"/>\n</g>\n<!-- 6286858896 -->\n<g id=\"node71\" class=\"node\">\n<title>6286858896</title>\n<ellipse fill=\"none\" stroke=\"black\" cx=\"830.75\" cy=\"-806\" rx=\"27\" ry=\"27\"/>\n</g>\n<!-- 6286621584&#45;&gt;6286858896 -->\n<g id=\"edge4\" class=\"edge\">\n<title>6286621584&#45;&gt;6286858896</title>\n<path fill=\"none\" stroke=\"black\" d=\"M742.09,-809.84C756.93,-809.19 775.68,-808.37 792.03,-807.65\"/>\n<polygon fill=\"black\" stroke=\"black\" points=\"792.07,-811.15 801.91,-807.22 791.77,-804.16 792.07,-811.15\"/>\n</g>\n<!-- 6286620048 -->\n<g id=\"node10\" class=\"node\">\n<title>6286620048</title>\n<polygon fill=\"none\" stroke=\"black\" points=\"1930.25,-862 1726,-862 1726,-826 1930.25,-826 1930.25,-862\"/>\n<text text-anchor=\"middle\" x=\"1828.12\" y=\"-839.73\" font-family=\"Arial\" font-size=\"12.00\">PORTAL.wwsbr_javascript.page_js</text>\n</g>\n<!-- 6286620048&#45;&gt;6286864224 -->\n<g id=\"edge5\" class=\"edge\">\n<title>6286620048&#45;&gt;6286864224</title>\n<path fill=\"none\" stroke=\"black\" d=\"M1907.67,-825.54C1915.73,-821.81 1923.45,-817.35 1930.25,-812 1953.17,-793.97 1969.99,-765.61 1980.91,-742.34\"/>\n<polygon fill=\"black\" stroke=\"black\" points=\"1984,-744 1984.89,-733.44 1977.61,-741.14 1984,-744\"/>\n</g>\n<!-- 6286622352 -->\n<g id=\"node11\" class=\"node\">\n<title>6286622352</title>\n<polygon fill=\"none\" stroke=\"black\" points=\"138.25,-883 53.25,-883 53.25,-847 138.25,-847 138.25,-883\"/>\n<text text-anchor=\"middle\" x=\"95.75\" y=\"-860.73\" font-family=\"Arial\" font-size=\"12.00\">WDO211559</text>\n</g>\n<!-- 6286618896 -->\n<g id=\"node12\" class=\"node\">\n<title>6286618896</title>\n<polygon fill=\"none\" stroke=\"black\" points=\"155.88,-937 35.62,-937 35.62,-901 155.88,-901 155.88,-937\"/>\n<text text-anchor=\"middle\" x=\"95.75\" y=\"-914.73\" font-family=\"Arial\" font-size=\"12.00\">bevestigingspagina</text>\n</g>\n<!-- 6286621200 -->\n<g id=\"node13\" class=\"node\">\n<title>6286621200</title>\n<polygon fill=\"none\" stroke=\"black\" points=\"1600,-1001 1426.5,-1001 1426.5,-965 1600,-965 1600,-1001\"/>\n<text text-anchor=\"middle\" x=\"1513.25\" y=\"-978.73\" font-family=\"Arial\" font-size=\"12.00\">mijn_bewijs_van_inschrijving</text>\n</g>\n<!-- 6286621200&#45;&gt;6286864224 -->\n<g id=\"edge25\" class=\"edge\">\n<title>6286621200&#45;&gt;6286864224</title>\n<path fill=\"none\" stroke=\"black\" d=\"M1547.37,-1001.47C1624.26,-1041.59 1816.9,-1125.93 1930.25,-1033 1974.07,-997.08 1989.38,-826.15 1994.22,-745.42\"/>\n<polygon fill=\"black\" stroke=\"black\" points=\"1997.7,-745.88 1994.78,-735.7 1990.71,-745.48 1997.7,-745.88\"/>\n</g>\n<!-- 6286621200&#45;&gt;6286855152 -->\n<g id=\"edge26\" class=\"edge\">\n<title>6286621200&#45;&gt;6286855152</title>\n<path fill=\"none\" stroke=\"black\" d=\"M1535.11,-964.65C1560.91,-941.94 1604.97,-903.18 1633.78,-877.83\"/>\n<polygon fill=\"black\" stroke=\"black\" points=\"1635.86,-880.66 1641.06,-871.43 1631.24,-875.4 1635.86,-880.66\"/>\n</g>\n<!-- 6286861968 -->\n<g id=\"node77\" class=\"node\">\n<title>6286861968</title>\n<ellipse fill=\"none\" stroke=\"black\" cx=\"1663\" cy=\"-925\" rx=\"27\" ry=\"27\"/>\n</g>\n<!-- 6286621200&#45;&gt;6286861968 -->\n<g id=\"edge27\" class=\"edge\">\n<title>6286621200&#45;&gt;6286861968</title>\n<path fill=\"none\" stroke=\"black\" d=\"M1561,-964.65C1582.3,-956.29 1607.09,-946.55 1626.79,-938.82\"/>\n<polygon fill=\"black\" stroke=\"black\" points=\"1628,-942.11 1636.03,-935.2 1625.44,-935.59 1628,-942.11\"/>\n</g>\n<!-- 6286859664 -->\n<g id=\"node78\" class=\"node\">\n<title>6286859664</title>\n<ellipse fill=\"none\" stroke=\"black\" cx=\"1663\" cy=\"-997\" rx=\"27\" ry=\"27\"/>\n</g>\n<!-- 6286621200&#45;&gt;6286859664 -->\n<g id=\"edge28\" class=\"edge\">\n<title>6286621200&#45;&gt;6286859664</title>\n<path fill=\"none\" stroke=\"black\" d=\"M1600.2,-991.14C1608.7,-991.95 1616.98,-992.73 1624.57,-993.45\"/>\n<polygon fill=\"black\" stroke=\"black\" points=\"1624.08,-996.92 1634.37,-994.38 1624.74,-989.95 1624.08,-996.92\"/>\n</g>\n<!-- 6286086160 -->\n<g id=\"node14\" class=\"node\">\n<title>6286086160</title>\n<polygon fill=\"none\" stroke=\"black\" points=\"1559.5,-302 1467,-302 1467,-266 1559.5,-266 1559.5,-302\"/>\n<text text-anchor=\"middle\" x=\"1513.25\" y=\"-279.73\" font-family=\"Arial\" font-size=\"12.00\">online&#45;training</text>\n</g>\n<!-- 6286855920 -->\n<g id=\"node85\" class=\"node\">\n<title>6286855920</title>\n<ellipse fill=\"none\" stroke=\"black\" cx=\"1663\" cy=\"-284\" rx=\"27\" ry=\"27\"/>\n</g>\n<!-- 6286086160&#45;&gt;6286855920 -->\n<g id=\"edge42\" class=\"edge\">\n<title>6286086160&#45;&gt;6286855920</title>\n<path fill=\"none\" stroke=\"black\" d=\"M1559.79,-284C1580.53,-284 1604.78,-284 1624.46,-284\"/>\n<polygon fill=\"black\" stroke=\"black\" points=\"1624.23,-287.5 1634.23,-284 1624.23,-280.5 1624.23,-287.5\"/>\n</g>\n<!-- 6286086928 -->\n<g id=\"node15\" class=\"node\">\n<title>6286086928</title>\n<polygon fill=\"none\" stroke=\"black\" points=\"136.75,-991 54.75,-991 54.75,-955 136.75,-955 136.75,-991\"/>\n<text text-anchor=\"middle\" x=\"95.75\" y=\"-968.73\" font-family=\"Arial\" font-size=\"12.00\">over&#45;werk&#45;nl</text>\n</g>\n<!-- 6286088080 -->\n<g id=\"node16\" class=\"node\">\n<title>6286088080</title>\n<polygon fill=\"none\" stroke=\"black\" points=\"1268.25,-221 1194.5,-221 1194.5,-185 1268.25,-185 1268.25,-221\"/>\n<text text-anchor=\"middle\" x=\"1231.38\" y=\"-198.72\" font-family=\"Arial\" font-size=\"12.00\">solliciteren</text>\n</g>\n<!-- 6286088080&#45;&gt;6286864224 -->\n<g id=\"edge91\" class=\"edge\">\n<title>6286088080&#45;&gt;6286864224</title>\n<path fill=\"none\" stroke=\"black\" d=\"M1243.32,-184.51C1259.78,-158.77 1293.59,-113.23 1336.5,-95 1358.59,-85.61 1366.59,-92.98 1390.5,-95 1394.29,-95.32 1927.62,-184.26 1930.25,-187 1994.79,-254.29 1998.16,-548.7 1997.04,-660.09\"/>\n<polygon fill=\"black\" stroke=\"black\" points=\"1993.54,-659.97 1996.92,-670.01 2000.54,-660.05 1993.54,-659.97\"/>\n</g>\n<!-- 6286853328 -->\n<g id=\"node91\" class=\"node\">\n<title>6286853328</title>\n<ellipse fill=\"none\" stroke=\"black\" cx=\"2404.5\" cy=\"-78\" rx=\"27\" ry=\"27\"/>\n</g>\n<!-- 6286088080&#45;&gt;6286853328 -->\n<g id=\"edge92\" class=\"edge\">\n<title>6286088080&#45;&gt;6286853328</title>\n<path fill=\"none\" stroke=\"black\" d=\"M1243.76,-184.7C1260.75,-158.95 1295.21,-112.33 1336.5,-87 1464.14,-8.7 1512.26,0 1662,0 1662,0 1662,0 2193.75,0 2260.23,0 2331.54,-34.85 2371.53,-57.96\"/>\n<polygon fill=\"black\" stroke=\"black\" points=\"2369.55,-60.85 2379.93,-62.92 2373.11,-54.82 2369.55,-60.85\"/>\n</g>\n<!-- 6286858128 -->\n<g id=\"node92\" class=\"node\">\n<title>6286858128</title>\n<ellipse fill=\"none\" stroke=\"black\" cx=\"1363.5\" cy=\"-419\" rx=\"27\" ry=\"27\"/>\n</g>\n<!-- 6286088080&#45;&gt;6286858128 -->\n<g id=\"edge93\" class=\"edge\">\n<title>6286088080&#45;&gt;6286858128</title>\n<path fill=\"none\" stroke=\"black\" d=\"M1242.13,-221.24C1259.91,-254.17 1299.2,-325.44 1336.5,-383 1337.66,-384.8 1338.88,-386.62 1340.12,-388.46\"/>\n<polygon fill=\"black\" stroke=\"black\" points=\"1337.01,-390.11 1345.6,-396.3 1342.75,-386.1 1337.01,-390.11\"/>\n</g>\n<!-- 6286856304 -->\n<g id=\"node93\" class=\"node\">\n<title>6286856304</title>\n<ellipse fill=\"none\" stroke=\"black\" cx=\"1363.5\" cy=\"-275\" rx=\"27\" ry=\"27\"/>\n</g>\n<!-- 6286088080&#45;&gt;6286856304 -->\n<g id=\"edge94\" class=\"edge\">\n<title>6286088080&#45;&gt;6286856304</title>\n<path fill=\"none\" stroke=\"black\" d=\"M1265.55,-221.35C1285.08,-232.16 1309.7,-245.79 1329.25,-256.6\"/>\n<polygon fill=\"black\" stroke=\"black\" points=\"1327.47,-259.62 1337.91,-261.39 1330.86,-253.49 1327.47,-259.62\"/>\n</g>\n<!-- 6286860336 -->\n<g id=\"node94\" class=\"node\">\n<title>6286860336</title>\n<ellipse fill=\"none\" stroke=\"black\" cx=\"1363.5\" cy=\"-347\" rx=\"27\" ry=\"27\"/>\n</g>\n<!-- 6286088080&#45;&gt;6286860336 -->\n<g id=\"edge95\" class=\"edge\">\n<title>6286088080&#45;&gt;6286860336</title>\n<path fill=\"none\" stroke=\"black\" d=\"M1248.86,-221.24C1271.17,-245.93 1311.19,-290.22 1337.29,-319.1\"/>\n<polygon fill=\"black\" stroke=\"black\" points=\"1334.59,-321.34 1343.89,-326.41 1339.79,-316.64 1334.59,-321.34\"/>\n</g>\n<!-- 6286857456 -->\n<g id=\"node95\" class=\"node\">\n<title>6286857456</title>\n<ellipse fill=\"none\" stroke=\"black\" cx=\"1363.5\" cy=\"-131\" rx=\"27\" ry=\"27\"/>\n</g>\n<!-- 6286088080&#45;&gt;6286857456 -->\n<g id=\"edge96\" class=\"edge\">\n<title>6286088080&#45;&gt;6286857456</title>\n<path fill=\"none\" stroke=\"black\" d=\"M1265.55,-184.65C1285.08,-173.84 1309.7,-160.21 1329.25,-149.4\"/>\n<polygon fill=\"black\" stroke=\"black\" points=\"1330.86,-152.51 1337.91,-144.61 1327.47,-146.38 1330.86,-152.51\"/>\n</g>\n<!-- 6286862352 -->\n<g id=\"node96\" class=\"node\">\n<title>6286862352</title>\n<ellipse fill=\"none\" stroke=\"black\" cx=\"1363.5\" cy=\"-203\" rx=\"27\" ry=\"27\"/>\n</g>\n<!-- 6286088080&#45;&gt;6286862352 -->\n<g id=\"edge97\" class=\"edge\">\n<title>6286088080&#45;&gt;6286862352</title>\n<path fill=\"none\" stroke=\"black\" d=\"M1268.62,-203C1286.18,-203 1307.25,-203 1324.97,-203\"/>\n<polygon fill=\"black\" stroke=\"black\" points=\"1324.83,-206.5 1334.83,-203 1324.83,-199.5 1324.83,-206.5\"/>\n</g>\n<!-- 6286852368 -->\n<g id=\"node17\" class=\"node\">\n<title>6286852368</title>\n<polygon fill=\"none\" stroke=\"black\" points=\"166,-1045 25.5,-1045 25.5,-1009 166,-1009 166,-1045\"/>\n<text text-anchor=\"middle\" x=\"95.75\" y=\"-1022.73\" font-family=\"Arial\" font-size=\"12.00\">uwvsanlig&#45;webfont.woff</text>\n</g>\n<!-- 6286620960 -->\n<g id=\"node18\" class=\"node\">\n<title>6286620960</title>\n<polygon fill=\"none\" stroke=\"black\" points=\"757.12,-721 672.12,-721 672.12,-685 757.12,-685 757.12,-721\"/>\n<text text-anchor=\"middle\" x=\"714.62\" y=\"-698.73\" font-family=\"Arial\" font-size=\"12.00\">WDO211959</text>\n</g>\n<!-- 6286620960&#45;&gt;6286856688 -->\n<g id=\"edge6\" class=\"edge\">\n<title>6286620960&#45;&gt;6286856688</title>\n<path fill=\"none\" stroke=\"black\" d=\"M757.47,-714.37C769.21,-717.56 781.87,-721 793.27,-724.09\"/>\n<polygon fill=\"black\" stroke=\"black\" points=\"792.14,-727.41 802.71,-726.65 793.97,-720.66 792.14,-727.41\"/>\n</g>\n<!-- 6286619424 -->\n<g id=\"node19\" class=\"node\">\n<title>6286619424</title>\n<polygon fill=\"none\" stroke=\"black\" points=\"137.12,-721 54.38,-721 54.38,-685 137.12,-685 137.12,-721\"/>\n<text text-anchor=\"middle\" x=\"95.75\" y=\"-698.73\" font-family=\"Arial\" font-size=\"12.00\">eigen&#45;bedrijf</text>\n</g>\n<!-- 6286861392 -->\n<g id=\"node72\" class=\"node\">\n<title>6286861392</title>\n<ellipse fill=\"none\" stroke=\"black\" cx=\"254.5\" cy=\"-703\" rx=\"27\" ry=\"27\"/>\n</g>\n<!-- 6286619424&#45;&gt;6286861392 -->\n<g id=\"edge8\" class=\"edge\">\n<title>6286619424&#45;&gt;6286861392</title>\n<path fill=\"none\" stroke=\"black\" d=\"M137.53,-703C161.74,-703 192.22,-703 215.86,-703\"/>\n<polygon fill=\"black\" stroke=\"black\" points=\"215.68,-706.5 225.68,-703 215.68,-699.5 215.68,-706.5\"/>\n</g>\n<!-- 6286621728 -->\n<g id=\"node20\" class=\"node\">\n<title>6286621728</title>\n<polygon fill=\"none\" stroke=\"black\" points=\"1005.5,-917 931.75,-917 931.75,-881 1005.5,-881 1005.5,-917\"/>\n<text text-anchor=\"middle\" x=\"968.62\" y=\"-894.73\" font-family=\"Arial\" font-size=\"12.00\">inschrijven</text>\n</g>\n<!-- 6286621728&#45;&gt;6286864224 -->\n<g id=\"edge21\" class=\"edge\">\n<title>6286621728&#45;&gt;6286864224</title>\n<path fill=\"none\" stroke=\"black\" d=\"M975.47,-917.16C993.37,-969.37 1053.02,-1119.79 1162.25,-1177 1216.68,-1205.51 1239.24,-1181.74 1300.5,-1177 1340.86,-1173.88 1350.56,-1169.58 1390.5,-1163 1405.52,-1160.52 1919.46,-1079.73 1930.25,-1069 1975.29,-1024.23 1990.08,-832.17 1994.52,-745.6\"/>\n<polygon fill=\"black\" stroke=\"black\" points=\"1998,-746.03 1994.99,-735.87 1991.01,-745.69 1998,-746.03\"/>\n</g>\n<!-- 6286854768 -->\n<g id=\"node88\" class=\"node\">\n<title>6286854768</title>\n<ellipse fill=\"none\" stroke=\"black\" cx=\"1099.25\" cy=\"-618\" rx=\"27\" ry=\"27\"/>\n</g>\n<!-- 6286621728&#45;&gt;6286854768 -->\n<g id=\"edge22\" class=\"edge\">\n<title>6286621728&#45;&gt;6286854768</title>\n<path fill=\"none\" stroke=\"black\" d=\"M998.09,-880.63C1011.45,-870.68 1026.53,-857.28 1036.25,-842 1073.29,-783.78 1088.51,-703.39 1094.53,-656.42\"/>\n<polygon fill=\"black\" stroke=\"black\" points=\"1097.98,-657.09 1095.69,-646.74 1091.03,-656.25 1097.98,-657.09\"/>\n</g>\n<!-- 6286622496 -->\n<g id=\"node21\" class=\"node\">\n<title>6286622496</title>\n<polygon fill=\"none\" stroke=\"black\" points=\"143.12,-1099 48.38,-1099 48.38,-1063 143.12,-1063 143.12,-1099\"/>\n<text text-anchor=\"middle\" x=\"95.75\" y=\"-1076.72\" font-family=\"Arial\" font-size=\"12.00\">kansverkenner</text>\n</g>\n<!-- 6286619040 -->\n<g id=\"node22\" class=\"node\">\n<title>6286619040</title>\n<polygon fill=\"none\" stroke=\"black\" points=\"1278.75,-1168 1184,-1168 1184,-1132 1278.75,-1132 1278.75,-1168\"/>\n<text text-anchor=\"middle\" x=\"1231.38\" y=\"-1145.72\" font-family=\"Arial\" font-size=\"12.00\">mijn_berichten</text>\n</g>\n<!-- 6286619040&#45;&gt;6286864224 -->\n<g id=\"edge23\" class=\"edge\">\n<title>6286619040&#45;&gt;6286864224</title>\n<path fill=\"none\" stroke=\"black\" d=\"M1279.23,-1158.66C1334.67,-1168.14 1429.84,-1182 1512.25,-1182 1512.25,-1182 1512.25,-1182 1664,-1182 1782.63,-1182 1843.43,-1243.85 1930.25,-1163 1990.38,-1107.01 1996.61,-848.91 1996.64,-745.76\"/>\n<polygon fill=\"black\" stroke=\"black\" points=\"2000.14,-745.77 1996.62,-735.78 1993.14,-745.78 2000.14,-745.77\"/>\n</g>\n<!-- 6286863024 -->\n<g id=\"node79\" class=\"node\">\n<title>6286863024</title>\n<ellipse fill=\"none\" stroke=\"black\" cx=\"1363.5\" cy=\"-1127\" rx=\"27\" ry=\"27\"/>\n</g>\n<!-- 6286619040&#45;&gt;6286863024 -->\n<g id=\"edge24\" class=\"edge\">\n<title>6286619040&#45;&gt;6286863024</title>\n<path fill=\"none\" stroke=\"black\" d=\"M1278.99,-1141.76C1294.29,-1139.06 1311.08,-1136.09 1325.57,-1133.53\"/>\n<polygon fill=\"black\" stroke=\"black\" points=\"1325.89,-1137.02 1335.13,-1131.84 1324.68,-1130.13 1325.89,-1137.02\"/>\n</g>\n<!-- 6286621344 -->\n<g id=\"node23\" class=\"node\">\n<title>6286621344</title>\n<polygon fill=\"none\" stroke=\"black\" points=\"1300.5,-1001 1162.25,-1001 1162.25,-965 1300.5,-965 1300.5,-1001\"/>\n<text text-anchor=\"middle\" x=\"1231.38\" y=\"-978.73\" font-family=\"Arial\" font-size=\"12.00\">mijn_online_trainingen</text>\n</g>\n<!-- 6286621344&#45;&gt;6286863024 -->\n<g id=\"edge32\" class=\"edge\">\n<title>6286621344&#45;&gt;6286863024</title>\n<path fill=\"none\" stroke=\"black\" d=\"M1248.86,-1001.24C1271.17,-1025.93 1311.19,-1070.22 1337.29,-1099.1\"/>\n<polygon fill=\"black\" stroke=\"black\" points=\"1334.59,-1101.34 1343.89,-1106.41 1339.79,-1096.64 1334.59,-1101.34\"/>\n</g>\n<!-- 6286857072 -->\n<g id=\"node80\" class=\"node\">\n<title>6286857072</title>\n<ellipse fill=\"none\" stroke=\"black\" cx=\"1363.5\" cy=\"-983\" rx=\"27\" ry=\"27\"/>\n</g>\n<!-- 6286621344&#45;&gt;6286857072 -->\n<g id=\"edge33\" class=\"edge\">\n<title>6286621344&#45;&gt;6286857072</title>\n<path fill=\"none\" stroke=\"black\" d=\"M1300.87,-983C1309.14,-983 1317.35,-983 1324.94,-983\"/>\n<polygon fill=\"black\" stroke=\"black\" points=\"1324.77,-986.5 1334.77,-983 1324.77,-979.5 1324.77,-986.5\"/>\n</g>\n<!-- 6286858512 -->\n<g id=\"node81\" class=\"node\">\n<title>6286858512</title>\n<ellipse fill=\"none\" stroke=\"black\" cx=\"1363.5\" cy=\"-1055\" rx=\"27\" ry=\"27\"/>\n</g>\n<!-- 6286621344&#45;&gt;6286858512 -->\n<g id=\"edge34\" class=\"edge\">\n<title>6286621344&#45;&gt;6286858512</title>\n<path fill=\"none\" stroke=\"black\" d=\"M1265.55,-1001.35C1285.08,-1012.16 1309.7,-1025.79 1329.25,-1036.6\"/>\n<polygon fill=\"black\" stroke=\"black\" points=\"1327.47,-1039.62 1337.91,-1041.39 1330.86,-1033.49 1327.47,-1039.62\"/>\n</g>\n<!-- 6286861008 -->\n<g id=\"node82\" class=\"node\">\n<title>6286861008</title>\n<ellipse fill=\"none\" stroke=\"black\" cx=\"1363.5\" cy=\"-911\" rx=\"27\" ry=\"27\"/>\n</g>\n<!-- 6286621344&#45;&gt;6286861008 -->\n<g id=\"edge35\" class=\"edge\">\n<title>6286621344&#45;&gt;6286861008</title>\n<path fill=\"none\" stroke=\"black\" d=\"M1269.37,-964.53C1279.53,-959.32 1290.5,-953.55 1300.5,-948 1310.24,-942.6 1320.69,-936.49 1330.18,-930.81\"/>\n<polygon fill=\"black\" stroke=\"black\" points=\"1331.97,-933.82 1338.73,-925.66 1328.36,-927.83 1331.97,-933.82\"/>\n</g>\n<!-- 6286863792 -->\n<g id=\"node83\" class=\"node\">\n<title>6286863792</title>\n<ellipse fill=\"none\" stroke=\"black\" cx=\"1363.5\" cy=\"-767\" rx=\"27\" ry=\"27\"/>\n</g>\n<!-- 6286621344&#45;&gt;6286863792 -->\n<g id=\"edge36\" class=\"edge\">\n<title>6286621344&#45;&gt;6286863792</title>\n<path fill=\"none\" stroke=\"black\" d=\"M1281.29,-964.51C1288.53,-960.02 1295.3,-954.57 1300.5,-948 1341.72,-895.94 1308.55,-863.23 1336.5,-803 1337.42,-801.01 1338.47,-799.01 1339.59,-797.04\"/>\n<polygon fill=\"black\" stroke=\"black\" points=\"1342.44,-799.07 1344.86,-788.76 1336.53,-795.31 1342.44,-799.07\"/>\n</g>\n<!-- 6286852512 -->\n<g id=\"node24\" class=\"node\">\n<title>6286852512</title>\n<polygon fill=\"none\" stroke=\"black\" points=\"1884.88,-656 1771.38,-656 1771.38,-620 1884.88,-620 1884.88,-656\"/>\n<text text-anchor=\"middle\" x=\"1828.12\" y=\"-633.73\" font-family=\"Arial\" font-size=\"12.00\">vacatures_zoeken</text>\n</g>\n<!-- 6286852512&#45;&gt;6286864224 -->\n<g id=\"edge106\" class=\"edge\">\n<title>6286852512&#45;&gt;6286864224</title>\n<path fill=\"none\" stroke=\"black\" d=\"M1885.32,-654.06C1900.1,-658.75 1915.91,-664.19 1930.25,-670 1939.83,-673.88 1949.92,-678.59 1959.25,-683.22\"/>\n<polygon fill=\"black\" stroke=\"black\" points=\"1957.55,-686.28 1968.05,-687.69 1960.71,-680.04 1957.55,-686.28\"/>\n</g>\n<!-- 6286852896 -->\n<g id=\"node25\" class=\"node\">\n<title>6286852896</title>\n<polygon fill=\"none\" stroke=\"black\" points=\"1860.5,-602 1795.75,-602 1795.75,-566 1860.5,-566 1860.5,-602\"/>\n<text text-anchor=\"middle\" x=\"1828.12\" y=\"-579.73\" font-family=\"Arial\" font-size=\"12.00\">werkmap</text>\n</g>\n<!-- 6286852896&#45;&gt;6286864224 -->\n<g id=\"edge111\" class=\"edge\">\n<title>6286852896&#45;&gt;6286864224</title>\n<path fill=\"none\" stroke=\"black\" d=\"M1860.63,-586.83C1881.85,-590.01 1909.62,-596.74 1930.25,-611 1950.13,-624.74 1966.13,-646.49 1977.4,-665.4\"/>\n<polygon fill=\"black\" stroke=\"black\" points=\"1974.27,-666.98 1982.26,-673.93 1980.35,-663.51 1974.27,-666.98\"/>\n</g>\n<!-- 6286620720 -->\n<g id=\"node26\" class=\"node\">\n<title>6286620720</title>\n<polygon fill=\"none\" stroke=\"black\" points=\"191.5,-1153 0,-1153 0,-1117 191.5,-1117 191.5,-1153\"/>\n<text text-anchor=\"middle\" x=\"95.75\" y=\"-1130.72\" font-family=\"Arial\" font-size=\"12.00\">PORTAL.wwsec_app_priv.logout</text>\n</g>\n<!-- 6286621104 -->\n<g id=\"node27\" class=\"node\">\n<title>6286621104</title>\n<polygon fill=\"none\" stroke=\"black\" points=\"865,-1210 796.5,-1210 796.5,-1174 865,-1174 865,-1210\"/>\n<text text-anchor=\"middle\" x=\"830.75\" y=\"-1187.72\" font-family=\"Arial\" font-size=\"12.00\">gegevens</text>\n</g>\n<!-- 6286621104&#45;&gt;6286864224 -->\n<g id=\"edge13\" class=\"edge\">\n<title>6286621104&#45;&gt;6286864224</title>\n<path fill=\"none\" stroke=\"black\" d=\"M865.17,-1205.84C915.02,-1225.19 1012.21,-1258 1098.25,-1258 1098.25,-1258 1098.25,-1258 1664,-1258 1785.4,-1258 1848.46,-1286.72 1930.25,-1197 1990.09,-1131.36 1996.4,-853.29 1996.55,-745.72\"/>\n<polygon fill=\"black\" stroke=\"black\" points=\"2000.05,-745.88 1996.54,-735.88 1993.05,-745.88 2000.05,-745.88\"/>\n</g>\n<!-- 6286622256 -->\n<g id=\"node28\" class=\"node\">\n<title>6286622256</title>\n<polygon fill=\"none\" stroke=\"black\" points=\"1883.75,-510 1772.5,-510 1772.5,-474 1883.75,-474 1883.75,-510\"/>\n<text text-anchor=\"middle\" x=\"1828.12\" y=\"-487.73\" font-family=\"Arial\" font-size=\"12.00\">mijn_documenten</text>\n</g>\n<!-- 6286622256&#45;&gt;6286864224 -->\n<g id=\"edge31\" class=\"edge\">\n<title>6286622256&#45;&gt;6286864224</title>\n<path fill=\"none\" stroke=\"black\" d=\"M1884.05,-499.79C1900.59,-504.48 1917.66,-511.99 1930.25,-524 1968.2,-560.21 1984.45,-620.12 1991.33,-660.55\"/>\n<polygon fill=\"black\" stroke=\"black\" points=\"1987.87,-661.08 1992.87,-670.42 1994.79,-660 1987.87,-661.08\"/>\n</g>\n<!-- 6286094128 -->\n<g id=\"node29\" class=\"node\">\n<title>6286094128</title>\n<polygon fill=\"none\" stroke=\"black\" points=\"122.75,-1207 68.75,-1207 68.75,-1171 122.75,-1171 122.75,-1207\"/>\n<text text-anchor=\"middle\" x=\"95.75\" y=\"-1184.72\" font-family=\"Arial\" font-size=\"12.00\">portal</text>\n</g>\n<!-- 6286852272 -->\n<g id=\"node30\" class=\"node\">\n<title>6286852272</title>\n<polygon fill=\"none\" stroke=\"black\" points=\"1574.5,-542 1452,-542 1452,-506 1574.5,-506 1574.5,-542\"/>\n<text text-anchor=\"middle\" x=\"1513.25\" y=\"-519.73\" font-family=\"Arial\" font-size=\"12.00\">uitkering&#45;aanvragen</text>\n</g>\n<!-- 6286852272&#45;&gt;6286864224 -->\n<g id=\"edge99\" class=\"edge\">\n<title>6286852272&#45;&gt;6286864224</title>\n<path fill=\"none\" stroke=\"black\" d=\"M1574.76,-525.43C1683.17,-528.48 1901.87,-537.05 1930.25,-557 1964.39,-581 1981.19,-627.02 1989.24,-661\"/>\n<polygon fill=\"black\" stroke=\"black\" points=\"1985.77,-661.52 1991.32,-670.54 1992.61,-660.02 1985.77,-661.52\"/>\n</g>\n<!-- 6286857840 -->\n<g id=\"node97\" class=\"node\">\n<title>6286857840</title>\n<ellipse fill=\"none\" stroke=\"black\" cx=\"1663\" cy=\"-485\" rx=\"27\" ry=\"27\"/>\n</g>\n<!-- 6286852272&#45;&gt;6286857840 -->\n<g id=\"edge100\" class=\"edge\">\n<title>6286852272&#45;&gt;6286857840</title>\n<path fill=\"none\" stroke=\"black\" d=\"M1574.77,-508.02C1591.92,-503.5 1610.06,-498.71 1625.33,-494.68\"/>\n<polygon fill=\"black\" stroke=\"black\" points=\"1626.14,-498.08 1634.92,-492.15 1624.36,-491.32 1626.14,-498.08\"/>\n</g>\n<!-- 6286852656 -->\n<g id=\"node31\" class=\"node\">\n<title>6286852656</title>\n<polygon fill=\"none\" stroke=\"black\" points=\"469.25,-829 391,-829 391,-793 469.25,-793 469.25,-829\"/>\n<text text-anchor=\"middle\" x=\"430.12\" y=\"-806.73\" font-family=\"Arial\" font-size=\"12.00\">wdo211812</text>\n</g>\n<!-- 6286853040 -->\n<g id=\"node32\" class=\"node\">\n<title>6286853040</title>\n<polygon fill=\"none\" stroke=\"black\" points=\"1855.12,-456 1801.12,-456 1801.12,-420 1855.12,-420 1855.12,-456\"/>\n<text text-anchor=\"middle\" x=\"1828.12\" y=\"-433.73\" font-family=\"Arial\" font-size=\"12.00\">ww</text>\n</g>\n<!-- 6286853040&#45;&gt;6286864224 -->\n<g id=\"edge114\" class=\"edge\">\n<title>6286853040&#45;&gt;6286864224</title>\n<path fill=\"none\" stroke=\"black\" d=\"M1855.47,-438.09C1878.23,-439.61 1910.5,-445.44 1930.25,-465 1982.79,-517.04 1994.49,-606.97 1996.54,-660.13\"/>\n<polygon fill=\"black\" stroke=\"black\" points=\"1993.04,-660.11 1996.81,-670.01 2000.03,-659.92 1993.04,-660.11\"/>\n</g>\n<!-- 6286621632 -->\n<g id=\"node33\" class=\"node\">\n<title>6286621632</title>\n<polygon fill=\"none\" stroke=\"black\" points=\"542.75,-1261 317.5,-1261 317.5,-1225 542.75,-1225 542.75,-1261\"/>\n<text text-anchor=\"middle\" x=\"430.12\" y=\"-1238.72\" font-family=\"Arial\" font-size=\"12.00\">hoe&#45;verleng&#45;ik&#45;mijn&#45;inschrijving&#45;bij&#45;uwv</text>\n</g>\n<!-- 6286621248 -->\n<g id=\"node34\" class=\"node\">\n<title>6286621248</title>\n<polygon fill=\"none\" stroke=\"black\" points=\"997.25,-255 940,-255 940,-219 997.25,-219 997.25,-255\"/>\n<text text-anchor=\"middle\" x=\"968.62\" y=\"-232.72\" font-family=\"Arial\" font-size=\"12.00\">mijn_cv</text>\n</g>\n<!-- 6286621248&#45;&gt;6286864224 -->\n<g id=\"edge29\" class=\"edge\">\n<title>6286621248&#45;&gt;6286864224</title>\n<path fill=\"none\" stroke=\"black\" d=\"M997.45,-221.19C1057.19,-188.26 1203.15,-113.21 1336.5,-87 1385.68,-77.33 1828.27,-3.81 1930.25,-97 1971.86,-135.03 1989.93,-529.55 1994.82,-660.8\"/>\n<polygon fill=\"black\" stroke=\"black\" points=\"1991.3,-660.57 1995.17,-670.43 1998.3,-660.31 1991.3,-660.57\"/>\n</g>\n<!-- 6286854096 -->\n<g id=\"node89\" class=\"node\">\n<title>6286854096</title>\n<ellipse fill=\"none\" stroke=\"black\" cx=\"1099.25\" cy=\"-474\" rx=\"27\" ry=\"27\"/>\n</g>\n<!-- 6286621248&#45;&gt;6286854096 -->\n<g id=\"edge30\" class=\"edge\">\n<title>6286621248&#45;&gt;6286854096</title>\n<path fill=\"none\" stroke=\"black\" d=\"M979.5,-255.2C1001.08,-294.95 1052.67,-390.01 1080.21,-440.76\"/>\n<polygon fill=\"black\" stroke=\"black\" points=\"1076.97,-442.13 1084.82,-449.25 1083.12,-438.79 1076.97,-442.13\"/>\n</g>\n<!-- 6286622400 -->\n<g id=\"node35\" class=\"node\">\n<title>6286622400</title>\n<polygon fill=\"none\" stroke=\"black\" points=\"1263.38,-939 1199.38,-939 1199.38,-903 1263.38,-903 1263.38,-939\"/>\n<text text-anchor=\"middle\" x=\"1231.38\" y=\"-916.73\" font-family=\"Arial\" font-size=\"12.00\">mijn_tips</text>\n</g>\n<!-- 6286622400&#45;&gt;6286857072 -->\n<g id=\"edge39\" class=\"edge\">\n<title>6286622400&#45;&gt;6286857072</title>\n<path fill=\"none\" stroke=\"black\" d=\"M1263.87,-936.01C1283.38,-945.3 1308.44,-957.24 1328.41,-966.76\"/>\n<polygon fill=\"black\" stroke=\"black\" points=\"1326.73,-969.83 1337.26,-970.97 1329.74,-963.51 1326.73,-969.83\"/>\n</g>\n<!-- 6286853712 -->\n<g id=\"node84\" class=\"node\">\n<title>6286853712</title>\n<ellipse fill=\"none\" stroke=\"black\" cx=\"1363.5\" cy=\"-839\" rx=\"27\" ry=\"27\"/>\n</g>\n<!-- 6286622400&#45;&gt;6286853712 -->\n<g id=\"edge40\" class=\"edge\">\n<title>6286622400&#45;&gt;6286853712</title>\n<path fill=\"none\" stroke=\"black\" d=\"M1261.58,-902.6C1282.15,-889.63 1309.67,-872.29 1330.78,-858.99\"/>\n<polygon fill=\"black\" stroke=\"black\" points=\"1332.4,-862.1 1338.99,-853.81 1328.67,-856.18 1332.4,-862.1\"/>\n</g>\n<!-- 6286620096 -->\n<g id=\"node36\" class=\"node\">\n<title>6286620096</title>\n<polygon fill=\"none\" stroke=\"black\" points=\"1875.12,-326 1781.12,-326 1781.12,-290 1875.12,-290 1875.12,-326\"/>\n<text text-anchor=\"middle\" x=\"1828.12\" y=\"-303.73\" font-family=\"Arial\" font-size=\"12.00\">mijn_werkmap</text>\n</g>\n<!-- 6286620096&#45;&gt;6286864224 -->\n<g id=\"edge41\" class=\"edge\">\n<title>6286620096&#45;&gt;6286864224</title>\n<path fill=\"none\" stroke=\"black\" d=\"M1875.4,-312.13C1894.99,-316.25 1916.44,-324.32 1930.25,-340 1971.75,-387.11 1988.39,-574.92 1993.91,-660.33\"/>\n<polygon fill=\"black\" stroke=\"black\" points=\"1990.41,-660.4 1994.53,-670.16 1997.4,-659.97 1990.41,-660.4\"/>\n</g>\n<!-- 6286083520 -->\n<g id=\"node37\" class=\"node\">\n<title>6286083520</title>\n<polygon fill=\"none\" stroke=\"black\" points=\"1875.88,-142 1780.38,-142 1780.38,-106 1875.88,-106 1875.88,-142\"/>\n<text text-anchor=\"middle\" x=\"1828.12\" y=\"-119.72\" font-family=\"Arial\" font-size=\"12.00\">ontwikkel&#45;uzelf</text>\n</g>\n<!-- 6286854480 -->\n<g id=\"node86\" class=\"node\">\n<title>6286854480</title>\n<ellipse fill=\"none\" stroke=\"black\" cx=\"1997.25\" cy=\"-133\" rx=\"27\" ry=\"27\"/>\n</g>\n<!-- 6286083520&#45;&gt;6286854480 -->\n<g id=\"edge43\" class=\"edge\">\n<title>6286083520&#45;&gt;6286854480</title>\n<path fill=\"none\" stroke=\"black\" d=\"M1876.12,-126.53C1902.18,-127.93 1934.13,-129.65 1958.54,-130.97\"/>\n<polygon fill=\"black\" stroke=\"black\" points=\"1958.17,-134.45 1968.34,-131.5 1958.54,-127.46 1958.17,-134.45\"/>\n</g>\n<!-- 6286091968 -->\n<g id=\"node38\" class=\"node\">\n<title>6286091968</title>\n<polygon fill=\"none\" stroke=\"black\" points=\"2129.75,-151 2064.25,-151 2064.25,-115 2129.75,-115 2129.75,-151\"/>\n<text text-anchor=\"middle\" x=\"2097\" y=\"-128.72\" font-family=\"Arial\" font-size=\"12.00\">opleiding</text>\n</g>\n<!-- 6286860048 -->\n<g id=\"node87\" class=\"node\">\n<title>6286860048</title>\n<ellipse fill=\"none\" stroke=\"black\" cx=\"2192.75\" cy=\"-133\" rx=\"27\" ry=\"27\"/>\n</g>\n<!-- 6286091968&#45;&gt;6286860048 -->\n<g id=\"edge44\" class=\"edge\">\n<title>6286091968&#45;&gt;6286860048</title>\n<path fill=\"none\" stroke=\"black\" d=\"M2130,-133C2137.77,-133 2146.15,-133 2154.15,-133\"/>\n<polygon fill=\"black\" stroke=\"black\" points=\"2153.98,-136.5 2163.98,-133 2153.98,-129.5 2153.98,-136.5\"/>\n</g>\n<!-- 6286852416 -->\n<g id=\"node39\" class=\"node\">\n<title>6286852416</title>\n<polygon fill=\"none\" stroke=\"black\" points=\"1547.12,-781 1479.38,-781 1479.38,-745 1547.12,-745 1547.12,-781\"/>\n<text text-anchor=\"middle\" x=\"1513.25\" y=\"-758.73\" font-family=\"Arial\" font-size=\"12.00\">vacatures</text>\n</g>\n<!-- 6286852416&#45;&gt;6286864224 -->\n<g id=\"edge101\" class=\"edge\">\n<title>6286852416&#45;&gt;6286864224</title>\n<path fill=\"none\" stroke=\"black\" d=\"M1547.6,-765.25C1619.15,-769.12 1792.1,-773.38 1930.25,-736 1940.31,-733.28 1950.65,-728.95 1960.06,-724.32\"/>\n<polygon fill=\"black\" stroke=\"black\" points=\"1961.64,-727.44 1968.9,-719.72 1958.41,-721.23 1961.64,-727.44\"/>\n</g>\n<!-- 6286852800 -->\n<g id=\"node40\" class=\"node\">\n<title>6286852800</title>\n<polygon fill=\"none\" stroke=\"black\" points=\"1556.12,-194 1470.38,-194 1470.38,-158 1556.12,-158 1556.12,-194\"/>\n<text text-anchor=\"middle\" x=\"1513.25\" y=\"-171.72\" font-family=\"Arial\" font-size=\"12.00\">wdo_010304</text>\n</g>\n<!-- 6286852800&#45;&gt;6286864224 -->\n<g id=\"edge109\" class=\"edge\">\n<title>6286852800&#45;&gt;6286864224</title>\n<path fill=\"none\" stroke=\"black\" d=\"M1556.6,-178.3C1657.17,-184.16 1903.9,-201.06 1930.25,-227 1991.08,-286.88 1996.83,-555.13 1996.69,-660.4\"/>\n<polygon fill=\"black\" stroke=\"black\" points=\"1993.19,-660.3 1996.66,-670.31 2000.19,-660.32 1993.19,-660.3\"/>\n</g>\n<!-- 6286853184 -->\n<g id=\"node41\" class=\"node\">\n<title>6286853184</title>\n<polygon fill=\"none\" stroke=\"black\" points=\"151.75,-1315 39.75,-1315 39.75,-1279 151.75,-1279 151.75,-1315\"/>\n<text text-anchor=\"middle\" x=\"95.75\" y=\"-1292.72\" font-family=\"Arial\" font-size=\"12.00\">zoekBeroepenlijst</text>\n</g>\n<!-- 6286621008 -->\n<g id=\"node42\" class=\"node\">\n<title>6286621008</title>\n<polygon fill=\"none\" stroke=\"black\" points=\"1875.5,-272 1780.75,-272 1780.75,-236 1875.5,-236 1875.5,-272\"/>\n<text text-anchor=\"middle\" x=\"1828.12\" y=\"-249.72\" font-family=\"Arial\" font-size=\"12.00\">aanvragen&#45;ww</text>\n</g>\n<!-- 6286621008&#45;&gt;6286864224 -->\n<g id=\"edge7\" class=\"edge\">\n<title>6286621008&#45;&gt;6286864224</title>\n<path fill=\"none\" stroke=\"black\" d=\"M1875.94,-255.61C1895.39,-258.75 1916.58,-265.8 1930.25,-281 1980.06,-336.37 1992.34,-564.67 1995.32,-660.42\"/>\n<polygon fill=\"black\" stroke=\"black\" points=\"1991.81,-660.28 1995.6,-670.18 1998.81,-660.08 1991.81,-660.28\"/>\n</g>\n<!-- 6286620240 -->\n<g id=\"node43\" class=\"node\">\n<title>6286620240</title>\n<polygon fill=\"none\" stroke=\"black\" points=\"152.88,-1369 38.62,-1369 38.62,-1333 152.88,-1333 152.88,-1369\"/>\n<text text-anchor=\"middle\" x=\"95.75\" y=\"-1346.72\" font-family=\"Arial\" font-size=\"12.00\">certificaat&#45;ervaring</text>\n</g>\n<!-- 6286621776 -->\n<g id=\"node44\" class=\"node\">\n<title>6286621776</title>\n<polygon fill=\"none\" stroke=\"black\" points=\"741.62,-775 687.62,-775 687.62,-739 741.62,-739 741.62,-775\"/>\n<text text-anchor=\"middle\" x=\"714.62\" y=\"-752.73\" font-family=\"Arial\" font-size=\"12.00\">malta</text>\n</g>\n<!-- 6286621392 -->\n<g id=\"node45\" class=\"node\">\n<title>6286621392</title>\n<polygon fill=\"none\" stroke=\"black\" points=\"1905.12,-970 1751.12,-970 1751.12,-934 1905.12,-934 1905.12,-970\"/>\n<text text-anchor=\"middle\" x=\"1828.12\" y=\"-947.73\" font-family=\"Arial\" font-size=\"12.00\">mijn_rechten_en_plichten</text>\n</g>\n<!-- 6286621392&#45;&gt;6286864224 -->\n<g id=\"edge37\" class=\"edge\">\n<title>6286621392&#45;&gt;6286864224</title>\n<path fill=\"none\" stroke=\"black\" d=\"M1905.51,-940.87C1914.65,-937 1923.21,-931.84 1930.25,-925 1979.09,-877.51 1992.19,-795.65 1995.47,-745.71\"/>\n<polygon fill=\"black\" stroke=\"black\" points=\"1998.96,-746.03 1996,-735.86 1991.97,-745.66 1998.96,-746.03\"/>\n</g>\n<!-- 6286092496 -->\n<g id=\"node46\" class=\"node\">\n<title>6286092496</title>\n<polygon fill=\"none\" stroke=\"black\" points=\"1586.12,-248 1440.38,-248 1440.38,-212 1586.12,-212 1586.12,-248\"/>\n<text text-anchor=\"middle\" x=\"1513.25\" y=\"-225.72\" font-family=\"Arial\" font-size=\"12.00\">solliciteren&#45;werk&#45;zoeken</text>\n</g>\n<!-- 6286852176 -->\n<g id=\"node47\" class=\"node\">\n<title>6286852176</title>\n<polygon fill=\"none\" stroke=\"black\" points=\"1540.25,-365 1486.25,-365 1486.25,-329 1540.25,-329 1540.25,-365\"/>\n<text text-anchor=\"middle\" x=\"1513.25\" y=\"-342.73\" font-family=\"Arial\" font-size=\"12.00\">taken</text>\n</g>\n<!-- 6286852176&#45;&gt;6286864224 -->\n<g id=\"edge98\" class=\"edge\">\n<title>6286852176&#45;&gt;6286864224</title>\n<path fill=\"none\" stroke=\"black\" d=\"M1540.62,-345.01C1622.82,-339.41 1872.39,-327 1930.25,-378 1971.99,-414.78 1988.32,-581.23 1993.82,-660.62\"/>\n<polygon fill=\"black\" stroke=\"black\" points=\"1990.3,-660.42 1994.45,-670.16 1997.28,-659.95 1990.3,-660.42\"/>\n</g>\n<!-- 6286852560 -->\n<g id=\"node48\" class=\"node\">\n<title>6286852560</title>\n<polygon fill=\"none\" stroke=\"black\" points=\"143.88,-1423 47.62,-1423 47.62,-1387 143.88,-1387 143.88,-1423\"/>\n<text text-anchor=\"middle\" x=\"95.75\" y=\"-1400.72\" font-family=\"Arial\" font-size=\"12.00\">vragenlijst&#45;uwv</text>\n</g>\n<!-- 6286852944 -->\n<g id=\"node49\" class=\"node\">\n<title>6286852944</title>\n<polygon fill=\"none\" stroke=\"black\" points=\"152.5,-1477 39,-1477 39,-1441 152.5,-1441 152.5,-1477\"/>\n<text text-anchor=\"middle\" x=\"95.75\" y=\"-1454.72\" font-family=\"Arial\" font-size=\"12.00\">werkplan_lightbox</text>\n</g>\n<!-- 6286619616 -->\n<g id=\"node50\" class=\"node\">\n<title>6286619616</title>\n<polygon fill=\"none\" stroke=\"black\" points=\"1292.25,-564 1170.5,-564 1170.5,-528 1292.25,-528 1292.25,-564\"/>\n<text text-anchor=\"middle\" x=\"1231.38\" y=\"-541.73\" font-family=\"Arial\" font-size=\"12.00\">foutopgetreden.html</text>\n</g>\n<!-- 6286619616&#45;&gt;6286864224 -->\n<g id=\"edge9\" class=\"edge\">\n<title>6286619616&#45;&gt;6286864224</title>\n<path fill=\"none\" stroke=\"black\" d=\"M1292.67,-546.76C1323.08,-545.18 1359.91,-540.19 1390.5,-527 1409.62,-518.75 1408.1,-506.75 1426.5,-497 1548.88,-432.17 1588.86,-430.3 1726,-411 1815.89,-398.35 1859.34,-354.33 1930.25,-411 1968.79,-441.8 1986.46,-587.5 1993.03,-660.75\"/>\n<polygon fill=\"black\" stroke=\"black\" points=\"1989.51,-660.68 1993.86,-670.35 1996.48,-660.08 1989.51,-660.68\"/>\n</g>\n<!-- 6286863408 -->\n<g id=\"node73\" class=\"node\">\n<title>6286863408</title>\n<ellipse fill=\"none\" stroke=\"black\" cx=\"1363.5\" cy=\"-491\" rx=\"27\" ry=\"27\"/>\n</g>\n<!-- 6286619616&#45;&gt;6286863408 -->\n<g id=\"edge10\" class=\"edge\">\n<title>6286619616&#45;&gt;6286863408</title>\n<path fill=\"none\" stroke=\"black\" d=\"M1276.07,-527.53C1292.86,-520.43 1311.8,-512.43 1327.66,-505.73\"/>\n<polygon fill=\"black\" stroke=\"black\" points=\"1328.83,-509.03 1336.68,-501.91 1326.11,-502.58 1328.83,-509.03\"/>\n</g>\n<!-- 6286859280 -->\n<g id=\"node74\" class=\"node\">\n<title>6286859280</title>\n<ellipse fill=\"none\" stroke=\"black\" cx=\"1363.5\" cy=\"-601\" rx=\"27\" ry=\"27\"/>\n</g>\n<!-- 6286619616&#45;&gt;6286859280 -->\n<g id=\"edge11\" class=\"edge\">\n<title>6286619616&#45;&gt;6286859280</title>\n<path fill=\"none\" stroke=\"black\" d=\"M1276.07,-564.47C1292.86,-571.57 1311.8,-579.57 1327.66,-586.27\"/>\n<polygon fill=\"black\" stroke=\"black\" points=\"1326.11,-589.42 1336.68,-590.09 1328.83,-582.97 1326.11,-589.42\"/>\n</g>\n<!-- 6286621536 -->\n<g id=\"node51\" class=\"node\">\n<title>6286621536</title>\n<polygon fill=\"none\" stroke=\"black\" points=\"135.25,-1531 56.25,-1531 56.25,-1495 135.25,-1495 135.25,-1531\"/>\n<text text-anchor=\"middle\" x=\"95.75\" y=\"-1508.72\" font-family=\"Arial\" font-size=\"12.00\">handleiding</text>\n</g>\n<!-- 6286621152 -->\n<g id=\"node52\" class=\"node\">\n<title>6286621152</title>\n<polygon fill=\"none\" stroke=\"black\" points=\"138.62,-1585 52.88,-1585 52.88,-1549 138.62,-1549 138.62,-1585\"/>\n<text text-anchor=\"middle\" x=\"95.75\" y=\"-1562.72\" font-family=\"Arial\" font-size=\"12.00\">mijn_agenda</text>\n</g>\n<!-- 6286852320 -->\n<g id=\"node53\" class=\"node\">\n<title>6286852320</title>\n<polygon fill=\"none\" stroke=\"black\" points=\"163.38,-1639 28.12,-1639 28.12,-1603 163.38,-1603 163.38,-1639\"/>\n<text text-anchor=\"middle\" x=\"95.75\" y=\"-1616.72\" font-family=\"Arial\" font-size=\"12.00\">uwvsanlig&#45;webfont.eot</text>\n</g>\n<!-- 6286852704 -->\n<g id=\"node54\" class=\"node\">\n<title>6286852704</title>\n<polygon fill=\"none\" stroke=\"black\" points=\"134.88,-1693 56.62,-1693 56.62,-1657 134.88,-1657 134.88,-1693\"/>\n<text text-anchor=\"middle\" x=\"95.75\" y=\"-1670.72\" font-family=\"Arial\" font-size=\"12.00\">wdo211818</text>\n</g>\n<!-- 6286852752 -->\n<g id=\"node55\" class=\"node\">\n<title>6286852752</title>\n<polygon fill=\"none\" stroke=\"black\" points=\"1867.62,-1024 1788.62,-1024 1788.62,-988 1867.62,-988 1867.62,-1024\"/>\n<text text-anchor=\"middle\" x=\"1828.12\" y=\"-1001.73\" font-family=\"Arial\" font-size=\"12.00\">wdo212395</text>\n</g>\n<!-- 6286852752&#45;&gt;6286864224 -->\n<g id=\"edge108\" class=\"edge\">\n<title>6286852752&#45;&gt;6286864224</title>\n<path fill=\"none\" stroke=\"black\" d=\"M1868.01,-1004.93C1889.13,-1002.3 1914.15,-995.53 1930.25,-979 1962.42,-945.97 1982.83,-813.7 1991.48,-744.96\"/>\n<polygon fill=\"black\" stroke=\"black\" points=\"1994.93,-745.56 1992.68,-735.2 1987.99,-744.7 1994.93,-745.56\"/>\n</g>\n<!-- 6286853088 -->\n<g id=\"node56\" class=\"node\">\n<title>6286853088</title>\n<polygon fill=\"none\" stroke=\"black\" points=\"157.75,-1747 33.75,-1747 33.75,-1711 157.75,-1711 157.75,-1747\"/>\n<text text-anchor=\"middle\" x=\"95.75\" y=\"-1724.72\" font-family=\"Arial\" font-size=\"12.00\">zoekAantalIndicatief</text>\n</g>\n<!-- 6286620528 -->\n<g id=\"node57\" class=\"node\">\n<title>6286620528</title>\n<polygon fill=\"none\" stroke=\"black\" points=\"148,-1801 43.5,-1801 43.5,-1765 148,-1765 148,-1801\"/>\n<text text-anchor=\"middle\" x=\"95.75\" y=\"-1778.72\" font-family=\"Arial\" font-size=\"12.00\">email_uw_vraag</text>\n</g>\n<!-- 6286622448 -->\n<g id=\"node58\" class=\"node\">\n<title>6286622448</title>\n<polygon fill=\"none\" stroke=\"black\" points=\"132.25,-1261 59.25,-1261 59.25,-1225 132.25,-1225 132.25,-1261\"/>\n<text text-anchor=\"middle\" x=\"95.75\" y=\"-1238.72\" font-family=\"Arial\" font-size=\"12.00\">geen&#45;digid</text>\n</g>\n<!-- 6286861680 -->\n<g id=\"node75\" class=\"node\">\n<title>6286861680</title>\n<ellipse fill=\"none\" stroke=\"black\" cx=\"254.5\" cy=\"-1243\" rx=\"27\" ry=\"27\"/>\n</g>\n<!-- 6286622448&#45;&gt;6286861680 -->\n<g id=\"edge12\" class=\"edge\">\n<title>6286622448&#45;&gt;6286861680</title>\n<path fill=\"none\" stroke=\"black\" d=\"M132.71,-1243C157.68,-1243 190.87,-1243 216.14,-1243\"/>\n<polygon fill=\"black\" stroke=\"black\" points=\"215.97,-1246.5 225.97,-1243 215.97,-1239.5 215.97,-1246.5\"/>\n</g>\n<!-- 6286621680 -->\n<g id=\"node59\" class=\"node\">\n<title>6286621680</title>\n<polygon fill=\"none\" stroke=\"black\" points=\"1855.12,-1322 1801.12,-1322 1801.12,-1286 1855.12,-1286 1855.12,-1322\"/>\n<text text-anchor=\"middle\" x=\"1828.12\" y=\"-1299.72\" font-family=\"Arial\" font-size=\"12.00\">home</text>\n</g>\n<!-- 6286621680&#45;&gt;6286864224 -->\n<g id=\"edge20\" class=\"edge\">\n<title>6286621680&#45;&gt;6286864224</title>\n<path fill=\"none\" stroke=\"black\" d=\"M1855.44,-1303.27C1878.84,-1301.1 1912.08,-1294.02 1930.25,-1272 1963.67,-1231.5 1986.87,-870.59 1993.96,-745.48\"/>\n<polygon fill=\"black\" stroke=\"black\" points=\"1997.45,-745.82 1994.51,-735.64 1990.46,-745.43 1997.45,-745.82\"/>\n</g>\n<!-- 6286618992 -->\n<g id=\"node60\" class=\"node\">\n<title>6286618992</title>\n<polygon fill=\"none\" stroke=\"black\" points=\"760.5,-963 668.75,-963 668.75,-927 760.5,-927 760.5,-963\"/>\n<text text-anchor=\"middle\" x=\"714.62\" y=\"-940.73\" font-family=\"Arial\" font-size=\"12.00\">melding_sha2</text>\n</g>\n<!-- 6286621296 -->\n<g id=\"node61\" class=\"node\">\n<title>6286621296</title>\n<polygon fill=\"none\" stroke=\"black\" points=\"139.38,-1855 52.12,-1855 52.12,-1819 139.38,-1819 139.38,-1855\"/>\n<text text-anchor=\"middle\" x=\"95.75\" y=\"-1832.72\" font-family=\"Arial\" font-size=\"12.00\">mijn_netwerk</text>\n</g>\n<!-- 6286094320 -->\n<g id=\"node62\" class=\"node\">\n<title>6286094320</title>\n<polygon fill=\"none\" stroke=\"black\" points=\"1000.62,-564 936.62,-564 936.62,-528 1000.62,-528 1000.62,-564\"/>\n<text text-anchor=\"middle\" x=\"968.62\" y=\"-541.73\" font-family=\"Arial\" font-size=\"12.00\">overzicht</text>\n</g>\n<!-- 6286094320&#45;&gt;6286854768 -->\n<g id=\"edge45\" class=\"edge\">\n<title>6286094320&#45;&gt;6286854768</title>\n<path fill=\"none\" stroke=\"black\" d=\"M1001.09,-563.61C1020.6,-574.53 1045.61,-588.54 1065.38,-599.6\"/>\n<polygon fill=\"black\" stroke=\"black\" points=\"1063.42,-602.52 1073.86,-604.35 1066.84,-596.41 1063.42,-602.52\"/>\n</g>\n<!-- 6286094320&#45;&gt;6286854096 -->\n<g id=\"edge46\" class=\"edge\">\n<title>6286094320&#45;&gt;6286854096</title>\n<path fill=\"none\" stroke=\"black\" d=\"M1001.09,-528.39C1020.6,-517.47 1045.61,-503.46 1065.38,-492.4\"/>\n<polygon fill=\"black\" stroke=\"black\" points=\"1066.84,-495.59 1073.86,-487.65 1063.42,-489.48 1066.84,-495.59\"/>\n</g>\n<!-- 6286855536 -->\n<g id=\"node90\" class=\"node\">\n<title>6286855536</title>\n<ellipse fill=\"none\" stroke=\"black\" cx=\"1099.25\" cy=\"-546\" rx=\"27\" ry=\"27\"/>\n</g>\n<!-- 6286094320&#45;&gt;6286855536 -->\n<g id=\"edge47\" class=\"edge\">\n<title>6286094320&#45;&gt;6286855536</title>\n<path fill=\"none\" stroke=\"black\" d=\"M1001.09,-546C1018.99,-546 1041.53,-546 1060.39,-546\"/>\n<polygon fill=\"black\" stroke=\"black\" points=\"1060.37,-549.5 1070.37,-546 1060.37,-542.5 1060.37,-549.5\"/>\n</g>\n<!-- 6286852464 -->\n<g id=\"node63\" class=\"node\">\n<title>6286852464</title>\n<polygon fill=\"none\" stroke=\"black\" points=\"1036.25,-833 901,-833 901,-797 1036.25,-797 1036.25,-833\"/>\n<text text-anchor=\"middle\" x=\"968.62\" y=\"-810.73\" font-family=\"Arial\" font-size=\"12.00\">vacatures_bij_mijn_cv</text>\n</g>\n<!-- 6286852464&#45;&gt;6286864224 -->\n<g id=\"edge102\" class=\"edge\">\n<title>6286852464&#45;&gt;6286864224</title>\n<path fill=\"none\" stroke=\"black\" d=\"M1033.92,-796.52C1106.65,-776.49 1229,-745.46 1336.5,-731 1568.43,-699.79 1849.98,-700.55 1954.54,-702.14\"/>\n<polygon fill=\"black\" stroke=\"black\" points=\"1954.26,-705.64 1964.31,-702.3 1954.37,-698.64 1954.26,-705.64\"/>\n</g>\n<!-- 6286852464&#45;&gt;6286858512 -->\n<g id=\"edge103\" class=\"edge\">\n<title>6286852464&#45;&gt;6286858512</title>\n<path fill=\"none\" stroke=\"black\" d=\"M992.44,-833.33C1005.6,-844.2 1022.25,-858.45 1036.25,-872 1095.92,-929.77 1090.42,-968.31 1162.25,-1010 1213.41,-1039.7 1282.42,-1049.8 1324.62,-1053.24\"/>\n<polygon fill=\"black\" stroke=\"black\" points=\"1324.3,-1056.72 1334.53,-1053.95 1324.8,-1049.74 1324.3,-1056.72\"/>\n</g>\n<!-- 6286852464&#45;&gt;6286853712 -->\n<g id=\"edge104\" class=\"edge\">\n<title>6286852464&#45;&gt;6286853712</title>\n<path fill=\"none\" stroke=\"black\" d=\"M1036.72,-819.1C1119.83,-824.18 1258.55,-832.65 1324.91,-836.7\"/>\n<polygon fill=\"black\" stroke=\"black\" points=\"1324.34,-840.18 1334.54,-837.29 1324.77,-833.19 1324.34,-840.18\"/>\n</g>\n<!-- 6286852464&#45;&gt;6286855536 -->\n<g id=\"edge105\" class=\"edge\">\n<title>6286852464&#45;&gt;6286855536</title>\n<path fill=\"none\" stroke=\"black\" d=\"M1012.41,-796.63C1021.5,-790.91 1030.17,-783.75 1036.25,-775 1086.04,-703.34 1037.87,-662.2 1072.25,-582 1073.12,-579.98 1074.11,-577.96 1075.2,-575.98\"/>\n<polygon fill=\"black\" stroke=\"black\" points=\"1078.06,-578 1080.39,-567.66 1072.12,-574.29 1078.06,-578\"/>\n</g>\n<!-- 6286852848 -->\n<g id=\"node64\" class=\"node\">\n<title>6286852848</title>\n<polygon fill=\"none\" stroke=\"black\" points=\"2341.5,-146 2255.75,-146 2255.75,-110 2341.5,-110 2341.5,-146\"/>\n<text text-anchor=\"middle\" x=\"2298.62\" y=\"-123.72\" font-family=\"Arial\" font-size=\"12.00\">wdo_014546</text>\n</g>\n<!-- 6286852848&#45;&gt;6286853328 -->\n<g id=\"edge110\" class=\"edge\">\n<title>6286852848&#45;&gt;6286853328</title>\n<path fill=\"none\" stroke=\"black\" d=\"M2338.01,-109.52C2348.39,-104.53 2359.55,-99.16 2369.66,-94.29\"/>\n<polygon fill=\"black\" stroke=\"black\" points=\"2370.88,-97.58 2378.38,-90.09 2367.85,-91.28 2370.88,-97.58\"/>\n</g>\n<!-- 6286853136 -->\n<g id=\"node65\" class=\"node\">\n<title>6286853136</title>\n<polygon fill=\"none\" stroke=\"black\" points=\"136,-1909 55.5,-1909 55.5,-1873 136,-1873 136,-1909\"/>\n<text text-anchor=\"middle\" x=\"95.75\" y=\"-1886.72\" font-family=\"Arial\" font-size=\"12.00\">zoekBeroep</text>\n</g>\n<!-- 6286853232 -->\n<g id=\"node66\" class=\"node\">\n<title>6286853232</title>\n<polygon fill=\"none\" stroke=\"black\" points=\"1855.62,-1154 1800.62,-1154 1800.62,-1118 1855.62,-1118 1855.62,-1154\"/>\n<text text-anchor=\"middle\" x=\"1828.12\" y=\"-1131.72\" font-family=\"Arial\" font-size=\"12.00\">zoeken</text>\n</g>\n<!-- 6286853232&#45;&gt;6286864224 -->\n<g id=\"edge115\" class=\"edge\">\n<title>6286853232&#45;&gt;6286864224</title>\n<path fill=\"none\" stroke=\"black\" d=\"M1856.11,-1134.97C1879.29,-1132.57 1911.81,-1125.3 1930.25,-1104 1976.27,-1050.86 1990.64,-837.49 1994.74,-745.53\"/>\n<polygon fill=\"black\" stroke=\"black\" points=\"1998.23,-745.81 1995.16,-735.67 1991.24,-745.51 1998.23,-745.81\"/>\n</g>\n<!-- 6286853280 -->\n<g id=\"node68\" class=\"node\">\n<title>6286853280</title>\n<ellipse fill=\"none\" stroke=\"black\" cx=\"605.75\" cy=\"-880\" rx=\"27\" ry=\"27\"/>\n<text text-anchor=\"start\" x=\"595.62\" y=\"-867.2\" font-family=\"Arial\" font-size=\"34.00\">●</text>\n</g>\n<!-- 6286853280&#45;&gt;6286621584 -->\n<g id=\"edge14\" class=\"edge\">\n<title>6286853280&#45;&gt;6286621584</title>\n<path fill=\"none\" stroke=\"black\" d=\"M628.89,-865.7C643.1,-856.53 661.87,-844.41 678.13,-833.92\"/>\n<polygon fill=\"black\" stroke=\"black\" points=\"679.58,-837.14 686.09,-828.78 675.79,-831.26 679.58,-837.14\"/>\n</g>\n<!-- 6286853280&#45;&gt;6286621728 -->\n<g id=\"edge16\" class=\"edge\">\n<title>6286853280&#45;&gt;6286621728</title>\n<path fill=\"none\" stroke=\"black\" d=\"M632.99,-881.38C693.39,-884.56 842.95,-892.44 920.02,-896.49\"/>\n<polygon fill=\"black\" stroke=\"black\" points=\"919.61,-899.98 929.78,-897.01 919.98,-892.99 919.61,-899.98\"/>\n</g>\n<!-- 6286853280&#45;&gt;6286621104 -->\n<g id=\"edge15\" class=\"edge\">\n<title>6286853280&#45;&gt;6286621104</title>\n<path fill=\"none\" stroke=\"black\" d=\"M621.54,-902.47C633.96,-921.2 652.25,-948.52 668.75,-972 717.99,-1042.1 778.08,-1123.04 809.07,-1164.46\"/>\n<polygon fill=\"black\" stroke=\"black\" points=\"806.23,-1166.52 815.03,-1172.42 811.84,-1162.32 806.23,-1166.52\"/>\n</g>\n<!-- 6286853280&#45;&gt;6286621776 -->\n<g id=\"edge17\" class=\"edge\">\n<title>6286853280&#45;&gt;6286621776</title>\n<path fill=\"none\" stroke=\"black\" d=\"M618.41,-855.73C629.29,-834.89 647.09,-804.98 668.75,-784 671.58,-781.26 674.73,-778.67 678.03,-776.27\"/>\n<polygon fill=\"black\" stroke=\"black\" points=\"679.84,-779.27 686.24,-770.83 675.97,-773.43 679.84,-779.27\"/>\n</g>\n<!-- 6286853280&#45;&gt;6286618992 -->\n<g id=\"edge18\" class=\"edge\">\n<title>6286853280&#45;&gt;6286618992</title>\n<path fill=\"none\" stroke=\"black\" d=\"M629.42,-893.78C642.28,-901.61 658.76,-911.63 673.72,-920.73\"/>\n<polygon fill=\"black\" stroke=\"black\" points=\"671.63,-923.56 681.99,-925.76 675.27,-917.57 671.63,-923.56\"/>\n</g>\n<!-- 6286853280&#45;&gt;6286852464 -->\n<g id=\"edge19\" class=\"edge\">\n<title>6286853280&#45;&gt;6286852464</title>\n<path fill=\"none\" stroke=\"black\" d=\"M632.94,-877.12C679.78,-871.76 780.86,-859.2 865,-842 873.44,-840.27 882.22,-838.28 890.93,-836.17\"/>\n<polygon fill=\"black\" stroke=\"black\" points=\"891.58,-839.62 900.44,-833.81 889.89,-832.82 891.58,-839.62\"/>\n</g>\n<!-- 6286862736&#45;&gt;6286620960 -->\n<g id=\"edge48\" class=\"edge\">\n<title>6286862736&#45;&gt;6286620960</title>\n<path fill=\"none\" stroke=\"black\" d=\"M633.17,-703C641.43,-703 650.86,-703 660.29,-703\"/>\n<polygon fill=\"black\" stroke=\"black\" points=\"660.19,-706.5 670.19,-703 660.19,-699.5 660.19,-706.5\"/>\n</g>\n<!-- 6286856688&#45;&gt;6286852224 -->\n<g id=\"edge49\" class=\"edge\">\n<title>6286856688&#45;&gt;6286852224</title>\n<path fill=\"none\" stroke=\"black\" d=\"M857.95,-736.7C871.8,-738.13 889.44,-739.94 906.49,-741.7\"/>\n<polygon fill=\"black\" stroke=\"black\" points=\"905.76,-745.14 916.07,-742.69 906.48,-738.18 905.76,-745.14\"/>\n</g>\n<!-- 6286858896&#45;&gt;6286852224 -->\n<g id=\"edge50\" class=\"edge\">\n<title>6286858896&#45;&gt;6286852224</title>\n<path fill=\"none\" stroke=\"black\" d=\"M856.04,-795.63C872.09,-788.78 893.77,-779.53 913.75,-771\"/>\n<polygon fill=\"black\" stroke=\"black\" points=\"915.1,-774.23 922.93,-767.08 912.35,-767.79 915.1,-774.23\"/>\n</g>\n<!-- 6286858896&#45;&gt;6286852464 -->\n<g id=\"edge51\" class=\"edge\">\n<title>6286858896&#45;&gt;6286852464</title>\n<path fill=\"none\" stroke=\"black\" d=\"M857.95,-807.74C867.14,-808.34 878.01,-809.06 889.26,-809.81\"/>\n<polygon fill=\"black\" stroke=\"black\" points=\"888.88,-813.29 899.09,-810.46 889.34,-806.31 888.88,-813.29\"/>\n</g>\n<!-- 6286861392&#45;&gt;6286621968 -->\n<g id=\"edge52\" class=\"edge\">\n<title>6286861392&#45;&gt;6286621968</title>\n<path fill=\"none\" stroke=\"black\" d=\"M281.87,-703C307.98,-703 348.56,-703 380.52,-703\"/>\n<polygon fill=\"black\" stroke=\"black\" points=\"380.35,-706.5 390.35,-703 380.35,-699.5 380.35,-706.5\"/>\n</g>\n<!-- 6286863408&#45;&gt;6286852272 -->\n<g id=\"edge54\" class=\"edge\">\n<title>6286863408&#45;&gt;6286852272</title>\n<path fill=\"none\" stroke=\"black\" d=\"M1390.24,-496.75C1404.27,-499.88 1422.41,-503.94 1440.4,-507.95\"/>\n<polygon fill=\"black\" stroke=\"black\" points=\"1439.54,-511.35 1450.06,-510.11 1441.06,-504.51 1439.54,-511.35\"/>\n</g>\n<!-- 6286863408&#45;&gt;6286620096 -->\n<g id=\"edge53\" class=\"edge\">\n<title>6286863408&#45;&gt;6286620096</title>\n<path fill=\"none\" stroke=\"black\" d=\"M1381.69,-470.81C1393.24,-458.36 1409.43,-442.94 1426.5,-433 1456.69,-415.42 1666.44,-354.04 1769.81,-324.34\"/>\n<polygon fill=\"black\" stroke=\"black\" points=\"1770.57,-327.77 1779.22,-321.64 1768.64,-321.04 1770.57,-327.77\"/>\n</g>\n<!-- 6286859280&#45;&gt;6286852272 -->\n<g id=\"edge55\" class=\"edge\">\n<title>6286859280&#45;&gt;6286852272</title>\n<path fill=\"none\" stroke=\"black\" d=\"M1387.91,-588.8C1409.03,-577.79 1440.69,-561.29 1466.78,-547.7\"/>\n<polygon fill=\"black\" stroke=\"black\" points=\"1468.24,-550.88 1475.49,-543.16 1465,-544.68 1468.24,-550.88\"/>\n</g>\n<!-- 6286859280&#45;&gt;6286852416 -->\n<g id=\"edge56\" class=\"edge\">\n<title>6286859280&#45;&gt;6286852416</title>\n<path fill=\"none\" stroke=\"black\" d=\"M1382.32,-620.54C1408.81,-649.59 1458.63,-704.21 1488.29,-736.73\"/>\n<polygon fill=\"black\" stroke=\"black\" points=\"1485.38,-738.73 1494.71,-743.76 1490.55,-734.02 1485.38,-738.73\"/>\n</g>\n<!-- 6286861680&#45;&gt;6286621632 -->\n<g id=\"edge57\" class=\"edge\">\n<title>6286861680&#45;&gt;6286621632</title>\n<path fill=\"none\" stroke=\"black\" d=\"M281.87,-1243C288.94,-1243 297.07,-1243 305.81,-1243\"/>\n<polygon fill=\"black\" stroke=\"black\" points=\"305.65,-1246.5 315.65,-1243 305.65,-1239.5 305.65,-1246.5\"/>\n</g>\n<!-- 6286855152&#45;&gt;6286621392 -->\n<g id=\"edge58\" class=\"edge\">\n<title>6286855152&#45;&gt;6286621392</title>\n<path fill=\"none\" stroke=\"black\" d=\"M1680,-874.25C1694.46,-892.92 1715.1,-918.16 1726,-925 1730.52,-927.84 1735.34,-930.38 1740.33,-932.66\"/>\n<polygon fill=\"black\" stroke=\"black\" points=\"1738.78,-935.8 1749.35,-936.39 1741.45,-929.34 1738.78,-935.8\"/>\n</g>\n<!-- 6286861968&#45;&gt;6286621440 -->\n<g id=\"edge60\" class=\"edge\">\n<title>6286861968&#45;&gt;6286621440</title>\n<path fill=\"none\" stroke=\"black\" d=\"M1689.85,-920.72C1709.8,-917.42 1738.28,-912.71 1764.13,-908.43\"/>\n<polygon fill=\"black\" stroke=\"black\" points=\"1764.61,-911.89 1773.91,-906.81 1763.47,-904.99 1764.61,-911.89\"/>\n</g>\n<!-- 6286861968&#45;&gt;6286621392 -->\n<g id=\"edge59\" class=\"edge\">\n<title>6286861968&#45;&gt;6286621392</title>\n<path fill=\"none\" stroke=\"black\" d=\"M1689.85,-929.28C1703.54,-931.54 1721.24,-934.47 1739.35,-937.47\"/>\n<polygon fill=\"black\" stroke=\"black\" points=\"1738.71,-940.91 1749.15,-939.09 1739.86,-934.01 1738.71,-940.91\"/>\n</g>\n<!-- 6286859664&#45;&gt;6286621392 -->\n<g id=\"edge61\" class=\"edge\">\n<title>6286859664&#45;&gt;6286621392</title>\n<path fill=\"none\" stroke=\"black\" d=\"M1689.3,-989.52C1700.53,-986.24 1713.91,-982.37 1726,-979 1732.61,-977.16 1739.46,-975.28 1746.35,-973.4\"/>\n<polygon fill=\"black\" stroke=\"black\" points=\"1746.97,-976.86 1755.71,-970.86 1745.14,-970.1 1746.97,-976.86\"/>\n</g>\n<!-- 6286859664&#45;&gt;6286852752 -->\n<g id=\"edge62\" class=\"edge\">\n<title>6286859664&#45;&gt;6286852752</title>\n<path fill=\"none\" stroke=\"black\" d=\"M1690.21,-998.45C1713.48,-999.73 1748.14,-1001.64 1776.76,-1003.22\"/>\n<polygon fill=\"black\" stroke=\"black\" points=\"1776.51,-1006.71 1786.69,-1003.77 1776.9,-999.72 1776.51,-1006.71\"/>\n</g>\n<!-- 6286863024&#45;&gt;6286621200 -->\n<g id=\"edge63\" class=\"edge\">\n<title>6286863024&#45;&gt;6286621200</title>\n<path fill=\"none\" stroke=\"black\" d=\"M1383.51,-1108.47C1409.33,-1083.3 1455.64,-1038.17 1485.11,-1009.45\"/>\n<polygon fill=\"black\" stroke=\"black\" points=\"1487.51,-1012 1492.23,-1002.52 1482.62,-1006.99 1487.51,-1012\"/>\n</g>\n<!-- 6286857072&#45;&gt;6286621200 -->\n<g id=\"edge64\" class=\"edge\">\n<title>6286857072&#45;&gt;6286621200</title>\n<path fill=\"none\" stroke=\"black\" d=\"M1390.91,-983C1398.09,-983 1406.31,-983 1415.01,-983\"/>\n<polygon fill=\"black\" stroke=\"black\" points=\"1414.72,-986.5 1424.72,-983 1414.72,-979.5 1414.72,-986.5\"/>\n</g>\n<!-- 6286858512&#45;&gt;6286621200 -->\n<g id=\"edge65\" class=\"edge\">\n<title>6286858512&#45;&gt;6286621200</title>\n<path fill=\"none\" stroke=\"black\" d=\"M1388.24,-1043.43C1408.67,-1033.47 1438.79,-1018.8 1464.23,-1006.4\"/>\n<polygon fill=\"black\" stroke=\"black\" points=\"1465.63,-1009.61 1473.08,-1002.09 1462.56,-1003.32 1465.63,-1009.61\"/>\n</g>\n<!-- 6286861008&#45;&gt;6286621200 -->\n<g id=\"edge66\" class=\"edge\">\n<title>6286861008&#45;&gt;6286621200</title>\n<path fill=\"none\" stroke=\"black\" d=\"M1388.24,-922.57C1408.67,-932.53 1438.79,-947.2 1464.23,-959.6\"/>\n<polygon fill=\"black\" stroke=\"black\" points=\"1462.56,-962.68 1473.08,-963.91 1465.63,-956.39 1462.56,-962.68\"/>\n</g>\n<!-- 6286861008&#45;&gt;6286852416 -->\n<g id=\"edge67\" class=\"edge\">\n<title>6286861008&#45;&gt;6286852416</title>\n<path fill=\"none\" stroke=\"black\" d=\"M1380.67,-889.63C1384.04,-884.9 1387.49,-879.85 1390.5,-875 1408.55,-845.96 1402.17,-831.03 1426.5,-807 1438.38,-795.27 1454.03,-786 1468.7,-779.05\"/>\n<polygon fill=\"black\" stroke=\"black\" points=\"1470.05,-782.28 1477.76,-775.02 1467.2,-775.89 1470.05,-782.28\"/>\n</g>\n<!-- 6286863792&#45;&gt;6286852416 -->\n<g id=\"edge69\" class=\"edge\">\n<title>6286863792&#45;&gt;6286852416</title>\n<path fill=\"none\" stroke=\"black\" d=\"M1390.91,-766.28C1412.2,-765.71 1442.59,-764.89 1467.63,-764.21\"/>\n<polygon fill=\"black\" stroke=\"black\" points=\"1467.66,-767.71 1477.56,-763.94 1467.47,-760.71 1467.66,-767.71\"/>\n</g>\n<!-- 6286863792&#45;&gt;6286852176 -->\n<g id=\"edge68\" class=\"edge\">\n<title>6286863792&#45;&gt;6286852176</title>\n<path fill=\"none\" stroke=\"black\" d=\"M1369.59,-740.32C1381,-681.39 1409,-541.8 1426.5,-497 1444.18,-451.76 1473.79,-403.75 1493.18,-374.56\"/>\n<polygon fill=\"black\" stroke=\"black\" points=\"1496.05,-376.57 1498.73,-366.31 1490.24,-372.66 1496.05,-376.57\"/>\n</g>\n<!-- 6286853712&#45;&gt;6286621200 -->\n<g id=\"edge70\" class=\"edge\">\n<title>6286853712&#45;&gt;6286621200</title>\n<path fill=\"none\" stroke=\"black\" d=\"M1383.51,-857.53C1409.33,-882.7 1455.64,-927.83 1485.11,-956.55\"/>\n<polygon fill=\"black\" stroke=\"black\" points=\"1482.62,-959.01 1492.23,-963.48 1487.51,-954 1482.62,-959.01\"/>\n</g>\n<!-- 6286855920&#45;&gt;6286620096 -->\n<g id=\"edge71\" class=\"edge\">\n<title>6286855920&#45;&gt;6286620096</title>\n<path fill=\"none\" stroke=\"black\" d=\"M1690.21,-287.86C1711.56,-291 1742.51,-295.55 1769.58,-299.53\"/>\n<polygon fill=\"black\" stroke=\"black\" points=\"1769,-302.99 1779.4,-300.98 1770.02,-296.06 1769,-302.99\"/>\n</g>\n<!-- 6286855920&#45;&gt;6286083520 -->\n<g id=\"edge72\" class=\"edge\">\n<title>6286855920&#45;&gt;6286083520</title>\n<path fill=\"none\" stroke=\"black\" d=\"M1683.03,-265.33C1712.09,-236.84 1767.6,-182.39 1800.59,-150.02\"/>\n<polygon fill=\"black\" stroke=\"black\" points=\"1802.7,-152.86 1807.38,-143.36 1797.79,-147.87 1802.7,-152.86\"/>\n</g>\n<!-- 6286854480&#45;&gt;6286091968 -->\n<g id=\"edge73\" class=\"edge\">\n<title>6286854480&#45;&gt;6286091968</title>\n<path fill=\"none\" stroke=\"black\" d=\"M2024.7,-133C2033.3,-133 2043.09,-133 2052.6,-133\"/>\n<polygon fill=\"black\" stroke=\"black\" points=\"2052.44,-136.5 2062.44,-133 2052.44,-129.5 2052.44,-136.5\"/>\n</g>\n<!-- 6286860048&#45;&gt;6286852848 -->\n<g id=\"edge74\" class=\"edge\">\n<title>6286860048&#45;&gt;6286852848</title>\n<path fill=\"none\" stroke=\"black\" d=\"M2219.96,-131.74C2227.32,-131.38 2235.59,-130.99 2243.93,-130.58\"/>\n<polygon fill=\"black\" stroke=\"black\" points=\"2243.92,-134.09 2253.74,-130.11 2243.58,-127.1 2243.92,-134.09\"/>\n</g>\n<!-- 6286854768&#45;&gt;6286619616 -->\n<g id=\"edge75\" class=\"edge\">\n<title>6286854768&#45;&gt;6286619616</title>\n<path fill=\"none\" stroke=\"black\" d=\"M1123.51,-605.13C1141.18,-595.35 1165.99,-581.63 1187.25,-569.86\"/>\n<polygon fill=\"black\" stroke=\"black\" points=\"1188.66,-573.08 1195.72,-565.18 1185.28,-566.95 1188.66,-573.08\"/>\n</g>\n<!-- 6286854096&#45;&gt;6286619616 -->\n<g id=\"edge76\" class=\"edge\">\n<title>6286854096&#45;&gt;6286619616</title>\n<path fill=\"none\" stroke=\"black\" d=\"M1123.51,-486.87C1141.18,-496.65 1165.99,-510.37 1187.25,-522.14\"/>\n<polygon fill=\"black\" stroke=\"black\" points=\"1185.28,-525.05 1195.72,-526.82 1188.66,-518.92 1185.28,-525.05\"/>\n</g>\n<!-- 6286855536&#45;&gt;6286619616 -->\n<g id=\"edge77\" class=\"edge\">\n<title>6286855536&#45;&gt;6286619616</title>\n<path fill=\"none\" stroke=\"black\" d=\"M1126.58,-546C1136.05,-546 1147.24,-546 1158.71,-546\"/>\n<polygon fill=\"black\" stroke=\"black\" points=\"1158.7,-549.5 1168.7,-546 1158.7,-542.5 1158.7,-549.5\"/>\n</g>\n<!-- 6286853328&#45;&gt;6286086160 -->\n<g id=\"edge78\" class=\"edge\">\n<title>6286853328&#45;&gt;6286086160</title>\n<path fill=\"none\" stroke=\"black\" d=\"M2377.01,-78C2337.22,-78 2259.66,-78 2193.75,-78 1996.25,-78 1996.25,-78 1996.25,-78 1875.84,-78 1832.41,-40.66 1726,-97 1646.01,-139.36 1674.48,-205.57 1600,-257 1591.14,-263.12 1580.82,-267.91 1570.47,-271.63\"/>\n<polygon fill=\"black\" stroke=\"black\" points=\"1569.6,-268.23 1561.18,-274.66 1571.78,-274.88 1569.6,-268.23\"/>\n</g>\n<!-- 6286858128&#45;&gt;6286086160 -->\n<g id=\"edge79\" class=\"edge\">\n<title>6286858128&#45;&gt;6286086160</title>\n<path fill=\"none\" stroke=\"black\" d=\"M1380.55,-397.56C1383.93,-392.83 1387.41,-387.8 1390.5,-383 1407.97,-355.89 1402.35,-341.37 1426.5,-320 1435.2,-312.3 1445.79,-306.08 1456.52,-301.12\"/>\n<polygon fill=\"black\" stroke=\"black\" points=\"1457.57,-304.48 1465.4,-297.34 1454.83,-298.04 1457.57,-304.48\"/>\n</g>\n<!-- 6286858128&#45;&gt;6286852176 -->\n<g id=\"edge80\" class=\"edge\">\n<title>6286858128&#45;&gt;6286852176</title>\n<path fill=\"none\" stroke=\"black\" d=\"M1385.91,-403.55C1397.55,-395.58 1412.42,-386.07 1426.5,-379 1442.04,-371.2 1459.97,-364.22 1475.4,-358.79\"/>\n<polygon fill=\"black\" stroke=\"black\" points=\"1476.36,-362.16 1484.69,-355.6 1474.1,-355.53 1476.36,-362.16\"/>\n</g>\n<!-- 6286856304&#45;&gt;6286086160 -->\n<g id=\"edge81\" class=\"edge\">\n<title>6286856304&#45;&gt;6286086160</title>\n<path fill=\"none\" stroke=\"black\" d=\"M1390.91,-276.61C1408.8,-277.7 1433.11,-279.18 1455.28,-280.53\"/>\n<polygon fill=\"black\" stroke=\"black\" points=\"1454.93,-284.01 1465.13,-281.13 1455.36,-277.03 1454.93,-284.01\"/>\n</g>\n<!-- 6286856304&#45;&gt;6286092496 -->\n<g id=\"edge82\" class=\"edge\">\n<title>6286856304&#45;&gt;6286092496</title>\n<path fill=\"none\" stroke=\"black\" d=\"M1389.56,-267.37C1403.81,-263.03 1422.44,-257.35 1440.86,-251.74\"/>\n<polygon fill=\"black\" stroke=\"black\" points=\"1441.66,-255.16 1450.21,-248.9 1439.62,-248.46 1441.66,-255.16\"/>\n</g>\n<!-- 6286860336&#45;&gt;6286092496 -->\n<g id=\"edge83\" class=\"edge\">\n<title>6286860336&#45;&gt;6286092496</title>\n<path fill=\"none\" stroke=\"black\" d=\"M1380.31,-325.39C1383.7,-320.67 1387.25,-315.69 1390.5,-311 1406.95,-287.3 1403.43,-274.32 1426.5,-257 1427.87,-255.98 1429.27,-254.99 1430.71,-254.04\"/>\n<polygon fill=\"black\" stroke=\"black\" points=\"1432.43,-257.09 1439.33,-249.05 1428.92,-251.03 1432.43,-257.09\"/>\n</g>\n<!-- 6286860336&#45;&gt;6286852176 -->\n<g id=\"edge84\" class=\"edge\">\n<title>6286860336&#45;&gt;6286852176</title>\n<path fill=\"none\" stroke=\"black\" d=\"M1390.91,-347C1414.24,-347 1448.5,-347 1474.68,-347\"/>\n<polygon fill=\"black\" stroke=\"black\" points=\"1474.55,-350.5 1484.55,-347 1474.55,-343.5 1474.55,-350.5\"/>\n</g>\n<!-- 6286857456&#45;&gt;6286852800 -->\n<g id=\"edge86\" class=\"edge\">\n<title>6286857456&#45;&gt;6286852800</title>\n<path fill=\"none\" stroke=\"black\" d=\"M1389.56,-138.63C1408.54,-144.41 1435.3,-152.56 1458.98,-159.78\"/>\n<polygon fill=\"black\" stroke=\"black\" points=\"1457.92,-163.11 1468.51,-162.68 1459.96,-156.42 1457.92,-163.11\"/>\n</g>\n<!-- 6286857456&#45;&gt;6286092496 -->\n<g id=\"edge85\" class=\"edge\">\n<title>6286857456&#45;&gt;6286092496</title>\n<path fill=\"none\" stroke=\"black\" d=\"M1380.57,-152.14C1395.08,-170.73 1415.75,-195.92 1426.5,-203 1428.31,-204.19 1430.17,-205.33 1432.08,-206.43\"/>\n<polygon fill=\"black\" stroke=\"black\" points=\"1430.11,-209.35 1440.6,-210.81 1433.31,-203.12 1430.11,-209.35\"/>\n</g>\n<!-- 6286862352&#45;&gt;6286086160 -->\n<g id=\"edge87\" class=\"edge\">\n<title>6286862352&#45;&gt;6286086160</title>\n<path fill=\"none\" stroke=\"black\" d=\"M1382.74,-222.51C1394.33,-233.93 1410.19,-247.86 1426.5,-257 1435.6,-262.1 1445.79,-266.38 1455.89,-269.91\"/>\n<polygon fill=\"black\" stroke=\"black\" points=\"1454.71,-273.21 1465.31,-272.99 1456.89,-266.56 1454.71,-273.21\"/>\n</g>\n<!-- 6286862352&#45;&gt;6286852800 -->\n<g id=\"edge88\" class=\"edge\">\n<title>6286862352&#45;&gt;6286852800</title>\n<path fill=\"none\" stroke=\"black\" d=\"M1390.57,-198.24C1409.44,-194.79 1435.6,-190.01 1458.82,-185.76\"/>\n<polygon fill=\"black\" stroke=\"black\" points=\"1459.25,-189.24 1468.46,-184 1457.99,-182.36 1459.25,-189.24\"/>\n</g>\n<!-- 6286857840&#45;&gt;6286853040 -->\n<g id=\"edge89\" class=\"edge\">\n<title>6286857840&#45;&gt;6286853040</title>\n<path fill=\"none\" stroke=\"black\" d=\"M1688.95,-476.63C1700.22,-472.93 1713.74,-468.61 1726,-465 1747.03,-458.81 1770.7,-452.45 1789.85,-447.47\"/>\n<polygon fill=\"black\" stroke=\"black\" points=\"1790.56,-450.9 1799.37,-445.01 1788.81,-444.12 1790.56,-450.9\"/>\n</g>\n<!-- 6286860720&#45;&gt;6286852656 -->\n<g id=\"edge90\" class=\"edge\">\n<title>6286860720&#45;&gt;6286852656</title>\n<path fill=\"none\" stroke=\"black\" d=\"M281.87,-811C307.64,-811 347.51,-811 379.27,-811\"/>\n<polygon fill=\"black\" stroke=\"black\" points=\"379.05,-814.5 389.05,-811 379.05,-807.5 379.05,-814.5\"/>\n</g>\n</g>\n</svg>\n",
      "text/plain": [
       "<graphviz.graphs.Digraph at 0x176b9fce0>"
      ]
     },
     "execution_count": 82,
     "metadata": {},
     "output_type": "execute_result"
    }
   ],
   "execution_count": 82
  }
 ],
 "metadata": {
  "kernelspec": {
   "display_name": "Python 3",
   "language": "python",
   "name": "python3"
  },
  "language_info": {
   "codemirror_mode": {
    "name": "ipython",
    "version": 2
   },
   "file_extension": ".py",
   "mimetype": "text/x-python",
   "name": "python",
   "nbconvert_exporter": "python",
   "pygments_lexer": "ipython2",
   "version": "2.7.6"
  }
 },
 "nbformat": 4,
 "nbformat_minor": 5
}
