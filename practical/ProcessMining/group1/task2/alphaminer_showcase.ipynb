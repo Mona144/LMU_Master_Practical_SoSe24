{
 "cells": [
  {
   "cell_type": "markdown",
   "id": "5c3ef7b6c3a38525",
   "metadata": {},
   "source": [
    "# Alpha Algorithm for Process Mining\n",
    "**Workflow Mining: Discovering Process Models from Event Logs** (_Wil van der Aalst, Ton Weijters, and Laura Maruster_)"
   ]
  },
  {
   "cell_type": "code",
   "id": "c87cfcb4ad21534a",
   "metadata": {},
   "source": [
    "%reload_ext autoreload\n",
    "%autoreload 2\n",
    "from practical.ProcessMining.group1.task2.alphaminer import AlphaMiner\n",
    "from practical.ProcessMining.group1.shared import utils\n",
    "import pm4py"
   ],
   "outputs": [],
   "execution_count": null
  },
  {
   "cell_type": "markdown",
   "id": "b2f3b341a5410bb6",
   "metadata": {
    "ExecuteTime": {
     "end_time": "2024-05-14T00:21:32.918107Z",
     "start_time": "2024-05-14T00:21:32.735785Z"
    }
   },
   "source": [
    "## Basic Example from the Paper\n",
    "A simple event log to illustrate the idea behind the algorithm. \n",
    "\n",
    "`{ABCD, ACBD, AED}`"
   ]
  },
  {
   "cell_type": "code",
   "id": "c7fb98f97d6046af",
   "metadata": {},
   "source": [
    "simple_log = utils.event_log_to_csv([(\"a\", \"b\", \"c\", \"d\"), (\"a\", \"c\", \"b\", \"d\"), (\"a\", \"e\", \"d\")])\n",
    "miner_simple = AlphaMiner(simple_log)\n",
    "miner_simple.event_log.head()"
   ],
   "outputs": [],
   "execution_count": null
  },
  {
   "cell_type": "markdown",
   "id": "8c668e244f6ce005",
   "metadata": {
    "ExecuteTime": {
     "end_time": "2024-05-14T00:21:34.170434Z",
     "start_time": "2024-05-14T00:21:34.094250Z"
    }
   },
   "source": [
    "### 1. Event Log to Footprint Matrix\n",
    "\n",
    "Steps 1-4 of the Alpha algorithm"
   ]
  },
  {
   "cell_type": "code",
   "id": "637c2c0ea9286ab5",
   "metadata": {},
   "source": [
    "print(miner_simple.footprint_matrix())"
   ],
   "outputs": [],
   "execution_count": null
  },
  {
   "cell_type": "code",
   "id": "67b9f21eb0bbe5b",
   "metadata": {},
   "source": [
    "footprints = miner_simple.discover_footprints()\n",
    "for key in footprints.keys():\n",
    "    print(f\"{key}: \\n{footprints[key]}\\n\")"
   ],
   "outputs": [],
   "execution_count": null
  },
  {
   "cell_type": "code",
   "id": "9288d07b432536a0",
   "metadata": {},
   "source": [
    "miner_simple.print_pairs()"
   ],
   "outputs": [],
   "execution_count": null
  },
  {
   "cell_type": "markdown",
   "id": "d80f4aadcfafeef",
   "metadata": {},
   "source": [
    "### 2. Footprint Matrix to Process Graph\n",
    "Steps 5-8 of the Alpha algorithm"
   ]
  },
  {
   "cell_type": "code",
   "id": "786a3e2515d50c10",
   "metadata": {},
   "source": [
    "miner_simple.get_maximal_pairs()"
   ],
   "outputs": [],
   "execution_count": null
  },
  {
   "cell_type": "code",
   "id": "c957225e9813df0f",
   "metadata": {},
   "source": [
    "miner_simple.build_and_visualize_petrinet()"
   ],
   "outputs": [],
   "execution_count": null
  },
  {
   "metadata": {},
   "cell_type": "code",
   "source": [
    "net, start, end = pm4py.discover_petri_net_alpha(utils.import_csv(\"example_files/common-example.csv\"))\n",
    "pm4py.view_petri_net(net, start, end)"
   ],
   "id": "bbf916ae07a6ce0c",
   "outputs": [],
   "execution_count": null
  },
  {
   "cell_type": "markdown",
   "id": "fec5ca2807a520de",
   "metadata": {},
   "source": [
    "## Extended Example\n",
    "A slightly more complex example of an event log"
   ]
  },
  {
   "cell_type": "code",
   "id": "e1052ffbaffa23ec",
   "metadata": {},
   "source": "utils.import_xes(\"example_files/running-example.xes\").head()",
   "outputs": [],
   "execution_count": null
  },
  {
   "cell_type": "code",
   "id": "2d08587a2aeae1db",
   "metadata": {},
   "source": [
    "miner_extended = AlphaMiner(\"example_files/running-example.xes\")\n",
    "miner_extended.event_log.head()"
   ],
   "outputs": [],
   "execution_count": null
  },
  {
   "cell_type": "markdown",
   "id": "1c48938b6565943",
   "metadata": {},
   "source": [
    "### 1. Event Log to Footprint Matrix\n",
    "\n",
    "Steps 1-4 of the Alpha algorithm"
   ]
  },
  {
   "cell_type": "code",
   "id": "8b34ff12a62c27f3",
   "metadata": {},
   "source": [
    "miner_extended.footprint_matrix()"
   ],
   "outputs": [],
   "execution_count": null
  },
  {
   "cell_type": "code",
   "id": "65a175272d96454b",
   "metadata": {},
   "source": [
    "footprints = miner_extended.discover_footprints()\n",
    "for key in footprints.keys():\n",
    "    print(f\"{key}: \\n{footprints[key]}\\n\")"
   ],
   "outputs": [],
   "execution_count": null
  },
  {
   "cell_type": "code",
   "id": "8572d8156f62245d",
   "metadata": {},
   "source": [
    "miner_extended.print_pairs()"
   ],
   "outputs": [],
   "execution_count": null
  },
  {
   "cell_type": "markdown",
   "id": "e1a69309ce8dac61",
   "metadata": {},
   "source": [
    "### 2. Footprint Matrix to Process Graph\n",
    "Steps 5-8 of the Alpha algorithm"
   ]
  },
  {
   "cell_type": "code",
   "id": "812dbd4a29c13d70",
   "metadata": {},
   "source": [
    "miner_extended.get_maximal_pairs()"
   ],
   "outputs": [],
   "execution_count": null
  },
  {
   "cell_type": "code",
   "id": "8a24b45eddb01672",
   "metadata": {},
   "source": [
    "miner_extended.build_and_visualize_petrinet()"
   ],
   "outputs": [],
   "execution_count": null
  },
  {
   "cell_type": "markdown",
   "id": "b8901085994eb673",
   "metadata": {},
   "source": [
    "## Limitations\n",
    "\n",
    "The algorithm has several limitations that are important to consider:\n",
    "\n",
    "- Implicit places (places that are redundant)\n",
    "- Loops of length 1 and 2\n",
    "- Non-local dependencies\n",
    "\n",
    "\n",
    "- Representational bias (cannot discover transitions with duplicate or invisible labels)\n",
    "- Discovered model does not need to be sound\n",
    "- Noise (infrequent behaviour/incorrectly recorded events)\n",
    "- Incompleteness (missing events)"
   ]
  },
  {
   "cell_type": "markdown",
   "id": "1a85773047bbb041",
   "metadata": {},
   "source": [
    "### Implicit Places\n",
    "The algorithm does not discover implicit places, which are places that are redundant in the model. For example, in the following event log, the Alpha algorithm would discover the following model:\n",
    "\n",
    "`{ACEG, AECG, BDFG, BFDG}`"
   ]
  },
  {
   "cell_type": "code",
   "id": "ded7e59dfcb5b511",
   "metadata": {},
   "source": [
    "implicit_log = utils.event_log_to_csv([(\"a\", \"c\", \"e\", \"g\"), (\"a\", \"e\", \"c\", \"g\"), (\"b\", \"d\", \"f\", \"g\"), (\"b\", \"f\", \"d\", \"g\")])\n",
    "miner_implicit = AlphaMiner(implicit_log)\n",
    "miner_implicit.event_log.head()"
   ],
   "outputs": [],
   "execution_count": null
  },
  {
   "cell_type": "code",
   "id": "da7979cdbb3d91cc",
   "metadata": {},
   "source": [
    "print(miner_implicit.footprint_matrix())"
   ],
   "outputs": [],
   "execution_count": null
  },
  {
   "cell_type": "code",
   "id": "3221a2bb01bc935b",
   "metadata": {},
   "source": [
    "miner_implicit.print_pairs()"
   ],
   "outputs": [],
   "execution_count": null
  },
  {
   "cell_type": "code",
   "id": "1ae102d5a9ec40ee",
   "metadata": {},
   "source": [
    "miner_implicit.build_and_visualize_petrinet()"
   ],
   "outputs": [],
   "execution_count": null
  },
  {
   "metadata": {},
   "cell_type": "code",
   "source": [
    "net, start, end = pm4py.discover_petri_net_alpha(utils.import_csv(implicit_log))\n",
    "pm4py.view_petri_net(net, start, end)"
   ],
   "id": "df9073a58d00f3d4",
   "outputs": [],
   "execution_count": null
  },
  {
   "cell_type": "markdown",
   "id": "1060ab2e40dce8ef",
   "metadata": {},
   "source": [
    "### Loops of Length 1 and 2\n",
    "\n",
    "The algorithm does not discover loops of length 1 and 2. For example, in the following event log, the Alpha algorithm would discover the following model:\n",
    "\n",
    "`{AC, ABC, ABBC, ABBBBC}`\n",
    "`{ABD, ABCBD, ABCBCBD}`"
   ]
  },
  {
   "cell_type": "code",
   "id": "e110e5327802cbdf",
   "metadata": {},
   "source": [
    "loop1_log = utils.event_log_to_csv([(\"a\", \"c\"), (\"a\", \"b\", \"c\"), (\"a\", \"b\", \"b\", \"c\"), (\"a\", \"b\", \"b\", \"b\", \"b\", \"c\")])\n",
    "miner_loop1 = AlphaMiner(loop1_log)\n",
    "miner_loop1.event_log.head()"
   ],
   "outputs": [],
   "execution_count": null
  },
  {
   "cell_type": "code",
   "id": "a003a30780f36aa4",
   "metadata": {},
   "source": [
    "print(miner_loop1.footprint_matrix())"
   ],
   "outputs": [],
   "execution_count": null
  },
  {
   "cell_type": "code",
   "id": "b9ba932953ba1493",
   "metadata": {},
   "source": [
    "miner_loop1.print_pairs()"
   ],
   "outputs": [],
   "execution_count": null
  },
  {
   "cell_type": "code",
   "id": "a448477529090bf3",
   "metadata": {},
   "source": [
    "miner_loop1.build_and_visualize_petrinet()"
   ],
   "outputs": [],
   "execution_count": null
  },
  {
   "metadata": {},
   "cell_type": "code",
   "source": [
    "net, start, end = pm4py.discover_petri_net_alpha(utils.import_csv(loop1_log))\n",
    "pm4py.view_petri_net(net, start, end)"
   ],
   "id": "dace7dbd770b9079",
   "outputs": [],
   "execution_count": null
  },
  {
   "cell_type": "code",
   "id": "cf9bb77ce30cf45b",
   "metadata": {},
   "source": [
    "loop2_log = utils.event_log_to_csv([(\"a\", \"b\", \"d\"), (\"a\", \"b\", \"c\", \"b\", \"d\"), (\"a\", \"b\", \"c\", \"b\", \"c\", \"b\", \"d\")])\n",
    "miner_loop2 = AlphaMiner(loop2_log)\n",
    "miner_loop2.event_log"
   ],
   "outputs": [],
   "execution_count": null
  },
  {
   "cell_type": "code",
   "id": "1d20887f810eb554",
   "metadata": {},
   "source": [
    "print(miner_loop2.footprint_matrix())"
   ],
   "outputs": [],
   "execution_count": null
  },
  {
   "cell_type": "code",
   "id": "846a0bd4eee74bcf",
   "metadata": {},
   "source": [
    "miner_loop2.print_pairs()"
   ],
   "outputs": [],
   "execution_count": null
  },
  {
   "cell_type": "code",
   "id": "371047a540ca7db9",
   "metadata": {},
   "source": [
    "miner_loop2.build_and_visualize_petrinet()"
   ],
   "outputs": [],
   "execution_count": null
  },
  {
   "metadata": {},
   "cell_type": "code",
   "source": [
    "net, start, end = pm4py.discover_petri_net_alpha(utils.import_csv(loop2_log))\n",
    "pm4py.view_petri_net(net, start, end)"
   ],
   "id": "d4641dbace5059e0",
   "outputs": [],
   "execution_count": null
  },
  {
   "cell_type": "markdown",
   "id": "251e40d9273dd6d8",
   "metadata": {},
   "source": [
    "### Non-Local Dependencies\n",
    "\n",
    "The algorithm does not discover non-local dependencies. For example, in the following event log, the Alpha algorithm would discover the following model:\n",
    "\n",
    "`{ACD, BCE}`"
   ]
  },
  {
   "cell_type": "code",
   "id": "e3057e8018e059db",
   "metadata": {},
   "source": [
    "non_local_log = utils.event_log_to_csv([(\"a\", \"c\", \"d\"), (\"b\", \"c\", \"e\")])\n",
    "miner_non_local = AlphaMiner(non_local_log)\n",
    "miner_non_local.event_log.head()"
   ],
   "outputs": [],
   "execution_count": null
  },
  {
   "cell_type": "code",
   "id": "57a0282f8cc03345",
   "metadata": {},
   "source": [
    "print(miner_non_local.footprint_matrix())"
   ],
   "outputs": [],
   "execution_count": null
  },
  {
   "cell_type": "code",
   "id": "3edcb70af915589b",
   "metadata": {},
   "source": [
    "miner_non_local.print_pairs()"
   ],
   "outputs": [],
   "execution_count": null
  },
  {
   "cell_type": "code",
   "id": "ce434fafd95675a0",
   "metadata": {},
   "source": [
    "miner_non_local.build_and_visualize_petrinet()"
   ],
   "outputs": [],
   "execution_count": null
  },
  {
   "metadata": {},
   "cell_type": "code",
   "source": [
    "net, start, end = pm4py.discover_petri_net_alpha(utils.import_csv(non_local_log))\n",
    "pm4py.view_petri_net(net, start, end)"
   ],
   "id": "c9be46b76353a051",
   "outputs": [],
   "execution_count": null
  },
  {
   "cell_type": "markdown",
   "id": "dbd75c0ab8251b7f",
   "metadata": {},
   "source": [
    "### Representational Bias\n",
    "\n",
    "The algorithm has a representational bias, as it cannot discover transitions with duplicate or invisible labels. For example, in the following event log, the Alpha algorithm would discover the following model:\n",
    "\n",
    "`{ABC, AC}`"
   ]
  },
  {
   "cell_type": "code",
   "id": "acbeeb389db27e83",
   "metadata": {},
   "source": [
    "representational_log = utils.event_log_to_csv([(\"a\", \"b\", \"c\"), (\"a\", \"c\")])\n",
    "miner_representational = AlphaMiner(representational_log)\n",
    "miner_representational.event_log"
   ],
   "outputs": [],
   "execution_count": null
  },
  {
   "cell_type": "code",
   "id": "840f2b7f1b0aeca1",
   "metadata": {},
   "source": [
    "print(miner_representational.footprint_matrix())"
   ],
   "outputs": [],
   "execution_count": null
  },
  {
   "cell_type": "code",
   "id": "b6094653c3c58b22",
   "metadata": {},
   "source": [
    "miner_representational.print_pairs()"
   ],
   "outputs": [],
   "execution_count": null
  },
  {
   "cell_type": "code",
   "id": "1015bfe708d07560",
   "metadata": {},
   "source": [
    "miner_representational.build_and_visualize_petrinet()"
   ],
   "outputs": [],
   "execution_count": null
  },
  {
   "metadata": {},
   "cell_type": "code",
   "source": [
    "net, start, end = pm4py.discover_petri_net_alpha(utils.import_csv(representational_log))\n",
    "pm4py.view_petri_net(net, start, end)"
   ],
   "id": "4f15d873a85f2942",
   "outputs": [],
   "execution_count": null
  },
  {
   "cell_type": "markdown",
   "id": "ab9c9535d062d0c0",
   "metadata": {},
   "source": [
    "### Soundness\n",
    "\n",
    "The discovered model does not need to be sound. For example, in the following event log, the Alpha algorithm would discover the following model:\n",
    "\n",
    "`{ABDEF, ACEDF}`"
   ]
  },
  {
   "cell_type": "code",
   "id": "c2b707c27a0a87d6",
   "metadata": {},
   "source": [
    "unsound_log = utils.event_log_to_csv([(\"a\", \"b\", \"d\", \"e\", \"f\"), (\"a\", \"c\", \"e\", \"d\", \"f\")])\n",
    "miner_unsound = AlphaMiner(unsound_log)\n",
    "miner_unsound.event_log.head()"
   ],
   "outputs": [],
   "execution_count": null
  },
  {
   "cell_type": "code",
   "id": "1f4c3eb52e6bc8d9",
   "metadata": {},
   "source": [
    "print(miner_unsound.footprint_matrix())"
   ],
   "outputs": [],
   "execution_count": null
  },
  {
   "cell_type": "code",
   "id": "3c30addb0b2402fa",
   "metadata": {},
   "source": [
    "miner_unsound.print_pairs()"
   ],
   "outputs": [],
   "execution_count": null
  },
  {
   "cell_type": "code",
   "id": "46f544a5818e52a2",
   "metadata": {},
   "source": [
    "miner_unsound.build_and_visualize_petrinet()"
   ],
   "outputs": [],
   "execution_count": null
  },
  {
   "metadata": {},
   "cell_type": "code",
   "source": [
    "net, start, end = pm4py.discover_petri_net_alpha(utils.import_csv(unsound_log))\n",
    "pm4py.view_petri_net(net, start, end)"
   ],
   "id": "7ded58fd972c420a",
   "outputs": [],
   "execution_count": null
  },
  {
   "cell_type": "markdown",
   "id": "72f5f4571de8ed7a",
   "metadata": {},
   "source": [
    "## Real Example"
   ]
  },
  {
   "cell_type": "code",
   "id": "debc0ef53f74226f",
   "metadata": {},
   "source": [
    "miner_real = AlphaMiner(\"sorted_session_data1.csv\")"
   ],
   "outputs": [],
   "execution_count": null
  },
  {
   "cell_type": "code",
   "id": "49c1d00b2605198a",
   "metadata": {},
   "source": [
    "miner_real.discover_footprints()"
   ],
   "outputs": [],
   "execution_count": null
  },
  {
   "cell_type": "code",
   "id": "ada25614815bba8b",
   "metadata": {},
   "source": [
    "miner_real.get_maximal_pairs()"
   ],
   "outputs": [],
   "execution_count": null
  },
  {
   "cell_type": "code",
   "id": "6d6276dfc2080867",
   "metadata": {},
   "source": [
    "miner_real.footprint_matrix()"
   ],
   "outputs": [],
   "execution_count": null
  },
  {
   "cell_type": "code",
   "id": "3f8b778b6189263b",
   "metadata": {},
   "source": [
    "miner_real.build_and_visualize_petrinet()"
   ],
   "outputs": [],
   "execution_count": null
  }
 ],
 "metadata": {
  "kernelspec": {
   "display_name": "Python 3",
   "language": "python",
   "name": "python3"
  },
  "language_info": {
   "codemirror_mode": {
    "name": "ipython",
    "version": 2
   },
   "file_extension": ".py",
   "mimetype": "text/x-python",
   "name": "python",
   "nbconvert_exporter": "python",
   "pygments_lexer": "ipython2",
   "version": "2.7.6"
  }
 },
 "nbformat": 4,
 "nbformat_minor": 5
}
