{
 "cells": [
  {
   "metadata": {},
   "cell_type": "markdown",
   "source": "# Alpha Miner Testing with Simple Event Logs",
   "id": "505ec71b465437ba"
  },
  {
   "cell_type": "code",
   "execution_count": 115,
   "id": "initial_id",
   "metadata": {
    "ExecuteTime": {
     "end_time": "2024-05-18T23:07:30.714964Z",
     "start_time": "2024-05-18T23:07:30.630733Z"
    }
   },
   "source": [
    "%reload_ext autoreload\n",
    "%autoreload 2\n",
    "from practical.ProcessMining.group1.task2.alphaminer import AlphaMiner\n",
    "from practical.ProcessMining.group1.shared import utils\n",
    "\n",
    "logs = utils.read_txt_test_logs('example_files/simple_event_logs.txt')\n",
    "\n",
    "def get_log_output(event_logs, log_key):\n",
    "    L = utils.deduplicate_list(event_logs[log_key])\n",
    "    miner = AlphaMiner(utils.event_log_to_csv(L))\n",
    "    print(f'{log_key}: {L}\\n')\n",
    "    print(miner.footprint_matrix(), '\\n')\n",
    "    miner.print_pairs()\n",
    "    miner.build_and_visualize_petrinet()\n",
    "    "
   ],
   "outputs": []
  },
  {
   "cell_type": "code",
   "execution_count": 116,
   "id": "24909254-f915-437a-afdb-3d687410d70e",
   "metadata": {},
   "source": [
    "get_log_output(logs, 'L1')"
   ],
   "outputs": []
  },
  {
   "cell_type": "code",
   "execution_count": 104,
   "id": "38cfa823-d077-4627-9a50-d2f9edf6334d",
   "metadata": {},
   "source": [
    "get_log_output(logs, 'L2')"
   ],
   "outputs": []
  },
  {
   "cell_type": "code",
   "execution_count": 105,
   "id": "ebfe6214-6ed5-4a8f-9aec-1d7ab32ede51",
   "metadata": {},
   "source": [
    "get_log_output(logs, 'L3')"
   ],
   "outputs": []
  },
  {
   "cell_type": "code",
   "execution_count": 106,
   "id": "865794e3-2811-4a44-961f-1f1749db89e9",
   "metadata": {},
   "source": [
    "get_log_output(logs, 'L4')"
   ],
   "outputs": []
  },
  {
   "cell_type": "code",
   "execution_count": 107,
   "id": "16e268f7-e93c-4e08-844b-776eeca217ec",
   "metadata": {},
   "source": [
    "get_log_output(logs, 'L5')"
   ],
   "outputs": []
  },
  {
   "cell_type": "code",
   "execution_count": 108,
   "id": "fd61dc99-d647-40b0-9294-685aaa0aca59",
   "metadata": {},
   "source": [
    "get_log_output(logs, 'L6')"
   ],
   "outputs": []
  },
  {
   "cell_type": "code",
   "execution_count": 109,
   "id": "90a0dc97-992d-44f0-83e9-4fd4287dca2e",
   "metadata": {},
   "source": [
    "get_log_output(logs, 'L7')"
   ],
   "outputs": []
  },
  {
   "cell_type": "code",
   "execution_count": 117,
   "id": "3824b75c-aa69-4185-a275-c4b4e4e12677",
   "metadata": {},
   "source": [
    "get_log_output(logs, 'L8')"
   ],
   "outputs": []
  },
  {
   "cell_type": "code",
   "execution_count": 111,
   "id": "aacb510b05979b9f",
   "metadata": {
    "ExecuteTime": {
     "end_time": "2024-05-18T23:07:32.894832Z",
     "start_time": "2024-05-18T23:07:31.319817Z"
    }
   },
   "source": [
    "get_log_output(logs, 'L9')"
   ],
   "outputs": []
  },
  {
   "cell_type": "code",
   "execution_count": 112,
   "id": "4f55fd53-483d-461a-9e38-199c7e3cc9e4",
   "metadata": {},
   "source": [
    "get_log_output(logs, 'L10')"
   ],
   "outputs": []
  },
  {
   "cell_type": "code",
   "execution_count": 113,
   "id": "f6cc4083-c4f2-44cf-8426-3fcb58153cca",
   "metadata": {},
   "source": [
    "get_log_output(logs, 'L11')"
   ],
   "outputs": []
  },
  {
   "cell_type": "code",
   "execution_count": 114,
   "id": "9ff45b06-d4a3-4c15-940c-315cef491f0a",
   "metadata": {},
   "source": [
    "get_log_output(logs, 'L12')"
   ],
   "outputs": []
  },
  {
   "cell_type": "code",
   "execution_count": null,
   "id": "a57591e0-2285-405b-b568-4920d4a1be37",
   "metadata": {},
   "source": [],
   "outputs": []
  },
  {
   "cell_type": "code",
   "execution_count": null,
   "id": "0daeb9a1-f603-41d8-a17e-4affb9b57449",
   "metadata": {},
   "source": [],
   "outputs": []
  }
 ],
 "metadata": {
  "kernelspec": {
   "display_name": "Python 3 (ipykernel)",
   "language": "python",
   "name": "python3"
  },
  "language_info": {
   "codemirror_mode": {
    "name": "ipython",
    "version": 3
   },
   "file_extension": ".py",
   "mimetype": "text/x-python",
   "name": "python",
   "nbconvert_exporter": "python",
   "pygments_lexer": "ipython3",
   "version": "3.12.0"
  }
 },
 "nbformat": 4,
 "nbformat_minor": 5
}
